{
  "nbformat": 4,
  "nbformat_minor": 0,
  "metadata": {
    "colab": {
      "name": "Crop_yield_modeling_with_XGBoost.ipynb",
      "provenance": [],
      "collapsed_sections": [],
      "toc_visible": true
    },
    "kernelspec": {
      "name": "python3",
      "display_name": "Python 3"
    }
  },
  "cells": [
    {
      "cell_type": "markdown",
      "metadata": {
        "id": "GQd7ELsRWkBI"
      },
      "source": [
        "# Crop yield modeling at district level\n",
        "\n",
        "Using RandomForest Classifier and XGBoost for crop yield modeling in Nepal\n",
        "\n",
        "- toc: true\n",
        "- badges: true\n",
        "- author: Zhuang-Fang Yi\n",
        "- comments: false\n",
        "- hide: false\n",
        "- stick_rank: 8"
      ]
    },
    {
      "cell_type": "markdown",
      "metadata": {
        "id": "yBtvtAIjW8He"
      },
      "source": [
        "\n",
        "This notebook teaches you how to read satellite imagery (Sentinal-2) from **Google Earth Engine** together with other data, e.g. [WorldClim](https://worldclim.org), and aggregate them for crop yield modeling in four districts of Nepal with a RandomForest Regression and XGBoost. \n",
        "\n",
        "Nepal data courtesy of [ICIMOD](https://www.icimod.org/).\n",
        "\n",
        "\n"
      ]
    },
    {
      "cell_type": "markdown",
      "metadata": {
        "id": "3B0OBNfA9yZJ"
      },
      "source": [
        "## Setup the Notebook"
      ]
    },
    {
      "cell_type": "code",
      "metadata": {
        "id": "M9_3B25LWo5P"
      },
      "source": [
        "!pip install -q geopandas shapely scikit-learn treeinterpreter rasterio rasterstats folium "
      ],
      "execution_count": null,
      "outputs": []
    },
    {
      "cell_type": "code",
      "metadata": {
        "id": "tdD3j-TRWvA8"
      },
      "source": [
        "%matplotlib inline\n",
        "import os \n",
        "from os import makedirs, path as op\n",
        "import matplotlib\n",
        "import numpy as np\n",
        "import rasterio\n",
        "import geopandas as gpd\n",
        "import pandas as pd\n",
        "import shapely\n",
        "import folium\n",
        "import json\n",
        "import time\n",
        "import matplotlib.pyplot as plt\n",
        "\n",
        "from sklearn import preprocessing\n",
        "import xgboost as xgb\n",
        "from sklearn.metrics import mean_squared_error\n",
        "from sklearn.model_selection import GridSearchCV \n",
        "from sklearn.model_selection import train_test_split"
      ],
      "execution_count": 54,
      "outputs": []
    },
    {
      "cell_type": "code",
      "metadata": {
        "id": "K5MdWViiC4K2"
      },
      "source": [
        "# If not on Colab you'll need install the earth-engine Python API\n",
        "#!pip install earthengine-api #earth-engine Python API\n",
        "\n",
        "import ee "
      ],
      "execution_count": 3,
      "outputs": []
    },
    {
      "cell_type": "code",
      "metadata": {
        "id": "vvja1P5_XRve",
        "outputId": "e83feb8c-ea35-4921-90af-de2641d28022",
        "colab": {
          "base_uri": "https://localhost:8080/"
        }
      },
      "source": [
        "from google.colab import drive\n",
        "drive.mount('/content/drive/', force_remount=True)\n",
        "# your root directory for outputs is set to your google drive\n",
        "# you should create a sub-folder called data under your 'Colab Notebooks'.\n",
        "# An example is in https://developmentseed.org/sat-ml-training/GettingStarted#Explore-your-drive\n",
        "my_root_dir = \"/content/drive/My Drive/Colab Notebooks/data\"\n",
        "crop_data = '/content/drive/Shared drives/servir-sat-ml/data/crop_yield/'\n",
        "# crop_data = '/content/drive/My Drive/SERVIR-HKH-crop-yield/crop_yield'"
      ],
      "execution_count": 4,
      "outputs": [
        {
          "output_type": "stream",
          "text": [
            "Mounted at /content/drive/\n"
          ],
          "name": "stdout"
        }
      ]
    },
    {
      "cell_type": "markdown",
      "metadata": {
        "id": "fAcySJD4XgOw"
      },
      "source": [
        "## Wheat yield data in 2018 in Nepal\n",
        "\n",
        "The following dataset contain 145 field measurement of wheat yield data. "
      ]
    },
    {
      "cell_type": "code",
      "metadata": {
        "id": "wLuTaOaGXcyE",
        "outputId": "97977b56-8fe3-4869-e2b0-8a09db300fe2",
        "colab": {
          "base_uri": "https://localhost:8080/",
          "height": 306
        }
      },
      "source": [
        "# reading collected wheat productivity data from excel.\n",
        "wheat_2018 = pd.read_excel(op.join(crop_data, 'Wheat yield_Field_Demonstrartion_sites_2018.xlsx'))\n",
        "wheat_2018.head()"
      ],
      "execution_count": 5,
      "outputs": [
        {
          "output_type": "execute_result",
          "data": {
            "text/html": [
              "<div>\n",
              "<style scoped>\n",
              "    .dataframe tbody tr th:only-of-type {\n",
              "        vertical-align: middle;\n",
              "    }\n",
              "\n",
              "    .dataframe tbody tr th {\n",
              "        vertical-align: top;\n",
              "    }\n",
              "\n",
              "    .dataframe thead th {\n",
              "        text-align: right;\n",
              "    }\n",
              "</style>\n",
              "<table border=\"1\" class=\"dataframe\">\n",
              "  <thead>\n",
              "    <tr style=\"text-align: right;\">\n",
              "      <th></th>\n",
              "      <th>Unnamed: 0</th>\n",
              "      <th>Lat</th>\n",
              "      <th>Long</th>\n",
              "      <th>District</th>\n",
              "      <th>VDC</th>\n",
              "      <th>Farmer</th>\n",
              "      <th>Treat</th>\n",
              "      <th>Grainwt</th>\n",
              "      <th>straw wt.</th>\n",
              "      <th>grain moisture %, from moisture meter</th>\n",
              "      <th>wheat variety</th>\n",
              "      <th>1000 Grain wt before oven dry + envelop</th>\n",
              "      <th>1000 Grain wt after oven dry + envelop</th>\n",
              "      <th>Envelop wt.</th>\n",
              "      <th>straw wt before overn dry +envelop</th>\n",
              "      <th>straw wt. after overn dry + envelop</th>\n",
              "      <th>Unnamed: 16</th>\n",
              "      <th>PH</th>\n",
              "      <th>OM</th>\n",
              "    </tr>\n",
              "  </thead>\n",
              "  <tbody>\n",
              "    <tr>\n",
              "      <th>0</th>\n",
              "      <td>1</td>\n",
              "      <td>28.980</td>\n",
              "      <td>80.193</td>\n",
              "      <td>Kanchanpur</td>\n",
              "      <td>Suda/BDM</td>\n",
              "      <td>Ram Bahadur Chaudhary</td>\n",
              "      <td>D1</td>\n",
              "      <td>383</td>\n",
              "      <td>358.4</td>\n",
              "      <td>11.6</td>\n",
              "      <td>Banganga</td>\n",
              "      <td>57.09</td>\n",
              "      <td>53.92</td>\n",
              "      <td>NaN</td>\n",
              "      <td>NaN</td>\n",
              "      <td>NaN</td>\n",
              "      <td>NaN</td>\n",
              "      <td>7.817228</td>\n",
              "      <td>1.688501</td>\n",
              "    </tr>\n",
              "    <tr>\n",
              "      <th>1</th>\n",
              "      <td>2</td>\n",
              "      <td>28.980</td>\n",
              "      <td>80.193</td>\n",
              "      <td>Kanchanpur</td>\n",
              "      <td>Suda/BDM</td>\n",
              "      <td>Ram Bahadur Chaudhary</td>\n",
              "      <td>D2</td>\n",
              "      <td>375</td>\n",
              "      <td>329.0</td>\n",
              "      <td>11.6</td>\n",
              "      <td>Tilganga</td>\n",
              "      <td>53.53</td>\n",
              "      <td>50.62</td>\n",
              "      <td>NaN</td>\n",
              "      <td>NaN</td>\n",
              "      <td>NaN</td>\n",
              "      <td>NaN</td>\n",
              "      <td>7.817228</td>\n",
              "      <td>1.688501</td>\n",
              "    </tr>\n",
              "    <tr>\n",
              "      <th>2</th>\n",
              "      <td>3</td>\n",
              "      <td>28.980</td>\n",
              "      <td>80.193</td>\n",
              "      <td>Kanchanpur</td>\n",
              "      <td>Suda/BDM</td>\n",
              "      <td>Ram Bahadur Chaudhary</td>\n",
              "      <td>D3</td>\n",
              "      <td>173</td>\n",
              "      <td>249.0</td>\n",
              "      <td>11.6</td>\n",
              "      <td>NHS 1755</td>\n",
              "      <td>43.20</td>\n",
              "      <td>40.44</td>\n",
              "      <td>NaN</td>\n",
              "      <td>NaN</td>\n",
              "      <td>NaN</td>\n",
              "      <td>NaN</td>\n",
              "      <td>7.817228</td>\n",
              "      <td>1.688501</td>\n",
              "    </tr>\n",
              "    <tr>\n",
              "      <th>3</th>\n",
              "      <td>4</td>\n",
              "      <td>28.986</td>\n",
              "      <td>80.188</td>\n",
              "      <td>Kanchanpur</td>\n",
              "      <td>Suda/BDM</td>\n",
              "      <td>Jhelu ram chaudhary</td>\n",
              "      <td>D1</td>\n",
              "      <td>502</td>\n",
              "      <td>540.0</td>\n",
              "      <td>10.8</td>\n",
              "      <td>NL 971</td>\n",
              "      <td>48.94</td>\n",
              "      <td>46.32</td>\n",
              "      <td>NaN</td>\n",
              "      <td>NaN</td>\n",
              "      <td>NaN</td>\n",
              "      <td>NaN</td>\n",
              "      <td>7.725938</td>\n",
              "      <td>1.644356</td>\n",
              "    </tr>\n",
              "    <tr>\n",
              "      <th>4</th>\n",
              "      <td>5</td>\n",
              "      <td>28.986</td>\n",
              "      <td>80.188</td>\n",
              "      <td>Kanchanpur</td>\n",
              "      <td>Suda/BDM</td>\n",
              "      <td>Jhelu ram chaudhary</td>\n",
              "      <td>D2</td>\n",
              "      <td>310</td>\n",
              "      <td>275.0</td>\n",
              "      <td>11.7</td>\n",
              "      <td>Vijay</td>\n",
              "      <td>66.12</td>\n",
              "      <td>62.50</td>\n",
              "      <td>NaN</td>\n",
              "      <td>NaN</td>\n",
              "      <td>NaN</td>\n",
              "      <td>NaN</td>\n",
              "      <td>7.725938</td>\n",
              "      <td>1.644356</td>\n",
              "    </tr>\n",
              "  </tbody>\n",
              "</table>\n",
              "</div>"
            ],
            "text/plain": [
              "   Unnamed: 0     Lat    Long  ... Unnamed: 16        PH        OM\n",
              "0           1  28.980  80.193  ...         NaN  7.817228  1.688501\n",
              "1           2  28.980  80.193  ...         NaN  7.817228  1.688501\n",
              "2           3  28.980  80.193  ...         NaN  7.817228  1.688501\n",
              "3           4  28.986  80.188  ...         NaN  7.725938  1.644356\n",
              "4           5  28.986  80.188  ...         NaN  7.725938  1.644356\n",
              "\n",
              "[5 rows x 19 columns]"
            ]
          },
          "metadata": {
            "tags": []
          },
          "execution_count": 5
        }
      ]
    },
    {
      "cell_type": "code",
      "metadata": {
        "id": "uNHl90VWX0yr",
        "outputId": "cd83bc64-b6b3-43ef-98ca-0067fe5ce3cb",
        "colab": {
          "base_uri": "https://localhost:8080/",
          "height": 204
        }
      },
      "source": [
        "# only keep the columns that interest us;\n",
        "wheat_2018 = wheat_2018[['Lat', 'Long', 'District','wheat variety', 'Treat', '1000 Grain wt after oven dry + envelop', 'PH', 'OM']]\n",
        "# rename the column names to be more readable\n",
        "wheat_2018 = wheat_2018.rename(columns={'wheat variety': 'wheat_variety', '1000 Grain wt after oven dry + envelop':'wheat_yield'})\n",
        "# turn the pandas dataframe into geopandas dataframe\n",
        "wheat_2018_pts = gpd.GeoDataFrame(wheat_2018, geometry=gpd.points_from_xy(wheat_2018.Long, wheat_2018.Lat))\n",
        "wheat_2018_pts.head()"
      ],
      "execution_count": 6,
      "outputs": [
        {
          "output_type": "execute_result",
          "data": {
            "text/html": [
              "<div>\n",
              "<style scoped>\n",
              "    .dataframe tbody tr th:only-of-type {\n",
              "        vertical-align: middle;\n",
              "    }\n",
              "\n",
              "    .dataframe tbody tr th {\n",
              "        vertical-align: top;\n",
              "    }\n",
              "\n",
              "    .dataframe thead th {\n",
              "        text-align: right;\n",
              "    }\n",
              "</style>\n",
              "<table border=\"1\" class=\"dataframe\">\n",
              "  <thead>\n",
              "    <tr style=\"text-align: right;\">\n",
              "      <th></th>\n",
              "      <th>Lat</th>\n",
              "      <th>Long</th>\n",
              "      <th>District</th>\n",
              "      <th>wheat_variety</th>\n",
              "      <th>Treat</th>\n",
              "      <th>wheat_yield</th>\n",
              "      <th>PH</th>\n",
              "      <th>OM</th>\n",
              "      <th>geometry</th>\n",
              "    </tr>\n",
              "  </thead>\n",
              "  <tbody>\n",
              "    <tr>\n",
              "      <th>0</th>\n",
              "      <td>28.980</td>\n",
              "      <td>80.193</td>\n",
              "      <td>Kanchanpur</td>\n",
              "      <td>Banganga</td>\n",
              "      <td>D1</td>\n",
              "      <td>53.92</td>\n",
              "      <td>7.817228</td>\n",
              "      <td>1.688501</td>\n",
              "      <td>POINT (80.19300 28.98000)</td>\n",
              "    </tr>\n",
              "    <tr>\n",
              "      <th>1</th>\n",
              "      <td>28.980</td>\n",
              "      <td>80.193</td>\n",
              "      <td>Kanchanpur</td>\n",
              "      <td>Tilganga</td>\n",
              "      <td>D2</td>\n",
              "      <td>50.62</td>\n",
              "      <td>7.817228</td>\n",
              "      <td>1.688501</td>\n",
              "      <td>POINT (80.19300 28.98000)</td>\n",
              "    </tr>\n",
              "    <tr>\n",
              "      <th>2</th>\n",
              "      <td>28.980</td>\n",
              "      <td>80.193</td>\n",
              "      <td>Kanchanpur</td>\n",
              "      <td>NHS 1755</td>\n",
              "      <td>D3</td>\n",
              "      <td>40.44</td>\n",
              "      <td>7.817228</td>\n",
              "      <td>1.688501</td>\n",
              "      <td>POINT (80.19300 28.98000)</td>\n",
              "    </tr>\n",
              "    <tr>\n",
              "      <th>3</th>\n",
              "      <td>28.986</td>\n",
              "      <td>80.188</td>\n",
              "      <td>Kanchanpur</td>\n",
              "      <td>NL 971</td>\n",
              "      <td>D1</td>\n",
              "      <td>46.32</td>\n",
              "      <td>7.725938</td>\n",
              "      <td>1.644356</td>\n",
              "      <td>POINT (80.18800 28.98600)</td>\n",
              "    </tr>\n",
              "    <tr>\n",
              "      <th>4</th>\n",
              "      <td>28.986</td>\n",
              "      <td>80.188</td>\n",
              "      <td>Kanchanpur</td>\n",
              "      <td>Vijay</td>\n",
              "      <td>D2</td>\n",
              "      <td>62.50</td>\n",
              "      <td>7.725938</td>\n",
              "      <td>1.644356</td>\n",
              "      <td>POINT (80.18800 28.98600)</td>\n",
              "    </tr>\n",
              "  </tbody>\n",
              "</table>\n",
              "</div>"
            ],
            "text/plain": [
              "      Lat    Long    District  ...        PH        OM                   geometry\n",
              "0  28.980  80.193  Kanchanpur  ...  7.817228  1.688501  POINT (80.19300 28.98000)\n",
              "1  28.980  80.193  Kanchanpur  ...  7.817228  1.688501  POINT (80.19300 28.98000)\n",
              "2  28.980  80.193  Kanchanpur  ...  7.817228  1.688501  POINT (80.19300 28.98000)\n",
              "3  28.986  80.188  Kanchanpur  ...  7.725938  1.644356  POINT (80.18800 28.98600)\n",
              "4  28.986  80.188  Kanchanpur  ...  7.725938  1.644356  POINT (80.18800 28.98600)\n",
              "\n",
              "[5 rows x 9 columns]"
            ]
          },
          "metadata": {
            "tags": []
          },
          "execution_count": 6
        }
      ]
    },
    {
      "cell_type": "markdown",
      "metadata": {
        "id": "CFP3PoTzYIIq"
      },
      "source": [
        "### Basic stats of the wheat yield field measurements"
      ]
    },
    {
      "cell_type": "code",
      "metadata": {
        "id": "PkUSAvFTYOO5",
        "outputId": "c4e4a576-9392-45a8-85af-0d8f08cbcda7",
        "colab": {
          "base_uri": "https://localhost:8080/"
        }
      },
      "source": [
        "## the field measurements located in these few districts\n",
        "pd.Series(wheat_2018.District).unique()"
      ],
      "execution_count": 7,
      "outputs": [
        {
          "output_type": "execute_result",
          "data": {
            "text/plain": [
              "array(['Kanchanpur', 'Kailali', 'Bardiya', 'Banke'], dtype=object)"
            ]
          },
          "metadata": {
            "tags": []
          },
          "execution_count": 7
        }
      ]
    },
    {
      "cell_type": "code",
      "metadata": {
        "id": "UHWTXl-AYYGC",
        "outputId": "f1c51d8a-0361-49e5-bd37-90ec67974297",
        "colab": {
          "base_uri": "https://localhost:8080/",
          "height": 204
        }
      },
      "source": [
        "# see wheat yield differences by the districts by wheat variety\n",
        "only_yield = wheat_2018.drop(columns=['Long', 'Lat', 'PH', 'OM', 'geometry'])\n",
        "only_yield.head()"
      ],
      "execution_count": 19,
      "outputs": [
        {
          "output_type": "execute_result",
          "data": {
            "text/html": [
              "<div>\n",
              "<style scoped>\n",
              "    .dataframe tbody tr th:only-of-type {\n",
              "        vertical-align: middle;\n",
              "    }\n",
              "\n",
              "    .dataframe tbody tr th {\n",
              "        vertical-align: top;\n",
              "    }\n",
              "\n",
              "    .dataframe thead th {\n",
              "        text-align: right;\n",
              "    }\n",
              "</style>\n",
              "<table border=\"1\" class=\"dataframe\">\n",
              "  <thead>\n",
              "    <tr style=\"text-align: right;\">\n",
              "      <th></th>\n",
              "      <th>District</th>\n",
              "      <th>wheat_variety</th>\n",
              "      <th>Treat</th>\n",
              "      <th>wheat_yield</th>\n",
              "    </tr>\n",
              "  </thead>\n",
              "  <tbody>\n",
              "    <tr>\n",
              "      <th>0</th>\n",
              "      <td>Kanchanpur</td>\n",
              "      <td>Banganga</td>\n",
              "      <td>D1</td>\n",
              "      <td>53.92</td>\n",
              "    </tr>\n",
              "    <tr>\n",
              "      <th>1</th>\n",
              "      <td>Kanchanpur</td>\n",
              "      <td>Tilganga</td>\n",
              "      <td>D2</td>\n",
              "      <td>50.62</td>\n",
              "    </tr>\n",
              "    <tr>\n",
              "      <th>2</th>\n",
              "      <td>Kanchanpur</td>\n",
              "      <td>NHS 1755</td>\n",
              "      <td>D3</td>\n",
              "      <td>40.44</td>\n",
              "    </tr>\n",
              "    <tr>\n",
              "      <th>3</th>\n",
              "      <td>Kanchanpur</td>\n",
              "      <td>NL 971</td>\n",
              "      <td>D1</td>\n",
              "      <td>46.32</td>\n",
              "    </tr>\n",
              "    <tr>\n",
              "      <th>4</th>\n",
              "      <td>Kanchanpur</td>\n",
              "      <td>Vijay</td>\n",
              "      <td>D2</td>\n",
              "      <td>62.50</td>\n",
              "    </tr>\n",
              "  </tbody>\n",
              "</table>\n",
              "</div>"
            ],
            "text/plain": [
              "     District wheat_variety Treat  wheat_yield\n",
              "0  Kanchanpur      Banganga    D1        53.92\n",
              "1  Kanchanpur      Tilganga    D2        50.62\n",
              "2  Kanchanpur      NHS 1755    D3        40.44\n",
              "3  Kanchanpur        NL 971    D1        46.32\n",
              "4  Kanchanpur         Vijay    D2        62.50"
            ]
          },
          "metadata": {
            "tags": []
          },
          "execution_count": 19
        }
      ]
    },
    {
      "cell_type": "code",
      "metadata": {
        "id": "ZjUw6qgDVQcY",
        "outputId": "79e5923e-3f88-4cc0-bdf3-6c184e6ed980",
        "colab": {
          "base_uri": "https://localhost:8080/",
          "height": 824
        }
      },
      "source": [
        "only_yield.groupby(by=['District', 'wheat_variety']).agg({'wheat_yield': ['mean', 'std']})"
      ],
      "execution_count": 29,
      "outputs": [
        {
          "output_type": "execute_result",
          "data": {
            "text/html": [
              "<div>\n",
              "<style scoped>\n",
              "    .dataframe tbody tr th:only-of-type {\n",
              "        vertical-align: middle;\n",
              "    }\n",
              "\n",
              "    .dataframe tbody tr th {\n",
              "        vertical-align: top;\n",
              "    }\n",
              "\n",
              "    .dataframe thead tr th {\n",
              "        text-align: left;\n",
              "    }\n",
              "\n",
              "    .dataframe thead tr:last-of-type th {\n",
              "        text-align: right;\n",
              "    }\n",
              "</style>\n",
              "<table border=\"1\" class=\"dataframe\">\n",
              "  <thead>\n",
              "    <tr>\n",
              "      <th></th>\n",
              "      <th></th>\n",
              "      <th colspan=\"2\" halign=\"left\">wheat_yield</th>\n",
              "    </tr>\n",
              "    <tr>\n",
              "      <th></th>\n",
              "      <th></th>\n",
              "      <th>mean</th>\n",
              "      <th>std</th>\n",
              "    </tr>\n",
              "    <tr>\n",
              "      <th>District</th>\n",
              "      <th>wheat_variety</th>\n",
              "      <th></th>\n",
              "      <th></th>\n",
              "    </tr>\n",
              "  </thead>\n",
              "  <tbody>\n",
              "    <tr>\n",
              "      <th rowspan=\"5\" valign=\"top\">Banke</th>\n",
              "      <th>Banganga</th>\n",
              "      <td>51.673333</td>\n",
              "      <td>4.696210</td>\n",
              "    </tr>\n",
              "    <tr>\n",
              "      <th>Indian Hybrid 2285</th>\n",
              "      <td>38.859500</td>\n",
              "      <td>0.198697</td>\n",
              "    </tr>\n",
              "    <tr>\n",
              "      <th>NL 971</th>\n",
              "      <td>56.288250</td>\n",
              "      <td>4.918343</td>\n",
              "    </tr>\n",
              "    <tr>\n",
              "      <th>Unknown</th>\n",
              "      <td>48.200833</td>\n",
              "      <td>5.688676</td>\n",
              "    </tr>\n",
              "    <tr>\n",
              "      <th>Vijay</th>\n",
              "      <td>54.399500</td>\n",
              "      <td>1.494117</td>\n",
              "    </tr>\n",
              "    <tr>\n",
              "      <th rowspan=\"6\" valign=\"top\">Bardiya</th>\n",
              "      <th>Banganga</th>\n",
              "      <td>52.215875</td>\n",
              "      <td>2.557956</td>\n",
              "    </tr>\n",
              "    <tr>\n",
              "      <th>Local</th>\n",
              "      <td>48.159500</td>\n",
              "      <td>5.310774</td>\n",
              "    </tr>\n",
              "    <tr>\n",
              "      <th>NL 971</th>\n",
              "      <td>48.746857</td>\n",
              "      <td>3.393250</td>\n",
              "    </tr>\n",
              "    <tr>\n",
              "      <th>Tilottama</th>\n",
              "      <td>42.915500</td>\n",
              "      <td>0.784181</td>\n",
              "    </tr>\n",
              "    <tr>\n",
              "      <th>Unknown</th>\n",
              "      <td>45.468600</td>\n",
              "      <td>4.833432</td>\n",
              "    </tr>\n",
              "    <tr>\n",
              "      <th>Vijay</th>\n",
              "      <td>51.320375</td>\n",
              "      <td>5.959139</td>\n",
              "    </tr>\n",
              "    <tr>\n",
              "      <th rowspan=\"5\" valign=\"top\">Kailali</th>\n",
              "      <th>Aditya</th>\n",
              "      <td>48.239444</td>\n",
              "      <td>2.730909</td>\n",
              "    </tr>\n",
              "    <tr>\n",
              "      <th>Banganga</th>\n",
              "      <td>51.846667</td>\n",
              "      <td>6.609314</td>\n",
              "    </tr>\n",
              "    <tr>\n",
              "      <th>Local</th>\n",
              "      <td>48.487333</td>\n",
              "      <td>7.024661</td>\n",
              "    </tr>\n",
              "    <tr>\n",
              "      <th>NL 971</th>\n",
              "      <td>48.385000</td>\n",
              "      <td>5.712784</td>\n",
              "    </tr>\n",
              "    <tr>\n",
              "      <th>Vijay</th>\n",
              "      <td>48.782500</td>\n",
              "      <td>4.584833</td>\n",
              "    </tr>\n",
              "    <tr>\n",
              "      <th rowspan=\"7\" valign=\"top\">Kanchanpur</th>\n",
              "      <th>Banganga</th>\n",
              "      <td>55.053667</td>\n",
              "      <td>3.146587</td>\n",
              "    </tr>\n",
              "    <tr>\n",
              "      <th>Gautam</th>\n",
              "      <td>43.013500</td>\n",
              "      <td>8.500131</td>\n",
              "    </tr>\n",
              "    <tr>\n",
              "      <th>Local</th>\n",
              "      <td>50.484500</td>\n",
              "      <td>2.775310</td>\n",
              "    </tr>\n",
              "    <tr>\n",
              "      <th>NHS 1755</th>\n",
              "      <td>45.060000</td>\n",
              "      <td>4.702042</td>\n",
              "    </tr>\n",
              "    <tr>\n",
              "      <th>NL 971</th>\n",
              "      <td>45.857222</td>\n",
              "      <td>4.229458</td>\n",
              "    </tr>\n",
              "    <tr>\n",
              "      <th>Tilganga</th>\n",
              "      <td>50.620000</td>\n",
              "      <td>NaN</td>\n",
              "    </tr>\n",
              "    <tr>\n",
              "      <th>Vijay</th>\n",
              "      <td>49.881000</td>\n",
              "      <td>7.370886</td>\n",
              "    </tr>\n",
              "  </tbody>\n",
              "</table>\n",
              "</div>"
            ],
            "text/plain": [
              "                              wheat_yield          \n",
              "                                     mean       std\n",
              "District   wheat_variety                           \n",
              "Banke      Banganga             51.673333  4.696210\n",
              "           Indian Hybrid 2285   38.859500  0.198697\n",
              "           NL 971               56.288250  4.918343\n",
              "           Unknown              48.200833  5.688676\n",
              "           Vijay                54.399500  1.494117\n",
              "Bardiya    Banganga             52.215875  2.557956\n",
              "           Local                48.159500  5.310774\n",
              "           NL 971               48.746857  3.393250\n",
              "           Tilottama            42.915500  0.784181\n",
              "           Unknown              45.468600  4.833432\n",
              "           Vijay                51.320375  5.959139\n",
              "Kailali    Aditya               48.239444  2.730909\n",
              "           Banganga             51.846667  6.609314\n",
              "           Local                48.487333  7.024661\n",
              "           NL 971               48.385000  5.712784\n",
              "           Vijay                48.782500  4.584833\n",
              "Kanchanpur Banganga             55.053667  3.146587\n",
              "           Gautam               43.013500  8.500131\n",
              "           Local                50.484500  2.775310\n",
              "           NHS 1755             45.060000  4.702042\n",
              "           NL 971               45.857222  4.229458\n",
              "           Tilganga             50.620000       NaN\n",
              "           Vijay                49.881000  7.370886"
            ]
          },
          "metadata": {
            "tags": []
          },
          "execution_count": 29
        }
      ]
    },
    {
      "cell_type": "code",
      "metadata": {
        "id": "rdEEfvBfYiup",
        "outputId": "a6dc32e1-f08a-4bbc-bad6-fbf98dbb75f7",
        "colab": {
          "base_uri": "https://localhost:8080/",
          "height": 483
        }
      },
      "source": [
        "# see wheat yield differences by the districs by wheat treatment\n",
        "only_yield.groupby(by=['District', 'Treat']).agg({'wheat_yield': ['mean', 'min', 'max']})"
      ],
      "execution_count": 27,
      "outputs": [
        {
          "output_type": "execute_result",
          "data": {
            "text/html": [
              "<div>\n",
              "<style scoped>\n",
              "    .dataframe tbody tr th:only-of-type {\n",
              "        vertical-align: middle;\n",
              "    }\n",
              "\n",
              "    .dataframe tbody tr th {\n",
              "        vertical-align: top;\n",
              "    }\n",
              "\n",
              "    .dataframe thead tr th {\n",
              "        text-align: left;\n",
              "    }\n",
              "\n",
              "    .dataframe thead tr:last-of-type th {\n",
              "        text-align: right;\n",
              "    }\n",
              "</style>\n",
              "<table border=\"1\" class=\"dataframe\">\n",
              "  <thead>\n",
              "    <tr>\n",
              "      <th></th>\n",
              "      <th></th>\n",
              "      <th colspan=\"3\" halign=\"left\">wheat_yield</th>\n",
              "    </tr>\n",
              "    <tr>\n",
              "      <th></th>\n",
              "      <th></th>\n",
              "      <th>mean</th>\n",
              "      <th>min</th>\n",
              "      <th>max</th>\n",
              "    </tr>\n",
              "    <tr>\n",
              "      <th>District</th>\n",
              "      <th>Treat</th>\n",
              "      <th></th>\n",
              "      <th></th>\n",
              "      <th></th>\n",
              "    </tr>\n",
              "  </thead>\n",
              "  <tbody>\n",
              "    <tr>\n",
              "      <th rowspan=\"3\" valign=\"top\">Banke</th>\n",
              "      <th>D1</th>\n",
              "      <td>52.336600</td>\n",
              "      <td>47.052</td>\n",
              "      <td>57.303</td>\n",
              "    </tr>\n",
              "    <tr>\n",
              "      <th>D2</th>\n",
              "      <td>49.431833</td>\n",
              "      <td>39.000</td>\n",
              "      <td>57.505</td>\n",
              "    </tr>\n",
              "    <tr>\n",
              "      <th>D3</th>\n",
              "      <td>49.603667</td>\n",
              "      <td>37.908</td>\n",
              "      <td>60.985</td>\n",
              "    </tr>\n",
              "    <tr>\n",
              "      <th rowspan=\"3\" valign=\"top\">Bardiya</th>\n",
              "      <th>D1</th>\n",
              "      <td>50.597000</td>\n",
              "      <td>46.184</td>\n",
              "      <td>56.418</td>\n",
              "    </tr>\n",
              "    <tr>\n",
              "      <th>D2</th>\n",
              "      <td>47.107600</td>\n",
              "      <td>38.390</td>\n",
              "      <td>56.181</td>\n",
              "    </tr>\n",
              "    <tr>\n",
              "      <th>D3</th>\n",
              "      <td>48.404067</td>\n",
              "      <td>40.346</td>\n",
              "      <td>57.723</td>\n",
              "    </tr>\n",
              "    <tr>\n",
              "      <th rowspan=\"3\" valign=\"top\">Kailali</th>\n",
              "      <th>D1</th>\n",
              "      <td>49.673750</td>\n",
              "      <td>37.670</td>\n",
              "      <td>63.030</td>\n",
              "    </tr>\n",
              "    <tr>\n",
              "      <th>D2</th>\n",
              "      <td>48.619375</td>\n",
              "      <td>35.360</td>\n",
              "      <td>58.530</td>\n",
              "    </tr>\n",
              "    <tr>\n",
              "      <th>D3</th>\n",
              "      <td>47.573667</td>\n",
              "      <td>37.770</td>\n",
              "      <td>56.790</td>\n",
              "    </tr>\n",
              "    <tr>\n",
              "      <th rowspan=\"3\" valign=\"top\">Kanchanpur</th>\n",
              "      <th>D1</th>\n",
              "      <td>48.156333</td>\n",
              "      <td>35.677</td>\n",
              "      <td>58.610</td>\n",
              "    </tr>\n",
              "    <tr>\n",
              "      <th>D2</th>\n",
              "      <td>50.056583</td>\n",
              "      <td>37.003</td>\n",
              "      <td>62.500</td>\n",
              "    </tr>\n",
              "    <tr>\n",
              "      <th>D3</th>\n",
              "      <td>47.920083</td>\n",
              "      <td>38.920</td>\n",
              "      <td>57.340</td>\n",
              "    </tr>\n",
              "  </tbody>\n",
              "</table>\n",
              "</div>"
            ],
            "text/plain": [
              "                 wheat_yield                \n",
              "                        mean     min     max\n",
              "District   Treat                            \n",
              "Banke      D1      52.336600  47.052  57.303\n",
              "           D2      49.431833  39.000  57.505\n",
              "           D3      49.603667  37.908  60.985\n",
              "Bardiya    D1      50.597000  46.184  56.418\n",
              "           D2      47.107600  38.390  56.181\n",
              "           D3      48.404067  40.346  57.723\n",
              "Kailali    D1      49.673750  37.670  63.030\n",
              "           D2      48.619375  35.360  58.530\n",
              "           D3      47.573667  37.770  56.790\n",
              "Kanchanpur D1      48.156333  35.677  58.610\n",
              "           D2      50.056583  37.003  62.500\n",
              "           D3      47.920083  38.920  57.340"
            ]
          },
          "metadata": {
            "tags": []
          },
          "execution_count": 27
        }
      ]
    },
    {
      "cell_type": "markdown",
      "metadata": {
        "id": "VZ0OmaTQYl3R"
      },
      "source": [
        "## **Quize** \n",
        "\n",
        "What pattern do you see from above groupby functions over wheat yield?"
      ]
    },
    {
      "cell_type": "markdown",
      "metadata": {
        "id": "caKl8lLXYs1E"
      },
      "source": [
        "### Visualizing the field measurement on an interactive map"
      ]
    },
    {
      "cell_type": "code",
      "metadata": {
        "id": "AChw-k3FYpdv",
        "outputId": "02d41d05-c44e-4186-f0a0-92a348252d26",
        "colab": {
          "base_uri": "https://localhost:8080/"
        }
      },
      "source": [
        "terai_bbox = gpd.GeoDataFrame(wheat_2018_pts).total_bounds\n",
        "x_map=(terai_bbox[0] + terai_bbox[2])/2\n",
        "y_map=(terai_bbox[1] + terai_bbox[3])/2\n",
        "print(f'bouding box for Terai area is {terai_bbox}, with centroid point {x_map},{y_map}')"
      ],
      "execution_count": 33,
      "outputs": [
        {
          "output_type": "stream",
          "text": [
            "bouding box for Terai area is [80.165 27.999 81.648 28.986], with centroid point 80.9065,28.4925\n"
          ],
          "name": "stdout"
        }
      ]
    },
    {
      "cell_type": "code",
      "metadata": {
        "id": "T7pvvpshY0yE",
        "outputId": "b66d9b60-ccde-45d4-f1f2-d43e0fa54115",
        "colab": {
          "base_uri": "https://localhost:8080/",
          "height": 1000
        }
      },
      "source": [
        "mymap = folium.Map(location=[y_map, x_map], zoom_start=11,tiles=None)\n",
        "folium.TileLayer('Stamen Terrain',name=\"Light Map\",control=False).add_to(mymap)\n",
        "\n",
        "tooltip = 'Click me!'\n",
        "for lat, lon,  wheat_variety, wheat_yield in zip(wheat_2018.Lat, wheat_2018.Long, wheat_2018.wheat_variety, wheat_2018.wheat_yield):\n",
        "  # print(lat, lon,  wheat_variety)\n",
        "  folium.Marker([lat,lon], popup=f'Wheat variety: {wheat_variety}, \\n Yield {wheat_yield}', tooltip=tooltip).add_to(mymap)\n",
        "\n",
        "mymap"
      ],
      "execution_count": 34,
      "outputs": [
        {
          "output_type": "execute_result",
          "data": {
            "text/html": [
              "<div style=\"width:100%;\"><div style=\"position:relative;width:100%;height:0;padding-bottom:60%;\"><span style=\"color:#565656\">Make this Notebook Trusted to load map: File -> Trust Notebook</span><iframe src=\"about:blank\" style=\"position:absolute;width:100%;height:100%;left:0;top:0;border:none !important;\" data-html=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 onload=\"this.contentDocument.open();this.contentDocument.write(atob(this.getAttribute('data-html')));this.contentDocument.close();\" allowfullscreen webkitallowfullscreen mozallowfullscreen></iframe></div></div>"
            ],
            "text/plain": [
              "<folium.folium.Map at 0x7f71d483ef60>"
            ]
          },
          "metadata": {
            "tags": []
          },
          "execution_count": 34
        }
      ]
    },
    {
      "cell_type": "markdown",
      "metadata": {
        "id": "4biX4VJHY7vu"
      },
      "source": [
        "## Sentinel-2 and Worldclim data extraction from Google Earth Engine"
      ]
    },
    {
      "cell_type": "code",
      "metadata": {
        "id": "iUIA6JnwZFDs",
        "outputId": "901ec061-b0ea-4e26-b519-4a15dcd83f82",
        "colab": {
          "base_uri": "https://localhost:8080/"
        }
      },
      "source": [
        "# Athenticate to your GEE account. \n",
        "!earthengine authenticate"
      ],
      "execution_count": 30,
      "outputs": [
        {
          "output_type": "stream",
          "text": [
            "WARNING:tensorflow:From /usr/local/lib/python3.6/dist-packages/tensorflow/python/compat/v2_compat.py:96: disable_resource_variables (from tensorflow.python.ops.variable_scope) is deprecated and will be removed in a future version.\n",
            "Instructions for updating:\n",
            "non-resource variables are not supported in the long term\n",
            "Running command using Cloud API.  Set --no-use_cloud_api to go back to using the API\n",
            "\n",
            "To authorize access needed by Earth Engine, open the following URL in a web browser and follow the instructions. If the web browser does not start automatically, please manually browse the URL below.\n",
            "\n",
            "    https://accounts.google.com/o/oauth2/auth?client_id=517222506229-vsmmajv00ul0bs7p89v5m89qs8eb9359.apps.googleusercontent.com&scope=https%3A%2F%2Fwww.googleapis.com%2Fauth%2Fearthengine+https%3A%2F%2Fwww.googleapis.com%2Fauth%2Fdevstorage.full_control&redirect_uri=urn%3Aietf%3Awg%3Aoauth%3A2.0%3Aoob&response_type=code&code_challenge=yRWk7aF8DwSoMtwDjN_jX5YQJsE-WOiiYgafaEFFTTs&code_challenge_method=S256\n",
            "\n",
            "The authorization workflow will generate a code, which you should paste in the box below. \n",
            "Enter verification code: 4/4wEZzAcOgH9SRElXcyut4wXS-FmoKTierikQlEPh-L-E-3t9BwhF-7o\n",
            "\n",
            "Successfully saved authorization token.\n"
          ],
          "name": "stdout"
        }
      ]
    },
    {
      "cell_type": "code",
      "metadata": {
        "id": "J9rkbEdIY6oP"
      },
      "source": [
        "# Earth Engine Python API\n",
        "ee.Initialize()"
      ],
      "execution_count": 31,
      "outputs": []
    },
    {
      "cell_type": "markdown",
      "metadata": {
        "id": "fdt8IenJZKAF"
      },
      "source": [
        "### Sentinel-2 imagery bands and indices composition\n",
        "\n",
        "The purpose of this excersice is we want to have bands and indices information that may be helpful to modeling wheat yiled from temporal and spatial perspective"
      ]
    },
    {
      "cell_type": "code",
      "metadata": {
        "id": "oaHPkdVAZfhM"
      },
      "source": [
        "# From GEE\n",
        "# If you are interested in using Landsat8 surface reflectance, see data over here https://developers.google.com/earth-engine/datasets/catalog/LANDSAT_LC08_C01_T1_SR#bands\n",
        "# The following steps showing how to extrac Sentinel-2 from GEE\n",
        "aoi = ee.Geometry.Rectangle(terai_bbox.tolist())\n",
        "band_sel = ('B2', 'B3', 'B4', 'B8', 'B11', 'B12')\n",
        "\n",
        "sentinel_scenes = ee.ImageCollection(\"COPERNICUS/S2\")\\\n",
        "    .filterBounds(aoi)\\\n",
        "    .filterDate('2018-01-01', '2018-12-31')\\\n",
        "    .select(band_sel)\\\n",
        "    .filter(ee.Filter.lte('CLOUDY_PIXEL_PERCENTAGE',10))\n",
        "\n",
        "scenes = sentinel_scenes.getInfo()\n",
        "[print(scene['id']) for scene in scenes[\"features\"]]\n",
        "\n",
        "sentinel_mosaic = sentinel_scenes.mean().rename(band_sel)\n",
        "\n",
        "sentinel_mosaic.getInfo()"
      ],
      "execution_count": null,
      "outputs": []
    },
    {
      "cell_type": "markdown",
      "metadata": {
        "id": "ItvQ5zxLB3ho"
      },
      "source": [
        "This next cell will export a Geotiff for each point of interest, by creating a bounding box around each point and then clipping the Sentinel layer to that area."
      ]
    },
    {
      "cell_type": "code",
      "metadata": {
        "id": "G_pDfbgZaWmV"
      },
      "source": [
        "# We will save it to Google Drive for later reuse\n",
        "# you should skip this cell if you have data copy in the drive already.\n",
        "raster_name_bn = 'S2_mosaic_Terai_Nepal_2018'\n",
        "crop_data = op.join(my_root_dir, \"mosaic_s2\")\n",
        "if not op.isdir(crop_data):\n",
        "  makedirs(crop_data)\n",
        "\n",
        "for i, (lat, long) in enumerate(zip(wheat_2018.Lat, wheat_2018.Long)):\n",
        "  aoi = ee.Geometry.Rectangle([(long - 0.01), (lat - 0.01), (long + 0.01), (lat + 0.01), ])\n",
        "# Export the image, specifying scale and region.\n",
        "# Warning, this create 145 small images.\n",
        "# There may be a bug here, not sure GEE export can write to a folder beyond depth 1 in a google drive\n",
        "  task = ee.batch.Export.image.toDrive(**{\n",
        "      'image': sentinel_mosaic,\n",
        "      'description': 'Terai_Nepal_2018',\n",
        "      'folder': crop_data,\n",
        "      'fileNamePrefix': f'{raster_name_bn}_{i}',\n",
        "      'scale': 10,\n",
        "      'region': aoi,\n",
        "      'fileFormat': 'GeoTIFF',\n",
        "      'formatOptions': {\n",
        "        'cloudOptimized': 'true'\n",
        "      },\n",
        "  })\n",
        "\n",
        " "
      ],
      "execution_count": null,
      "outputs": []
    },
    {
      "cell_type": "markdown",
      "metadata": {
        "id": "uvgLErj-YCmN"
      },
      "source": [
        "## **Quize**\n",
        "\n",
        "Let's extract seasonal Sentinel-2 instead of annual data"
      ]
    },
    {
      "cell_type": "code",
      "metadata": {
        "id": "FWWp-jeSYBpz"
      },
      "source": [
        "# write season Sentinel-2 extraction in this cell \n"
      ],
      "execution_count": null,
      "outputs": []
    },
    {
      "cell_type": "code",
      "metadata": {
        "id": "FOTzUNw7D8nn"
      },
      "source": [
        " # This task will run in the background even if you close this notebook.\n",
        "  # You can also check on the status of the task through the Javascript GEE interface\n",
        "  # https://code.earthengine.google.com\n",
        "  task.start()"
      ],
      "execution_count": null,
      "outputs": []
    },
    {
      "cell_type": "code",
      "metadata": {
        "id": "vyGkKRFHa48C"
      },
      "source": [
        "# If you want to keep track of the export you can run this code\n",
        "# However if run this, you will need to wait for it to finish before running additional code\n",
        "\n",
        "while task.active():\n",
        "  print('Polling for task (id: {}).'.format(task.id))\n",
        "  time.sleep(15)"
      ],
      "execution_count": null,
      "outputs": []
    },
    {
      "cell_type": "markdown",
      "metadata": {
        "id": "4gqlsap0atSQ"
      },
      "source": [
        "#### Visualizing Sentinel-2 imagery RGB in 2018 in our study area"
      ]
    },
    {
      "cell_type": "code",
      "metadata": {
        "id": "69cSiiGvardz"
      },
      "source": [
        "# To make a map we first need some helper functions\n",
        "\n",
        "# Define the URL format used for Earth Engine generated map tiles.\n",
        "EE_TILES = 'https://earthengine.googleapis.com/map/{mapid}/{{z}}/{{x}}/{{y}}?token={token}'\n",
        "\n",
        "#@title Mapdisplay: Display GEE objects using folium.\n",
        "def Mapdisplay(center, dicc, Tiles=\"OpensTreetMap\",zoom_start=8):\n",
        "    '''\n",
        "    :param center: Center of the map (Latitude and Longitude).\n",
        "    :param dicc: Earth Engine Geometries or Tiles dictionary\n",
        "    :param Tiles: Mapbox Bright,Mapbox Control Room,Stamen Terrain,Stamen Toner,stamenwatercolor,cartodbpositron.\n",
        "    :zoom_start: Initial zoom level for the map.\n",
        "    :return: A folium.Map object.\n",
        "    '''\n",
        "    mapViz = folium.Map(location=center,tiles=Tiles, zoom_start=zoom_start)\n",
        "    for k,v in dicc.items():\n",
        "      if gpd.geodataframe.GeoDataFrame == type(v):\n",
        "        folium.GeoJson(\n",
        "        data = v,\n",
        "        name = k\n",
        "          ).add_to(mapViz) \n",
        "      elif ee.image.Image in [type(x) for x in v.values()]:\n",
        "        folium.TileLayer(\n",
        "            tiles = v[\"tile_fetcher\"].url_format,\n",
        "            attr  = 'Google Earth Engine',\n",
        "            overlay =True,\n",
        "            name  = k\n",
        "          ).add_to(mapViz)\n",
        "      else:\n",
        "        folium.GeoJson(\n",
        "        data = v,\n",
        "        name = k\n",
        "          ).add_to(mapViz)\n",
        "    mapViz.add_child(folium.LayerControl())\n",
        "    return mapViz"
      ],
      "execution_count": 36,
      "outputs": []
    },
    {
      "cell_type": "code",
      "metadata": {
        "id": "XRxcgcmxa4R4",
        "outputId": "6112fd07-ffc8-481a-812f-1e7abc986525",
        "colab": {
          "base_uri": "https://localhost:8080/",
          "height": 1000
        }
      },
      "source": [
        "\n",
        "s2_vis_params = {\n",
        "  'bands': ['B4', 'B3', 'B2'],\n",
        "  'min': 0,\n",
        "  'max': 3000,\n",
        "}\n",
        "\n",
        "Mapdisplay(center=[y_map, x_map],\n",
        "           dicc={'S2':sentinel_mosaic.getMapId(s2_vis_params)},\n",
        "                #  'TrainingData':wheat_2018_disctrict}, \n",
        "           zoom_start=11)\n"
      ],
      "execution_count": 37,
      "outputs": [
        {
          "output_type": "execute_result",
          "data": {
            "text/html": [
              "<div style=\"width:100%;\"><div style=\"position:relative;width:100%;height:0;padding-bottom:60%;\"><span style=\"color:#565656\">Make this Notebook Trusted to load map: File -> Trust Notebook</span><iframe src=\"about:blank\" style=\"position:absolute;width:100%;height:100%;left:0;top:0;border:none !important;\" data-html=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 onload=\"this.contentDocument.open();this.contentDocument.write(atob(this.getAttribute('data-html')));this.contentDocument.close();\" allowfullscreen webkitallowfullscreen mozallowfullscreen></iframe></div></div>"
            ],
            "text/plain": [
              "<folium.folium.Map at 0x7f71d494d8d0>"
            ]
          },
          "metadata": {
            "tags": []
          },
          "execution_count": 37
        }
      ]
    },
    {
      "cell_type": "markdown",
      "metadata": {
        "id": "ckq8dIA7bD3f"
      },
      "source": [
        "### Extract average temperature and precipitation from WorldClim \n",
        "\n",
        "To enrich the attributes data for crop yield modeling, you can go to [WorldClim](https://worldclim.org/data/worldclim21.html) to explore data including:\n",
        "- Minimum temperature\n",
        "- Maximum temperature\n",
        "- Average temperature\n",
        "- Precipitation\n",
        "- Solar radiation\n",
        "- Wind speed\n",
        "- Water vapor presure\n",
        "\n",
        "**But** only average temperature and precipitation are available in GEE. More information of the dataset on GEE, please look over [here](https://developers.google.com/earth-engine/datasets/catalog/WORLDCLIM_V1_MONTHLY#bands).\n"
      ]
    },
    {
      "cell_type": "code",
      "metadata": {
        "id": "fvdbIObja-qR"
      },
      "source": [
        "# worldclim data on GEE\n",
        "# https://developers.google.com/earth-engine/datasets/catalog/WORLDCLIM_V1_MONTHLY#bands\n",
        "wcband_sel = ['tavg', 'prec']\n",
        "worldclim = ee.ImageCollection(\"WORLDCLIM/V1/MONTHLY\").select(wcband_sel)\n",
        "worldclim_mosaic = worldclim.mean().rename(wcband_sel) "
      ],
      "execution_count": 38,
      "outputs": []
    },
    {
      "cell_type": "code",
      "metadata": {
        "id": "E77xcUU8edy0"
      },
      "source": [
        "raster_name_wc = 'wc_monthly'\n",
        "wc_data = op.join(my_root_dir, 'worldclim')\n",
        "if not op.isdir(wc_data):\n",
        "  makedirs(wc_data)\n",
        "\n",
        "for i, (lat, long) in enumerate(zip(wheat_2018.Lat, wheat_2018.Long)):\n",
        "  aoi = ee.Geometry.Rectangle([(long - 0.01), (lat - 0.01), (long + 0.01), (lat + 0.01), ])\n",
        "# Export the image, specifying scale and region.\n",
        "# Warning, This specific export takes at least 1 hour, and 700+ MB\n",
        "# There may be a bug here, not sure GEE export can write to a folder beyond depth 1 in a google drive\n",
        "  task = ee.batch.Export.image.toDrive(**{\n",
        "      'image': worldclim_mosaic,\n",
        "      'description': f'WC_2020_{i}',\n",
        "      'folder': wc_data,\n",
        "      'fileNamePrefix': f'{raster_name_wc}_{i}',\n",
        "      'scale': 10,\n",
        "      'region': aoi,\n",
        "      'fileFormat': 'GeoTIFF',\n",
        "      'formatOptions': {\n",
        "        'cloudOptimized': 'true'\n",
        "      },\n",
        "  })\n",
        "\n",
        "  # This task will run in the background even if you close this notebook.\n",
        "  # You can also check on the status of the task through the Javascript GEE interface\n",
        "  # https://code.earthengine.google.com\n",
        "  task.start()"
      ],
      "execution_count": null,
      "outputs": []
    },
    {
      "cell_type": "markdown",
      "metadata": {
        "id": "VA14rl5IY3H0"
      },
      "source": [
        "## **Quize** \n",
        "\n",
        "Let's extract other dataset under WorldClim, e.g. max temperature, min temperature"
      ]
    },
    {
      "cell_type": "code",
      "metadata": {
        "id": "rnsDaegiZEb5"
      },
      "source": [
        "# write extraction script here\n"
      ],
      "execution_count": 41,
      "outputs": []
    },
    {
      "cell_type": "markdown",
      "metadata": {
        "id": "OUmIdQJTeh5D"
      },
      "source": [
        "### Combine Sentinel-2 and Worldclim data "
      ]
    },
    {
      "cell_type": "code",
      "metadata": {
        "id": "UuLQU84Wfrn0"
      },
      "source": [
        "# Helper functions\n",
        "def normalized_arr(ls_data):\n",
        "  \"\"\"normalized data \n",
        "  Args:\n",
        "      np_array: data in a list\n",
        "  Returns:\n",
        "      x_scaled: rescaled/nomalized data in the value range between 0 and 1\n",
        "  \"\"\"\n",
        "  arr = np.array(ls_data)\n",
        "  #normalized the data \n",
        "  min_max_scaler = preprocessing.MinMaxScaler()\n",
        "  x_scaled = min_max_scaler.fit_transform(arr)\n",
        "  return x_scaled\n",
        "\n",
        "def construct_indices(band1, band2):\n",
        "  \"\"\"compute band indices\n",
        "  Args:\n",
        "      band1, band2: specific band data \n",
        "  Returns:\n",
        "      ind: index, e.g. ndvi\n",
        "  \"\"\"\n",
        "  ind = (band1 - band2)/(band1 + band2)\n",
        "  return ind"
      ],
      "execution_count": 42,
      "outputs": []
    },
    {
      "cell_type": "markdown",
      "metadata": {
        "id": "WzbLSHqne2jI"
      },
      "source": [
        "#### Sentinel-2 data reconstruction"
      ]
    },
    {
      "cell_type": "code",
      "metadata": {
        "id": "mA_0Rxcjexjh"
      },
      "source": [
        "# Reference the raster on disk.\n",
        "bands = []\n",
        "for i in range(len(wheat_2018)):\n",
        "  raster = op.join(crop_data,'mosaic_s2',f'S2_mosaic_Terai_Nepal_2018_{i}.tif')\n",
        "  with rasterio.open(raster, 'r') as src:\n",
        "    frsc = src.read()\n",
        "    print(frsc.mean(axis=(1, 2)))\n",
        "    bands.append(frsc.mean(axis=(1, 2)))"
      ],
      "execution_count": null,
      "outputs": []
    },
    {
      "cell_type": "code",
      "metadata": {
        "id": "YX9_BNSefd3U"
      },
      "source": [
        "band_arr = normalized_arr(bands)\n",
        "bands_df = pd.DataFrame(band_arr, columns=['B2', 'B3', 'B4', 'B8', 'B11', 'B12'])\n"
      ],
      "execution_count": 44,
      "outputs": []
    },
    {
      "cell_type": "code",
      "metadata": {
        "id": "JSnLMce9hO7r",
        "outputId": "53e8732c-719a-4534-b245-46798e9b7c05",
        "colab": {
          "base_uri": "https://localhost:8080/",
          "height": 204
        }
      },
      "source": [
        "bands_df['ndvi'] = construct_indices(bands_df.B8, bands_df.B4)\n",
        "bands_df['ndwi'] = construct_indices(bands_df.B8, bands_df.B3)\n",
        "bands_df.head()"
      ],
      "execution_count": 45,
      "outputs": [
        {
          "output_type": "execute_result",
          "data": {
            "text/html": [
              "<div>\n",
              "<style scoped>\n",
              "    .dataframe tbody tr th:only-of-type {\n",
              "        vertical-align: middle;\n",
              "    }\n",
              "\n",
              "    .dataframe tbody tr th {\n",
              "        vertical-align: top;\n",
              "    }\n",
              "\n",
              "    .dataframe thead th {\n",
              "        text-align: right;\n",
              "    }\n",
              "</style>\n",
              "<table border=\"1\" class=\"dataframe\">\n",
              "  <thead>\n",
              "    <tr style=\"text-align: right;\">\n",
              "      <th></th>\n",
              "      <th>B2</th>\n",
              "      <th>B3</th>\n",
              "      <th>B4</th>\n",
              "      <th>B8</th>\n",
              "      <th>B11</th>\n",
              "      <th>B12</th>\n",
              "      <th>ndvi</th>\n",
              "      <th>ndwi</th>\n",
              "    </tr>\n",
              "  </thead>\n",
              "  <tbody>\n",
              "    <tr>\n",
              "      <th>0</th>\n",
              "      <td>0.246886</td>\n",
              "      <td>0.340987</td>\n",
              "      <td>0.397884</td>\n",
              "      <td>0.441628</td>\n",
              "      <td>0.281341</td>\n",
              "      <td>0.334612</td>\n",
              "      <td>0.052106</td>\n",
              "      <td>0.128595</td>\n",
              "    </tr>\n",
              "    <tr>\n",
              "      <th>1</th>\n",
              "      <td>0.246886</td>\n",
              "      <td>0.340987</td>\n",
              "      <td>0.397884</td>\n",
              "      <td>0.441628</td>\n",
              "      <td>0.281341</td>\n",
              "      <td>0.334612</td>\n",
              "      <td>0.052106</td>\n",
              "      <td>0.128595</td>\n",
              "    </tr>\n",
              "    <tr>\n",
              "      <th>2</th>\n",
              "      <td>0.246886</td>\n",
              "      <td>0.340987</td>\n",
              "      <td>0.397884</td>\n",
              "      <td>0.441628</td>\n",
              "      <td>0.281341</td>\n",
              "      <td>0.334612</td>\n",
              "      <td>0.052106</td>\n",
              "      <td>0.128595</td>\n",
              "    </tr>\n",
              "    <tr>\n",
              "      <th>3</th>\n",
              "      <td>0.223089</td>\n",
              "      <td>0.326231</td>\n",
              "      <td>0.384491</td>\n",
              "      <td>0.558959</td>\n",
              "      <td>0.269641</td>\n",
              "      <td>0.335698</td>\n",
              "      <td>0.184925</td>\n",
              "      <td>0.262913</td>\n",
              "    </tr>\n",
              "    <tr>\n",
              "      <th>4</th>\n",
              "      <td>0.223089</td>\n",
              "      <td>0.326231</td>\n",
              "      <td>0.384491</td>\n",
              "      <td>0.558959</td>\n",
              "      <td>0.269641</td>\n",
              "      <td>0.335698</td>\n",
              "      <td>0.184925</td>\n",
              "      <td>0.262913</td>\n",
              "    </tr>\n",
              "  </tbody>\n",
              "</table>\n",
              "</div>"
            ],
            "text/plain": [
              "         B2        B3        B4  ...       B12      ndvi      ndwi\n",
              "0  0.246886  0.340987  0.397884  ...  0.334612  0.052106  0.128595\n",
              "1  0.246886  0.340987  0.397884  ...  0.334612  0.052106  0.128595\n",
              "2  0.246886  0.340987  0.397884  ...  0.334612  0.052106  0.128595\n",
              "3  0.223089  0.326231  0.384491  ...  0.335698  0.184925  0.262913\n",
              "4  0.223089  0.326231  0.384491  ...  0.335698  0.184925  0.262913\n",
              "\n",
              "[5 rows x 8 columns]"
            ]
          },
          "metadata": {
            "tags": []
          },
          "execution_count": 45
        }
      ]
    },
    {
      "cell_type": "markdown",
      "metadata": {
        "id": "Zfz-lhzJhi_Y"
      },
      "source": [
        "### Adding Worldclim data"
      ]
    },
    {
      "cell_type": "code",
      "metadata": {
        "id": "ta5Z0-duhfy1"
      },
      "source": [
        "wcs = []\n",
        "for i in range(len(wheat_2018)):\n",
        "  raster = op.join(crop_data,'worldclim',f'wc_monthly_{i}.tif')\n",
        "  with rasterio.open(raster, 'r') as src:\n",
        "    frsc = src.read()\n",
        "    print(frsc.mean(axis=(1, 2)))\n",
        "    wcs.append(frsc.mean(axis=(1, 2)))"
      ],
      "execution_count": null,
      "outputs": []
    },
    {
      "cell_type": "code",
      "metadata": {
        "id": "wGrSl83xiTwi",
        "outputId": "c726c760-d602-4f14-bf6e-2ad5d88a7eb2",
        "colab": {
          "base_uri": "https://localhost:8080/",
          "height": 204
        }
      },
      "source": [
        "wc_arr = normalized_arr(wcs)\n",
        "wcs_df = pd.DataFrame(wc_arr, columns=['tavg', 'prec'])\n",
        "wcs_df.head()"
      ],
      "execution_count": 47,
      "outputs": [
        {
          "output_type": "execute_result",
          "data": {
            "text/html": [
              "<div>\n",
              "<style scoped>\n",
              "    .dataframe tbody tr th:only-of-type {\n",
              "        vertical-align: middle;\n",
              "    }\n",
              "\n",
              "    .dataframe tbody tr th {\n",
              "        vertical-align: top;\n",
              "    }\n",
              "\n",
              "    .dataframe thead th {\n",
              "        text-align: right;\n",
              "    }\n",
              "</style>\n",
              "<table border=\"1\" class=\"dataframe\">\n",
              "  <thead>\n",
              "    <tr style=\"text-align: right;\">\n",
              "      <th></th>\n",
              "      <th>tavg</th>\n",
              "      <th>prec</th>\n",
              "    </tr>\n",
              "  </thead>\n",
              "  <tbody>\n",
              "    <tr>\n",
              "      <th>0</th>\n",
              "      <td>0.598473</td>\n",
              "      <td>0.372607</td>\n",
              "    </tr>\n",
              "    <tr>\n",
              "      <th>1</th>\n",
              "      <td>0.598473</td>\n",
              "      <td>0.372607</td>\n",
              "    </tr>\n",
              "    <tr>\n",
              "      <th>2</th>\n",
              "      <td>0.598473</td>\n",
              "      <td>0.372607</td>\n",
              "    </tr>\n",
              "    <tr>\n",
              "      <th>3</th>\n",
              "      <td>0.538391</td>\n",
              "      <td>0.391679</td>\n",
              "    </tr>\n",
              "    <tr>\n",
              "      <th>4</th>\n",
              "      <td>0.538391</td>\n",
              "      <td>0.391679</td>\n",
              "    </tr>\n",
              "  </tbody>\n",
              "</table>\n",
              "</div>"
            ],
            "text/plain": [
              "       tavg      prec\n",
              "0  0.598473  0.372607\n",
              "1  0.598473  0.372607\n",
              "2  0.598473  0.372607\n",
              "3  0.538391  0.391679\n",
              "4  0.538391  0.391679"
            ]
          },
          "metadata": {
            "tags": []
          },
          "execution_count": 47
        }
      ]
    },
    {
      "cell_type": "markdown",
      "metadata": {
        "id": "rUUQcRLKhv7i"
      },
      "source": [
        "### Concatenate Sentinel-2 and Worldclim to the wheat yield dataframe "
      ]
    },
    {
      "cell_type": "code",
      "metadata": {
        "id": "-0kLsujPh3ac",
        "outputId": "1e65323a-5bad-4450-e166-4e587edee3c1",
        "colab": {
          "base_uri": "https://localhost:8080/",
          "height": 204
        }
      },
      "source": [
        "dfs = [wheat_2018, bands_df, wcs_df]\n",
        "wheat_2010_all = pd.concat(dfs, axis=1)\n",
        "wheat_2010_all.head()"
      ],
      "execution_count": 48,
      "outputs": [
        {
          "output_type": "execute_result",
          "data": {
            "text/html": [
              "<div>\n",
              "<style scoped>\n",
              "    .dataframe tbody tr th:only-of-type {\n",
              "        vertical-align: middle;\n",
              "    }\n",
              "\n",
              "    .dataframe tbody tr th {\n",
              "        vertical-align: top;\n",
              "    }\n",
              "\n",
              "    .dataframe thead th {\n",
              "        text-align: right;\n",
              "    }\n",
              "</style>\n",
              "<table border=\"1\" class=\"dataframe\">\n",
              "  <thead>\n",
              "    <tr style=\"text-align: right;\">\n",
              "      <th></th>\n",
              "      <th>Lat</th>\n",
              "      <th>Long</th>\n",
              "      <th>District</th>\n",
              "      <th>wheat_variety</th>\n",
              "      <th>Treat</th>\n",
              "      <th>wheat_yield</th>\n",
              "      <th>PH</th>\n",
              "      <th>OM</th>\n",
              "      <th>geometry</th>\n",
              "      <th>B2</th>\n",
              "      <th>B3</th>\n",
              "      <th>B4</th>\n",
              "      <th>B8</th>\n",
              "      <th>B11</th>\n",
              "      <th>B12</th>\n",
              "      <th>ndvi</th>\n",
              "      <th>ndwi</th>\n",
              "      <th>tavg</th>\n",
              "      <th>prec</th>\n",
              "    </tr>\n",
              "  </thead>\n",
              "  <tbody>\n",
              "    <tr>\n",
              "      <th>0</th>\n",
              "      <td>28.980</td>\n",
              "      <td>80.193</td>\n",
              "      <td>Kanchanpur</td>\n",
              "      <td>Banganga</td>\n",
              "      <td>D1</td>\n",
              "      <td>53.92</td>\n",
              "      <td>7.817228</td>\n",
              "      <td>1.688501</td>\n",
              "      <td>POINT (80.19300 28.98000)</td>\n",
              "      <td>0.246886</td>\n",
              "      <td>0.340987</td>\n",
              "      <td>0.397884</td>\n",
              "      <td>0.441628</td>\n",
              "      <td>0.281341</td>\n",
              "      <td>0.334612</td>\n",
              "      <td>0.052106</td>\n",
              "      <td>0.128595</td>\n",
              "      <td>0.598473</td>\n",
              "      <td>0.372607</td>\n",
              "    </tr>\n",
              "    <tr>\n",
              "      <th>1</th>\n",
              "      <td>28.980</td>\n",
              "      <td>80.193</td>\n",
              "      <td>Kanchanpur</td>\n",
              "      <td>Tilganga</td>\n",
              "      <td>D2</td>\n",
              "      <td>50.62</td>\n",
              "      <td>7.817228</td>\n",
              "      <td>1.688501</td>\n",
              "      <td>POINT (80.19300 28.98000)</td>\n",
              "      <td>0.246886</td>\n",
              "      <td>0.340987</td>\n",
              "      <td>0.397884</td>\n",
              "      <td>0.441628</td>\n",
              "      <td>0.281341</td>\n",
              "      <td>0.334612</td>\n",
              "      <td>0.052106</td>\n",
              "      <td>0.128595</td>\n",
              "      <td>0.598473</td>\n",
              "      <td>0.372607</td>\n",
              "    </tr>\n",
              "    <tr>\n",
              "      <th>2</th>\n",
              "      <td>28.980</td>\n",
              "      <td>80.193</td>\n",
              "      <td>Kanchanpur</td>\n",
              "      <td>NHS 1755</td>\n",
              "      <td>D3</td>\n",
              "      <td>40.44</td>\n",
              "      <td>7.817228</td>\n",
              "      <td>1.688501</td>\n",
              "      <td>POINT (80.19300 28.98000)</td>\n",
              "      <td>0.246886</td>\n",
              "      <td>0.340987</td>\n",
              "      <td>0.397884</td>\n",
              "      <td>0.441628</td>\n",
              "      <td>0.281341</td>\n",
              "      <td>0.334612</td>\n",
              "      <td>0.052106</td>\n",
              "      <td>0.128595</td>\n",
              "      <td>0.598473</td>\n",
              "      <td>0.372607</td>\n",
              "    </tr>\n",
              "    <tr>\n",
              "      <th>3</th>\n",
              "      <td>28.986</td>\n",
              "      <td>80.188</td>\n",
              "      <td>Kanchanpur</td>\n",
              "      <td>NL 971</td>\n",
              "      <td>D1</td>\n",
              "      <td>46.32</td>\n",
              "      <td>7.725938</td>\n",
              "      <td>1.644356</td>\n",
              "      <td>POINT (80.18800 28.98600)</td>\n",
              "      <td>0.223089</td>\n",
              "      <td>0.326231</td>\n",
              "      <td>0.384491</td>\n",
              "      <td>0.558959</td>\n",
              "      <td>0.269641</td>\n",
              "      <td>0.335698</td>\n",
              "      <td>0.184925</td>\n",
              "      <td>0.262913</td>\n",
              "      <td>0.538391</td>\n",
              "      <td>0.391679</td>\n",
              "    </tr>\n",
              "    <tr>\n",
              "      <th>4</th>\n",
              "      <td>28.986</td>\n",
              "      <td>80.188</td>\n",
              "      <td>Kanchanpur</td>\n",
              "      <td>Vijay</td>\n",
              "      <td>D2</td>\n",
              "      <td>62.50</td>\n",
              "      <td>7.725938</td>\n",
              "      <td>1.644356</td>\n",
              "      <td>POINT (80.18800 28.98600)</td>\n",
              "      <td>0.223089</td>\n",
              "      <td>0.326231</td>\n",
              "      <td>0.384491</td>\n",
              "      <td>0.558959</td>\n",
              "      <td>0.269641</td>\n",
              "      <td>0.335698</td>\n",
              "      <td>0.184925</td>\n",
              "      <td>0.262913</td>\n",
              "      <td>0.538391</td>\n",
              "      <td>0.391679</td>\n",
              "    </tr>\n",
              "  </tbody>\n",
              "</table>\n",
              "</div>"
            ],
            "text/plain": [
              "      Lat    Long    District  ...      ndwi      tavg      prec\n",
              "0  28.980  80.193  Kanchanpur  ...  0.128595  0.598473  0.372607\n",
              "1  28.980  80.193  Kanchanpur  ...  0.128595  0.598473  0.372607\n",
              "2  28.980  80.193  Kanchanpur  ...  0.128595  0.598473  0.372607\n",
              "3  28.986  80.188  Kanchanpur  ...  0.262913  0.538391  0.391679\n",
              "4  28.986  80.188  Kanchanpur  ...  0.262913  0.538391  0.391679\n",
              "\n",
              "[5 rows x 19 columns]"
            ]
          },
          "metadata": {
            "tags": []
          },
          "execution_count": 48
        }
      ]
    },
    {
      "cell_type": "markdown",
      "metadata": {
        "id": "8GkvjWALi6LP"
      },
      "source": [
        "## Crop yield modeling with XGBoost\n",
        "\n",
        "Beginer friendly XGBoost regressor [tutorial](https://www.datacamp.com/community/tutorials/xgboost-in-python)\n",
        "\n",
        "More parameter search and tunning [tutorial](https://xgboost.readthedocs.io/en/latest/tutorials/custom_metric_obj.html)\n",
        "\n",
        "Best ways to evaluate regression model: [3 Best metrics to evaluate Regression Model?](https://towardsdatascience.com/what-are-the-best-metrics-to-evaluate-your-regression-model-418ca481755b)"
      ]
    },
    {
      "cell_type": "markdown",
      "metadata": {
        "id": "9e0agukPjA5v"
      },
      "source": [
        "### Train Model Using k-fold Cross Validation"
      ]
    },
    {
      "cell_type": "code",
      "metadata": {
        "id": "yhch76uAi_aH"
      },
      "source": [
        "X = wheat_2010_all[['PH', 'OM', 'B2', 'B3', 'B4', 'B8', 'B11', 'B12', 'ndvi', 'ndwi', 'tavg', 'prec']]\n",
        "y= wheat_2010_all.wheat_yield\n",
        "\n",
        "X_train, X_test, y_train, y_test = train_test_split(X, y, test_size=0.2, random_state=123)"
      ],
      "execution_count": 49,
      "outputs": []
    },
    {
      "cell_type": "markdown",
      "metadata": {
        "id": "eCeYmmsQL6Ye"
      },
      "source": [
        "Configure the Model"
      ]
    },
    {
      "cell_type": "code",
      "metadata": {
        "id": "948GgFuKxup1"
      },
      "source": [
        "# learn more about the regressor parameter https://xgboost.readthedocs.io/en/latest/parameter.html#learning-task-parameters\n",
        "xg_reg= xgb.XGBRegressor(objective = 'reg:squarederror' , \n",
        "                         colsample_bytree=0.4,\n",
        "                         gamma=0,                 \n",
        "                         learning_rate=0.07,\n",
        "                         max_depth=3,\n",
        "                         min_child_weight=1.5,\n",
        "                         n_estimators=10000,                                                                    \n",
        "                         reg_alpha=0.75,\n",
        "                         reg_lambda=0.45,\n",
        "                         subsample=0.6,\n",
        "                         seed=42)\n"
      ],
      "execution_count": 67,
      "outputs": []
    },
    {
      "cell_type": "markdown",
      "metadata": {
        "id": "s8WA6XEsL8Cw"
      },
      "source": [
        "Fit the Model then Predict"
      ]
    },
    {
      "cell_type": "code",
      "metadata": {
        "id": "u3n2kHFAxyXO"
      },
      "source": [
        "xg_reg.fit(X_train,y_train)\n",
        "\n",
        "preds = xg_reg.predict(X_test)"
      ],
      "execution_count": 68,
      "outputs": []
    },
    {
      "cell_type": "markdown",
      "metadata": {
        "id": "1iGK8T6vLrci"
      },
      "source": [
        "### Evaluate the Model"
      ]
    },
    {
      "cell_type": "code",
      "metadata": {
        "id": "pDvoVPHfysx4",
        "outputId": "98d29431-ac32-4ccd-a03c-938ca2864c73",
        "colab": {
          "base_uri": "https://localhost:8080/"
        }
      },
      "source": [
        "rmse = np.sqrt(mean_squared_error(y_test, preds))\n",
        "print(\"RMSE: %f\" % (rmse))"
      ],
      "execution_count": 69,
      "outputs": [
        {
          "output_type": "stream",
          "text": [
            "RMSE: 7.058864\n"
          ],
          "name": "stdout"
        }
      ]
    },
    {
      "cell_type": "markdown",
      "metadata": {
        "id": "xccajf3oZvev"
      },
      "source": [
        "#### ploting y_test and preds"
      ]
    },
    {
      "cell_type": "code",
      "metadata": {
        "id": "-cfsa-OW6ybQ",
        "outputId": "9ce03e5f-dba5-4c0b-c7b0-39b125019171",
        "colab": {
          "base_uri": "https://localhost:8080/",
          "height": 295
        }
      },
      "source": [
        "plt.scatter(preds, y_test, c = \"green\", marker = \"s\")\n",
        "plt.title(\"Scatter plot for y_test and prediction\")\n",
        "plt.xlabel(\"Prediction\")\n",
        "plt.ylabel(\"True labels\")\n",
        "plt.show()"
      ],
      "execution_count": 70,
      "outputs": [
        {
          "output_type": "display_data",
          "data": {
            "image/png": "[encoded data removed]",
            "text/plain": [
              "<Figure size 432x288 with 1 Axes>"
            ]
          },
          "metadata": {
            "tags": [],
            "needs_background": "light"
          }
        }
      ]
    },
    {
      "cell_type": "markdown",
      "metadata": {
        "id": "e6I5IcW9cAw7"
      },
      "source": [
        "## **Quize**\n",
        "\n",
        "Try to use grid search and parameter search and tunning to tune the model "
      ]
    },
    {
      "cell_type": "code",
      "metadata": {
        "id": "Um3S9YA8aNOr"
      },
      "source": [
        "# write your code here"
      ],
      "execution_count": null,
      "outputs": []
    }
  ]
}