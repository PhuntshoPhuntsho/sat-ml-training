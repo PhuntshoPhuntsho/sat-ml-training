{
 "cells": [
  {
   "cell_type": "markdown",
   "metadata": {},
   "source": [
    "# Getting Started\n",
    "> Setting up accounts and testing some python.\n",
    "\n",
    "- toc: true \n",
    "- badges: true\n",
    "- author: Alex Mandel\n",
    "- comments: false\n",
    "- categories: [python, background]\n",
    "- hide: false\n",
    "- sticky_rank: 4"
   ]
  },
  {
   "cell_type": "markdown",
   "metadata": {},
   "source": [
    "## Accounts\n",
    "\n",
    "### Google\n",
    "For the lessons on this site you will need a [Google Account](https://accounts.google.com/signup) (this can be @gmail or an institution/custom google account). You will use this account to access Google Drive, Google Colab, and activate Google Earth Engine.\n",
    "\n",
    "\n",
    "### Google Earth Engine\n",
    "You will also need an account for Google Earth Engine for some lessons. You can [sign up here](https://earthengine.google.com/signup/), using your Google Account from the previous step to link everything together nicely.\n",
    "\n",
    "### Zindi\n",
    "For some lessons we use data from [Zindi.africa](https://zindi.africa/) a Machine Learning competition site. [Sign up here](https://zindi.africa/signup).\n",
    "\n",
    "\n"
   ]
  },
  {
   "source": [
    "## Connections\n",
    "\n",
    "Let's go ahead an test some of our accounts"
   ],
   "cell_type": "markdown",
   "metadata": {}
  },
  {
   "source": [
    "### Google Drive\n",
    "\n",
    "You will run the next code block. The output will show a link you have to open, copy the code from the page that loads and paste back into a cell provided."
   ],
   "cell_type": "markdown",
   "metadata": {}
  },
  {
   "source": [
    "#### Explore your drive"
   ],
   "cell_type": "markdown",
   "metadata": {}
  },
  {
   "source": [
    "### Google Earth Engine\n",
    "\n",
    "#### Initialize\n",
    "\n",
    "Next you will need to install the Google Earth Engine python API. If running on Colab it's already installed. It will autodetect and skip if already installed.\n",
    "\n",
    "Then you need to initialize the Earth Engine session. The output will show a link you have to open, copy the code from the page that loads and paste back into a cell provided."
   ],
   "cell_type": "markdown",
   "metadata": {}
  },
  {
   "source": [
    "#### Do a search\n",
    "\n",
    "Let's query Earth Engine [data collections] by looking for Imagery of Nepal.\n",
    "\n",
    "1. Define a bounding box or center point\n",
    "2. Identify the collection\n",
    "3. Query and create an ImageCollection\n",
    "4. Display on a map."
   ],
   "cell_type": "markdown",
   "metadata": {}
  },
  {
   "source": [],
   "cell_type": "markdown",
   "metadata": {}
  }
 ],
 "metadata": {
  "kernelspec": {
   "display_name": "Python 3",
   "language": "python",
   "name": "python3"
  },
  "language_info": {
   "codemirror_mode": {
    "name": "ipython",
    "version": 3
   },
   "file_extension": ".py",
   "mimetype": "text/x-python",
   "name": "python",
   "nbconvert_exporter": "python",
   "pygments_lexer": "ipython3",
   "version": "3.7.6"
  },
  "varInspector": {
   "cols": {
    "lenName": 16,
    "lenType": 16,
    "lenVar": 40
   },
   "kernels_config": {
    "python": {
     "delete_cmd_postfix": "",
     "delete_cmd_prefix": "del ",
     "library": "var_list.py",
     "varRefreshCmd": "print(var_dic_list())"
    },
    "r": {
     "delete_cmd_postfix": ") ",
     "delete_cmd_prefix": "rm(",
     "library": "var_list.r",
     "varRefreshCmd": "cat(var_dic_list()) "
    }
   },
   "types_to_exclude": [
    "module",
    "function",
    "builtin_function_or_method",
    "instance",
    "_Feature"
   ],
   "window_display": false
  }
 },
 "nbformat": 4,
 "nbformat_minor": 4
}