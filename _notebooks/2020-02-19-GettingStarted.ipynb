{
 "cells": [
  {
   "cell_type": "markdown",
   "metadata": {},
   "source": [
    "# Getting Started\n",
    "> Setting up accounts and testing some python.\n",
    "\n",
    "- toc: true \n",
    "- badges: true\n",
    "- author: Alex Mandel\n",
    "- comments: false\n",
    "- categories: [python, background]\n",
    "- hide: false\n",
    "- sticky_rank: 4"
   ]
  },
  {
   "source": [
    "This tutorial is all about getting everything setup so you can do the other tutorials on this site. In the process we will be reviewing fundamental python skills required. If at any point you're not sure what is happening please have a look at our background pages on [Python](IntroPython), [Geospatial Python](GeospatialPython), and [Machine Learning](IntroMachineLearning)."
   ],
   "cell_type": "markdown",
   "metadata": {}
  },
  {
   "cell_type": "markdown",
   "metadata": {},
   "source": [
    "## Accounts\n",
    "\n",
    "### Google\n",
    "For the lessons on this site you will need a [Google Account](https://accounts.google.com/signup) (this can be @gmail or an institution/custom google account). You will use this account to access Google Drive, Google Colab, and activate Google Earth Engine.\n",
    "\n",
    "\n",
    "### Google Earth Engine\n",
    "You will also need an account for Google Earth Engine for some lessons. You can [sign up here](https://earthengine.google.com/signup/), using your Google Account from the previous step to link everything together nicely.\n",
    "\n",
    "### Zindi\n",
    "For some lessons we use data from [Zindi.africa](https://zindi.africa/) a Machine Learning competition site. [Sign up here](https://zindi.africa/signup).\n",
    "\n",
    "\n"
   ]
  },
  {
   "source": [
    "## Connections\n",
    "\n",
    "Let's go ahead an test some of our accounts"
   ],
   "cell_type": "markdown",
   "metadata": {}
  },
  {
   "source": [
    "### Google Drive\n",
    "\n",
    "You will run the next code block. The output will show a link you have to open, copy the code from the page that loads and paste back into a cell provided."
   ],
   "cell_type": "markdown",
   "metadata": {}
  },
  {
   "cell_type": "code",
   "execution_count": null,
   "metadata": {},
   "outputs": [],
   "source": [
    "from google.colab import drive\n",
    "drive.mount('/content/drive/')"
   ]
  },
  {
   "source": [
    "#### Explore your drive\n",
    "\n",
    "Now that you've connected (mounted) google drive to your session, you can access it as a local disk.\n",
    "\n",
    "Look at the panel on the left, for the folder icon (3rd from the top). You should see your google drive under `drive` where you should see My Drive and Shared Drives. At any point if you hover over a folder three vertical dots appear on the right, and if you click you will see the option to copy path.\n",
    "\n",
    "Let's now explore using python to list files."
   ],
   "cell_type": "markdown",
   "metadata": {}
  },
  {
   "cell_type": "code",
   "execution_count": null,
   "metadata": {},
   "outputs": [],
   "source": [
    "import os\n",
    "\n",
    "# list the folders and files in your drive\n",
    "mydrive = '/content/drive/My Drive'\n",
    "colab = '/content/drive/My Drive/Colab Notebooks'\n",
    "print(os.listdir(mydrive))\n",
    "\n",
    "# list the current working directory\n",
    "print(os.getcwd())\n",
    "\n",
    "# make a data folder in your Colab Notebook directory\n",
    "os.mkdir(os.path.join(colab,'data'))\n",
    "# list the contents\n",
    "print(os.listdir(colab))"
   ]
  },
  {
   "source": [
    "### Google Earth Engine\n",
    "\n",
    "#### Initialize\n",
    "\n",
    "Next you will need to install the Google Earth Engine python API. If running on Colab it's already installed. It will autodetect and skip if already installed.\n",
    "\n",
    "Then you need to initialize the Earth Engine session. The output will show a link you have to open, copy the code from the page that loads and paste back into a cell provided."
   ],
   "cell_type": "markdown",
   "metadata": {}
  },
  {
   "cell_type": "code",
   "execution_count": null,
   "metadata": {},
   "outputs": [],
   "source": [
    "\n",
    "# If not on Colab you'll need install the earth-engine Python API\n",
    "#!pip install earthengine-api #earth-engine Python API\n",
    "\n",
    "# Athenticate to your GEE account. \n",
    "!earthengine authenticate\n"
   ]
  },
  {
   "cell_type": "code",
   "execution_count": null,
   "metadata": {},
   "outputs": [],
   "source": [
    "# Earth Engine Python API\n",
    "import ee \n",
    "ee.Initialize()"
   ]
  },
  {
   "source": [
    "#### Do a search\n",
    "\n",
    "Let's query Earth Engine [data collections] by looking for Imagery of Nepal.\n",
    "\n",
    "We are going to:\n",
    "\n",
    "1. Define a bounding box or center point\n",
    "2. Identify the collection\n",
    "3. Query and create an ImageCollection\n",
    "4. Display on a map"
   ],
   "cell_type": "markdown",
   "metadata": {}
  },
  {
   "source": [],
   "cell_type": "markdown",
   "metadata": {}
  },
  {
   "source": [
    "#### Define a Bounding Box\n",
    "\n",
    "You can define a Rectangle, Point, or Polygon for a spatial search by typing numbers, but that's tedious. It's much easier to get it from an existing data set or by selecting on a map. For the map we are going to use [Folium]()"
   ],
   "cell_type": "markdown",
   "metadata": {}
  },
  {
   "cell_type": "code",
   "execution_count": null,
   "metadata": {},
   "outputs": [],
   "source": [
    "import folium\n",
    "# TODO: not sure this even works\n"
   ]
  },
  {
   "cell_type": "code",
   "execution_count": null,
   "metadata": {},
   "outputs": [],
   "source": [
    "#display layer from GEE\n",
    "# https://nbviewer.jupyter.org/github/python-visualization/folium_contrib/blob/master/notebooks/GoogleEarthEngine_layer.ipynb\n",
    "# https://render.githubusercontent.com/view/ipynb?commit=5a7c416e2072457588fbdef22419bcb9ab1307be&enc_url=68747470733a2f2f7261772e67697468756275736572636f6e74656e742e636f6d2f637361796261722f454577507974686f6e2f356137633431366532303732343537353838666264656632323431396263623961623133303762652f335f6565496d616765436f6c6c656374696f6e2e6970796e62&nwo=csaybar%2FEEwPython&path=3_eeImageCollection.ipynb&repository_id=158463165&repository_type=Repository#6.-Compositing-and-Mosaicking"
   ]
  }
 ],
 "metadata": {
  "kernelspec": {
   "display_name": "Python 3",
   "language": "python",
   "name": "python3"
  },
  "language_info": {
   "codemirror_mode": {
    "name": "ipython",
    "version": 3
   },
   "file_extension": ".py",
   "mimetype": "text/x-python",
   "name": "python",
   "nbconvert_exporter": "python",
   "pygments_lexer": "ipython3",
   "version": "3.8.3-final"
  },
  "varInspector": {
   "cols": {
    "lenName": 16,
    "lenType": 16,
    "lenVar": 40
   },
   "kernels_config": {
    "python": {
     "delete_cmd_postfix": "",
     "delete_cmd_prefix": "del ",
     "library": "var_list.py",
     "varRefreshCmd": "print(var_dic_list())"
    },
    "r": {
     "delete_cmd_postfix": ") ",
     "delete_cmd_prefix": "rm(",
     "library": "var_list.r",
     "varRefreshCmd": "cat(var_dic_list()) "
    }
   },
   "types_to_exclude": [
    "module",
    "function",
    "builtin_function_or_method",
    "instance",
    "_Feature"
   ],
   "window_display": false
  }
 },
 "nbformat": 4,
 "nbformat_minor": 4
}