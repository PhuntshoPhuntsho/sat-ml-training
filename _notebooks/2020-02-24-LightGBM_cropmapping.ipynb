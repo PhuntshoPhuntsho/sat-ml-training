{
  "nbformat": 4,
  "nbformat_minor": 0,
  "metadata": {
    "colab": {
      "name": "Copy of LightGBM-CropMapping.ipynb",
      "provenance": [],
      "collapsed_sections": [],
      "toc_visible": true
    },
    "kernel_info": {
      "name": "query-planet37"
    },
    "kernelspec": {
      "display_name": "Python 3",
      "language": "python",
      "name": "python3"
    },
    "language_info": {
      "codemirror_mode": {
        "name": "ipython",
        "version": 3
      },
      "file_extension": ".py",
      "mimetype": "text/x-python",
      "name": "python",
      "nbconvert_exporter": "python",
      "pygments_lexer": "ipython3",
      "version": "3.6.5"
    },
    "nteract": {
      "version": "0.15.0"
    },
    "accelerator": "GPU"
  },
  "cells": [
    {
      "cell_type": "markdown",
      "metadata": {
        "id": "49fvCIOdY20G"
      },
      "source": [
        "# LightGBM  for Crop Type and Land Classification\n",
        "> Using LightGBM Classifier for crop type mapping for SERVIR Sat ML training. \n",
        "\n",
        "- toc: true\n",
        "- badges: true\n",
        "- author: Zhuang-Fang Yi, Drew Bollinger, Alex Mandel\n",
        "- comments: false\n",
        "- hide: false\n",
        "- sticky_rank: 6"
      ]
    },
    {
      "cell_type": "markdown",
      "metadata": {
        "id": "mhpo4niDY20H"
      },
      "source": [
        "This notebook teaches you to read satellite imagery (Sentinal-2) from Google Earth Engine and use it for crop type mapping with a [LightGBM](https://developmentseed.org/sat-ml-training/IntroMachineLearning#LightGBM) Classifier.\n",
        "\n",
        "We will use data created by SERVIR East Africa, RCMRD, and FEWSNET. Demonstrating how to train a LightGBM classifier over Trans Nzoia county, Kenya.\n",
        "\n",
        ">Note: If you would like to replicate the workflow with the same data on your local machine, please download the data from our shared [Google Drive folder](https://drive.google.com/drive/folders/0AMe92m6ojjWYUk9PVA)."
      ]
    },
    {
      "cell_type": "markdown",
      "metadata": {
        "id": "kUFuqXTOaF3J"
      },
      "source": [
        "## Setup Notebook"
      ]
    },
    {
      "cell_type": "code",
      "metadata": {
        "id": "6JYSIu-905lM"
      },
      "source": [
        "#install python packages to run this notebook \n",
        "!pip install -q rasterio rasterstats geopandas lightgbm"
      ],
      "execution_count": null,
      "outputs": []
    },
    {
      "cell_type": "code",
      "metadata": {
        "id": "ZmQRJPcH0oNL",
        "inputHidden": false,
        "outputHidden": false
      },
      "source": [
        "import geopandas as gpd\n",
        "import matplotlib.pyplot as plt\n",
        "import numpy as np\n",
        "\n",
        "import lightgbm as lgb\n",
        "\n",
        "import rasterio\n",
        "import rasterstats\n",
        "from sklearn.metrics import confusion_matrix\n",
        "from sklearn.model_selection import train_test_split\n",
        "\n",
        "import os\n",
        "import pickle\n",
        "from os import path as op\n",
        "\n",
        "\n",
        "import rasterio\n",
        "from rasterio.features import rasterize\n",
        "from rasterstats.io import bounds_window"
      ],
      "execution_count": 2,
      "outputs": []
    },
    {
      "cell_type": "code",
      "metadata": {
        "id": "uw1MvNkL2BE5",
        "outputId": "cccd9708-b4b7-4a3e-84cc-2069cc955a64",
        "colab": {
          "base_uri": "https://localhost:8080/",
          "height": 34
        }
      },
      "source": [
        "# Mount drive to google colab\n",
        "from google.colab import drive\n",
        "drive.mount('/content/drive', force_remount=True)"
      ],
      "execution_count": 3,
      "outputs": [
        {
          "output_type": "stream",
          "text": [
            "Mounted at /content/drive\n"
          ],
          "name": "stdout"
        }
      ]
    },
    {
      "cell_type": "code",
      "metadata": {
        "id": "LfuU0xxwa9Cw"
      },
      "source": [
        "# Set a Google Drive directory as the default working directory\n",
        "root_dir = \"/content/drive/My Drive/Colab Notebooks/sat-ml-data\"\n",
        "\n",
        "# This is a Shared Drive with data copies (limited access)\n",
        "shared_dir = \"/content/drive/Shared drives/servir-sat-ml/data\"\n",
        "\n",
        "# Make sure that folder exists\n",
        "if (not op.isdir(root_dir)):\n",
        "  os.mkdir(root_dir)"
      ],
      "execution_count": 5,
      "outputs": []
    },
    {
      "cell_type": "markdown",
      "metadata": {
        "id": "cYYI1YfE0oNR"
      },
      "source": [
        "\n",
        "## Prepare Training Data\n",
        "\n",
        "We will be using an already prepared training dataset that consists of polygons of each land use classification. These polygons were prepared by people using GIS digitizing methods (QGIS, ArcGIS, JOSM) with satellite imagery to trace over."
      ]
    },
    {
      "cell_type": "code",
      "metadata": {
        "id": "__o2qQdE0oNR",
        "inputHidden": false,
        "outputHidden": false,
        "outputId": "cfc06ef8-4942-4cd3-db1a-1c9433a50d4f",
        "colab": {
          "base_uri": "https://localhost:8080/",
          "height": 204
        }
      },
      "source": [
        "# read in training data\n",
        "training_vectors = gpd.read_file(op.join(shared_dir, 'training_data.geojson'))\n",
        "training_vectors.head()"
      ],
      "execution_count": 6,
      "outputs": [
        {
          "output_type": "execute_result",
          "data": {
            "text/html": [
              "<div>\n",
              "<style scoped>\n",
              "    .dataframe tbody tr th:only-of-type {\n",
              "        vertical-align: middle;\n",
              "    }\n",
              "\n",
              "    .dataframe tbody tr th {\n",
              "        vertical-align: top;\n",
              "    }\n",
              "\n",
              "    .dataframe thead th {\n",
              "        text-align: right;\n",
              "    }\n",
              "</style>\n",
              "<table border=\"1\" class=\"dataframe\">\n",
              "  <thead>\n",
              "    <tr style=\"text-align: right;\">\n",
              "      <th></th>\n",
              "      <th>name</th>\n",
              "      <th>description</th>\n",
              "      <th>geometry</th>\n",
              "    </tr>\n",
              "  </thead>\n",
              "  <tbody>\n",
              "    <tr>\n",
              "      <th>0</th>\n",
              "      <td>Shadow</td>\n",
              "      <td>None</td>\n",
              "      <td>MULTIPOLYGON (((34.83383 1.18204, 34.83577 1.1...</td>\n",
              "    </tr>\n",
              "    <tr>\n",
              "      <th>1</th>\n",
              "      <td>Forestland</td>\n",
              "      <td>None</td>\n",
              "      <td>MULTIPOLYGON (((35.30961 1.01328, 35.30964 1.0...</td>\n",
              "    </tr>\n",
              "    <tr>\n",
              "      <th>2</th>\n",
              "      <td>Maize</td>\n",
              "      <td>early reproductive</td>\n",
              "      <td>MULTIPOLYGON (((34.90904 1.09515, 34.90907 1.0...</td>\n",
              "    </tr>\n",
              "    <tr>\n",
              "      <th>3</th>\n",
              "      <td>Sugarcane</td>\n",
              "      <td>no change..maize farm on the right and far lef...</td>\n",
              "      <td>MULTIPOLYGON (((34.90750 1.08934, 34.90753 1.0...</td>\n",
              "    </tr>\n",
              "    <tr>\n",
              "      <th>4</th>\n",
              "      <td>Maize</td>\n",
              "      <td>reproductive good crop</td>\n",
              "      <td>MULTIPOLYGON (((34.87144 0.82953, 34.87147 0.8...</td>\n",
              "    </tr>\n",
              "  </tbody>\n",
              "</table>\n",
              "</div>"
            ],
            "text/plain": [
              "         name  ...                                           geometry\n",
              "0      Shadow  ...  MULTIPOLYGON (((34.83383 1.18204, 34.83577 1.1...\n",
              "1  Forestland  ...  MULTIPOLYGON (((35.30961 1.01328, 35.30964 1.0...\n",
              "2       Maize  ...  MULTIPOLYGON (((34.90904 1.09515, 34.90907 1.0...\n",
              "3   Sugarcane  ...  MULTIPOLYGON (((34.90750 1.08934, 34.90753 1.0...\n",
              "4       Maize  ...  MULTIPOLYGON (((34.87144 0.82953, 34.87147 0.8...\n",
              "\n",
              "[5 rows x 3 columns]"
            ]
          },
          "metadata": {
            "tags": []
          },
          "execution_count": 6
        }
      ]
    },
    {
      "cell_type": "code",
      "metadata": {
        "id": "LFMpu1PC0oNV",
        "inputHidden": false,
        "outputHidden": false,
        "outputId": "3a75292b-11e1-485b-bc55-7c3bda06f56c",
        "colab": {
          "base_uri": "https://localhost:8080/",
          "height": 51
        }
      },
      "source": [
        "# find all unique values of training data names to use as classes\n",
        "classes = np.unique(training_vectors.name)\n",
        "# classes = np.array(sorted(training_vectors.name.unique()))\n",
        "classes"
      ],
      "execution_count": 7,
      "outputs": [
        {
          "output_type": "execute_result",
          "data": {
            "text/plain": [
              "array(['Built', 'Cloud', 'Fallow', 'Forestland', 'Grassland', 'Maize',\n",
              "       'Shadow', 'Sugarcane', 'Sunflower', 'Waterbody'], dtype=object)"
            ]
          },
          "metadata": {
            "tags": []
          },
          "execution_count": 7
        }
      ]
    },
    {
      "cell_type": "markdown",
      "metadata": {
        "id": "4Kw1Qx5vdNb0"
      },
      "source": [
        "By assigning numeric ID to each class, we can will be able link results back to class names."
      ]
    },
    {
      "cell_type": "code",
      "metadata": {
        "id": "2FRc2gpg0oNX",
        "inputHidden": false,
        "outputHidden": false,
        "outputId": "e563d06c-1dec-4c50-a2c4-a8d1943f72f9",
        "colab": {
          "base_uri": "https://localhost:8080/",
          "height": 187
        }
      },
      "source": [
        "# create a dictionary to convert class names into integers for modeling\n",
        "class_dict = dict(zip(classes, range(len(classes))))\n",
        "class_dict                  "
      ],
      "execution_count": 8,
      "outputs": [
        {
          "output_type": "execute_result",
          "data": {
            "text/plain": [
              "{'Built': 0,\n",
              " 'Cloud': 1,\n",
              " 'Fallow': 2,\n",
              " 'Forestland': 3,\n",
              " 'Grassland': 4,\n",
              " 'Maize': 5,\n",
              " 'Shadow': 6,\n",
              " 'Sugarcane': 7,\n",
              " 'Sunflower': 8,\n",
              " 'Waterbody': 9}"
            ]
          },
          "metadata": {
            "tags": []
          },
          "execution_count": 8
        }
      ]
    },
    {
      "cell_type": "markdown",
      "metadata": {
        "id": "0wUAMbEigtsU"
      },
      "source": [
        "## Preparing Imagery\n",
        "\n",
        "In this case like our [RandomForest](https://developmentseed.org/sat-ml-training/Randomforest_cropmapping-with_GEE#Reading-imagery-from-Google-Earth-Engine-(GEE)) example we will be using imagery exported from Google Earth Engine. Any source could used as long as you have data for the region of interest in a format the [GDAL](https://gdal.org/drivers/raster/index.html) library can read. [rasterio](https://rasterio.readthedocs.io/en/latest/) the python library for reading raster data builds on GDAL.\n",
        "\n",
        "We highly recommend using [Cloud Optimized Geotiff (COG)](https://www.cogeo.org/#why) whenever possible to optimize the ability to due partial data reads from cloud stored data.\n",
        "\n",
        "### Alternative Data Sources\n",
        "\n",
        "Other data sources do exist for the same satellites. This includes cloud based sources like AWS Public Buckets, and SentinelHub. \n",
        "\n",
        "> Important: You can skip this section if you already have the data exported from the RandomForest lesson. Or access to the export we have but on Google Drive."
      ]
    },
    {
      "cell_type": "code",
      "metadata": {
        "id": "n7dF8oHX01XX"
      },
      "source": [
        "# If not on Colab you'll need install the earth-engine Python API\n",
        "#!pip install earthengine-api #earth-engine Python API\n",
        "\n",
        "# Athenticate to your GEE account. \n",
        "!earthengine authenticate\n",
        "# Earth Engine Python API\n",
        "import ee \n",
        "ee.Initialize()"
      ],
      "execution_count": null,
      "outputs": []
    },
    {
      "cell_type": "code",
      "metadata": {
        "id": "3rTRi2zZ0j_0",
        "outputId": "1c05563d-0685-4624-b309-326cb461ca02",
        "colab": {
          "base_uri": "https://localhost:8080/",
          "height": 85
        }
      },
      "source": [
        "# From GEE\n",
        "#training_vectors.total_bounds.tolist()\n",
        "aoi = ee.Geometry.Rectangle(training_vectors.total_bounds.tolist())\n",
        "band_sel = ('B2', 'B3', 'B4', 'B8', 'B11', 'B12')\n",
        "\n",
        "sentinel_scenes = ee.ImageCollection(\"COPERNICUS/S2\")\\\n",
        "    .filterBounds(aoi)\\\n",
        "    .filterDate('2019-05-02', '2019-05-03')\\\n",
        "    .select(band_sel)\n",
        "\n",
        "scenes = sentinel_scenes.getInfo()\n",
        "[print(scene['id']) for scene in scenes[\"features\"]]\n",
        "\n",
        "sentinel_mosaic = sentinel_scenes.mean().rename(band_sel)"
      ],
      "execution_count": 10,
      "outputs": [
        {
          "output_type": "stream",
          "text": [
            "COPERNICUS/S2/20190502T074621_20190502T080204_T36NXF\n",
            "COPERNICUS/S2/20190502T074621_20190502T080204_T36NXG\n",
            "COPERNICUS/S2/20190502T074621_20190502T080204_T36NYF\n",
            "COPERNICUS/S2/20190502T074621_20190502T080204_T36NYG\n"
          ],
          "name": "stdout"
        }
      ]
    },
    {
      "cell_type": "code",
      "metadata": {
        "id": "b961Oetx1J6e"
      },
      "source": [
        "# We will save it to Google Drive for later reuse\n",
        "raster_name = op.join(root_dir,'sentinel_mosaic-Trans_Nzoia')\n"
      ],
      "execution_count": null,
      "outputs": []
    },
    {
      "cell_type": "code",
      "metadata": {
        "id": "A9cfWA8v1XAB"
      },
      "source": [
        "# Export the image, specifying scale and region.\n",
        "# Warning, This specific export takes at least 1 hour, and 700+ MB\n",
        "# GEE folder does not use a path, it uses a unique name to find the export location\n",
        "task = ee.batch.Export.image.toDrive(**{\n",
        "    'image': sentinel_mosaic,\n",
        "    'description': 'Trans_nzoia_2019_05_02',\n",
        "    'folder': op.basename(root_dir),\n",
        "    'fileNamePrefix': raster_name,\n",
        "    'scale': 10,\n",
        "    'region': aoi,\n",
        "    'fileFormat': 'GeoTIFF',\n",
        "    'formatOptions': {\n",
        "      'cloudOptimized': 'true'\n",
        "    },\n",
        "})\n",
        "\n",
        "# This task will run in the background even if you close this notebook.\n",
        "# You can also check on the status of the task through the Javascript GEE interface\n",
        "# https://code.earthengine.google.com\n",
        "task.start()"
      ],
      "execution_count": null,
      "outputs": []
    },
    {
      "cell_type": "markdown",
      "metadata": {
        "id": "KtPKA0sYdgDy"
      },
      "source": [
        "## Model Training\n",
        "\n",
        "We are going to use GPU runtime to train LightGBM model."
      ]
    },
    {
      "cell_type": "markdown",
      "metadata": {
        "id": "gIW-96FqdjCe"
      },
      "source": [
        "### Preparing Data\n",
        "\n",
        "First we will need to do some preparation to organize the training data into the correct python types, and to extract sample pixels from the intersecting imagery"
      ]
    },
    {
      "cell_type": "code",
      "metadata": {
        "id": "Tuz2ghqI0oNY",
        "inputHidden": false,
        "outputHidden": false,
        "outputId": "6e60a7d6-ad32-4d64-9f6f-229f78f9a7df",
        "colab": {
          "base_uri": "https://localhost:8080/",
          "height": 51
        }
      },
      "source": [
        "%%time\n",
        "\n",
        "# raster information\n",
        "raster_file = op.join(shared_dir, 'Trans_nzoia_2019_05-02.tif')\n",
        "\n",
        "bands = 6\n",
        "\n",
        "# a custom function for getting each value from the raster\n",
        "def all_values(x):\n",
        "    return x\n",
        "\n",
        "# this larger cell reads data from a raster file for each training vector\n",
        "X_raw = []\n",
        "y_raw = []\n",
        "with rasterio.open(raster_file, 'r') as src:\n",
        "    for (label, geom) in zip(training_vectors.name, training_vectors.geometry):\n",
        "        # read the raster data matching the geometry bounds\n",
        "        window = bounds_window(geom.bounds, src.transform)\n",
        "        # store our window information\n",
        "        window_affine = src.window_transform(window)\n",
        "        fsrc = src.read(window=window)\n",
        "        # rasterize the (non-buffered) geometry into the larger shape and affine\n",
        "        mask = rasterize(\n",
        "            [(geom, 1)],\n",
        "            out_shape=fsrc.shape[1:],\n",
        "            transform=window_affine,\n",
        "            fill=0,\n",
        "            dtype='uint8',\n",
        "            all_touched=True\n",
        "        ).astype(bool)\n",
        "        # for each label pixel (places where the mask is true)...\n",
        "        label_pixels = np.argwhere(mask)\n",
        "        for (row, col) in label_pixels:\n",
        "            # add a pixel of data to X\n",
        "            data = fsrc[:,row,col]\n",
        "            one_x = np.nan_to_num(data, nan=1e-3)\n",
        "            X_raw.append(one_x)\n",
        "            # add the label to y\n",
        "            y_raw.append(class_dict[label])"
      ],
      "execution_count": 11,
      "outputs": [
        {
          "output_type": "stream",
          "text": [
            "CPU times: user 11.6 s, sys: 627 ms, total: 12.3 s\n",
            "Wall time: 17.3 s\n"
          ],
          "name": "stdout"
        }
      ]
    },
    {
      "cell_type": "markdown",
      "metadata": {
        "id": "g1csB9uNeC7f"
      },
      "source": [
        "Now we need to put the data in arrays (numpy in this case), so that each row cell represents data, repeated over 6 bands (in this case columns). The shape property shows us the dimensions of the stored data."
      ]
    },
    {
      "cell_type": "code",
      "metadata": {
        "id": "TyvZj0F_0oNa",
        "inputHidden": false,
        "outputHidden": false,
        "outputId": "b005aa60-0e9b-49dd-e25c-abd9796db820",
        "colab": {
          "base_uri": "https://localhost:8080/",
          "height": 34
        }
      },
      "source": [
        "# convert the training data lists into the appropriate shape and format for scikit-learn\n",
        "X = np.array(X_raw)\n",
        "y = np.array(y_raw)\n",
        "(X.shape, y.shape)"
      ],
      "execution_count": 12,
      "outputs": [
        {
          "output_type": "execute_result",
          "data": {
            "text/plain": [
              "((160461, 6), (160461,))"
            ]
          },
          "metadata": {
            "tags": []
          },
          "execution_count": 12
        }
      ]
    },
    {
      "cell_type": "markdown",
      "metadata": {
        "id": "4Bt2RDLIeAG9"
      },
      "source": [
        "In addition to the raw pixel values we will calculated a couple of indices that help in some classifications.\n",
        "* [Normalized Difference Vegetation Index (NDVI)](https://en.wikipedia.org/wiki/Normalized_difference_vegetation_index) - great for identiying photosynthesizing plants.\n",
        "* [Normalized Difference Water Index (NDWI)](https://en.wikipedia.org/wiki/Normalized_difference_water_index) - great for identifying open water (when there isn't a lot of glare)"
      ]
    },
    {
      "cell_type": "code",
      "metadata": {
        "id": "tJ4YWY5M0oNc",
        "inputHidden": false,
        "outputHidden": false,
        "outputId": "d8f57cfa-d097-40ec-ad41-83132a9e402b",
        "colab": {
          "base_uri": "https://localhost:8080/",
          "height": 34
        }
      },
      "source": [
        "# (optional) add extra band indices\n",
        "\n",
        "# helper function for calculating ND*I indices (bands in the final dimension)\n",
        "def band_index(arr, a, b):\n",
        "    return np.expand_dims((arr[..., a] - arr[..., b]) / (arr[..., a] + arr[..., b]), axis=1)\n",
        "\n",
        "ndvi = band_index(X, 3, 2)\n",
        "ndwi = band_index(X, 1, 3)\n",
        "\n",
        "X = np.concatenate([X, ndvi, ndwi], axis=1)\n",
        "X.shape"
      ],
      "execution_count": 13,
      "outputs": [
        {
          "output_type": "execute_result",
          "data": {
            "text/plain": [
              "(160461, 8)"
            ]
          },
          "metadata": {
            "tags": []
          },
          "execution_count": 13
        }
      ]
    },
    {
      "cell_type": "markdown",
      "metadata": {
        "id": "igH-1Opzem3V"
      },
      "source": [
        "Now were going to split 20% of the data to reserve for testing the quality of the trained model."
      ]
    },
    {
      "cell_type": "code",
      "metadata": {
        "id": "6agtXCDh0oNe",
        "inputHidden": false,
        "outputHidden": false
      },
      "source": [
        "# split the data into test and train sets\n",
        "X_train, X_test, y_train, y_test = train_test_split(X, y, test_size=0.2, random_state=42)"
      ],
      "execution_count": 14,
      "outputs": []
    },
    {
      "cell_type": "markdown",
      "metadata": {
        "id": "1MAxd4LCerj9"
      },
      "source": [
        "Since we don't have the same amount of training data for each class, we're going to calculate the relative quantities and tell the model so it can adjust to reduce bias."
      ]
    },
    {
      "cell_type": "code",
      "metadata": {
        "id": "9QetQBP40oNh",
        "inputHidden": false,
        "outputHidden": false,
        "outputId": "11977aba-fcab-4807-ebb3-0d5e73c10fd6",
        "colab": {
          "base_uri": "https://localhost:8080/",
          "height": 187
        }
      },
      "source": [
        "# calculate class weights to allow for training on inbalanced training samples\n",
        "labels, counts = np.unique(y_train, return_counts=True)\n",
        "class_weight_dict = dict(zip(labels, 1 / counts))\n",
        "class_weight_dict"
      ],
      "execution_count": 15,
      "outputs": [
        {
          "output_type": "execute_result",
          "data": {
            "text/plain": [
              "{0: 0.00046882325363338024,\n",
              " 1: 0.001597444089456869,\n",
              " 2: 0.0004928536224741252,\n",
              " 3: 1.970093973482535e-05,\n",
              " 4: 0.000819000819000819,\n",
              " 5: 1.5704257424187697e-05,\n",
              " 6: 0.0002473410833539451,\n",
              " 7: 0.0002824858757062147,\n",
              " 8: 0.05263157894736842,\n",
              " 9: 0.003115264797507788}"
            ]
          },
          "metadata": {
            "tags": []
          },
          "execution_count": 15
        }
      ]
    },
    {
      "cell_type": "markdown",
      "metadata": {
        "id": "Z3ZW_pbtet4Q"
      },
      "source": [
        "### Train LightGBM"
      ]
    },
    {
      "cell_type": "code",
      "metadata": {
        "id": "JSuV7EVB0oNk",
        "inputHidden": false,
        "outputHidden": false,
        "outputId": "c7cb2baf-a67e-402d-f8d4-06eee6d9da47",
        "colab": {
          "base_uri": "https://localhost:8080/",
          "height": 51
        }
      },
      "source": [
        "%%time\n",
        "# initialize a lightgbm\n",
        "\n",
        "lgbm = lgb.LGBMClassifier(\n",
        "       objective='multiclass',\n",
        "       class_weight = class_weight_dict,\n",
        "       num_class = len(class_dict),\n",
        "       metric = 'multi_logloss')"
      ],
      "execution_count": 16,
      "outputs": [
        {
          "output_type": "stream",
          "text": [
            "CPU times: user 69 µs, sys: 0 ns, total: 69 µs\n",
            "Wall time: 73 µs\n"
          ],
          "name": "stdout"
        }
      ]
    },
    {
      "cell_type": "code",
      "metadata": {
        "id": "LXNiSfos0oNm",
        "inputHidden": false,
        "outputHidden": false,
        "outputId": "3f363e32-124c-46cd-f815-e792b0e64e11",
        "colab": {
          "base_uri": "https://localhost:8080/",
          "height": 255
        }
      },
      "source": [
        "%%time\n",
        "# fit the model to the data (training)\n",
        "lgbm.fit(X_train, y_train)"
      ],
      "execution_count": 18,
      "outputs": [
        {
          "output_type": "stream",
          "text": [
            "CPU times: user 19.2 s, sys: 117 ms, total: 19.3 s\n",
            "Wall time: 9.87 s\n"
          ],
          "name": "stdout"
        },
        {
          "output_type": "execute_result",
          "data": {
            "text/plain": [
              "LGBMClassifier(boosting_type='gbdt',\n",
              "               class_weight={0: 0.00046882325363338024, 1: 0.001597444089456869,\n",
              "                             2: 0.0004928536224741252, 3: 1.970093973482535e-05,\n",
              "                             4: 0.000819000819000819, 5: 1.5704257424187697e-05,\n",
              "                             6: 0.0002473410833539451, 7: 0.0002824858757062147,\n",
              "                             8: 0.05263157894736842, 9: 0.003115264797507788},\n",
              "               colsample_bytree=1.0, importance_type='split', learning_rate=0.1,\n",
              "               max_depth=-1, metric='multi_logloss', min_child_samples=20,\n",
              "               min_child_weight=0.001, min_split_gain=0.0, n_estimators=100,\n",
              "               n_jobs=-1, num_class=10, num_leaves=31, objective='multiclass',\n",
              "               random_state=None, reg_alpha=0.0, reg_lambda=0.0, silent=True,\n",
              "               subsample=1.0, subsample_for_bin=200000, subsample_freq=0)"
            ]
          },
          "metadata": {
            "tags": []
          },
          "execution_count": 18
        }
      ]
    },
    {
      "cell_type": "markdown",
      "metadata": {
        "id": "di9gkmFHe1mo"
      },
      "source": [
        "### Assess the Model\n",
        "\n",
        "Now we use the reserved test data to evaluate how well the model is able to predict."
      ]
    },
    {
      "cell_type": "code",
      "metadata": {
        "id": "25pMSxGp0oNo",
        "inputHidden": false,
        "outputHidden": false
      },
      "source": [
        "# predict on X_test to evaluate the model\n",
        "preds = lgbm.predict(X_test)\n",
        "cm = confusion_matrix(y_test, preds, labels=labels)"
      ],
      "execution_count": 19,
      "outputs": []
    },
    {
      "cell_type": "markdown",
      "metadata": {
        "id": "8_e8p20VfBsb"
      },
      "source": [
        "And we can save a copy of the model for later resuse without the need to retrain."
      ]
    },
    {
      "cell_type": "code",
      "metadata": {
        "id": "EhFM39HK-5NC"
      },
      "source": [
        "model_name = 'light_gbm.sav'\n",
        "pickle.dump(lgbm, open(op.join(root_dir, model_name), 'wb'))\n"
      ],
      "execution_count": 20,
      "outputs": []
    },
    {
      "cell_type": "markdown",
      "metadata": {
        "id": "NybeF52OfMMU"
      },
      "source": [
        "### Confusion Matrix\n",
        "\n",
        "A confusion matrix shows a comparision between what the class is based on the test data, and what the model predicted it to be. Low numbers are good. The diagonal from top left to bottom right, is a class compared to itself should be high. Values range from 0 to 1."
      ]
    },
    {
      "cell_type": "code",
      "metadata": {
        "id": "COjyzKe00oNq",
        "inputHidden": false,
        "outputHidden": false,
        "outputId": "d75b1d7c-4466-47f6-916c-15e744b6b089",
        "colab": {
          "base_uri": "https://localhost:8080/",
          "height": 718
        }
      },
      "source": [
        "# plot the confusion matrix\n",
        "%matplotlib inline\n",
        "cm = cm.astype('float') / cm.sum(axis=1)[:, np.newaxis]\n",
        "fig, ax = plt.subplots(figsize=(10, 10))\n",
        "im = ax.imshow(cm, interpolation='nearest', cmap=plt.cm.Blues)\n",
        "ax.figure.colorbar(im, ax=ax)\n",
        "# We want to show all ticks...\n",
        "ax.set(xticks=np.arange(cm.shape[1]),\n",
        "       yticks=np.arange(cm.shape[0]),\n",
        "       # ... and label them with the respective list entries\n",
        "       xticklabels=classes, yticklabels=classes,\n",
        "       title='Normalized Confusion Matrix',\n",
        "       ylabel='True label',\n",
        "       xlabel='Predicted label')\n",
        "\n",
        "# Rotate the tick labels and set their alignment.\n",
        "plt.setp(ax.get_xticklabels(), rotation=45, ha=\"right\",\n",
        "         rotation_mode=\"anchor\")\n",
        "\n",
        "# Loop over data dimensions and create text annotations.\n",
        "fmt = '.2f'\n",
        "thresh = cm.max() / 2.\n",
        "for i in range(cm.shape[0]):\n",
        "    for j in range(cm.shape[1]):\n",
        "        ax.text(j, i, format(cm[i, j], fmt),\n",
        "                ha=\"center\", va=\"center\",\n",
        "                color=\"white\" if cm[i, j] > thresh else \"black\")\n",
        "fig.tight_layout()"
      ],
      "execution_count": 21,
      "outputs": [
        {
          "output_type": "display_data",
          "data": {
            "image/png": "[encoded data removed]",
            "text/plain": [
              "<Figure size 720x720 with 2 Axes>"
            ]
          },
          "metadata": {
            "tags": [],
            "needs_background": "light"
          }
        }
      ]
    },
    {
      "cell_type": "markdown",
      "metadata": {
        "id": "jF5FtgwM0oN0"
      },
      "source": [
        "## Generate predictions over the full image\n"
      ]
    },
    {
      "cell_type": "markdown",
      "metadata": {
        "id": "tCsD297LjNLO"
      },
      "source": [
        "### Load the model\n",
        "\n",
        "We can load the model we saved previously, so that we don't have to do all the work in the same session."
      ]
    },
    {
      "cell_type": "code",
      "metadata": {
        "id": "FKCEa-hXqgmN"
      },
      "source": [
        "# if you want to use the pretrained model for new imagery\n",
        "\n",
        "# match the pretrained model weight with the saved model above\n",
        "model_name = 'light_gbm.sav'\n",
        "\n",
        "# helper function for calculating ND*I indices (bands in the final dimension)\n",
        "def band_index(arr, a, b):\n",
        "    return np.expand_dims((arr[..., a] - arr[..., b]) / (arr[..., a] + arr[..., b]), axis=1)\n",
        "  \n",
        "lgbm = pickle.load(open(op.join(root_dir, model_name), 'rb'))"
      ],
      "execution_count": 22,
      "outputs": []
    },
    {
      "cell_type": "code",
      "metadata": {
        "id": "kbVo745N-S9G",
        "outputId": "e4dad2ae-1c9e-4450-cd1b-a6370cad87bf",
        "colab": {
          "base_uri": "https://localhost:8080/",
          "height": 221
        }
      },
      "source": [
        "lgbm"
      ],
      "execution_count": 23,
      "outputs": [
        {
          "output_type": "execute_result",
          "data": {
            "text/plain": [
              "LGBMClassifier(boosting_type='gbdt',\n",
              "               class_weight={0: 0.00046882325363338024, 1: 0.001597444089456869,\n",
              "                             2: 0.0004928536224741252, 3: 1.970093973482535e-05,\n",
              "                             4: 0.000819000819000819, 5: 1.5704257424187697e-05,\n",
              "                             6: 0.0002473410833539451, 7: 0.0002824858757062147,\n",
              "                             8: 0.05263157894736842, 9: 0.003115264797507788},\n",
              "               colsample_bytree=1.0, importance_type='split', learning_rate=0.1,\n",
              "               max_depth=-1, metric='multi_logloss', min_child_samples=20,\n",
              "               min_child_weight=0.001, min_split_gain=0.0, n_estimators=100,\n",
              "               n_jobs=-1, num_class=10, num_leaves=31, objective='multiclass',\n",
              "               random_state=None, reg_alpha=0.0, reg_lambda=0.0, silent=True,\n",
              "               subsample=1.0, subsample_for_bin=200000, subsample_freq=0)"
            ]
          },
          "metadata": {
            "tags": []
          },
          "execution_count": 23
        }
      ]
    },
    {
      "cell_type": "markdown",
      "metadata": {
        "id": "HRjv8XpLix7p"
      },
      "source": [
        "### Run the model on whole area\n",
        "\n",
        "Now that we've trained and tested the model over the existing data we can use the trained LightGBM classifier `lgbm` over a whole satellite image that covers a larger geospatial location. We can split the job into small tiles to optimize the compute power and potentially do the classification in parallel."
      ]
    },
    {
      "cell_type": "code",
      "metadata": {
        "id": "vmD5HXr50oN8",
        "inputHidden": false,
        "outputHidden": false
      },
      "source": [
        "%%time\n",
        "# open connections to our input and output images\n",
        "\n",
        "# new_image = op.join(root_dir, 'Trans_nzoia_2019_10-04.tif')\n",
        "new_image = raster_file\n",
        "output_image = op.join(root_dir, \"lgbm_classification.tif\")\n",
        "\n",
        "with rasterio.open(new_image, 'r') as src:\n",
        "  profile = src.profile\n",
        "  profile.update(\n",
        "      dtype=rasterio.uint8,\n",
        "      count=1,\n",
        "  )\n",
        "\n",
        "  with rasterio.open(output_image, 'w', **profile) as dst: \n",
        "\n",
        "    # perform prediction on each small image patch to minimize required memory\n",
        "    patch_size = 500\n",
        "\n",
        "    for i in range((src.shape[0] // patch_size) + 1):\n",
        "        for j in range((src.shape[1] // patch_size) + 1):\n",
        "            # define the pixels to read (and write)\n",
        "            window = rasterio.windows.Window(\n",
        "                j * patch_size,\n",
        "                i * patch_size,\n",
        "                # don't read past the image bounds\n",
        "                min(patch_size, src.shape[1] - j * patch_size),\n",
        "                min(patch_size, src.shape[0] - i * patch_size)\n",
        "            )\n",
        "            \n",
        "            data = src.read(window=window)\n",
        "            # read the image into the proper format, adding indices if necessary\n",
        "            img_swp = np.moveaxis(data, 0, 2)\n",
        "            img_flat = img_swp.reshape(-1, img_swp.shape[-1])\n",
        "\n",
        "            img_ndvi = band_index(img_flat, 3, 2)\n",
        "            img_ndwi = band_index(img_flat, 1, 3)\n",
        "\n",
        "            img_w_ind = np.concatenate([img_flat, img_ndvi, img_ndwi], axis=1)\n",
        "\n",
        "            # remove no data values, store the indices for later use\n",
        "            # a later cell makes the assumption that all bands have identical no-data value arrangements\n",
        "            m = np.ma.masked_invalid(img_w_ind)\n",
        "            to_predict = img_w_ind[~m.mask].reshape(-1, img_w_ind.shape[-1])\n",
        "            \n",
        "            # predict\n",
        "            if not len(to_predict):\n",
        "                continue\n",
        "            img_preds = lgbm.predict(to_predict)\n",
        "            \n",
        "            # add the prediction back to the valid pixels (using only the first band of the mask to decide on validity)\n",
        "            # resize to the original image dimensions\n",
        "            output = np.zeros(img_flat.shape[0])\n",
        "            output[~m.mask[:,0]] = img_preds.flatten()\n",
        "            output = output.reshape(*img_swp.shape[:-1])\n",
        "            \n",
        "            # create our final mask\n",
        "            mask = (~m.mask[:,0]).reshape(*img_swp.shape[:-1])\n",
        "\n",
        "            # write to the final file\n",
        "            dst.write(output.astype(rasterio.uint8), 1, window=window)\n",
        "            dst.write_mask(mask, window=window)\n",
        "            # write to the final file\n",
        "            dst.write(output.astype(rasterio.uint8), 1, window=window)\n",
        "            dst.write_mask(mask, window=window)"
      ],
      "execution_count": null,
      "outputs": []
    },
    {
      "cell_type": "markdown",
      "metadata": {
        "id": "2_UHABvLjZK0"
      },
      "source": [
        "### Explore the Results"
      ]
    },
    {
      "cell_type": "code",
      "metadata": {
        "id": "FmiNBi_ZjbfZ"
      },
      "source": [
        "import matplotlib.pyplot as plt\n",
        "from rasterio.plot import show\n",
        "%matplotlib inline\n",
        "\n",
        "\n",
        "# Load the classification\n",
        "if os.path.exists(op.join(root_dir, \"lgbm_classification.tif\")):\n",
        "  output_image = op.join(root_dir, \"lgbm_classification.tif\")\n",
        "else:\n",
        "  output_image = '/content/drive/Shared drives/servir-sat-ml/data/lgbm_classification.tif'\n",
        "\n",
        "\n",
        "def linear_rescale(image, in_range=(0, 1), out_range=(1, 255)):\n",
        "    imin, imax = in_range\n",
        "    omin, omax = out_range\n",
        "    image = np.clip(image, imin, imax) - imin\n",
        "    image = image / np.float(imax - imin)\n",
        "    return image * (omax - omin) + omin\n",
        "\n",
        "with rasterio.open(output_image, 'r') as class_raster:\n",
        "#  show(class_raster)\n",
        "  classes = class_raster.read()\n",
        "\n",
        "\n",
        "# Load the original image\n",
        "with rasterio.open(raster_file, 'r') as s2_raster:\n",
        "#  show(s2_raster)\n",
        "  s2 = s2_raster.read([1,2,3])\n",
        "\n",
        "# Compare side by side\n",
        "fig, (ax1, ax2) = plt.subplots(ncols=2, nrows=1, figsize=(10, 4), sharey=True)\n",
        "show(classes, transform=class_raster.transform, ax=ax1, title=\"lgbm Classes\")\n",
        "show(s2[[2,1,0], : , :], transform=s2_raster.transform, adjust='linear', ax=ax2, title=\"Sentinel 2 RGB\")"
      ],
      "execution_count": null,
      "outputs": []
    },
    {
      "cell_type": "code",
      "metadata": {
        "id": "b7tM08sKvlMn"
      },
      "source": [
        "# The satellite image is really dark, lets see why\n",
        "rasterio.plot.show_hist(s2, \n",
        "                   bins=50, \n",
        "                   histtype='stepfilled',\n",
        "                   lw=0.0, \n",
        "                   stacked=False, \n",
        "                   alpha=0.3)"
      ],
      "execution_count": null,
      "outputs": []
    },
    {
      "cell_type": "code",
      "metadata": {
        "id": "yg8H1dZrwJsT"
      },
      "source": [
        "# Based on the histogram we'll set a threshold and rescale the data for visualization\n",
        "# The values used for in_range are going to depend on the datatype and range of your data\n",
        "# If you got the data from GEE try in_range(0, 2500)\n",
        "for band in range(s2.shape[0]):\n",
        "    s2[band] = linear_rescale(\n",
        "            s2[band], \n",
        "            in_range=(0, 0.25), \n",
        "            out_range=[0, 255]\n",
        "        )\n",
        "s2 = s2.astype(np.uint8)"
      ],
      "execution_count": null,
      "outputs": []
    },
    {
      "cell_type": "code",
      "metadata": {
        "id": "ObIjOc42wRO0"
      },
      "source": [
        "# Now retry the plot\n",
        "fig, (ax1, ax2) = plt.subplots(ncols=2, nrows=1, figsize=(10, 4), sharey=True)\n",
        "show(classes, transform=class_raster.transform, ax=ax1, title=\"lgbm Classes\")\n",
        "show(s2[[2,1,0], : , :], transform=s2_raster.transform, adjust='linear', ax=ax2, title=\"Sentinel 2 RGB\")"
      ],
      "execution_count": null,
      "outputs": []
    }
  ]
}