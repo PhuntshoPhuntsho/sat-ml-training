{
 "cells": [
  {
   "cell_type": "markdown",
   "metadata": {},
   "source": [
    "# Geospatial Python\n",
    "> An overview of python methods for geospatial data relevant to doing machine learning with satellite data.\n",
    "\n",
    "- toc: true \n",
    "- badges: true\n",
    "- author: Alex Mandel\n",
    "- comments: false\n",
    "- categories: [python, background]\n",
    "- image: images/chart-preview.png"
   ]
  },
  {
   "cell_type": "markdown",
   "metadata": {},
   "source": [
    "The following material covers the basics of using spatial data in\n",
    "python. The main goal is to become familiar with the libraries used, and\n",
    "to try a few examples of operations with vector, and raster data,\n",
    "including some basic visualizations.\n",
    "\n",
    "The majority of lessons come from\n",
    "[AutoGIS](https://automating-gis-processes.github.io/site/index.html)"
   ]
  },
  {
   "cell_type": "markdown",
   "metadata": {},
   "source": [
    "## Vector Data\n",
    "\n",
    "-   How to load and save spatial data with [Geopandas](https://automating-gis-processes.github.io/site/notebooks/L2/geopandas-basics.html#Input-data:-Finnish-topographic-database)\n",
    "-   Data Manipulation ([Geopandas](https://automating-gis-processes.github.io/site/notebooks/L2/geopandas-basics.html))\n",
    "-   [Projections](https://automating-gis-processes.github.io/site/notebooks/L2/projections.html)\n",
    "-   Spatial Operations\n",
    "    -   [Intersects](https://automating-gis-processes.github.io/site/notebooks/L3/point-in-polygon.html#Point-in-Polygon-using-Geopandas)\n",
    "    -   Bounding Box (BBOX) *bounds*\n",
    "    -   [Derive Centroids](http://darribas.org/gds15/content/labs/lab_03.html#Spatial-manipulations)\n",
    "-   Filtering Data\n",
    "        -   Subsetting, to select records based on attributes use the techniques from Pandas\n",
    "        -   [Spatial Join](https://automating-gis-processes.github.io/site/notebooks/L3/spatial-join.html)\n",
    "        -   [Spatial Aggregation](https://automating-gis-processes.github.io/site/notebooks/L4/geometric-operations.html#Aggregating-data)\n",
    "\n",
    "### Making Maps\n",
    "\n",
    "-   [Static](https://automating-gis-processes.github.io/site/notebooks/L5/static_maps.html#),\n",
    "    more\n",
    "    [examples](https://jakevdp.github.io/PythonDataScienceHandbook/04.13-geographic-data-with-basemap.html)\n",
    "-   [Dynamic](https://automating-gis-processes.github.io/site/notebooks/L5/interactive-map-folium.html)\n",
    "\n",
    "### Optional Bonus Material\n",
    "\n",
    "-   Vector Input/Output(I/O) with\n",
    "    [Fiona](https://automating-gis-processes.github.io/site/notebooks/L2/data_io.html)\n",
    "-   Using [Spatial\n",
    "    Indexes](https://automating-gis-processes.github.io/site/notebooks/L3/spatial_index.html#)\n",
    "    for faster analysis"
   ]
  },
  {
   "cell_type": "markdown",
   "metadata": {},
   "source": [
    "## Raster\n",
    "\n",
    "-   How to load and save data\n",
    "\n",
    "    -   [Rasterio](https://automating-gis-processes.github.io/site/notebooks/Raster/reading-raster.html)\n",
    "        (Reading)\n",
    "    -   Rasterio (Writing)\n",
    "\n",
    "-   Numpy Arrays (Rasters)\n",
    "\n",
    "    -   [Clipping raster by AOI\n",
    "        ](https://automating-gis-processes.github.io/site/notebooks/Raster/clipping-raster.html)\n",
    "    -   [Band\n",
    "        Math](https://automating-gis-processes.github.io/site/notebooks/Raster/raster-map-algebra.html)\n",
    "        (aka Map Algebra)\n",
    "    -   Sampling data from raster with a vector\n",
    "\n",
    "### Making Maps\n",
    "\n",
    "-   [Static](https://automating-gis-processes.github.io/site/notebooks/Raster/plotting-raster.html)\n",
    "-   Dynamic with Vector Data"
   ]
  },
  {
   "cell_type": "markdown",
   "metadata": {},
   "source": [
    "## Additional References\n",
    "\n",
    "-   [Geopandas](https://geopandas.org/index.html) for vector geometry\n",
    "     and attribute handling\n",
    "\n",
    "-   [Shapely](https://shapely.readthedocs.io/en/latest/manual.html)\n",
    "     for vector geometry operations that Geopandas doesn’t do\n"
   ]
  }
 ],
 "metadata": {
  "language_info": {
   "codemirror_mode": {
    "name": "ipython",
    "version": 3
   },
   "file_extension": ".py",
   "mimetype": "text/x-python",
   "name": "python",
   "nbconvert_exporter": "python",
   "pygments_lexer": "ipython3",
   "version": 3
  },
  "orig_nbformat": 2
 },
 "nbformat": 4,
 "nbformat_minor": 2
}