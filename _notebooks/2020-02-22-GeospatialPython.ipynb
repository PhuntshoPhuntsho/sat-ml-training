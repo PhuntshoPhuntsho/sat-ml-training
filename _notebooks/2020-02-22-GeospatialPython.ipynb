{
 "cells": [
  {
   "cell_type": "markdown",
   "metadata": {},
   "source": [
    "# Geospatial Python\n",
    "> An overview of python methods for geospatial data relevant to doing machine learning with satellite data.\n",
    "\n",
    "- toc: true \n",
    "- badges: true\n",
    "- author: Alex Mandel\n",
    "- comments: false\n",
    "- categories: [python, background]\n",
    "- image: images/chart-preview.png"
   ]
  },
  {
   "cell_type": "markdown",
   "metadata": {},
   "source": [
    "The following material covers the basics of using spatial data in\n",
    "python. The main goal is to become familiar with the libraries used, and\n",
    "to try a few examples of operations with vector, and raster data,\n",
    "including some basic visualizations."
   ]
  },
  {
   "cell_type": "markdown",
   "metadata": {},
   "source": [
    "## Vector Data\n",
    "\n",
    "> Note: A GeoDataFrame is a pandas DataFrame with geometries (GeoSeries)\n",
    "\n",
    "- How to load and save spatial data with [Geopandas](https://automating-gis-processes.github.io/site/notebooks/L2/geopandas-basics.html#Input-data:-Finnish-topographic-database)\n",
    "- General Data Manipulation ([Geopandas](https://automating-gis-processes.github.io/site/notebooks/L2/geopandas-basics.html))\n",
    "- Subsetting by Attributes, to select records based on attributes use the techniques from [Pandas](https://geopandas.org/indexing.html)\n",
    "- [Projections](https://automating-gis-processes.github.io/site/notebooks/L2/projections.html)\n",
    "- [Intersects](https://automating-gis-processes.github.io/site/notebooks/L3/point-in-polygon.html#Point-in-Polygon-using-Geopandas)\n",
    "lab_03.html#Spatial-manipulations)\n",
    "- [Spatial Join](https://automating-gis-processes.github.io/site/notebooks/L3/spatial-join.html)\n",
    "- [Spatial Aggregation](https://automating-gis-processes.github.io/site/notebooks/L4/geometric-operations.html#Aggregating-data)\n",
    "- [Derive Centroids](http://darribas.org/gds15/content/labs/\n",
    "- [Bounding Box](https://geopandas.org/reference.html)\n",
    "    - For each row in a GeoDataFrame `GeoSeries.bounds` if you want to extract the coordinates.\n",
    "    - For each row in a GeoDataFrame if you want another geodataframe you can do spatial operations with `GeoSeries.envelope`\n",
    "    - For a whole GeoDataFrame `GeoSeries.total_bounds`"
   ]
  },
  {
   "cell_type": "code",
   "execution_count": 4,
   "metadata": {
    "tags": []
   },
   "outputs": [
    {
     "output_type": "stream",
     "name": "stdout",
     "text": "scalerank  labelrank            sovereignt sov_a3  adm0_dif  level  \\\n0          1          3           Afghanistan    AFG         0      2   \n1          1          3                Angola    AGO         0      2   \n2          1          6               Albania    ALB         0      2   \n3          1          4  United Arab Emirates    ARE         0      2   \n4          1          2             Argentina    ARG         0      2   \n\n                type                 admin adm0_a3  geou_dif  ... region_un  \\\n0  Sovereign country           Afghanistan     AFG         0  ...      Asia   \n1  Sovereign country                Angola     AGO         0  ...    Africa   \n2  Sovereign country               Albania     ALB         0  ...    Europe   \n3  Sovereign country  United Arab Emirates     ARE         0  ...      Asia   \n4  Sovereign country             Argentina     ARG         0  ...  Americas   \n\n         subregion                   region_wb name_len long_len  abbrev_len  \\\n0    Southern Asia                  South Asia       11       11           4   \n1    Middle Africa          Sub-Saharan Africa        6        6           4   \n2  Southern Europe       Europe & Central Asia        7        7           4   \n3     Western Asia  Middle East & North Africa       20       20           6   \n4    South America   Latin America & Caribbean        9        9           4   \n\n  tiny homepart     featureclass  \\\n0  -99        1  Admin-0 country   \n1  -99        1  Admin-0 country   \n2  -99        1  Admin-0 country   \n3  -99        1  Admin-0 country   \n4  -99        1  Admin-0 country   \n\n                                            geometry  \n0  POLYGON ((61.21082 35.65007, 62.23065 35.27066...  \n1  MULTIPOLYGON (((16.32653 -5.87747, 16.57318 -6...  \n2  POLYGON ((20.59025 41.85540, 20.46318 41.51509...  \n3  POLYGON ((51.57952 24.24550, 51.75744 24.29407...  \n4  MULTIPOLYGON (((-65.50000 -55.20000, -66.45000...  \n\n[5 rows x 64 columns]\n"
    }
   ],
   "source": [
    "import geopandas\n",
    "\n",
    "url = \"https://d2ad6b4ur7yvpq.cloudfront.net/naturalearth-3.3.0/ne_110m_admin_0_countries.geojson\"\n",
    "countries_gdf = geopandas.read_file(url)\n",
    "print(countries_gdf.head())"
   ]
  },
  {
   "cell_type": "code",
   "execution_count": 5,
   "metadata": {
    "tags": []
   },
   "outputs": [
    {
     "output_type": "stream",
     "name": "stdout",
     "text": "[-180.       -90.       180.        83.64513]\n"
    }
   ],
   "source": [
    "countries_gdf.total_bounds"
   ]
  },
  {
   "cell_type": "code",
   "execution_count": 6,
   "metadata": {
    "tags": []
   },
   "outputs": [
    {
     "output_type": "stream",
     "name": "stdout",
     "text": "minx       miny       maxx       maxy\n0  60.528430  29.318572  75.158028  38.486282\n1  11.640096 -17.930636  24.079905  -4.438023\n2  19.304486  39.624998  21.020040  42.688247\n3  51.579519  22.496948  56.396847  26.055464\n4 -73.415436 -55.250000 -53.628349 -21.832310\n"
    }
   ],
   "source": [
    "countries_gdf.head().bounds"
   ]
  },
  {
   "cell_type": "code",
   "execution_count": 7,
   "metadata": {},
   "outputs": [
    {
     "output_type": "execute_result",
     "data": {
      "text/plain": "0    POLYGON ((60.52843 29.31857, 75.15803 29.31857...\n1    POLYGON ((11.64010 -17.93064, 24.07991 -17.930...\n2    POLYGON ((19.30449 39.62500, 21.02004 39.62500...\n3    POLYGON ((51.57952 22.49695, 56.39685 22.49695...\n4    POLYGON ((-73.41544 -55.25000, -53.62835 -55.2...\ndtype: geometry"
     },
     "metadata": {},
     "execution_count": 7
    }
   ],
   "source": [
    "countries_gdf.head().envelope"
   ]
  },
  {
   "cell_type": "markdown",
   "metadata": {},
   "source": [
    "### Making Maps\n",
    "\n",
    "-   [Static](https://automating-gis-processes.github.io/site/notebooks/L5/static_maps.html#),\n",
    "    more\n",
    "    [examples](https://jakevdp.github.io/PythonDataScienceHandbook/04.13-geographic-data-with-basemap.html)\n",
    "-   [Dynamic] maps using Folium (https://automating-gis-processes.github.io/site/notebooks/L5/interactive-map-folium.html)\n",
    "\n",
    "### Optional Bonus Material\n",
    "\n",
    "-   Advanced Vector Input/Output(I/O) with\n",
    "    [Fiona](https://automating-gis-processes.github.io/site/notebooks/L2/data_io.html)\n",
    "-   Using [Spatial\n",
    "    Indexes](https://automating-gis-processes.github.io/site/notebooks/L3/spatial_index.html#)\n",
    "    for faster spatial operations"
   ]
  },
  {
   "cell_type": "markdown",
   "metadata": {},
   "source": [
    "## Raster\n",
    "\n",
    "-   How to load and save data\n",
    "\n",
    "    -   [Rasterio (Reading)](https://automating-gis-processes.github.io/site/notebooks/Raster/reading-raster.html)\n",
    "    -   [Rasterio (Writing)](https://rasterio.readthedocs.io/en/latest/quickstart.html#saving-raster-data). The recommended default writing Profile is a Cloud Optimized Geotiff, as shown with the [rio-cogeo](https://github.com/cogeotiff/rio-cogeo#api) library.\n",
    "\n",
    "-   Numpy Arrays (Rasters)\n",
    "\n",
    "    -   [Clipping raster by AOI\n",
    "        ](https://automating-gis-processes.github.io/site/notebooks/Raster/clipping-raster.html)\n",
    "    -   [Band\n",
    "        Math](https://automating-gis-processes.github.io/site/notebooks/Raster/raster-map-algebra.html)\n",
    "        (aka Map Algebra)\n",
    "    -   [Sampling data (extract)](https://www.earthdatascience.org/courses/use-data-open-source-python/spatial-data-applications/lidar-remote-sensing-uncertainty/extract-data-from-raster/) from raster with a vector\n",
    "\n",
    "### Making Maps\n",
    "\n",
    "-   [Static](https://automating-gis-processes.github.io/site/notebooks/Raster/plotting-raster.html)\n",
    "-   [Dynamic](https://www.earthdatascience.org/courses/scientists-guide-to-plotting-data-in-python/plot-spatial-data/customize-raster-plots/overlay-raster-maps/) with Vector and Raster Data in Folium"
   ]
  },
  {
   "cell_type": "markdown",
   "metadata": {},
   "source": [
    "## Additional References\n",
    "\n",
    "The majority of lessons come from\n",
    "- [AutoGIS](https://automating-gis-processes.github.io/site/index.html)\n",
    "- [EarthLab](https://www.earthdatascience.org)\n",
    "\n",
    "Each Library has it's own great documentation\n",
    "- [Geopandas](https://geopandas.org/index.html) for vector geometry and attribute handling\n",
    "- [Shapely](https://shapely.readthedocs.io/en/latest/manual.html) for vector geometry operations that Geopandas doesn’t do. Geopandas actually imports Shapely for most operations.\n",
    "- [Rasterio](https://rasterio.readthedocs.io/en/latest/)\n",
    "- [rio-cogeo](https://github.com/cogeotiff/rio-cogeo)\n",
    "- [folium](https://python-visualization.github.io/folium/)\n"
   ]
  }
 ],
 "metadata": {
  "language_info": {
   "codemirror_mode": {
    "name": "ipython",
    "version": 3
   },
   "file_extension": ".py",
   "mimetype": "text/x-python",
   "name": "python",
   "nbconvert_exporter": "python",
   "pygments_lexer": "ipython3",
   "version": "3.8.3-final"
  },
  "orig_nbformat": 2,
  "kernelspec": {
   "name": "python_defaultSpec_1598413583996",
   "display_name": "Python 3.8.3 64-bit ('geo': conda)"
  }
 },
 "nbformat": 4,
 "nbformat_minor": 2
}