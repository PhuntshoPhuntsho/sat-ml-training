{
 "cells": [
  {
   "cell_type": "markdown",
   "metadata": {},
   "source": [
    "# Machine learning (ML)\n",
    "> A selection of background material and resources for Machine Learning.\n",
    "\n",
    "- toc: true \n",
    "- badges: true\n",
    "- author: Zhuang-Fang Yi, Alex Mandel\n",
    "- comments: false\n",
    "- categories: [python, background]\n",
    "- image: images/chart-preview.png"
   ]
  },
  {
   "cell_type": "markdown",
   "metadata": {},
   "source": [
    "\n",
    "\n",
    "## 1.2.1 Classic Machine Learning (ML)\n",
    "\n",
    "### RandomForest\n",
    "\n",
    "-   Decision tree and RandomForest classifier\n",
    "    [in-depth](https://jakevdp.github.io/PythonDataScienceHandbook/05.08-random-forests.html)\n",
    "    or [w/\n",
    "    sciki-learn](https://scikit-learn.org/stable/modules/generated/sklearn.ensemble.RandomForestClassifier.html)\n",
    "-   RandomForest classifier in LULC case ([DS\n",
    "    example](https://github.com/developmentseed/servir-training-notebooks/blob/master/crop_type_mapping/notebooks/randomforest.ipynb))\n",
    "\n",
    "    -   Best practice of train, validation and test split;\n",
    "\n",
    "    -   Dealing with class imbalance\n",
    "\n",
    "    -   Optimize estimators and leaves setting\n",
    "\n",
    "    -   Model parallel training and prediction\n",
    "\n",
    "    -   Model evaluation;\n",
    "\n",
    "### LightGBM\n",
    "\n",
    "-   [LightGBM](https://lightgbm.readthedocs.io/en/latest/)\n",
    "\n",
    "    -   Gradient boost;\n",
    "\n",
    "-   LightGBM in crop type mapping case ([DS\n",
    "    example](https://github.com/developmentseed/servir-training-notebooks/blob/master/crop_type_mapping/notebooks/LightGBM.ipynb)\n",
    "    and SentinelHub [eo-learn\n",
    "    example](https://github.com/sentinel-hub/eo-learn/blob/master/examples/land-cover-map/SI_LULC_pipeline.ipynb))\n",
    "\n",
    "    -   Best practice of train, validation and test split;\n",
    "\n",
    "    -   Dealing with class imbalance\n",
    "\n",
    "    -   Hyperparameter tuning\n",
    "\n",
    "    -   Model parallel training and prediction with CPU and GPU\n",
    "\n",
    "    -   Model evaluation;\n"
   ]
  },
  {
   "cell_type": "markdown",
   "metadata": {},
   "source": [
    "## 1.2.2 Deep learning\n",
    "\n",
    "### TF dynamic UNet\n",
    "\n",
    "-   Image classification, object detection\n",
    "-   Semantic Segment and dynamic UNet\n",
    "-   Dynamic UNet in LULC case ([DS\n",
    "    example](https://github.com/developmentseed/servir-training-notebooks/blob/master/lulc/LULC_fastai.ipynb))\n",
    "\n",
    "### TensorFlow FCN\n",
    "\n",
    "-   Tensorflow\n",
    "-   Tensorflow FCN\n",
    "-   Tensorflow FCN in LULC"
   ]
  },
  {
   "cell_type": "markdown",
   "metadata": {},
   "source": [
    "## References:\n",
    "\n",
    "-   [Introduction to Statistical Learning](https://faculty.marshall.usc.edu/gareth-james/ISL/) book and [examples written in python notebooks](https://github.com/tdpetrou/Machine-Learning-Books-With-Python/tree/master/Introduction%20to%20Statistical%20Learning)\n",
    "-   Additional Examples from [Python for Data Science](https://jakevdp.github.io/PythonDataScienceHandbook/index.html#5.-Machine-Learning)"
   ]
  }
 ],
 "metadata": {
  "language_info": {
   "codemirror_mode": {
    "name": "ipython",
    "version": 3
   },
   "file_extension": ".py",
   "mimetype": "text/x-python",
   "name": "python",
   "nbconvert_exporter": "python",
   "pygments_lexer": "ipython3",
   "version": 3
  },
  "orig_nbformat": 2
 },
 "nbformat": 4,
 "nbformat_minor": 2
}