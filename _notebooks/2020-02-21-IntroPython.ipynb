{
 "cells": [
  {
   "cell_type": "markdown",
   "metadata": {},
   "source": [
    "# Intro to Python\n",
    "> A selection of background material and resources for Python.\n",
    "\n",
    "- toc: true \n",
    "- badges: true\n",
    "- author: Alex Mandel\n",
    "- comments: false\n",
    "- categories: [python, background]\n",
    "- image: images/chart-preview.png"
   ]
  },
  {
   "cell_type": "markdown",
   "metadata": {},
   "source": [
    "## General python\n",
    "\n",
    "In this section we review the fundamentals of using the Python programming language with a focus on being able to use python for geospatial data science with machine learning. Based on the list of goals, and your prior experience select from the list of tutorials. Feel free to do as many as you like, and skim lightly if you are already familiar with the topics.\n",
    "\n",
    "For local practice you can install and user the [Python with Conda](https://docs.anaconda.com/anaconda/user-guide/getting-started/), we recommend coding in a Jupyter Notebook which is similar to the Google Colab online editor that will be used in the other tutorials on this site.\n",
    "\n",
    "### Goals\n",
    "\n",
    "-   Data types\n",
    "\n",
    "    -   Basic Types: Integers (Whole numbers), Floats (Numbers with\n",
    "        decimals), Strings\n",
    "    -   Constructed Types: Lists, Dictionaries\n",
    "\n",
    "        >   Note: Dictionaries and the JSON file format are very\n",
    "                similar in how they structure data.\n",
    "\n",
    "-   Looping (Program flow control)\n",
    "\n",
    "    -   Using looping to iterate over a set of items to repeat a\n",
    "        process\n",
    "\n",
    "        -   Example: Loop over a list of items\n",
    "\n",
    "        -   Example: Loop over list of files\n",
    "\n",
    "-   Calling functions\n",
    "\n",
    "    -   Importing libraries (aka modules, packages)\n",
    "    -   How to call a function\n",
    "    -   How to write a small function\n",
    "\n",
    "### Lessons\n",
    "\n",
    "Pick from the following lessons. We recommend at least 1, and if you choose to watch the videos then we suggest you also do some of the Interactive coding examples from the other options. Trying some code is one of the best ways to learn.\n",
    "\n",
    "1.  An introduction or refresher for Python 3\\\n",
    "    Online Videos from\n",
    "    [Udemy](https://www.udemy.com/course/pythonforbeginnersintro/)\\\n",
    "2.  Interactive lessons with examples and quizzes from\n",
    "    [CodeAcademy](https://www.codecademy.com/learn/learn-python-3)\n",
    "    All lessons except \\#10 on Classes (optional)\n",
    "3.  [Demonstration Notebooks](https://github.com/jakevdp/WhirlwindTourOfPython) that  Accompany the Whirlwind Tour Of Python Book (Available for free). Lessons 1-9, everything else is optional.\n",
    "\n",
    "### Additional References\n",
    "\n",
    "-   Python Documentation\n",
    "     [https://docs.python.org/3/tutorial/index.html](https://docs.python.org/3/tutorial/index.html)\n",
    "\n",
    "-   More tutorials\n",
    "     [https://docs.python-guide.org/intro/learning/](https://docs.python-guide.org/intro/learning/)"
   ]
  },
  {
   "cell_type": "markdown",
   "metadata": {},
   "source": [
    "## Python for Data Science\n",
    "\n",
    "In this section we specifically review Python for Data Science, focusing on the main data structures used to manipulate data, numpy arrays and pandas dataframes.\n",
    "\n",
    "### Numpy Arrays\n",
    "\n",
    "> Important: Understanding multidimensional data arrays as a data structure.\n",
    "\n",
    "> Note: Numpy array data must all be of the same type (e.g. Integer, Float, etc…)\n",
    "\n",
    "#### Lessons:\n",
    "\n",
    "-   [Introduction to NumPy](https://jakevdp.github.io/PythonDataScienceHandbook/02.00-introduction-to-numpy.html)\n",
    "\n",
    "-   [Understanding Data Types in Python](https://jakevdp.github.io/PythonDataScienceHandbook/02.01-understanding-data-types.html)\n",
    "\n",
    "-   [The Basics of NumPy Arrays](https://jakevdp.github.io/PythonDataScienceHandbook/02.02-the-basics-of-numpy-arrays.html)\n",
    "\n",
    "-   [Computation on NumPy Arrays: Universal Functions](https://jakevdp.github.io/PythonDataScienceHandbook/02.03-computation-on-arrays-ufuncs.html)\n",
    "\n",
    "-   [Aggregations: Min, Max, and Everything In Between](https://jakevdp.github.io/PythonDataScienceHandbook/02.04-computation-on-arrays-aggregates.html)\n",
    "\n",
    "### Pandas DataFrames\n",
    "\n",
    "> Important: Understanding data frames as a table (sheet), with data\n",
    "records as rows, and data attributes as columns. Each column\n",
    "can be a different data type.\n",
    "\n",
    "#### Lessons:\n",
    "\n",
    "-  [Introduction](https://pandas.pydata.org/docs/getting_started/intro_tutorials/01_table_oriented.html)\n",
    "\n",
    "-  Importing and exporting\n",
    "     [CSV](https://pythonbasics.org/read-csv-with-pandas/) and\n",
    "     [JSON](https://pythonbasics.org/pandas-json/) data sources\n",
    "\n",
    "-  [Summarizing (aggregating)\n",
    "     data](https://jakevdp.github.io/PythonDataScienceHandbook/03.08-aggregation-and-grouping.html)\n",
    "\n",
    "-  [Selecting relevant data records](https://jakevdp.github.io/PythonDataScienceHandbook/03.02-data-indexing-and-selection.html#Data-Selection-in-DataFrame)\n",
    "\n",
    "- [All in one](https://datacarpentry.org/python-ecology-lesson/02-starting-with-data/index.html)\n",
    "\n",
    "-   (Optional) [Further Reading and Materials](https://jakevdp.github.io/PythonDataScienceHandbook/03.01-introducing-pandas-objects.html)\n",
    "\n",
    "### References\n",
    "\n",
    "- Primary Source \n",
    "[PythonDataScienceHandbook](https://jakevdp.github.io/PythonDataScienceHandbook/index.html)\n",
    "- Secondary Source\n",
    "[Datacarpentry python-ecology-lesson](https://datacarpentry.org/python-ecology-lesson/)"
   ]
  },
  {
   "cell_type": "markdown",
   "metadata": {},
   "source": [
    "## Plotting\n",
    "\n",
    "> Important: Being able to visualize selections of data in a variety of standard plot types. Histogram, Bar, Line, Scatter Plot (XY)\n",
    "\n",
    "- [Visualization with Matplotlib](https://jakevdp.github.io/PythonDataScienceHandbook/04.00-introduction-to-matplotlib.html)\n",
    "\n",
    "-   [Simple Line Plots](https://jakevdp.github.io/PythonDataScienceHandbook/04.01-simple-line-plots.html)\n",
    "\n",
    "-   [Scatter Plots](https://jakevdp.github.io/PythonDataScienceHandbook/04.02-simple-scatter-plots.html)\n",
    "\n",
    "-   [Density and Contour Plots](https://jakevdp.github.io/PythonDataScienceHandbook/04.04-density-and-contour-plots.html)\n",
    "\n",
    "-   [Histograms, Binnings, and Density](https://jakevdp.github.io/PythonDataScienceHandbook/04.05-histograms-and-binnings.html)"
   ]
  }
 ],
 "metadata": {
  "kernelspec": {
   "display_name": "Python 3",
   "language": "python",
   "name": "python3"
  },
  "language_info": {
   "codemirror_mode": {
    "name": "ipython",
    "version": 3
   },
   "file_extension": ".py",
   "mimetype": "text/x-python",
   "name": "python",
   "nbconvert_exporter": "python",
   "pygments_lexer": "ipython3",
   "version": "3.7.6"
  },
  "varInspector": {
   "cols": {
    "lenName": 16,
    "lenType": 16,
    "lenVar": 40
   },
   "kernels_config": {
    "python": {
     "delete_cmd_postfix": "",
     "delete_cmd_prefix": "del ",
     "library": "var_list.py",
     "varRefreshCmd": "print(var_dic_list())"
    },
    "r": {
     "delete_cmd_postfix": ") ",
     "delete_cmd_prefix": "rm(",
     "library": "var_list.r",
     "varRefreshCmd": "cat(var_dic_list()) "
    }
   },
   "types_to_exclude": [
    "module",
    "function",
    "builtin_function_or_method",
    "instance",
    "_Feature"
   ],
   "window_display": false
  }
 },
 "nbformat": 4,
 "nbformat_minor": 4
}