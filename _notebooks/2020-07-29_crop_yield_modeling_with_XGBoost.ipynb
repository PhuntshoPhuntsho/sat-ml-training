{
  "nbformat": 4,
  "nbformat_minor": 0,
  "metadata": {
    "colab": {
      "name": "Crop_yield_modeling_with_XGBoost.ipynb",
      "provenance": [],
      "collapsed_sections": [],
      "toc_visible": true
    },
    "kernelspec": {
      "name": "python3",
      "display_name": "Python 3"
    }
  },
  "cells": [
    {
      "cell_type": "markdown",
      "metadata": {
        "id": "GQd7ELsRWkBI"
      },
      "source": [
        "# Crop yield modeling at district level\n",
        "\n",
        "Using RandomForest Classifier and XGBoost for crop yield modeling in Nepal\n",
        "\n",
        "- toc: true\n",
        "- badges: true\n",
        "- author: Zhuang-Fang Yi\n",
        "- comments: false\n",
        "- hide: false\n",
        "- stick_rank: 8"
      ]
    },
    {
      "cell_type": "markdown",
      "metadata": {
        "id": "yBtvtAIjW8He"
      },
      "source": [
        "\n",
        "This notebook teaches you how to read satellite imagery (Sentinal-2) from **Google Earth Engine** together with other data, e.g. [WorldClim](https://worldclim.org), and aggregate them for crop yield modeling in four districts of Nepal with a RandomForest Regression and XGBoost. \n",
        "\n",
        "Nepal data courtesy of [ICIMOD](https://www.icimod.org/).\n",
        "\n",
        "\n"
      ]
    },
    {
      "cell_type": "markdown",
      "metadata": {
        "id": "3B0OBNfA9yZJ"
      },
      "source": [
        "## Setup the Notebook"
      ]
    },
    {
      "cell_type": "code",
      "metadata": {
        "id": "M9_3B25LWo5P"
      },
      "source": [
        "!pip install -q geopandas shapely scikit-learn treeinterpreter rasterio rasterstats folium "
      ],
      "execution_count": null,
      "outputs": []
    },
    {
      "cell_type": "code",
      "metadata": {
        "id": "tdD3j-TRWvA8"
      },
      "source": [
        "%matplotlib inline\n",
        "import os \n",
        "from os import makedirs, path as op\n",
        "import matplotlib\n",
        "import numpy as np\n",
        "import rasterio\n",
        "import geopandas as gpd\n",
        "import pandas as pd\n",
        "import shapely\n",
        "import folium\n",
        "import json\n",
        "import time\n",
        "\n",
        "from sklearn import preprocessing\n",
        "import xgboost as xgb\n",
        "from sklearn.metrics import mean_squared_error\n",
        "from sklearn.model_selection import GridSearchCV \n",
        "from sklearn.model_selection import train_test_split"
      ],
      "execution_count": 2,
      "outputs": []
    },
    {
      "cell_type": "code",
      "metadata": {
        "id": "K5MdWViiC4K2"
      },
      "source": [
        "# If not on Colab you'll need install the earth-engine Python API\n",
        "#!pip install earthengine-api #earth-engine Python API\n",
        "\n",
        "import ee "
      ],
      "execution_count": null,
      "outputs": []
    },
    {
      "cell_type": "code",
      "metadata": {
        "id": "vvja1P5_XRve",
        "outputId": "36e7fb1e-d1b0-470d-ae51-5007992c0116",
        "colab": {
          "base_uri": "https://localhost:8080/"
        }
      },
      "source": [
        "from google.colab import drive\n",
        "drive.mount('/content/drive/', force_remount=True)\n",
        "# your root directory for outputs is set to your google drive\n",
        "# you should create a sub-folder called data under your 'Colab Notebooks'.\n",
        "# An example is in https://developmentseed.org/sat-ml-training/GettingStarted#Explore-your-drive\n",
        "my_root_dir = \"/content/drive/My Drive/Colab Notebooks/data\"\n",
        "crop_data = '/content/drive/Shared drives/servir-sat-ml/data/crop_yield/'\n",
        "# crop_data = '/content/drive/My Drive/SERVIR-HKH-crop-yield/crop_yield'"
      ],
      "execution_count": 3,
      "outputs": [
        {
          "output_type": "stream",
          "text": [
            "Mounted at /content/drive/\n"
          ],
          "name": "stdout"
        }
      ]
    },
    {
      "cell_type": "markdown",
      "metadata": {
        "id": "fAcySJD4XgOw"
      },
      "source": [
        "## Wheat yield data in 2018 in Nepal\n",
        "\n",
        "The following dataset contain 145 field measurement of wheat yield data. "
      ]
    },
    {
      "cell_type": "code",
      "metadata": {
        "id": "wLuTaOaGXcyE",
        "outputId": "a501c8e3-8d47-4845-c730-d8ca56f644eb",
        "colab": {
          "base_uri": "https://localhost:8080/",
          "height": 450
        }
      },
      "source": [
        "# reading collected wheat productivity data from excel.\n",
        "wheat_2018 = pd.read_excel(op.join(crop_data, 'Wheat yield_Field_Demonstrartion_sites_2018.xlsx'))\n",
        "wheat_2018.head()"
      ],
      "execution_count": 4,
      "outputs": [
        {
          "output_type": "execute_result",
          "data": {
            "text/html": [
              "<div>\n",
              "<style scoped>\n",
              "    .dataframe tbody tr th:only-of-type {\n",
              "        vertical-align: middle;\n",
              "    }\n",
              "\n",
              "    .dataframe tbody tr th {\n",
              "        vertical-align: top;\n",
              "    }\n",
              "\n",
              "    .dataframe thead th {\n",
              "        text-align: right;\n",
              "    }\n",
              "</style>\n",
              "<table border=\"1\" class=\"dataframe\">\n",
              "  <thead>\n",
              "    <tr style=\"text-align: right;\">\n",
              "      <th></th>\n",
              "      <th>Unnamed: 0</th>\n",
              "      <th>Lat</th>\n",
              "      <th>Long</th>\n",
              "      <th>District</th>\n",
              "      <th>VDC</th>\n",
              "      <th>Farmer</th>\n",
              "      <th>Treat</th>\n",
              "      <th>Grainwt</th>\n",
              "      <th>straw wt.</th>\n",
              "      <th>grain moisture %, from moisture meter</th>\n",
              "      <th>wheat variety</th>\n",
              "      <th>1000 Grain wt before oven dry + envelop</th>\n",
              "      <th>1000 Grain wt after oven dry + envelop</th>\n",
              "      <th>Envelop wt.</th>\n",
              "      <th>straw wt before overn dry +envelop</th>\n",
              "      <th>straw wt. after overn dry + envelop</th>\n",
              "      <th>Unnamed: 16</th>\n",
              "      <th>PH</th>\n",
              "      <th>OM</th>\n",
              "    </tr>\n",
              "  </thead>\n",
              "  <tbody>\n",
              "    <tr>\n",
              "      <th>0</th>\n",
              "      <td>1</td>\n",
              "      <td>28.980</td>\n",
              "      <td>80.193</td>\n",
              "      <td>Kanchanpur</td>\n",
              "      <td>Suda/BDM</td>\n",
              "      <td>Ram Bahadur Chaudhary</td>\n",
              "      <td>D1</td>\n",
              "      <td>383</td>\n",
              "      <td>358.4</td>\n",
              "      <td>11.6</td>\n",
              "      <td>Banganga</td>\n",
              "      <td>57.09</td>\n",
              "      <td>53.92</td>\n",
              "      <td>NaN</td>\n",
              "      <td>NaN</td>\n",
              "      <td>NaN</td>\n",
              "      <td>NaN</td>\n",
              "      <td>7.817228</td>\n",
              "      <td>1.688501</td>\n",
              "    </tr>\n",
              "    <tr>\n",
              "      <th>1</th>\n",
              "      <td>2</td>\n",
              "      <td>28.980</td>\n",
              "      <td>80.193</td>\n",
              "      <td>Kanchanpur</td>\n",
              "      <td>Suda/BDM</td>\n",
              "      <td>Ram Bahadur Chaudhary</td>\n",
              "      <td>D2</td>\n",
              "      <td>375</td>\n",
              "      <td>329.0</td>\n",
              "      <td>11.6</td>\n",
              "      <td>Tilganga</td>\n",
              "      <td>53.53</td>\n",
              "      <td>50.62</td>\n",
              "      <td>NaN</td>\n",
              "      <td>NaN</td>\n",
              "      <td>NaN</td>\n",
              "      <td>NaN</td>\n",
              "      <td>7.817228</td>\n",
              "      <td>1.688501</td>\n",
              "    </tr>\n",
              "    <tr>\n",
              "      <th>2</th>\n",
              "      <td>3</td>\n",
              "      <td>28.980</td>\n",
              "      <td>80.193</td>\n",
              "      <td>Kanchanpur</td>\n",
              "      <td>Suda/BDM</td>\n",
              "      <td>Ram Bahadur Chaudhary</td>\n",
              "      <td>D3</td>\n",
              "      <td>173</td>\n",
              "      <td>249.0</td>\n",
              "      <td>11.6</td>\n",
              "      <td>NHS 1755</td>\n",
              "      <td>43.20</td>\n",
              "      <td>40.44</td>\n",
              "      <td>NaN</td>\n",
              "      <td>NaN</td>\n",
              "      <td>NaN</td>\n",
              "      <td>NaN</td>\n",
              "      <td>7.817228</td>\n",
              "      <td>1.688501</td>\n",
              "    </tr>\n",
              "    <tr>\n",
              "      <th>3</th>\n",
              "      <td>4</td>\n",
              "      <td>28.986</td>\n",
              "      <td>80.188</td>\n",
              "      <td>Kanchanpur</td>\n",
              "      <td>Suda/BDM</td>\n",
              "      <td>Jhelu ram chaudhary</td>\n",
              "      <td>D1</td>\n",
              "      <td>502</td>\n",
              "      <td>540.0</td>\n",
              "      <td>10.8</td>\n",
              "      <td>NL 971</td>\n",
              "      <td>48.94</td>\n",
              "      <td>46.32</td>\n",
              "      <td>NaN</td>\n",
              "      <td>NaN</td>\n",
              "      <td>NaN</td>\n",
              "      <td>NaN</td>\n",
              "      <td>7.725938</td>\n",
              "      <td>1.644356</td>\n",
              "    </tr>\n",
              "    <tr>\n",
              "      <th>4</th>\n",
              "      <td>5</td>\n",
              "      <td>28.986</td>\n",
              "      <td>80.188</td>\n",
              "      <td>Kanchanpur</td>\n",
              "      <td>Suda/BDM</td>\n",
              "      <td>Jhelu ram chaudhary</td>\n",
              "      <td>D2</td>\n",
              "      <td>310</td>\n",
              "      <td>275.0</td>\n",
              "      <td>11.7</td>\n",
              "      <td>Vijay</td>\n",
              "      <td>66.12</td>\n",
              "      <td>62.50</td>\n",
              "      <td>NaN</td>\n",
              "      <td>NaN</td>\n",
              "      <td>NaN</td>\n",
              "      <td>NaN</td>\n",
              "      <td>7.725938</td>\n",
              "      <td>1.644356</td>\n",
              "    </tr>\n",
              "  </tbody>\n",
              "</table>\n",
              "</div>"
            ],
            "text/plain": [
              "   Unnamed: 0     Lat    Long  ... Unnamed: 16        PH        OM\n",
              "0           1  28.980  80.193  ...         NaN  7.817228  1.688501\n",
              "1           2  28.980  80.193  ...         NaN  7.817228  1.688501\n",
              "2           3  28.980  80.193  ...         NaN  7.817228  1.688501\n",
              "3           4  28.986  80.188  ...         NaN  7.725938  1.644356\n",
              "4           5  28.986  80.188  ...         NaN  7.725938  1.644356\n",
              "\n",
              "[5 rows x 19 columns]"
            ]
          },
          "metadata": {
            "tags": []
          },
          "execution_count": 4
        }
      ]
    },
    {
      "cell_type": "code",
      "metadata": {
        "id": "uNHl90VWX0yr",
        "outputId": "c8fc2ab1-7852-4481-87e7-dc3cf16fdafd",
        "colab": {
          "base_uri": "https://localhost:8080/",
          "height": 195
        }
      },
      "source": [
        "# only keep the columns that interest us;\n",
        "wheat_2018 = wheat_2018[['Lat', 'Long', 'District','wheat variety', 'Treat', '1000 Grain wt after oven dry + envelop', 'PH', 'OM']]\n",
        "# rename the column names to be more readable\n",
        "wheat_2018 = wheat_2018.rename(columns={'wheat variety': 'wheat_variety', '1000 Grain wt after oven dry + envelop':'wheat_yield'})\n",
        "# turn the pandas dataframe into geopandas dataframe\n",
        "wheat_2018_pts = gpd.GeoDataFrame(wheat_2018, geometry=gpd.points_from_xy(wheat_2018.Long, wheat_2018.Lat))\n",
        "wheat_2018_pts.head()"
      ],
      "execution_count": null,
      "outputs": [
        {
          "output_type": "execute_result",
          "data": {
            "text/html": [
              "<div>\n",
              "<style scoped>\n",
              "    .dataframe tbody tr th:only-of-type {\n",
              "        vertical-align: middle;\n",
              "    }\n",
              "\n",
              "    .dataframe tbody tr th {\n",
              "        vertical-align: top;\n",
              "    }\n",
              "\n",
              "    .dataframe thead th {\n",
              "        text-align: right;\n",
              "    }\n",
              "</style>\n",
              "<table border=\"1\" class=\"dataframe\">\n",
              "  <thead>\n",
              "    <tr style=\"text-align: right;\">\n",
              "      <th></th>\n",
              "      <th>Lat</th>\n",
              "      <th>Long</th>\n",
              "      <th>District</th>\n",
              "      <th>wheat_variety</th>\n",
              "      <th>Treat</th>\n",
              "      <th>wheat_yield</th>\n",
              "      <th>PH</th>\n",
              "      <th>OM</th>\n",
              "      <th>geometry</th>\n",
              "    </tr>\n",
              "  </thead>\n",
              "  <tbody>\n",
              "    <tr>\n",
              "      <th>0</th>\n",
              "      <td>28.980</td>\n",
              "      <td>80.193</td>\n",
              "      <td>Kanchanpur</td>\n",
              "      <td>Banganga</td>\n",
              "      <td>D1</td>\n",
              "      <td>53.92</td>\n",
              "      <td>7.817228</td>\n",
              "      <td>1.688501</td>\n",
              "      <td>POINT (80.19300 28.98000)</td>\n",
              "    </tr>\n",
              "    <tr>\n",
              "      <th>1</th>\n",
              "      <td>28.980</td>\n",
              "      <td>80.193</td>\n",
              "      <td>Kanchanpur</td>\n",
              "      <td>Tilganga</td>\n",
              "      <td>D2</td>\n",
              "      <td>50.62</td>\n",
              "      <td>7.817228</td>\n",
              "      <td>1.688501</td>\n",
              "      <td>POINT (80.19300 28.98000)</td>\n",
              "    </tr>\n",
              "    <tr>\n",
              "      <th>2</th>\n",
              "      <td>28.980</td>\n",
              "      <td>80.193</td>\n",
              "      <td>Kanchanpur</td>\n",
              "      <td>NHS 1755</td>\n",
              "      <td>D3</td>\n",
              "      <td>40.44</td>\n",
              "      <td>7.817228</td>\n",
              "      <td>1.688501</td>\n",
              "      <td>POINT (80.19300 28.98000)</td>\n",
              "    </tr>\n",
              "    <tr>\n",
              "      <th>3</th>\n",
              "      <td>28.986</td>\n",
              "      <td>80.188</td>\n",
              "      <td>Kanchanpur</td>\n",
              "      <td>NL 971</td>\n",
              "      <td>D1</td>\n",
              "      <td>46.32</td>\n",
              "      <td>7.725938</td>\n",
              "      <td>1.644356</td>\n",
              "      <td>POINT (80.18800 28.98600)</td>\n",
              "    </tr>\n",
              "    <tr>\n",
              "      <th>4</th>\n",
              "      <td>28.986</td>\n",
              "      <td>80.188</td>\n",
              "      <td>Kanchanpur</td>\n",
              "      <td>Vijay</td>\n",
              "      <td>D2</td>\n",
              "      <td>62.50</td>\n",
              "      <td>7.725938</td>\n",
              "      <td>1.644356</td>\n",
              "      <td>POINT (80.18800 28.98600)</td>\n",
              "    </tr>\n",
              "  </tbody>\n",
              "</table>\n",
              "</div>"
            ],
            "text/plain": [
              "      Lat    Long    District  ...        PH        OM                   geometry\n",
              "0  28.980  80.193  Kanchanpur  ...  7.817228  1.688501  POINT (80.19300 28.98000)\n",
              "1  28.980  80.193  Kanchanpur  ...  7.817228  1.688501  POINT (80.19300 28.98000)\n",
              "2  28.980  80.193  Kanchanpur  ...  7.817228  1.688501  POINT (80.19300 28.98000)\n",
              "3  28.986  80.188  Kanchanpur  ...  7.725938  1.644356  POINT (80.18800 28.98600)\n",
              "4  28.986  80.188  Kanchanpur  ...  7.725938  1.644356  POINT (80.18800 28.98600)\n",
              "\n",
              "[5 rows x 9 columns]"
            ]
          },
          "metadata": {
            "tags": []
          },
          "execution_count": 6
        }
      ]
    },
    {
      "cell_type": "markdown",
      "metadata": {
        "id": "CFP3PoTzYIIq"
      },
      "source": [
        "### Basic stats of the wheat yield field measurements"
      ]
    },
    {
      "cell_type": "code",
      "metadata": {
        "id": "PkUSAvFTYOO5",
        "outputId": "e73178f0-6fda-4d6b-e767-81ee96da176c",
        "colab": {
          "base_uri": "https://localhost:8080/"
        }
      },
      "source": [
        "## the field measurements located in these few districts\n",
        "pd.Series(wheat_2018.District).unique()"
      ],
      "execution_count": null,
      "outputs": [
        {
          "output_type": "execute_result",
          "data": {
            "text/plain": [
              "array(['Kanchanpur', 'Kailali', 'Bardiya', 'Banke'], dtype=object)"
            ]
          },
          "metadata": {
            "tags": []
          },
          "execution_count": 7
        }
      ]
    },
    {
      "cell_type": "code",
      "metadata": {
        "id": "UHWTXl-AYYGC",
        "outputId": "7b6c520e-6c04-46d5-ec76-e270580d1ec1",
        "colab": {
          "base_uri": "https://localhost:8080/",
          "height": 431
        }
      },
      "source": [
        "# see wheat yield differences by the districts by wheat variety\n",
        "wheat_2018.groupby(by=['District', 'wheat_variety', 'wheat_yield']).mean()\n"
      ],
      "execution_count": null,
      "outputs": [
        {
          "output_type": "execute_result",
          "data": {
            "text/html": [
              "<div>\n",
              "<style scoped>\n",
              "    .dataframe tbody tr th:only-of-type {\n",
              "        vertical-align: middle;\n",
              "    }\n",
              "\n",
              "    .dataframe tbody tr th {\n",
              "        vertical-align: top;\n",
              "    }\n",
              "\n",
              "    .dataframe thead th {\n",
              "        text-align: right;\n",
              "    }\n",
              "</style>\n",
              "<table border=\"1\" class=\"dataframe\">\n",
              "  <thead>\n",
              "    <tr style=\"text-align: right;\">\n",
              "      <th></th>\n",
              "      <th></th>\n",
              "      <th></th>\n",
              "      <th>Lat</th>\n",
              "      <th>Long</th>\n",
              "      <th>PH</th>\n",
              "      <th>OM</th>\n",
              "    </tr>\n",
              "    <tr>\n",
              "      <th>District</th>\n",
              "      <th>wheat_variety</th>\n",
              "      <th>wheat_yield</th>\n",
              "      <th></th>\n",
              "      <th></th>\n",
              "      <th></th>\n",
              "      <th></th>\n",
              "    </tr>\n",
              "  </thead>\n",
              "  <tbody>\n",
              "    <tr>\n",
              "      <th rowspan=\"5\" valign=\"top\">Banke</th>\n",
              "      <th rowspan=\"3\" valign=\"top\">Banganga</th>\n",
              "      <th>47.052</th>\n",
              "      <td>28.014</td>\n",
              "      <td>81.648</td>\n",
              "      <td>6.726876</td>\n",
              "      <td>2.533213</td>\n",
              "    </tr>\n",
              "    <tr>\n",
              "      <th>51.527</th>\n",
              "      <td>28.112</td>\n",
              "      <td>81.519</td>\n",
              "      <td>7.147999</td>\n",
              "      <td>1.914062</td>\n",
              "    </tr>\n",
              "    <tr>\n",
              "      <th>56.441</th>\n",
              "      <td>28.103</td>\n",
              "      <td>81.532</td>\n",
              "      <td>7.236275</td>\n",
              "      <td>2.158890</td>\n",
              "    </tr>\n",
              "    <tr>\n",
              "      <th rowspan=\"2\" valign=\"top\">Indian Hybrid 2285</th>\n",
              "      <th>38.719</th>\n",
              "      <td>28.014</td>\n",
              "      <td>81.648</td>\n",
              "      <td>6.726876</td>\n",
              "      <td>2.533213</td>\n",
              "    </tr>\n",
              "    <tr>\n",
              "      <th>39.000</th>\n",
              "      <td>28.014</td>\n",
              "      <td>81.648</td>\n",
              "      <td>6.726876</td>\n",
              "      <td>2.533213</td>\n",
              "    </tr>\n",
              "    <tr>\n",
              "      <th>...</th>\n",
              "      <th>...</th>\n",
              "      <th>...</th>\n",
              "      <td>...</td>\n",
              "      <td>...</td>\n",
              "      <td>...</td>\n",
              "      <td>...</td>\n",
              "    </tr>\n",
              "    <tr>\n",
              "      <th rowspan=\"5\" valign=\"top\">Kanchanpur</th>\n",
              "      <th rowspan=\"5\" valign=\"top\">Vijay</th>\n",
              "      <th>48.820</th>\n",
              "      <td>28.725</td>\n",
              "      <td>80.392</td>\n",
              "      <td>7.276500</td>\n",
              "      <td>1.580601</td>\n",
              "    </tr>\n",
              "    <tr>\n",
              "      <th>49.040</th>\n",
              "      <td>28.725</td>\n",
              "      <td>80.393</td>\n",
              "      <td>7.276500</td>\n",
              "      <td>1.580601</td>\n",
              "    </tr>\n",
              "    <tr>\n",
              "      <th>51.500</th>\n",
              "      <td>28.762</td>\n",
              "      <td>80.384</td>\n",
              "      <td>7.545557</td>\n",
              "      <td>1.371276</td>\n",
              "    </tr>\n",
              "    <tr>\n",
              "      <th>57.340</th>\n",
              "      <td>28.986</td>\n",
              "      <td>80.188</td>\n",
              "      <td>7.725938</td>\n",
              "      <td>1.644356</td>\n",
              "    </tr>\n",
              "    <tr>\n",
              "      <th>62.500</th>\n",
              "      <td>28.986</td>\n",
              "      <td>80.188</td>\n",
              "      <td>7.725938</td>\n",
              "      <td>1.644356</td>\n",
              "    </tr>\n",
              "  </tbody>\n",
              "</table>\n",
              "<p>145 rows × 4 columns</p>\n",
              "</div>"
            ],
            "text/plain": [
              "                                              Lat    Long        PH        OM\n",
              "District   wheat_variety      wheat_yield                                    \n",
              "Banke      Banganga           47.052       28.014  81.648  6.726876  2.533213\n",
              "                              51.527       28.112  81.519  7.147999  1.914062\n",
              "                              56.441       28.103  81.532  7.236275  2.158890\n",
              "           Indian Hybrid 2285 38.719       28.014  81.648  6.726876  2.533213\n",
              "                              39.000       28.014  81.648  6.726876  2.533213\n",
              "...                                           ...     ...       ...       ...\n",
              "Kanchanpur Vijay              48.820       28.725  80.392  7.276500  1.580601\n",
              "                              49.040       28.725  80.393  7.276500  1.580601\n",
              "                              51.500       28.762  80.384  7.545557  1.371276\n",
              "                              57.340       28.986  80.188  7.725938  1.644356\n",
              "                              62.500       28.986  80.188  7.725938  1.644356\n",
              "\n",
              "[145 rows x 4 columns]"
            ]
          },
          "metadata": {
            "tags": []
          },
          "execution_count": 8
        }
      ]
    },
    {
      "cell_type": "code",
      "metadata": {
        "id": "rdEEfvBfYiup",
        "outputId": "76f919c0-0639-4b6b-a485-104b63f03f29",
        "colab": {
          "base_uri": "https://localhost:8080/",
          "height": 431
        }
      },
      "source": [
        "# see wheat yield differences by the districs by wheat treatment\n",
        "wheat_2018.groupby(by=['District', 'Treat', 'wheat_yield']).mean()"
      ],
      "execution_count": null,
      "outputs": [
        {
          "output_type": "execute_result",
          "data": {
            "text/html": [
              "<div>\n",
              "<style scoped>\n",
              "    .dataframe tbody tr th:only-of-type {\n",
              "        vertical-align: middle;\n",
              "    }\n",
              "\n",
              "    .dataframe tbody tr th {\n",
              "        vertical-align: top;\n",
              "    }\n",
              "\n",
              "    .dataframe thead th {\n",
              "        text-align: right;\n",
              "    }\n",
              "</style>\n",
              "<table border=\"1\" class=\"dataframe\">\n",
              "  <thead>\n",
              "    <tr style=\"text-align: right;\">\n",
              "      <th></th>\n",
              "      <th></th>\n",
              "      <th></th>\n",
              "      <th>Lat</th>\n",
              "      <th>Long</th>\n",
              "      <th>PH</th>\n",
              "      <th>OM</th>\n",
              "    </tr>\n",
              "    <tr>\n",
              "      <th>District</th>\n",
              "      <th>Treat</th>\n",
              "      <th>wheat_yield</th>\n",
              "      <th></th>\n",
              "      <th></th>\n",
              "      <th></th>\n",
              "      <th></th>\n",
              "    </tr>\n",
              "  </thead>\n",
              "  <tbody>\n",
              "    <tr>\n",
              "      <th rowspan=\"5\" valign=\"top\">Banke</th>\n",
              "      <th rowspan=\"5\" valign=\"top\">D1</th>\n",
              "      <th>47.052</th>\n",
              "      <td>28.014</td>\n",
              "      <td>81.648</td>\n",
              "      <td>6.726876</td>\n",
              "      <td>2.533213</td>\n",
              "    </tr>\n",
              "    <tr>\n",
              "      <th>49.360</th>\n",
              "      <td>28.116</td>\n",
              "      <td>81.509</td>\n",
              "      <td>7.258894</td>\n",
              "      <td>1.992826</td>\n",
              "    </tr>\n",
              "    <tr>\n",
              "      <th>51.527</th>\n",
              "      <td>28.112</td>\n",
              "      <td>81.519</td>\n",
              "      <td>7.147999</td>\n",
              "      <td>1.914062</td>\n",
              "    </tr>\n",
              "    <tr>\n",
              "      <th>56.441</th>\n",
              "      <td>28.103</td>\n",
              "      <td>81.532</td>\n",
              "      <td>7.236275</td>\n",
              "      <td>2.158890</td>\n",
              "    </tr>\n",
              "    <tr>\n",
              "      <th>57.303</th>\n",
              "      <td>27.999</td>\n",
              "      <td>81.648</td>\n",
              "      <td>7.128771</td>\n",
              "      <td>2.460318</td>\n",
              "    </tr>\n",
              "    <tr>\n",
              "      <th>...</th>\n",
              "      <th>...</th>\n",
              "      <th>...</th>\n",
              "      <td>...</td>\n",
              "      <td>...</td>\n",
              "      <td>...</td>\n",
              "      <td>...</td>\n",
              "    </tr>\n",
              "    <tr>\n",
              "      <th rowspan=\"5\" valign=\"top\">Kanchanpur</th>\n",
              "      <th rowspan=\"5\" valign=\"top\">D3</th>\n",
              "      <th>49.610</th>\n",
              "      <td>28.692</td>\n",
              "      <td>80.443</td>\n",
              "      <td>7.426368</td>\n",
              "      <td>2.039041</td>\n",
              "    </tr>\n",
              "    <tr>\n",
              "      <th>49.650</th>\n",
              "      <td>28.703</td>\n",
              "      <td>80.421</td>\n",
              "      <td>7.604704</td>\n",
              "      <td>3.244623</td>\n",
              "    </tr>\n",
              "    <tr>\n",
              "      <th>50.230</th>\n",
              "      <td>28.705</td>\n",
              "      <td>80.407</td>\n",
              "      <td>7.318987</td>\n",
              "      <td>3.131095</td>\n",
              "    </tr>\n",
              "    <tr>\n",
              "      <th>51.920</th>\n",
              "      <td>28.765</td>\n",
              "      <td>80.375</td>\n",
              "      <td>7.545557</td>\n",
              "      <td>1.371276</td>\n",
              "    </tr>\n",
              "    <tr>\n",
              "      <th>57.340</th>\n",
              "      <td>28.986</td>\n",
              "      <td>80.188</td>\n",
              "      <td>7.725938</td>\n",
              "      <td>1.644356</td>\n",
              "    </tr>\n",
              "  </tbody>\n",
              "</table>\n",
              "<p>145 rows × 4 columns</p>\n",
              "</div>"
            ],
            "text/plain": [
              "                                 Lat    Long        PH        OM\n",
              "District   Treat wheat_yield                                    \n",
              "Banke      D1    47.052       28.014  81.648  6.726876  2.533213\n",
              "                 49.360       28.116  81.509  7.258894  1.992826\n",
              "                 51.527       28.112  81.519  7.147999  1.914062\n",
              "                 56.441       28.103  81.532  7.236275  2.158890\n",
              "                 57.303       27.999  81.648  7.128771  2.460318\n",
              "...                              ...     ...       ...       ...\n",
              "Kanchanpur D3    49.610       28.692  80.443  7.426368  2.039041\n",
              "                 49.650       28.703  80.421  7.604704  3.244623\n",
              "                 50.230       28.705  80.407  7.318987  3.131095\n",
              "                 51.920       28.765  80.375  7.545557  1.371276\n",
              "                 57.340       28.986  80.188  7.725938  1.644356\n",
              "\n",
              "[145 rows x 4 columns]"
            ]
          },
          "metadata": {
            "tags": []
          },
          "execution_count": 9
        }
      ]
    },
    {
      "cell_type": "markdown",
      "metadata": {
        "id": "caKl8lLXYs1E"
      },
      "source": [
        "### Visualizing the field measurement on an interactive map"
      ]
    },
    {
      "cell_type": "code",
      "metadata": {
        "id": "AChw-k3FYpdv",
        "outputId": "e5c4bb0f-a91b-48ff-92ca-1d46e2fafee1",
        "colab": {
          "base_uri": "https://localhost:8080/"
        }
      },
      "source": [
        "terai_bbox = gpd.GeoDataFrame(wheat_2018_pts).total_bounds\n",
        "x_map=(terai_bbox[0] + terai_bbox[2])/2\n",
        "y_map=(terai_bbox[1] + terai_bbox[3])/2\n",
        "print(f'bouding box for Terai area is {terai_bbox}, with centroid point {x_map},{y_map}')"
      ],
      "execution_count": null,
      "outputs": [
        {
          "output_type": "stream",
          "text": [
            "bouding box for Terai area is [80.165 27.999 81.648 28.986], with centroid point 80.9065,28.4925\n"
          ],
          "name": "stdout"
        }
      ]
    },
    {
      "cell_type": "code",
      "metadata": {
        "id": "T7pvvpshY0yE",
        "outputId": "b55ce82e-df5a-4cf1-83ae-e021ef4b2cb8",
        "colab": {
          "base_uri": "https://localhost:8080/",
          "height": 685
        }
      },
      "source": [
        "mymap = folium.Map(location=[y_map, x_map], zoom_start=11,tiles=None)\n",
        "folium.TileLayer('Stamen Terrain',name=\"Light Map\",control=False).add_to(mymap)\n",
        "\n",
        "tooltip = 'Click me!'\n",
        "for lat, lon,  wheat_variety, wheat_yield in zip(wheat_2018.Lat, wheat_2018.Long, wheat_2018.wheat_variety, wheat_2018.wheat_yield):\n",
        "  # print(lat, lon,  wheat_variety)\n",
        "  folium.Marker([lat,lon], popup=f'Wheat variety: {wheat_variety}, \\n Yield {wheat_yield}', tooltip=tooltip).add_to(mymap)\n",
        "\n",
        "mymap"
      ],
      "execution_count": null,
      "outputs": [
        {
          "output_type": "execute_result",
          "data": {
            "text/html": [
              "<div style=\"width:100%;\"><div style=\"position:relative;width:100%;height:0;padding-bottom:60%;\"><span style=\"color:#565656\">Make this Notebook Trusted to load map: File -> Trust Notebook</span><iframe src=\"about:blank\" style=\"position:absolute;width:100%;height:100%;left:0;top:0;border:none !important;\" data-html=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 onload=\"this.contentDocument.open();this.contentDocument.write(atob(this.getAttribute('data-html')));this.contentDocument.close();\" allowfullscreen webkitallowfullscreen mozallowfullscreen></iframe></div></div>"
            ],
            "text/plain": [
              "<folium.folium.Map at 0x7f6db84919b0>"
            ]
          },
          "metadata": {
            "tags": []
          },
          "execution_count": 11
        }
      ]
    },
    {
      "cell_type": "markdown",
      "metadata": {
        "id": "4biX4VJHY7vu"
      },
      "source": [
        "## Sentinel-2 and Worldclim data extraction from Google Earth Engine"
      ]
    },
    {
      "cell_type": "code",
      "metadata": {
        "id": "iUIA6JnwZFDs"
      },
      "source": [
        "# Athenticate to your GEE account. \n",
        "!earthengine authenticate"
      ],
      "execution_count": null,
      "outputs": []
    },
    {
      "cell_type": "code",
      "metadata": {
        "id": "J9rkbEdIY6oP"
      },
      "source": [
        "# Earth Engine Python API\n",
        "ee.Initialize()"
      ],
      "execution_count": null,
      "outputs": []
    },
    {
      "cell_type": "markdown",
      "metadata": {
        "id": "fdt8IenJZKAF"
      },
      "source": [
        "### Sentinel-2 imagery bands and indices composition\n",
        "\n",
        "The purpose of this excersice is we want to have bands and indices information that may be helpful to modeling wheat yiled from temporal and spatial perspective"
      ]
    },
    {
      "cell_type": "code",
      "metadata": {
        "id": "oaHPkdVAZfhM",
        "outputId": "7bbfa49c-3c2b-4ccc-f817-fee1a48c15d2",
        "colab": {
          "base_uri": "https://localhost:8080/"
        }
      },
      "source": [
        "# From GEE\n",
        "# If you are interested in using Landsat8 surface reflectance, see data over here https://developers.google.com/earth-engine/datasets/catalog/LANDSAT_LC08_C01_T1_SR#bands\n",
        "# The following steps showing how to extrac Sentinel-2 from GEE\n",
        "aoi = ee.Geometry.Rectangle(terai_bbox.tolist())\n",
        "band_sel = ('B2', 'B3', 'B4', 'B8', 'B11', 'B12')\n",
        "\n",
        "sentinel_scenes = ee.ImageCollection(\"COPERNICUS/S2\")\\\n",
        "    .filterBounds(aoi)\\\n",
        "    .filterDate('2018-01-01', '2018-12-31')\\\n",
        "    .select(band_sel)\\\n",
        "    .filter(ee.Filter.lte('CLOUDY_PIXEL_PERCENTAGE',10))\n",
        "\n",
        "scenes = sentinel_scenes.getInfo()\n",
        "[print(scene['id']) for scene in scenes[\"features\"]]\n",
        "\n",
        "sentinel_mosaic = sentinel_scenes.mean().rename(band_sel)\n",
        "\n",
        "sentinel_mosaic.getInfo()"
      ],
      "execution_count": null,
      "outputs": [
        {
          "output_type": "stream",
          "text": [
            "COPERNICUS/S2/20180102T052221_20180102T052834_T44RMT\n",
            "COPERNICUS/S2/20180102T052221_20180102T052834_T44RNS\n",
            "COPERNICUS/S2/20180114T051139_20180114T051142_T44RMR\n",
            "COPERNICUS/S2/20180117T052139_20180117T052137_T44RMT\n",
            "COPERNICUS/S2/20180122T052111_20180122T052111_T44RMR\n",
            "COPERNICUS/S2/20180122T052111_20180122T052111_T44RMT\n",
            "COPERNICUS/S2/20180122T052111_20180122T052111_T44RNS\n",
            "COPERNICUS/S2/20180124T051109_20180124T051817_T44RMR\n",
            "COPERNICUS/S2/20180124T051109_20180124T051817_T44RMS\n",
            "COPERNICUS/S2/20180124T051109_20180124T051817_T44RNR\n",
            "COPERNICUS/S2/20180124T051109_20180124T051817_T44RNS\n",
            "COPERNICUS/S2/20180203T051019_20180203T051014_T44RMT\n",
            "COPERNICUS/S2/20180203T051019_20180203T051014_T44RNR\n",
            "COPERNICUS/S2/20180203T051019_20180203T051014_T44RNS\n",
            "COPERNICUS/S2/20180208T050951_20180208T051238_T44RMR\n",
            "COPERNICUS/S2/20180208T050951_20180208T051238_T44RMS\n",
            "COPERNICUS/S2/20180208T050951_20180208T051238_T44RNR\n",
            "COPERNICUS/S2/20180208T050951_20180208T051238_T44RNS\n",
            "COPERNICUS/S2/20180211T051941_20180211T052713_T44RNS\n",
            "COPERNICUS/S2/20180216T051859_20180216T052514_T44RMR\n",
            "COPERNICUS/S2/20180216T051859_20180216T052514_T44RMS\n",
            "COPERNICUS/S2/20180216T051859_20180216T052514_T44RMT\n",
            "COPERNICUS/S2/20180216T051859_20180216T052514_T44RNS\n",
            "COPERNICUS/S2/20180218T050851_20180218T051750_T44RMS\n",
            "COPERNICUS/S2/20180218T050851_20180218T051750_T44RMT\n",
            "COPERNICUS/S2/20180218T050851_20180218T051750_T44RNS\n",
            "COPERNICUS/S2/20180218T050851_20180218T052043_T44RMR\n",
            "COPERNICUS/S2/20180218T050851_20180218T052043_T44RMS\n",
            "COPERNICUS/S2/20180218T050851_20180218T052043_T44RMT\n",
            "COPERNICUS/S2/20180218T050851_20180218T052043_T44RNR\n",
            "COPERNICUS/S2/20180218T050851_20180218T052043_T44RNS\n",
            "COPERNICUS/S2/20180218T050851_20180218T052043_T44RNT\n",
            "COPERNICUS/S2/20180221T051831_20180221T051830_T44RMR\n",
            "COPERNICUS/S2/20180221T051831_20180221T051830_T44RMS\n",
            "COPERNICUS/S2/20180221T051831_20180221T051830_T44RMT\n",
            "COPERNICUS/S2/20180221T051831_20180221T051830_T44RNS\n",
            "COPERNICUS/S2/20180223T050809_20180223T051831_T44RMR\n",
            "COPERNICUS/S2/20180223T050809_20180223T051831_T44RMS\n",
            "COPERNICUS/S2/20180223T050809_20180223T051831_T44RMT\n",
            "COPERNICUS/S2/20180223T050809_20180223T051831_T44RNR\n",
            "COPERNICUS/S2/20180223T050809_20180223T051831_T44RNS\n",
            "COPERNICUS/S2/20180226T051749_20180226T052332_T44RMR\n",
            "COPERNICUS/S2/20180226T051749_20180226T052332_T44RMS\n",
            "COPERNICUS/S2/20180226T051749_20180226T052332_T44RMT\n",
            "COPERNICUS/S2/20180226T051749_20180226T052332_T44RNS\n",
            "COPERNICUS/S2/20180228T050741_20180228T051731_T44RMR\n",
            "COPERNICUS/S2/20180228T050741_20180228T051731_T44RMS\n",
            "COPERNICUS/S2/20180228T050741_20180228T051731_T44RMT\n",
            "COPERNICUS/S2/20180228T050741_20180228T051731_T44RNR\n",
            "COPERNICUS/S2/20180228T050741_20180228T051731_T44RNS\n",
            "COPERNICUS/S2/20180228T050741_20180228T051731_T44RNT\n",
            "COPERNICUS/S2/20180303T051721_20180303T052044_T44RMR\n",
            "COPERNICUS/S2/20180303T051721_20180303T052044_T44RMS\n",
            "COPERNICUS/S2/20180303T051721_20180303T052044_T44RMT\n",
            "COPERNICUS/S2/20180303T051721_20180303T052044_T44RNS\n",
            "COPERNICUS/S2/20180305T050659_20180305T050654_T44RMR\n",
            "COPERNICUS/S2/20180305T050659_20180305T050654_T44RMS\n",
            "COPERNICUS/S2/20180305T050659_20180305T050654_T44RMT\n",
            "COPERNICUS/S2/20180305T050659_20180305T050654_T44RNR\n",
            "COPERNICUS/S2/20180305T050659_20180305T050654_T44RNS\n",
            "COPERNICUS/S2/20180308T051639_20180308T052729_T44RMR\n",
            "COPERNICUS/S2/20180308T051639_20180308T052729_T44RMS\n",
            "COPERNICUS/S2/20180308T051639_20180308T052729_T44RMT\n",
            "COPERNICUS/S2/20180308T051639_20180308T052729_T44RNS\n",
            "COPERNICUS/S2/20180310T050651_20180310T051941_T44RMR\n",
            "COPERNICUS/S2/20180310T050651_20180310T051941_T44RMS\n",
            "COPERNICUS/S2/20180310T050651_20180310T051941_T44RNR\n",
            "COPERNICUS/S2/20180310T050651_20180310T051941_T44RNS\n",
            "COPERNICUS/S2/20180310T050651_20180310T051941_T44RNT\n",
            "COPERNICUS/S2/20180313T051651_20180313T052106_T44RMR\n",
            "COPERNICUS/S2/20180313T051651_20180313T052106_T44RMS\n",
            "COPERNICUS/S2/20180313T051651_20180313T052106_T44RNS\n",
            "COPERNICUS/S2/20180318T051649_20180318T052714_T44RMR\n",
            "COPERNICUS/S2/20180318T051649_20180318T052714_T44RMS\n",
            "COPERNICUS/S2/20180318T051649_20180318T052714_T44RMT\n",
            "COPERNICUS/S2/20180318T051649_20180318T052714_T44RNS\n",
            "COPERNICUS/S2/20180320T050651_20180320T051739_T44RMR\n",
            "COPERNICUS/S2/20180320T050651_20180320T051739_T44RMS\n",
            "COPERNICUS/S2/20180320T050651_20180320T051739_T44RMT\n",
            "COPERNICUS/S2/20180320T050651_20180320T051739_T44RNR\n",
            "COPERNICUS/S2/20180320T050651_20180320T051739_T44RNS\n",
            "COPERNICUS/S2/20180323T051651_20180323T052028_T44RMR\n",
            "COPERNICUS/S2/20180323T051651_20180323T052028_T44RMS\n",
            "COPERNICUS/S2/20180323T051651_20180323T052028_T44RMT\n",
            "COPERNICUS/S2/20180323T051651_20180323T052028_T44RNS\n",
            "COPERNICUS/S2/20180325T050649_20180325T052033_T44RMR\n",
            "COPERNICUS/S2/20180325T050649_20180325T052033_T44RMS\n",
            "COPERNICUS/S2/20180325T050649_20180325T052033_T44RMT\n",
            "COPERNICUS/S2/20180325T050649_20180325T052033_T44RNR\n",
            "COPERNICUS/S2/20180325T050649_20180325T052033_T44RNS\n",
            "COPERNICUS/S2/20180325T050649_20180325T052033_T44RNT\n",
            "COPERNICUS/S2/20180328T052019_20180328T052518_T44RMR\n",
            "COPERNICUS/S2/20180328T052019_20180328T052518_T44RMS\n",
            "COPERNICUS/S2/20180328T052019_20180328T052518_T44RMT\n",
            "COPERNICUS/S2/20180328T052019_20180328T052518_T44RNS\n",
            "COPERNICUS/S2/20180330T050651_20180330T051409_T44RMR\n",
            "COPERNICUS/S2/20180330T050651_20180330T051409_T44RNR\n",
            "COPERNICUS/S2/20180402T051651_20180402T052139_T44RMR\n",
            "COPERNICUS/S2/20180402T051651_20180402T052139_T44RMS\n",
            "COPERNICUS/S2/20180402T051651_20180402T052139_T44RNS\n",
            "COPERNICUS/S2/20180404T050649_20180404T051134_T44RMR\n",
            "COPERNICUS/S2/20180404T050649_20180404T051134_T44RMS\n",
            "COPERNICUS/S2/20180404T050649_20180404T051134_T44RNR\n",
            "COPERNICUS/S2/20180407T051649_20180407T052002_T44RMR\n",
            "COPERNICUS/S2/20180407T051649_20180407T053055_T44RMR\n",
            "COPERNICUS/S2/20180409T050651_20180409T051152_T44RMR\n",
            "COPERNICUS/S2/20180409T050651_20180409T051152_T44RNR\n",
            "COPERNICUS/S2/20180412T051651_20180412T052027_T44RNS\n",
            "COPERNICUS/S2/20180414T050649_20180414T051849_T44RMR\n",
            "COPERNICUS/S2/20180414T050649_20180414T051849_T44RMS\n",
            "COPERNICUS/S2/20180414T050649_20180414T051849_T44RMT\n",
            "COPERNICUS/S2/20180417T051649_20180417T052636_T44RMR\n",
            "COPERNICUS/S2/20180417T051649_20180417T052636_T44RNS\n",
            "COPERNICUS/S2/20180419T050651_20180419T051519_T44RMR\n",
            "COPERNICUS/S2/20180419T050651_20180419T051519_T44RMS\n",
            "COPERNICUS/S2/20180419T050651_20180419T051519_T44RMT\n",
            "COPERNICUS/S2/20180419T050651_20180419T051519_T44RNR\n",
            "COPERNICUS/S2/20180419T050651_20180419T051519_T44RNS\n",
            "COPERNICUS/S2/20180419T050651_20180419T051519_T44RNT\n",
            "COPERNICUS/S2/20180422T051651_20180422T052000_T44RMR\n",
            "COPERNICUS/S2/20180422T051651_20180422T052000_T44RMS\n",
            "COPERNICUS/S2/20180422T051651_20180422T052000_T44RMT\n",
            "COPERNICUS/S2/20180422T051651_20180422T052000_T44RNS\n",
            "COPERNICUS/S2/20180424T050649_20180424T051013_T44RMR\n",
            "COPERNICUS/S2/20180424T050649_20180424T051013_T44RMS\n",
            "COPERNICUS/S2/20180424T050649_20180424T051013_T44RMT\n",
            "COPERNICUS/S2/20180424T050649_20180424T051013_T44RNR\n",
            "COPERNICUS/S2/20180424T050649_20180424T051013_T44RNS\n",
            "COPERNICUS/S2/20180424T050649_20180424T051013_T44RNT\n",
            "COPERNICUS/S2/20180427T051649_20180427T051649_T44RMR\n",
            "COPERNICUS/S2/20180427T051649_20180427T051649_T44RMS\n",
            "COPERNICUS/S2/20180427T051649_20180427T051649_T44RNS\n",
            "COPERNICUS/S2/20180429T050701_20180429T051444_T44RMR\n",
            "COPERNICUS/S2/20180429T050701_20180429T051444_T44RMS\n",
            "COPERNICUS/S2/20180429T050701_20180429T051444_T44RNR\n",
            "COPERNICUS/S2/20180429T050701_20180429T051444_T44RNS\n",
            "COPERNICUS/S2/20180502T051651_20180502T052131_T44RMR\n",
            "COPERNICUS/S2/20180502T051651_20180502T052131_T44RMS\n",
            "COPERNICUS/S2/20180502T051651_20180502T052131_T44RNS\n",
            "COPERNICUS/S2/20180504T050649_20180504T051114_T44RMS\n",
            "COPERNICUS/S2/20180507T051649_20180507T052818_T44RMR\n",
            "COPERNICUS/S2/20180507T051649_20180507T052818_T44RMS\n",
            "COPERNICUS/S2/20180507T051649_20180507T052818_T44RMT\n",
            "COPERNICUS/S2/20180507T051649_20180507T052818_T44RNS\n",
            "COPERNICUS/S2/20180509T050701_20180509T051806_T44RMR\n",
            "COPERNICUS/S2/20180509T050701_20180509T051806_T44RMS\n",
            "COPERNICUS/S2/20180509T050701_20180509T051806_T44RNR\n",
            "COPERNICUS/S2/20180509T050701_20180509T051806_T44RNS\n",
            "COPERNICUS/S2/20180512T051651_20180512T052355_T44RMR\n",
            "COPERNICUS/S2/20180512T051651_20180512T052355_T44RMS\n",
            "COPERNICUS/S2/20180512T051651_20180512T052355_T44RMT\n",
            "COPERNICUS/S2/20180512T051651_20180512T052355_T44RNS\n",
            "COPERNICUS/S2/20180514T050649_20180514T050828_T44RMR\n",
            "COPERNICUS/S2/20180514T050649_20180514T050828_T44RMS\n",
            "COPERNICUS/S2/20180514T050649_20180514T050828_T44RNR\n",
            "COPERNICUS/S2/20180514T050649_20180514T050828_T44RNS\n",
            "COPERNICUS/S2/20180517T051649_20180517T052028_T44RMR\n",
            "COPERNICUS/S2/20180517T051649_20180517T052028_T44RMS\n",
            "COPERNICUS/S2/20180517T051649_20180517T052028_T44RNS\n",
            "COPERNICUS/S2/20180519T050701_20180519T051614_T44RMR\n",
            "COPERNICUS/S2/20180519T050701_20180519T051614_T44RMS\n",
            "COPERNICUS/S2/20180519T050701_20180519T051614_T44RNR\n",
            "COPERNICUS/S2/20180522T051651_20180522T052340_T44RMR\n",
            "COPERNICUS/S2/20180522T051651_20180522T052340_T44RMS\n",
            "COPERNICUS/S2/20180522T051651_20180522T052340_T44RMT\n",
            "COPERNICUS/S2/20180522T051651_20180522T052340_T44RNS\n",
            "COPERNICUS/S2/20180522T051651_20180522T052340_T44RNT\n",
            "COPERNICUS/S2/20180524T050649_20180524T050650_T44RMR\n",
            "COPERNICUS/S2/20180524T050649_20180524T050650_T44RMS\n",
            "COPERNICUS/S2/20180524T050649_20180524T050650_T44RMT\n",
            "COPERNICUS/S2/20180524T050649_20180524T050650_T44RNR\n",
            "COPERNICUS/S2/20180524T050649_20180524T050650_T44RNS\n",
            "COPERNICUS/S2/20180524T050649_20180524T050650_T44RNT\n",
            "COPERNICUS/S2/20180601T051651_20180601T052147_T44RNS\n",
            "COPERNICUS/S2/20180603T050649_20180603T050650_T44RMR\n",
            "COPERNICUS/S2/20180603T050649_20180603T050650_T44RMS\n",
            "COPERNICUS/S2/20180603T050649_20180603T050650_T44RNR\n",
            "COPERNICUS/S2/20180606T051649_20180606T052519_T44RMR\n",
            "COPERNICUS/S2/20180611T051651_20180611T052257_T44RMR\n",
            "COPERNICUS/S2/20180611T051651_20180611T052257_T44RMS\n",
            "COPERNICUS/S2/20180611T051651_20180611T052257_T44RNS\n",
            "COPERNICUS/S2/20180613T050649_20180613T050843_T44RMR\n",
            "COPERNICUS/S2/20180613T050649_20180613T050843_T44RMS\n",
            "COPERNICUS/S2/20180613T050649_20180613T050843_T44RMT\n",
            "COPERNICUS/S2/20180613T050649_20180613T050843_T44RNR\n",
            "COPERNICUS/S2/20180613T050649_20180613T050843_T44RNS\n",
            "COPERNICUS/S2/20180616T051649_20180616T052640_T44RMR\n",
            "COPERNICUS/S2/20180616T051649_20180616T052640_T44RNS\n",
            "COPERNICUS/S2/20180618T050651_20180618T051857_T44RMR\n",
            "COPERNICUS/S2/20180618T050651_20180618T051857_T44RMS\n",
            "COPERNICUS/S2/20180618T050651_20180618T051857_T44RMT\n",
            "COPERNICUS/S2/20180618T050651_20180618T051857_T44RNR\n",
            "COPERNICUS/S2/20180618T050651_20180618T051857_T44RNS\n",
            "COPERNICUS/S2/20180621T051651_20180621T052026_T44RMR\n",
            "COPERNICUS/S2/20180621T051651_20180621T052026_T44RMS\n",
            "COPERNICUS/S2/20180621T051651_20180621T052026_T44RMT\n",
            "COPERNICUS/S2/20180621T051651_20180621T052026_T44RNS\n",
            "COPERNICUS/S2/20180621T051651_20180621T052026_T44RNT\n",
            "COPERNICUS/S2/20180623T050649_20180623T050720_T44RMR\n",
            "COPERNICUS/S2/20180626T051649_20180626T052630_T44RNS\n",
            "COPERNICUS/S2/20180701T051651_20180701T051919_T44RNS\n",
            "COPERNICUS/S2/20180706T051649_20180706T052145_T44RNS\n",
            "COPERNICUS/S2/20180706T051649_20180706T052145_T44RNT\n",
            "COPERNICUS/S2/20180711T051651_20180711T051651_T44RNS\n",
            "COPERNICUS/S2/20180716T051649_20180716T052158_T44RNS\n",
            "COPERNICUS/S2/20180721T051651_20180721T052208_T44RNS\n",
            "COPERNICUS/S2/20180726T051649_20180726T051947_T44RMS\n",
            "COPERNICUS/S2/20180726T051649_20180726T051947_T44RNS\n",
            "COPERNICUS/S2/20180726T051649_20180726T053040_T44RNS\n",
            "COPERNICUS/S2/20180726T051649_20180726T053040_T44RNT\n",
            "COPERNICUS/S2/20180731T051651_20180731T052045_T44RNS\n",
            "COPERNICUS/S2/20180805T051649_20180805T052258_T44RNS\n",
            "COPERNICUS/S2/20180810T051651_20180810T051650_T44RNS\n",
            "COPERNICUS/S2/20180815T051649_20180815T052245_T44RNS\n",
            "COPERNICUS/S2/20180820T051651_20180820T052243_T44RNS\n",
            "COPERNICUS/S2/20180825T051639_20180825T052113_T44RNS\n",
            "COPERNICUS/S2/20180830T051651_20180830T052043_T44RNS\n",
            "COPERNICUS/S2/20180904T051639_20180904T052213_T44RNS\n",
            "COPERNICUS/S2/20180909T051651_20180909T052935_T44RMR\n",
            "COPERNICUS/S2/20180909T051651_20180909T052935_T44RNS\n",
            "COPERNICUS/S2/20180914T051639_20180914T052101_T44RMR\n",
            "COPERNICUS/S2/20180914T051639_20180914T052101_T44RNS\n",
            "COPERNICUS/S2/20180914T051639_20180914T052101_T44RNT\n",
            "COPERNICUS/S2/20180919T051651_20180919T052214_T44RMR\n",
            "COPERNICUS/S2/20180919T051651_20180919T052214_T44RMS\n",
            "COPERNICUS/S2/20180919T051651_20180919T052214_T44RMT\n",
            "COPERNICUS/S2/20180919T051651_20180919T052214_T44RNS\n",
            "COPERNICUS/S2/20180919T051651_20180919T052214_T44RNT\n",
            "COPERNICUS/S2/20180924T051649_20180924T052743_T44RMR\n",
            "COPERNICUS/S2/20180924T051649_20180924T052743_T44RNS\n",
            "COPERNICUS/S2/20180924T051649_20180924T052743_T44RNT\n",
            "COPERNICUS/S2/20180929T051651_20180929T052051_T44RMR\n",
            "COPERNICUS/S2/20180929T051651_20180929T052051_T44RMS\n",
            "COPERNICUS/S2/20180929T051651_20180929T052051_T44RNS\n",
            "COPERNICUS/S2/20180929T051651_20180929T052051_T44RNT\n",
            "COPERNICUS/S2/20181001T050649_20181001T051744_T44RMR\n",
            "COPERNICUS/S2/20181001T050649_20181001T051744_T44RMS\n",
            "COPERNICUS/S2/20181001T050649_20181001T051744_T44RMT\n",
            "COPERNICUS/S2/20181001T050649_20181001T051744_T44RNR\n",
            "COPERNICUS/S2/20181001T050649_20181001T051744_T44RNS\n",
            "COPERNICUS/S2/20181004T051649_20181004T052047_T44RMR\n",
            "COPERNICUS/S2/20181004T051649_20181004T052047_T44RMS\n",
            "COPERNICUS/S2/20181004T051649_20181004T052047_T44RMT\n",
            "COPERNICUS/S2/20181004T051649_20181004T052047_T44RNS\n",
            "COPERNICUS/S2/20181004T051649_20181004T052047_T44RNT\n",
            "COPERNICUS/S2/20181006T050651_20181006T051319_T44RMR\n",
            "COPERNICUS/S2/20181006T050651_20181006T051319_T44RMS\n",
            "COPERNICUS/S2/20181006T050651_20181006T051319_T44RMT\n",
            "COPERNICUS/S2/20181006T050651_20181006T051319_T44RNR\n",
            "COPERNICUS/S2/20181006T050651_20181006T051319_T44RNS\n",
            "COPERNICUS/S2/20181011T050729_20181011T051625_T44RMR\n",
            "COPERNICUS/S2/20181011T050729_20181011T051625_T44RMS\n",
            "COPERNICUS/S2/20181011T050729_20181011T051625_T44RMT\n",
            "COPERNICUS/S2/20181011T050729_20181011T051625_T44RNR\n",
            "COPERNICUS/S2/20181014T051749_20181014T052258_T44RMR\n",
            "COPERNICUS/S2/20181014T051749_20181014T052258_T44RMS\n",
            "COPERNICUS/S2/20181014T051749_20181014T052258_T44RMT\n",
            "COPERNICUS/S2/20181014T051749_20181014T052258_T44RNS\n",
            "COPERNICUS/S2/20181014T051749_20181014T052258_T44RNT\n",
            "COPERNICUS/S2/20181016T050801_20181016T051752_T44RMR\n",
            "COPERNICUS/S2/20181016T050801_20181016T051752_T44RMS\n",
            "COPERNICUS/S2/20181016T050801_20181016T051752_T44RNR\n",
            "COPERNICUS/S2/20181016T050801_20181016T051752_T44RNS\n",
            "COPERNICUS/S2/20181019T051821_20181019T052621_T44RMR\n",
            "COPERNICUS/S2/20181019T051821_20181019T052621_T44RMS\n",
            "COPERNICUS/S2/20181019T051821_20181019T052621_T44RMT\n",
            "COPERNICUS/S2/20181019T051821_20181019T052621_T44RNS\n",
            "COPERNICUS/S2/20181019T051821_20181019T052621_T44RNT\n",
            "COPERNICUS/S2/20181021T050829_20181021T051532_T44RMR\n",
            "COPERNICUS/S2/20181021T050829_20181021T051532_T44RMS\n",
            "COPERNICUS/S2/20181021T050829_20181021T051532_T44RMT\n",
            "COPERNICUS/S2/20181021T050829_20181021T051532_T44RNR\n",
            "COPERNICUS/S2/20181021T050829_20181021T051532_T44RNS\n",
            "COPERNICUS/S2/20181024T051859_20181024T052237_T44RMR\n",
            "COPERNICUS/S2/20181024T051859_20181024T052237_T44RMS\n",
            "COPERNICUS/S2/20181024T051859_20181024T052237_T44RMT\n",
            "COPERNICUS/S2/20181024T051859_20181024T052237_T44RNS\n",
            "COPERNICUS/S2/20181024T051859_20181024T052237_T44RNT\n",
            "COPERNICUS/S2/20181026T050901_20181026T051152_T44RMS\n",
            "COPERNICUS/S2/20181026T050901_20181026T051152_T44RMT\n",
            "COPERNICUS/S2/20181026T050901_20181026T051152_T44RNS\n",
            "COPERNICUS/S2/20181026T050901_20181026T051152_T44RNT\n",
            "COPERNICUS/S2/20181026T050901_20181026T052042_T44RMR\n",
            "COPERNICUS/S2/20181026T050901_20181026T052042_T44RMS\n",
            "COPERNICUS/S2/20181026T050901_20181026T052042_T44RMT\n",
            "COPERNICUS/S2/20181026T050901_20181026T052042_T44RNR\n",
            "COPERNICUS/S2/20181026T050901_20181026T052042_T44RNS\n",
            "COPERNICUS/S2/20181026T050901_20181026T052042_T44RNT\n",
            "COPERNICUS/S2/20181029T051921_20181029T052731_T44RMR\n",
            "COPERNICUS/S2/20181029T051921_20181029T052731_T44RMS\n",
            "COPERNICUS/S2/20181029T051921_20181029T052731_T44RMT\n",
            "COPERNICUS/S2/20181029T051921_20181029T052731_T44RNS\n",
            "COPERNICUS/S2/20181029T051921_20181029T052731_T44RNT\n",
            "COPERNICUS/S2/20181031T050929_20181031T051707_T44RMR\n",
            "COPERNICUS/S2/20181031T050929_20181031T051707_T44RMS\n",
            "COPERNICUS/S2/20181031T050929_20181031T051707_T44RMT\n",
            "COPERNICUS/S2/20181031T050929_20181031T051707_T44RNR\n",
            "COPERNICUS/S2/20181031T050929_20181031T051707_T44RNS\n",
            "COPERNICUS/S2/20181031T050929_20181031T051707_T44RNT\n",
            "COPERNICUS/S2/20181103T051959_20181103T052833_T44RNS\n",
            "COPERNICUS/S2/20181105T051001_20181105T051220_T44RMR\n",
            "COPERNICUS/S2/20181105T051001_20181105T051220_T44RMS\n",
            "COPERNICUS/S2/20181105T051001_20181105T051220_T44RMT\n",
            "COPERNICUS/S2/20181105T051001_20181105T051220_T44RNR\n",
            "COPERNICUS/S2/20181105T051001_20181105T051220_T44RNS\n",
            "COPERNICUS/S2/20181108T052021_20181108T052431_T44RMR\n",
            "COPERNICUS/S2/20181108T052021_20181108T052431_T44RMS\n",
            "COPERNICUS/S2/20181108T052021_20181108T052431_T44RMT\n",
            "COPERNICUS/S2/20181108T052021_20181108T052431_T44RNS\n",
            "COPERNICUS/S2/20181108T052021_20181108T052431_T44RNT\n",
            "COPERNICUS/S2/20181110T051029_20181110T051221_T44RMR\n",
            "COPERNICUS/S2/20181110T051029_20181110T051221_T44RMS\n",
            "COPERNICUS/S2/20181110T051029_20181110T051221_T44RMT\n",
            "COPERNICUS/S2/20181110T051029_20181110T051221_T44RNR\n",
            "COPERNICUS/S2/20181110T051029_20181110T051221_T44RNS\n",
            "COPERNICUS/S2/20181115T051051_20181115T051620_T44RMR\n",
            "COPERNICUS/S2/20181115T051051_20181115T051620_T44RMS\n",
            "COPERNICUS/S2/20181115T051051_20181115T051620_T44RMT\n",
            "COPERNICUS/S2/20181115T051051_20181115T051620_T44RNR\n",
            "COPERNICUS/S2/20181115T051051_20181115T051620_T44RNS\n",
            "COPERNICUS/S2/20181118T052101_20181118T052103_T44RMR\n",
            "COPERNICUS/S2/20181118T052101_20181118T052103_T44RMT\n",
            "COPERNICUS/S2/20181118T052101_20181118T052103_T44RNT\n",
            "COPERNICUS/S2/20181120T051109_20181120T051112_T44RMR\n",
            "COPERNICUS/S2/20181120T051109_20181120T051112_T44RMS\n",
            "COPERNICUS/S2/20181120T051109_20181120T051112_T44RMT\n",
            "COPERNICUS/S2/20181120T051109_20181120T051112_T44RNR\n",
            "COPERNICUS/S2/20181120T051109_20181120T051112_T44RNS\n",
            "COPERNICUS/S2/20181123T052129_20181123T052254_T44RMR\n",
            "COPERNICUS/S2/20181123T052129_20181123T052254_T44RMS\n",
            "COPERNICUS/S2/20181123T052129_20181123T052254_T44RMT\n",
            "COPERNICUS/S2/20181123T052129_20181123T052254_T44RNS\n",
            "COPERNICUS/S2/20181125T051121_20181125T051117_T44RMR\n",
            "COPERNICUS/S2/20181125T051121_20181125T051117_T44RMS\n",
            "COPERNICUS/S2/20181125T051121_20181125T051117_T44RMT\n",
            "COPERNICUS/S2/20181125T051121_20181125T051117_T44RNR\n",
            "COPERNICUS/S2/20181125T051121_20181125T051117_T44RNS\n",
            "COPERNICUS/S2/20181130T051149_20181130T051222_T44RMR\n",
            "COPERNICUS/S2/20181130T051149_20181130T051222_T44RMS\n",
            "COPERNICUS/S2/20181130T051149_20181130T051222_T44RNR\n",
            "COPERNICUS/S2/20181130T051149_20181130T051222_T44RNS\n",
            "COPERNICUS/S2/20181203T052229_20181203T053002_T44RMR\n",
            "COPERNICUS/S2/20181203T052229_20181203T053002_T44RMS\n",
            "COPERNICUS/S2/20181203T052229_20181203T053002_T44RMT\n",
            "COPERNICUS/S2/20181203T052229_20181203T053002_T44RNS\n",
            "COPERNICUS/S2/20181208T052211_20181208T052948_T44RMR\n",
            "COPERNICUS/S2/20181208T052211_20181208T052948_T44RMS\n",
            "COPERNICUS/S2/20181208T052211_20181208T052948_T44RMT\n",
            "COPERNICUS/S2/20181208T052211_20181208T052948_T44RNS\n",
            "COPERNICUS/S2/20181208T052211_20181208T052948_T44RNT\n",
            "COPERNICUS/S2/20181210T051209_20181210T051638_T44RMR\n",
            "COPERNICUS/S2/20181210T051209_20181210T051638_T44RMS\n",
            "COPERNICUS/S2/20181210T051209_20181210T051638_T44RMT\n",
            "COPERNICUS/S2/20181210T051209_20181210T051638_T44RNR\n",
            "COPERNICUS/S2/20181210T051209_20181210T051638_T44RNS\n",
            "COPERNICUS/S2/20181215T051211_20181215T051910_T44RMR\n",
            "COPERNICUS/S2/20181215T051211_20181215T051910_T44RMS\n",
            "COPERNICUS/S2/20181215T051211_20181215T051910_T44RNR\n",
            "COPERNICUS/S2/20181215T051211_20181215T051910_T44RNS\n",
            "COPERNICUS/S2/20181218T052221_20181218T053013_T44RMR\n",
            "COPERNICUS/S2/20181218T052221_20181218T053013_T44RMS\n",
            "COPERNICUS/S2/20181218T052221_20181218T053013_T44RMT\n",
            "COPERNICUS/S2/20181218T052221_20181218T053013_T44RNS\n",
            "COPERNICUS/S2/20181220T051219_20181220T051613_T44RMR\n",
            "COPERNICUS/S2/20181220T051219_20181220T051613_T44RMS\n",
            "COPERNICUS/S2/20181220T051219_20181220T051613_T44RNR\n",
            "COPERNICUS/S2/20181220T051219_20181220T051613_T44RNS\n",
            "COPERNICUS/S2/20181223T052229_20181223T052554_T44RMR\n",
            "COPERNICUS/S2/20181223T052229_20181223T052554_T44RMS\n",
            "COPERNICUS/S2/20181223T052229_20181223T052554_T44RMT\n",
            "COPERNICUS/S2/20181223T052229_20181223T052554_T44RNS\n",
            "COPERNICUS/S2/20181225T051221_20181225T051919_T44RMR\n",
            "COPERNICUS/S2/20181225T051221_20181225T051919_T44RMS\n",
            "COPERNICUS/S2/20181225T051221_20181225T051919_T44RNR\n",
            "COPERNICUS/S2/20181225T051221_20181225T051919_T44RNS\n",
            "COPERNICUS/S2/20181228T052221_20181228T052221_T44RMR\n",
            "COPERNICUS/S2/20181228T052221_20181228T052221_T44RMS\n",
            "COPERNICUS/S2/20181228T052221_20181228T052221_T44RMT\n",
            "COPERNICUS/S2/20181228T052221_20181228T052221_T44RNS\n",
            "COPERNICUS/S2/20181230T051219_20181230T051417_T44RMR\n",
            "COPERNICUS/S2/20181230T051219_20181230T051417_T44RMS\n",
            "COPERNICUS/S2/20181230T051219_20181230T051417_T44RMT\n",
            "COPERNICUS/S2/20181230T051219_20181230T051417_T44RNR\n",
            "COPERNICUS/S2/20181230T051219_20181230T051417_T44RNS\n"
          ],
          "name": "stdout"
        },
        {
          "output_type": "execute_result",
          "data": {
            "text/plain": [
              "{'bands': [{'crs': 'EPSG:4326',\n",
              "   'crs_transform': [1, 0, 0, 0, 1, 0],\n",
              "   'data_type': {'max': 65535,\n",
              "    'min': 0,\n",
              "    'precision': 'double',\n",
              "    'type': 'PixelType'},\n",
              "   'id': 'B2'},\n",
              "  {'crs': 'EPSG:4326',\n",
              "   'crs_transform': [1, 0, 0, 0, 1, 0],\n",
              "   'data_type': {'max': 65535,\n",
              "    'min': 0,\n",
              "    'precision': 'double',\n",
              "    'type': 'PixelType'},\n",
              "   'id': 'B3'},\n",
              "  {'crs': 'EPSG:4326',\n",
              "   'crs_transform': [1, 0, 0, 0, 1, 0],\n",
              "   'data_type': {'max': 65535,\n",
              "    'min': 0,\n",
              "    'precision': 'double',\n",
              "    'type': 'PixelType'},\n",
              "   'id': 'B4'},\n",
              "  {'crs': 'EPSG:4326',\n",
              "   'crs_transform': [1, 0, 0, 0, 1, 0],\n",
              "   'data_type': {'max': 65535,\n",
              "    'min': 0,\n",
              "    'precision': 'double',\n",
              "    'type': 'PixelType'},\n",
              "   'id': 'B8'},\n",
              "  {'crs': 'EPSG:4326',\n",
              "   'crs_transform': [1, 0, 0, 0, 1, 0],\n",
              "   'data_type': {'max': 65535,\n",
              "    'min': 0,\n",
              "    'precision': 'double',\n",
              "    'type': 'PixelType'},\n",
              "   'id': 'B11'},\n",
              "  {'crs': 'EPSG:4326',\n",
              "   'crs_transform': [1, 0, 0, 0, 1, 0],\n",
              "   'data_type': {'max': 65535,\n",
              "    'min': 0,\n",
              "    'precision': 'double',\n",
              "    'type': 'PixelType'},\n",
              "   'id': 'B12'}],\n",
              " 'type': 'Image'}"
            ]
          },
          "metadata": {
            "tags": []
          },
          "execution_count": 14
        }
      ]
    },
    {
      "cell_type": "markdown",
      "metadata": {
        "id": "ItvQ5zxLB3ho"
      },
      "source": [
        "This next cell will export a Geotiff for each point of interest, by creating a bounding box around each point and then clipping the Sentinel layer to that area."
      ]
    },
    {
      "cell_type": "code",
      "metadata": {
        "id": "G_pDfbgZaWmV"
      },
      "source": [
        "# We will save it to Google Drive for later reuse\n",
        "# you should skip this cell if you have data copy in the drive already.\n",
        "raster_name_bn = 'S2_mosaic_Terai_Nepal_2018'\n",
        "crop_data = op.join(crop_data, \"mosaic_s2\")\n",
        "if not op.isdir(crop_data):\n",
        "  makedirs(crop_data)\n",
        "\n",
        "for i, (lat, long) in enumerate(zip(wheat_2018.Lat, wheat_2018.Long)):\n",
        "  aoi = ee.Geometry.Rectangle([(long - 0.01), (lat - 0.01), (long + 0.01), (lat + 0.01), ])\n",
        "# Export the image, specifying scale and region.\n",
        "# Warning, this create 145 small images.\n",
        "# There may be a bug here, not sure GEE export can write to a folder beyond depth 1 in a google drive\n",
        "  task = ee.batch.Export.image.toDrive(**{\n",
        "      'image': sentinel_mosaic,\n",
        "      'description': 'Terai_Nepal_2018',\n",
        "      'folder': crop_data,\n",
        "      'fileNamePrefix': f'{raster_name_bn}_{i}',\n",
        "      'scale': 10,\n",
        "      'region': aoi,\n",
        "      'fileFormat': 'GeoTIFF',\n",
        "      'formatOptions': {\n",
        "        'cloudOptimized': 'true'\n",
        "      },\n",
        "  })\n",
        "\n",
        " "
      ],
      "execution_count": null,
      "outputs": []
    },
    {
      "cell_type": "code",
      "metadata": {
        "id": "FOTzUNw7D8nn"
      },
      "source": [
        " # This task will run in the background even if you close this notebook.\n",
        "  # You can also check on the status of the task through the Javascript GEE interface\n",
        "  # https://code.earthengine.google.com\n",
        "  task.start()"
      ],
      "execution_count": null,
      "outputs": []
    },
    {
      "cell_type": "code",
      "metadata": {
        "id": "vyGkKRFHa48C"
      },
      "source": [
        "# If you want to keep track of the export you can run this code\n",
        "# However if run this, you will need to wait for it to finish before running additional code\n",
        "\n",
        "while task.active():\n",
        "  print('Polling for task (id: {}).'.format(task.id))\n",
        "  time.sleep(15)"
      ],
      "execution_count": null,
      "outputs": []
    },
    {
      "cell_type": "markdown",
      "metadata": {
        "id": "4gqlsap0atSQ"
      },
      "source": [
        "#### Visualizing Sentinel-2 imagery RGB in 2018 in our study area"
      ]
    },
    {
      "cell_type": "code",
      "metadata": {
        "id": "69cSiiGvardz"
      },
      "source": [
        "# To make a map we first need some helper functions\n",
        "\n",
        "# Define the URL format used for Earth Engine generated map tiles.\n",
        "EE_TILES = 'https://earthengine.googleapis.com/map/{mapid}/{{z}}/{{x}}/{{y}}?token={token}'\n",
        "\n",
        "#@title Mapdisplay: Display GEE objects using folium.\n",
        "def Mapdisplay(center, dicc, Tiles=\"OpensTreetMap\",zoom_start=8):\n",
        "    '''\n",
        "    :param center: Center of the map (Latitude and Longitude).\n",
        "    :param dicc: Earth Engine Geometries or Tiles dictionary\n",
        "    :param Tiles: Mapbox Bright,Mapbox Control Room,Stamen Terrain,Stamen Toner,stamenwatercolor,cartodbpositron.\n",
        "    :zoom_start: Initial zoom level for the map.\n",
        "    :return: A folium.Map object.\n",
        "    '''\n",
        "    mapViz = folium.Map(location=center,tiles=Tiles, zoom_start=zoom_start)\n",
        "    for k,v in dicc.items():\n",
        "      if gpd.geodataframe.GeoDataFrame == type(v):\n",
        "        folium.GeoJson(\n",
        "        data = v,\n",
        "        name = k\n",
        "          ).add_to(mapViz) \n",
        "      elif ee.image.Image in [type(x) for x in v.values()]:\n",
        "        folium.TileLayer(\n",
        "            tiles = v[\"tile_fetcher\"].url_format,\n",
        "            attr  = 'Google Earth Engine',\n",
        "            overlay =True,\n",
        "            name  = k\n",
        "          ).add_to(mapViz)\n",
        "      else:\n",
        "        folium.GeoJson(\n",
        "        data = v,\n",
        "        name = k\n",
        "          ).add_to(mapViz)\n",
        "    mapViz.add_child(folium.LayerControl())\n",
        "    return mapViz"
      ],
      "execution_count": null,
      "outputs": []
    },
    {
      "cell_type": "code",
      "metadata": {
        "id": "XRxcgcmxa4R4"
      },
      "source": [
        "\n",
        "s2_vis_params = {\n",
        "  'bands': ['B4', 'B3', 'B2'],\n",
        "  'min': 0,\n",
        "  'max': 3000,\n",
        "}\n",
        "\n",
        "Mapdisplay(center=[y_map, x_map],\n",
        "           dicc={'S2':sentinel_mosaic.getMapId(s2_vis_params)},\n",
        "                #  'TrainingData':wheat_2018_disctrict}, \n",
        "           zoom_start=11)\n"
      ],
      "execution_count": null,
      "outputs": []
    },
    {
      "cell_type": "markdown",
      "metadata": {
        "id": "ckq8dIA7bD3f"
      },
      "source": [
        "### Extract average temperature and precipitation from WorldClim \n",
        "\n",
        "To enrich the attributes data for crop yield modeling, you can go to [WorldClim](https://worldclim.org/data/worldclim21.html) to explore data including:\n",
        "- Minimum temperature\n",
        "- Maximum temperature\n",
        "- Average temperature\n",
        "- Precipitation\n",
        "- Solar radiation\n",
        "- Wind speed\n",
        "- Water vapor presure\n",
        "\n",
        "**But** only average temperature and precipitation are available in GEE. More information of the dataset on GEE, please look over [here](https://developers.google.com/earth-engine/datasets/catalog/WORLDCLIM_V1_MONTHLY#bands).\n"
      ]
    },
    {
      "cell_type": "code",
      "metadata": {
        "id": "fvdbIObja-qR"
      },
      "source": [
        "# worldclim data on GEE\n",
        "# https://developers.google.com/earth-engine/datasets/catalog/WORLDCLIM_V1_MONTHLY#bands\n",
        "wcband_sel = ['tavg', 'prec']\n",
        "worldclim = ee.ImageCollection(\"WORLDCLIM/V1/MONTHLY\").select(wcband_sel)\n",
        "worldclim_mosaic = worldclim.mean().rename(wcband_sel) "
      ],
      "execution_count": null,
      "outputs": []
    },
    {
      "cell_type": "code",
      "metadata": {
        "id": "E77xcUU8edy0"
      },
      "source": [
        "raster_name_wc = 'wc_monthly'\n",
        "wc_data = op.join(crop_data, 'worldclim')\n",
        "if not op.isdir(wc_data):\n",
        "  makedirs(wc_data)\n",
        "\n",
        "for i, (lat, long) in enumerate(zip(wheat_2018.Lat, wheat_2018.Long)):\n",
        "  aoi = ee.Geometry.Rectangle([(long - 0.01), (lat - 0.01), (long + 0.01), (lat + 0.01), ])\n",
        "# Export the image, specifying scale and region.\n",
        "# Warning, This specific export takes at least 1 hour, and 700+ MB\n",
        "# There may be a bug here, not sure GEE export can write to a folder beyond depth 1 in a google drive\n",
        "  task = ee.batch.Export.image.toDrive(**{\n",
        "      'image': worldclim_mosaic,\n",
        "      'description': f'WC_2020_{i}',\n",
        "      'folder': wc_data,\n",
        "      'fileNamePrefix': f'{raster_name_wc}_{i}',\n",
        "      'scale': 10,\n",
        "      'region': aoi,\n",
        "      'fileFormat': 'GeoTIFF',\n",
        "      'formatOptions': {\n",
        "        'cloudOptimized': 'true'\n",
        "      },\n",
        "  })\n",
        "\n",
        "  # This task will run in the background even if you close this notebook.\n",
        "  # You can also check on the status of the task through the Javascript GEE interface\n",
        "  # https://code.earthengine.google.com\n",
        "  task.start()"
      ],
      "execution_count": null,
      "outputs": []
    },
    {
      "cell_type": "markdown",
      "metadata": {
        "id": "OUmIdQJTeh5D"
      },
      "source": [
        "### Combine Sentinel-2 and Worldclim data "
      ]
    },
    {
      "cell_type": "code",
      "metadata": {
        "id": "UuLQU84Wfrn0"
      },
      "source": [
        "# Helper functions\n",
        "def normalized_arr(ls_data):\n",
        "  \"\"\"normalized data \n",
        "  Args:\n",
        "      np_array: data in a list\n",
        "  Returns:\n",
        "      x_scaled: rescaled/nomalized data in the value range between 0 and 1\n",
        "  \"\"\"\n",
        "  arr = np.array(ls_data)\n",
        "  #normalized the data \n",
        "  min_max_scaler = preprocessing.MinMaxScaler()\n",
        "  x_scaled = min_max_scaler.fit_transform(arr)\n",
        "  return x_scaled\n",
        "\n",
        "def construct_indices(band1, band2):\n",
        "  \"\"\"compute band indices\n",
        "  Args:\n",
        "      band1, band2: specific band data \n",
        "  Returns:\n",
        "      ind: index, e.g. ndvi\n",
        "  \"\"\"\n",
        "  ind = (band1 - band2)/(band1 + band2)\n",
        "  return ind"
      ],
      "execution_count": 5,
      "outputs": []
    },
    {
      "cell_type": "markdown",
      "metadata": {
        "id": "WzbLSHqne2jI"
      },
      "source": [
        "#### Sentinel-2 data reconstruction"
      ]
    },
    {
      "cell_type": "code",
      "metadata": {
        "id": "mA_0Rxcjexjh"
      },
      "source": [
        "# Reference the raster on disk.\n",
        "bands = []\n",
        "for i in range(len(wheat_2018)):\n",
        "  raster = op.join(crop_data,'mosaic_s2',f'S2_mosaic_Terai_Nepal_2018_{i}.tif')\n",
        "  with rasterio.open(raster, 'r') as src:\n",
        "    frsc = src.read()\n",
        "    print(frsc.mean(axis=(1, 2)))\n",
        "    bands.append(frsc.mean(axis=(1, 2)))"
      ],
      "execution_count": null,
      "outputs": []
    },
    {
      "cell_type": "code",
      "metadata": {
        "id": "YX9_BNSefd3U"
      },
      "source": [
        "band_arr = normalized_arr(bands)\n",
        "bands_df = pd.DataFrame(band_arr, columns=['B2', 'B3', 'B4', 'B8', 'B11', 'B12'])\n"
      ],
      "execution_count": null,
      "outputs": []
    },
    {
      "cell_type": "code",
      "metadata": {
        "id": "JSnLMce9hO7r"
      },
      "source": [
        "bands_df['ndvi'] = construct_indices(bands_df.B8, bands_df.B4)\n",
        "bands_df['ndwi'] = construct_indices(bands_df.B8, bands_df.B3)\n",
        "bands_df.head()"
      ],
      "execution_count": null,
      "outputs": []
    },
    {
      "cell_type": "markdown",
      "metadata": {
        "id": "Zfz-lhzJhi_Y"
      },
      "source": [
        "### Adding Worldclim data"
      ]
    },
    {
      "cell_type": "code",
      "metadata": {
        "id": "ta5Z0-duhfy1"
      },
      "source": [
        "wcs = []\n",
        "for i in range(len(wheat_2018)):\n",
        "  raster = op.join(crop_data,'worldclim',f'wc_monthly_{i}.tif')\n",
        "  with rasterio.open(raster, 'r') as src:\n",
        "    frsc = src.read()\n",
        "    print(frsc.mean(axis=(1, 2)))\n",
        "    wcs.append(frsc.mean(axis=(1, 2)))"
      ],
      "execution_count": null,
      "outputs": []
    },
    {
      "cell_type": "code",
      "metadata": {
        "id": "wGrSl83xiTwi"
      },
      "source": [
        "wc_arr = normalized_arr(wcs)\n",
        "wcs_df = pd.DataFrame(wc_arr, columns=['tavg', 'prec'])\n",
        "wcs_df.head()"
      ],
      "execution_count": null,
      "outputs": []
    },
    {
      "cell_type": "markdown",
      "metadata": {
        "id": "rUUQcRLKhv7i"
      },
      "source": [
        "### Concatenate Sentinel-2 and Worldclim to the wheat yield dataframe "
      ]
    },
    {
      "cell_type": "code",
      "metadata": {
        "id": "-0kLsujPh3ac"
      },
      "source": [
        "dfs = [bands_df, wcs_df, wheat_2018]\n",
        "wheat_2010_all = pd.concat(dfs, axis=1)\n",
        "wheat_2010_all.head()"
      ],
      "execution_count": null,
      "outputs": []
    },
    {
      "cell_type": "markdown",
      "metadata": {
        "id": "8GkvjWALi6LP"
      },
      "source": [
        "## Crop yield modeling with XGBoost\n",
        "\n",
        "Beginer friendly XGBoost regressor [tutorial](https://www.datacamp.com/community/tutorials/xgboost-in-python)\n",
        "\n",
        "More parameter search and tunning [tutorial](https://xgboost.readthedocs.io/en/latest/tutorials/custom_metric_obj.html)\n",
        "\n",
        "Best ways to evaluate regression model: [3 Best metrics to evaluate Regression Model?](https://towardsdatascience.com/what-are-the-best-metrics-to-evaluate-your-regression-model-418ca481755b)"
      ]
    },
    {
      "cell_type": "markdown",
      "metadata": {
        "id": "9e0agukPjA5v"
      },
      "source": [
        "### Train Model Using k-fold Cross Validation"
      ]
    },
    {
      "cell_type": "code",
      "metadata": {
        "id": "yhch76uAi_aH"
      },
      "source": [
        "X = wheat_2010_all[['PH', 'OM', 'B2', 'B3', 'B4', 'B8', 'B11', 'B12', 'ndvi', 'ndwi', 'tavg', 'prec']]\n",
        "y= wheat_2010_all.wheat_yield\n",
        "\n",
        "X_train, X_test, y_train, y_test = train_test_split(X, y, test_size=0.2, random_state=123)"
      ],
      "execution_count": null,
      "outputs": []
    },
    {
      "cell_type": "markdown",
      "metadata": {
        "id": "eCeYmmsQL6Ye"
      },
      "source": [
        "Configure the Model"
      ]
    },
    {
      "cell_type": "code",
      "metadata": {
        "id": "948GgFuKxup1"
      },
      "source": [
        "xg_reg = xgb.XGBRegressor(objective ='reg:linear',\n",
        "                colsample_bytree = 0.3, \n",
        "                learning_rate = 0.1,                          \n",
        "                max_depth = 5, \n",
        "                alpha = 10, \n",
        "                n_estimators = 10)"
      ],
      "execution_count": null,
      "outputs": []
    },
    {
      "cell_type": "markdown",
      "metadata": {
        "id": "s8WA6XEsL8Cw"
      },
      "source": [
        "Fit the Model then Predict"
      ]
    },
    {
      "cell_type": "code",
      "metadata": {
        "id": "u3n2kHFAxyXO"
      },
      "source": [
        "xg_reg.fit(X_train,y_train)\n",
        "\n",
        "preds = xg_reg.predict(X_test)"
      ],
      "execution_count": null,
      "outputs": []
    },
    {
      "cell_type": "markdown",
      "metadata": {
        "id": "1iGK8T6vLrci"
      },
      "source": [
        "### Evaluate the Model"
      ]
    },
    {
      "cell_type": "code",
      "metadata": {
        "id": "pDvoVPHfysx4"
      },
      "source": [
        "rmse = np.sqrt(mean_squared_error(y_test, preds))\n",
        "print(\"RMSE: %f\" % (rmse))"
      ],
      "execution_count": null,
      "outputs": []
    },
    {
      "cell_type": "code",
      "metadata": {
        "id": "-cfsa-OW6ybQ"
      },
      "source": [
        ""
      ],
      "execution_count": null,
      "outputs": []
    }
  ]
}