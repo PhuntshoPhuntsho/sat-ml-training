{
  "nbformat": 4,
  "nbformat_minor": 0,
  "metadata": {
    "colab": {
      "name": "crop_yield_modeling_with_XGBoost.ipynb",
      "provenance": [],
      "toc_visible": true
    },
    "kernelspec": {
      "name": "python3",
      "display_name": "Python 3"
    }
  },
  "cells": [
    {
      "cell_type": "markdown",
      "metadata": {
        "id": "GQd7ELsRWkBI"
      },
      "source": [
        "# Crop yield modeling at district level\n",
        "\n",
        "Using RandomForest Classifier and XGBoost for crop yield modeling in Nepal\n",
        "\n",
        "- toc: true\n",
        "- badges: true\n",
        "- author: Zhuang-Fang Yi\n",
        "- comments: false\n",
        "- hide: false\n",
        "- stick_rank: 5"
      ]
    },
    {
      "cell_type": "markdown",
      "metadata": {
        "id": "yBtvtAIjW8He"
      },
      "source": [
        "\n",
        "This notebook teaches you how to read satellite imagery (Sentinal-2) from **Google Earth Engine** together with other data, e.g. WorldClimb, and aggregate them for crop yield modeling in four districts of Nepal with a RandomForest Regression and XGBoost. \n",
        "\n",
        "\n",
        "If you would like to replicate the workflow with the same data on your local machine, please mount the data from our shared [Google Drive folder](https://drive.google.com/drive/folders/1jM2mBsJ81QfmyaKZNeXSTyi_IOVr_3Vs?usp=sharing).\n",
        "\n",
        "\n"
      ]
    },
    {
      "cell_type": "code",
      "metadata": {
        "id": "M9_3B25LWo5P"
      },
      "source": [
        "!pip install geopandas shapely scikit-learn treeinterpreter rasterio rasterstats folium "
      ],
      "execution_count": null,
      "outputs": []
    },
    {
      "cell_type": "code",
      "metadata": {
        "id": "tdD3j-TRWvA8"
      },
      "source": [
        "%matplotlib inline\n",
        "import os \n",
        "from os import makedirs, path as op\n",
        "import matplotlib\n",
        "import numpy as np\n",
        "import rasterio\n",
        "import geopandas as gpd\n",
        "import pandas as pd\n",
        "import shapely\n",
        "import folium\n",
        "import json\n",
        "\n",
        "from sklearn import preprocessing\n",
        "import xgboost as xgb\n",
        "from sklearn.metrics import mean_squared_error\n",
        "from sklearn.model_selection import GridSearchCV \n",
        "from sklearn.model_selection import train_test_split"
      ],
      "execution_count": 32,
      "outputs": []
    },
    {
      "cell_type": "code",
      "metadata": {
        "id": "vvja1P5_XRve",
        "outputId": "5b9aee76-e78f-4267-e88e-aa3865249e5d",
        "colab": {
          "base_uri": "https://localhost:8080/",
          "height": 34
        }
      },
      "source": [
        "from google.colab import drive\n",
        "drive.mount('/content/drive/', force_remount=True)\n",
        "# your root directory for outputs is set to your google drive\n",
        "# you should create a sub-folder called data under your 'Colab Notebooks'.\n",
        "# An example is in https://developmentseed.org/sat-ml-training/GettingStarted#Explore-your-drive\n",
        "my_root_dir = \"/content/drive/My Drive/Colab Notebooks/data\"\n",
        "crop_data = '/content/drive/Shared drives/servir-sat-ml/data/crop_yield/'\n",
        "# crop_data = '/content/drive/My Drive/SERVIR-HKH-crop-yield/crop_yield'"
      ],
      "execution_count": 4,
      "outputs": [
        {
          "output_type": "stream",
          "text": [
            "Mounted at /content/drive/\n"
          ],
          "name": "stdout"
        }
      ]
    },
    {
      "cell_type": "markdown",
      "metadata": {
        "id": "fAcySJD4XgOw"
      },
      "source": [
        "## Wheat yield data in 2018 in Nepal\n",
        "\n",
        "The following dataset contain 145 field measurement of wheat yield data. "
      ]
    },
    {
      "cell_type": "code",
      "metadata": {
        "id": "wLuTaOaGXcyE",
        "outputId": "fbf82312-3a7f-45ab-ab83-2de3e2f40cf8",
        "colab": {
          "base_uri": "https://localhost:8080/",
          "height": 374
        }
      },
      "source": [
        "# reading collected wheat productivity data from excel.\n",
        "wheat_2018 = pd.read_excel(op.join(crop_data, 'Wheat yield_Field_Demonstrartion_sites_2018.xlsx'))\n",
        "wheat_2018.head()"
      ],
      "execution_count": 5,
      "outputs": [
        {
          "output_type": "execute_result",
          "data": {
            "text/html": [
              "<div>\n",
              "<style scoped>\n",
              "    .dataframe tbody tr th:only-of-type {\n",
              "        vertical-align: middle;\n",
              "    }\n",
              "\n",
              "    .dataframe tbody tr th {\n",
              "        vertical-align: top;\n",
              "    }\n",
              "\n",
              "    .dataframe thead th {\n",
              "        text-align: right;\n",
              "    }\n",
              "</style>\n",
              "<table border=\"1\" class=\"dataframe\">\n",
              "  <thead>\n",
              "    <tr style=\"text-align: right;\">\n",
              "      <th></th>\n",
              "      <th>Unnamed: 0</th>\n",
              "      <th>Lat</th>\n",
              "      <th>Long</th>\n",
              "      <th>District</th>\n",
              "      <th>VDC</th>\n",
              "      <th>Farmer</th>\n",
              "      <th>Treat</th>\n",
              "      <th>Grainwt</th>\n",
              "      <th>straw wt.</th>\n",
              "      <th>grain moisture %, from moisture meter</th>\n",
              "      <th>wheat variety</th>\n",
              "      <th>1000 Grain wt before oven dry + envelop</th>\n",
              "      <th>1000 Grain wt after oven dry + envelop</th>\n",
              "      <th>Envelop wt.</th>\n",
              "      <th>straw wt before overn dry +envelop</th>\n",
              "      <th>straw wt. after overn dry + envelop</th>\n",
              "      <th>Unnamed: 16</th>\n",
              "      <th>PH</th>\n",
              "      <th>OM</th>\n",
              "    </tr>\n",
              "  </thead>\n",
              "  <tbody>\n",
              "    <tr>\n",
              "      <th>0</th>\n",
              "      <td>1</td>\n",
              "      <td>28.980</td>\n",
              "      <td>80.193</td>\n",
              "      <td>Kanchanpur</td>\n",
              "      <td>Suda/BDM</td>\n",
              "      <td>Ram Bahadur Chaudhary</td>\n",
              "      <td>D1</td>\n",
              "      <td>383</td>\n",
              "      <td>358.4</td>\n",
              "      <td>11.6</td>\n",
              "      <td>Banganga</td>\n",
              "      <td>57.09</td>\n",
              "      <td>53.92</td>\n",
              "      <td>NaN</td>\n",
              "      <td>NaN</td>\n",
              "      <td>NaN</td>\n",
              "      <td>NaN</td>\n",
              "      <td>7.817228</td>\n",
              "      <td>1.688501</td>\n",
              "    </tr>\n",
              "    <tr>\n",
              "      <th>1</th>\n",
              "      <td>2</td>\n",
              "      <td>28.980</td>\n",
              "      <td>80.193</td>\n",
              "      <td>Kanchanpur</td>\n",
              "      <td>Suda/BDM</td>\n",
              "      <td>Ram Bahadur Chaudhary</td>\n",
              "      <td>D2</td>\n",
              "      <td>375</td>\n",
              "      <td>329.0</td>\n",
              "      <td>11.6</td>\n",
              "      <td>Tilganga</td>\n",
              "      <td>53.53</td>\n",
              "      <td>50.62</td>\n",
              "      <td>NaN</td>\n",
              "      <td>NaN</td>\n",
              "      <td>NaN</td>\n",
              "      <td>NaN</td>\n",
              "      <td>7.817228</td>\n",
              "      <td>1.688501</td>\n",
              "    </tr>\n",
              "    <tr>\n",
              "      <th>2</th>\n",
              "      <td>3</td>\n",
              "      <td>28.980</td>\n",
              "      <td>80.193</td>\n",
              "      <td>Kanchanpur</td>\n",
              "      <td>Suda/BDM</td>\n",
              "      <td>Ram Bahadur Chaudhary</td>\n",
              "      <td>D3</td>\n",
              "      <td>173</td>\n",
              "      <td>249.0</td>\n",
              "      <td>11.6</td>\n",
              "      <td>NHS 1755</td>\n",
              "      <td>43.20</td>\n",
              "      <td>40.44</td>\n",
              "      <td>NaN</td>\n",
              "      <td>NaN</td>\n",
              "      <td>NaN</td>\n",
              "      <td>NaN</td>\n",
              "      <td>7.817228</td>\n",
              "      <td>1.688501</td>\n",
              "    </tr>\n",
              "    <tr>\n",
              "      <th>3</th>\n",
              "      <td>4</td>\n",
              "      <td>28.986</td>\n",
              "      <td>80.188</td>\n",
              "      <td>Kanchanpur</td>\n",
              "      <td>Suda/BDM</td>\n",
              "      <td>Jhelu ram chaudhary</td>\n",
              "      <td>D1</td>\n",
              "      <td>502</td>\n",
              "      <td>540.0</td>\n",
              "      <td>10.8</td>\n",
              "      <td>NL 971</td>\n",
              "      <td>48.94</td>\n",
              "      <td>46.32</td>\n",
              "      <td>NaN</td>\n",
              "      <td>NaN</td>\n",
              "      <td>NaN</td>\n",
              "      <td>NaN</td>\n",
              "      <td>7.725938</td>\n",
              "      <td>1.644356</td>\n",
              "    </tr>\n",
              "    <tr>\n",
              "      <th>4</th>\n",
              "      <td>5</td>\n",
              "      <td>28.986</td>\n",
              "      <td>80.188</td>\n",
              "      <td>Kanchanpur</td>\n",
              "      <td>Suda/BDM</td>\n",
              "      <td>Jhelu ram chaudhary</td>\n",
              "      <td>D2</td>\n",
              "      <td>310</td>\n",
              "      <td>275.0</td>\n",
              "      <td>11.7</td>\n",
              "      <td>Vijay</td>\n",
              "      <td>66.12</td>\n",
              "      <td>62.50</td>\n",
              "      <td>NaN</td>\n",
              "      <td>NaN</td>\n",
              "      <td>NaN</td>\n",
              "      <td>NaN</td>\n",
              "      <td>7.725938</td>\n",
              "      <td>1.644356</td>\n",
              "    </tr>\n",
              "  </tbody>\n",
              "</table>\n",
              "</div>"
            ],
            "text/plain": [
              "   Unnamed: 0     Lat    Long  ... Unnamed: 16        PH        OM\n",
              "0           1  28.980  80.193  ...         NaN  7.817228  1.688501\n",
              "1           2  28.980  80.193  ...         NaN  7.817228  1.688501\n",
              "2           3  28.980  80.193  ...         NaN  7.817228  1.688501\n",
              "3           4  28.986  80.188  ...         NaN  7.725938  1.644356\n",
              "4           5  28.986  80.188  ...         NaN  7.725938  1.644356\n",
              "\n",
              "[5 rows x 19 columns]"
            ]
          },
          "metadata": {
            "tags": []
          },
          "execution_count": 5
        }
      ]
    },
    {
      "cell_type": "code",
      "metadata": {
        "id": "uNHl90VWX0yr",
        "outputId": "f2aba8c6-bf41-41bc-91fc-1a556ef1082f",
        "colab": {
          "base_uri": "https://localhost:8080/",
          "height": 204
        }
      },
      "source": [
        "# only keep the columns that interest us;\n",
        "wheat_2018 = wheat_2018[['Lat', 'Long', 'District','wheat variety', 'Treat', '1000 Grain wt after oven dry + envelop', 'PH', 'OM']]\n",
        "# rename the column names to be more readable\n",
        "wheat_2018 = wheat_2018.rename(columns={'wheat variety': 'wheat_variety', '1000 Grain wt after oven dry + envelop':'wheat_yield'})\n",
        "# turn the pandas dataframe into geopandas dataframe\n",
        "wheat_2018_pts = gpd.GeoDataFrame(wheat_2018, geometry=gpd.points_from_xy(wheat_2018.Long, wheat_2018.Lat))\n",
        "wheat_2018_pts.head()"
      ],
      "execution_count": 6,
      "outputs": [
        {
          "output_type": "execute_result",
          "data": {
            "text/html": [
              "<div>\n",
              "<style scoped>\n",
              "    .dataframe tbody tr th:only-of-type {\n",
              "        vertical-align: middle;\n",
              "    }\n",
              "\n",
              "    .dataframe tbody tr th {\n",
              "        vertical-align: top;\n",
              "    }\n",
              "\n",
              "    .dataframe thead th {\n",
              "        text-align: right;\n",
              "    }\n",
              "</style>\n",
              "<table border=\"1\" class=\"dataframe\">\n",
              "  <thead>\n",
              "    <tr style=\"text-align: right;\">\n",
              "      <th></th>\n",
              "      <th>Lat</th>\n",
              "      <th>Long</th>\n",
              "      <th>District</th>\n",
              "      <th>wheat_variety</th>\n",
              "      <th>Treat</th>\n",
              "      <th>wheat_yield</th>\n",
              "      <th>PH</th>\n",
              "      <th>OM</th>\n",
              "      <th>geometry</th>\n",
              "    </tr>\n",
              "  </thead>\n",
              "  <tbody>\n",
              "    <tr>\n",
              "      <th>0</th>\n",
              "      <td>28.980</td>\n",
              "      <td>80.193</td>\n",
              "      <td>Kanchanpur</td>\n",
              "      <td>Banganga</td>\n",
              "      <td>D1</td>\n",
              "      <td>53.92</td>\n",
              "      <td>7.817228</td>\n",
              "      <td>1.688501</td>\n",
              "      <td>POINT (80.19300 28.98000)</td>\n",
              "    </tr>\n",
              "    <tr>\n",
              "      <th>1</th>\n",
              "      <td>28.980</td>\n",
              "      <td>80.193</td>\n",
              "      <td>Kanchanpur</td>\n",
              "      <td>Tilganga</td>\n",
              "      <td>D2</td>\n",
              "      <td>50.62</td>\n",
              "      <td>7.817228</td>\n",
              "      <td>1.688501</td>\n",
              "      <td>POINT (80.19300 28.98000)</td>\n",
              "    </tr>\n",
              "    <tr>\n",
              "      <th>2</th>\n",
              "      <td>28.980</td>\n",
              "      <td>80.193</td>\n",
              "      <td>Kanchanpur</td>\n",
              "      <td>NHS 1755</td>\n",
              "      <td>D3</td>\n",
              "      <td>40.44</td>\n",
              "      <td>7.817228</td>\n",
              "      <td>1.688501</td>\n",
              "      <td>POINT (80.19300 28.98000)</td>\n",
              "    </tr>\n",
              "    <tr>\n",
              "      <th>3</th>\n",
              "      <td>28.986</td>\n",
              "      <td>80.188</td>\n",
              "      <td>Kanchanpur</td>\n",
              "      <td>NL 971</td>\n",
              "      <td>D1</td>\n",
              "      <td>46.32</td>\n",
              "      <td>7.725938</td>\n",
              "      <td>1.644356</td>\n",
              "      <td>POINT (80.18800 28.98600)</td>\n",
              "    </tr>\n",
              "    <tr>\n",
              "      <th>4</th>\n",
              "      <td>28.986</td>\n",
              "      <td>80.188</td>\n",
              "      <td>Kanchanpur</td>\n",
              "      <td>Vijay</td>\n",
              "      <td>D2</td>\n",
              "      <td>62.50</td>\n",
              "      <td>7.725938</td>\n",
              "      <td>1.644356</td>\n",
              "      <td>POINT (80.18800 28.98600)</td>\n",
              "    </tr>\n",
              "  </tbody>\n",
              "</table>\n",
              "</div>"
            ],
            "text/plain": [
              "      Lat    Long    District  ...        PH        OM                   geometry\n",
              "0  28.980  80.193  Kanchanpur  ...  7.817228  1.688501  POINT (80.19300 28.98000)\n",
              "1  28.980  80.193  Kanchanpur  ...  7.817228  1.688501  POINT (80.19300 28.98000)\n",
              "2  28.980  80.193  Kanchanpur  ...  7.817228  1.688501  POINT (80.19300 28.98000)\n",
              "3  28.986  80.188  Kanchanpur  ...  7.725938  1.644356  POINT (80.18800 28.98600)\n",
              "4  28.986  80.188  Kanchanpur  ...  7.725938  1.644356  POINT (80.18800 28.98600)\n",
              "\n",
              "[5 rows x 9 columns]"
            ]
          },
          "metadata": {
            "tags": []
          },
          "execution_count": 6
        }
      ]
    },
    {
      "cell_type": "markdown",
      "metadata": {
        "id": "CFP3PoTzYIIq"
      },
      "source": [
        "### Basic stats of the wheat yield field measurements"
      ]
    },
    {
      "cell_type": "code",
      "metadata": {
        "id": "PkUSAvFTYOO5",
        "outputId": "a0d0b287-358c-4011-c0b9-aeadebe7ef68",
        "colab": {
          "base_uri": "https://localhost:8080/",
          "height": 34
        }
      },
      "source": [
        "## the field measurements located in these few districts\n",
        "pd.Series(wheat_2018.District).unique()"
      ],
      "execution_count": 7,
      "outputs": [
        {
          "output_type": "execute_result",
          "data": {
            "text/plain": [
              "array(['Kanchanpur', 'Kailali', 'Bardiya', 'Banke'], dtype=object)"
            ]
          },
          "metadata": {
            "tags": []
          },
          "execution_count": 7
        }
      ]
    },
    {
      "cell_type": "code",
      "metadata": {
        "id": "UHWTXl-AYYGC",
        "outputId": "239ef9f2-4ac2-41d8-8563-47d5e9b07153",
        "colab": {
          "base_uri": "https://localhost:8080/",
          "height": 450
        }
      },
      "source": [
        "# see wheat yield differences by the districts by wheat variety\n",
        "wheat_2018.groupby(by=['District', 'wheat_variety', 'wheat_yield']).mean()\n"
      ],
      "execution_count": 9,
      "outputs": [
        {
          "output_type": "execute_result",
          "data": {
            "text/html": [
              "<div>\n",
              "<style scoped>\n",
              "    .dataframe tbody tr th:only-of-type {\n",
              "        vertical-align: middle;\n",
              "    }\n",
              "\n",
              "    .dataframe tbody tr th {\n",
              "        vertical-align: top;\n",
              "    }\n",
              "\n",
              "    .dataframe thead th {\n",
              "        text-align: right;\n",
              "    }\n",
              "</style>\n",
              "<table border=\"1\" class=\"dataframe\">\n",
              "  <thead>\n",
              "    <tr style=\"text-align: right;\">\n",
              "      <th></th>\n",
              "      <th></th>\n",
              "      <th></th>\n",
              "      <th>Lat</th>\n",
              "      <th>Long</th>\n",
              "      <th>PH</th>\n",
              "      <th>OM</th>\n",
              "    </tr>\n",
              "    <tr>\n",
              "      <th>District</th>\n",
              "      <th>wheat_variety</th>\n",
              "      <th>wheat_yield</th>\n",
              "      <th></th>\n",
              "      <th></th>\n",
              "      <th></th>\n",
              "      <th></th>\n",
              "    </tr>\n",
              "  </thead>\n",
              "  <tbody>\n",
              "    <tr>\n",
              "      <th rowspan=\"5\" valign=\"top\">Banke</th>\n",
              "      <th rowspan=\"3\" valign=\"top\">Banganga</th>\n",
              "      <th>47.052</th>\n",
              "      <td>28.014</td>\n",
              "      <td>81.648</td>\n",
              "      <td>6.726876</td>\n",
              "      <td>2.533213</td>\n",
              "    </tr>\n",
              "    <tr>\n",
              "      <th>51.527</th>\n",
              "      <td>28.112</td>\n",
              "      <td>81.519</td>\n",
              "      <td>7.147999</td>\n",
              "      <td>1.914062</td>\n",
              "    </tr>\n",
              "    <tr>\n",
              "      <th>56.441</th>\n",
              "      <td>28.103</td>\n",
              "      <td>81.532</td>\n",
              "      <td>7.236275</td>\n",
              "      <td>2.158890</td>\n",
              "    </tr>\n",
              "    <tr>\n",
              "      <th rowspan=\"2\" valign=\"top\">Indian Hybrid 2285</th>\n",
              "      <th>38.719</th>\n",
              "      <td>28.014</td>\n",
              "      <td>81.648</td>\n",
              "      <td>6.726876</td>\n",
              "      <td>2.533213</td>\n",
              "    </tr>\n",
              "    <tr>\n",
              "      <th>39.000</th>\n",
              "      <td>28.014</td>\n",
              "      <td>81.648</td>\n",
              "      <td>6.726876</td>\n",
              "      <td>2.533213</td>\n",
              "    </tr>\n",
              "    <tr>\n",
              "      <th>...</th>\n",
              "      <th>...</th>\n",
              "      <th>...</th>\n",
              "      <td>...</td>\n",
              "      <td>...</td>\n",
              "      <td>...</td>\n",
              "      <td>...</td>\n",
              "    </tr>\n",
              "    <tr>\n",
              "      <th rowspan=\"5\" valign=\"top\">Kanchanpur</th>\n",
              "      <th rowspan=\"5\" valign=\"top\">Vijay</th>\n",
              "      <th>48.820</th>\n",
              "      <td>28.725</td>\n",
              "      <td>80.392</td>\n",
              "      <td>7.276500</td>\n",
              "      <td>1.580601</td>\n",
              "    </tr>\n",
              "    <tr>\n",
              "      <th>49.040</th>\n",
              "      <td>28.725</td>\n",
              "      <td>80.393</td>\n",
              "      <td>7.276500</td>\n",
              "      <td>1.580601</td>\n",
              "    </tr>\n",
              "    <tr>\n",
              "      <th>51.500</th>\n",
              "      <td>28.762</td>\n",
              "      <td>80.384</td>\n",
              "      <td>7.545557</td>\n",
              "      <td>1.371276</td>\n",
              "    </tr>\n",
              "    <tr>\n",
              "      <th>57.340</th>\n",
              "      <td>28.986</td>\n",
              "      <td>80.188</td>\n",
              "      <td>7.725938</td>\n",
              "      <td>1.644356</td>\n",
              "    </tr>\n",
              "    <tr>\n",
              "      <th>62.500</th>\n",
              "      <td>28.986</td>\n",
              "      <td>80.188</td>\n",
              "      <td>7.725938</td>\n",
              "      <td>1.644356</td>\n",
              "    </tr>\n",
              "  </tbody>\n",
              "</table>\n",
              "<p>145 rows × 4 columns</p>\n",
              "</div>"
            ],
            "text/plain": [
              "                                              Lat    Long        PH        OM\n",
              "District   wheat_variety      wheat_yield                                    \n",
              "Banke      Banganga           47.052       28.014  81.648  6.726876  2.533213\n",
              "                              51.527       28.112  81.519  7.147999  1.914062\n",
              "                              56.441       28.103  81.532  7.236275  2.158890\n",
              "           Indian Hybrid 2285 38.719       28.014  81.648  6.726876  2.533213\n",
              "                              39.000       28.014  81.648  6.726876  2.533213\n",
              "...                                           ...     ...       ...       ...\n",
              "Kanchanpur Vijay              48.820       28.725  80.392  7.276500  1.580601\n",
              "                              49.040       28.725  80.393  7.276500  1.580601\n",
              "                              51.500       28.762  80.384  7.545557  1.371276\n",
              "                              57.340       28.986  80.188  7.725938  1.644356\n",
              "                              62.500       28.986  80.188  7.725938  1.644356\n",
              "\n",
              "[145 rows x 4 columns]"
            ]
          },
          "metadata": {
            "tags": []
          },
          "execution_count": 9
        }
      ]
    },
    {
      "cell_type": "code",
      "metadata": {
        "id": "rdEEfvBfYiup",
        "outputId": "d4bfd43d-ac3b-44c5-f00c-18071e16e7c9",
        "colab": {
          "base_uri": "https://localhost:8080/",
          "height": 450
        }
      },
      "source": [
        "# see wheat yield differences by the districs by wheat treatment\n",
        "wheat_2018.groupby(by=['District', 'Treat', 'wheat_yield']).mean()"
      ],
      "execution_count": 11,
      "outputs": [
        {
          "output_type": "execute_result",
          "data": {
            "text/html": [
              "<div>\n",
              "<style scoped>\n",
              "    .dataframe tbody tr th:only-of-type {\n",
              "        vertical-align: middle;\n",
              "    }\n",
              "\n",
              "    .dataframe tbody tr th {\n",
              "        vertical-align: top;\n",
              "    }\n",
              "\n",
              "    .dataframe thead th {\n",
              "        text-align: right;\n",
              "    }\n",
              "</style>\n",
              "<table border=\"1\" class=\"dataframe\">\n",
              "  <thead>\n",
              "    <tr style=\"text-align: right;\">\n",
              "      <th></th>\n",
              "      <th></th>\n",
              "      <th></th>\n",
              "      <th>Lat</th>\n",
              "      <th>Long</th>\n",
              "      <th>PH</th>\n",
              "      <th>OM</th>\n",
              "    </tr>\n",
              "    <tr>\n",
              "      <th>District</th>\n",
              "      <th>Treat</th>\n",
              "      <th>wheat_yield</th>\n",
              "      <th></th>\n",
              "      <th></th>\n",
              "      <th></th>\n",
              "      <th></th>\n",
              "    </tr>\n",
              "  </thead>\n",
              "  <tbody>\n",
              "    <tr>\n",
              "      <th rowspan=\"5\" valign=\"top\">Banke</th>\n",
              "      <th rowspan=\"5\" valign=\"top\">D1</th>\n",
              "      <th>47.052</th>\n",
              "      <td>28.014</td>\n",
              "      <td>81.648</td>\n",
              "      <td>6.726876</td>\n",
              "      <td>2.533213</td>\n",
              "    </tr>\n",
              "    <tr>\n",
              "      <th>49.360</th>\n",
              "      <td>28.116</td>\n",
              "      <td>81.509</td>\n",
              "      <td>7.258894</td>\n",
              "      <td>1.992826</td>\n",
              "    </tr>\n",
              "    <tr>\n",
              "      <th>51.527</th>\n",
              "      <td>28.112</td>\n",
              "      <td>81.519</td>\n",
              "      <td>7.147999</td>\n",
              "      <td>1.914062</td>\n",
              "    </tr>\n",
              "    <tr>\n",
              "      <th>56.441</th>\n",
              "      <td>28.103</td>\n",
              "      <td>81.532</td>\n",
              "      <td>7.236275</td>\n",
              "      <td>2.158890</td>\n",
              "    </tr>\n",
              "    <tr>\n",
              "      <th>57.303</th>\n",
              "      <td>27.999</td>\n",
              "      <td>81.648</td>\n",
              "      <td>7.128771</td>\n",
              "      <td>2.460318</td>\n",
              "    </tr>\n",
              "    <tr>\n",
              "      <th>...</th>\n",
              "      <th>...</th>\n",
              "      <th>...</th>\n",
              "      <td>...</td>\n",
              "      <td>...</td>\n",
              "      <td>...</td>\n",
              "      <td>...</td>\n",
              "    </tr>\n",
              "    <tr>\n",
              "      <th rowspan=\"5\" valign=\"top\">Kanchanpur</th>\n",
              "      <th rowspan=\"5\" valign=\"top\">D3</th>\n",
              "      <th>49.610</th>\n",
              "      <td>28.692</td>\n",
              "      <td>80.443</td>\n",
              "      <td>7.426368</td>\n",
              "      <td>2.039041</td>\n",
              "    </tr>\n",
              "    <tr>\n",
              "      <th>49.650</th>\n",
              "      <td>28.703</td>\n",
              "      <td>80.421</td>\n",
              "      <td>7.604704</td>\n",
              "      <td>3.244623</td>\n",
              "    </tr>\n",
              "    <tr>\n",
              "      <th>50.230</th>\n",
              "      <td>28.705</td>\n",
              "      <td>80.407</td>\n",
              "      <td>7.318987</td>\n",
              "      <td>3.131095</td>\n",
              "    </tr>\n",
              "    <tr>\n",
              "      <th>51.920</th>\n",
              "      <td>28.765</td>\n",
              "      <td>80.375</td>\n",
              "      <td>7.545557</td>\n",
              "      <td>1.371276</td>\n",
              "    </tr>\n",
              "    <tr>\n",
              "      <th>57.340</th>\n",
              "      <td>28.986</td>\n",
              "      <td>80.188</td>\n",
              "      <td>7.725938</td>\n",
              "      <td>1.644356</td>\n",
              "    </tr>\n",
              "  </tbody>\n",
              "</table>\n",
              "<p>145 rows × 4 columns</p>\n",
              "</div>"
            ],
            "text/plain": [
              "                                 Lat    Long        PH        OM\n",
              "District   Treat wheat_yield                                    \n",
              "Banke      D1    47.052       28.014  81.648  6.726876  2.533213\n",
              "                 49.360       28.116  81.509  7.258894  1.992826\n",
              "                 51.527       28.112  81.519  7.147999  1.914062\n",
              "                 56.441       28.103  81.532  7.236275  2.158890\n",
              "                 57.303       27.999  81.648  7.128771  2.460318\n",
              "...                              ...     ...       ...       ...\n",
              "Kanchanpur D3    49.610       28.692  80.443  7.426368  2.039041\n",
              "                 49.650       28.703  80.421  7.604704  3.244623\n",
              "                 50.230       28.705  80.407  7.318987  3.131095\n",
              "                 51.920       28.765  80.375  7.545557  1.371276\n",
              "                 57.340       28.986  80.188  7.725938  1.644356\n",
              "\n",
              "[145 rows x 4 columns]"
            ]
          },
          "metadata": {
            "tags": []
          },
          "execution_count": 11
        }
      ]
    },
    {
      "cell_type": "markdown",
      "metadata": {
        "id": "caKl8lLXYs1E"
      },
      "source": [
        "### Visualizing the field measurement on an interactive map"
      ]
    },
    {
      "cell_type": "code",
      "metadata": {
        "id": "AChw-k3FYpdv",
        "outputId": "5be28558-6101-4c17-96fc-c65c59064540",
        "colab": {
          "base_uri": "https://localhost:8080/",
          "height": 34
        }
      },
      "source": [
        "terai_bbox = gpd.GeoDataFrame(wheat_2018_pts).total_bounds\n",
        "x_map=(terai_bbox[0] + terai_bbox[2])/2\n",
        "y_map=(terai_bbox[1] + terai_bbox[3])/2\n",
        "print(f'bouding box for Terai area is {terai_bbox}, with centroid point {x_map},{y_map}')"
      ],
      "execution_count": 12,
      "outputs": [
        {
          "output_type": "stream",
          "text": [
            "bouding box for Terai area is [80.165 27.999 81.648 28.986], with centroid point 80.9065,28.4925\n"
          ],
          "name": "stdout"
        }
      ]
    },
    {
      "cell_type": "code",
      "metadata": {
        "id": "T7pvvpshY0yE",
        "outputId": "96224414-33e3-4905-f1b1-dc1f935ca9b0",
        "colab": {
          "base_uri": "https://localhost:8080/",
          "height": 1000
        }
      },
      "source": [
        "mymap = folium.Map(location=[y_map, x_map], zoom_start=11,tiles=None)\n",
        "folium.TileLayer('Stamen Terrain',name=\"Light Map\",control=False).add_to(mymap)\n",
        "\n",
        "tooltip = 'Click me!'\n",
        "for lat, lon,  wheat_variety, wheat_yield in zip(wheat_2018.Lat, wheat_2018.Long, wheat_2018.wheat_variety, wheat_2018.wheat_yield):\n",
        "  # print(lat, lon,  wheat_variety)\n",
        "  folium.Marker([lat,lon], popup=f'Wheat variety: {wheat_variety}, \\n Yield {wheat_yield}', tooltip=tooltip).add_to(mymap)\n",
        "\n",
        "mymap"
      ],
      "execution_count": 13,
      "outputs": [
        {
          "output_type": "execute_result",
          "data": {
            "text/html": [
              "<div style=\"width:100%;\"><div style=\"position:relative;width:100%;height:0;padding-bottom:60%;\"><span style=\"color:#565656\">Make this Notebook Trusted to load map: File -> Trust Notebook</span><iframe src=\"about:blank\" style=\"position:absolute;width:100%;height:100%;left:0;top:0;border:none !important;\" data-html=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 onload=\"this.contentDocument.open();this.contentDocument.write(atob(this.getAttribute('data-html')));this.contentDocument.close();\" allowfullscreen webkitallowfullscreen mozallowfullscreen></iframe></div></div>"
            ],
            "text/plain": [
              "<folium.folium.Map at 0x7fc560cce400>"
            ]
          },
          "metadata": {
            "tags": []
          },
          "execution_count": 13
        }
      ]
    },
    {
      "cell_type": "markdown",
      "metadata": {
        "id": "4biX4VJHY7vu"
      },
      "source": [
        "## Sentinel-2 and Worldclim data extraction from Google Earth Engine"
      ]
    },
    {
      "cell_type": "code",
      "metadata": {
        "id": "iUIA6JnwZFDs",
        "outputId": "b0ccfdbd-3187-4f70-b11c-197a0de41811",
        "colab": {
          "base_uri": "https://localhost:8080/",
          "height": 258
        }
      },
      "source": [
        "# If not on Colab you'll need install the earth-engine Python API\n",
        "#!pip install earthengine-api #earth-engine Python API\n",
        "\n",
        "# Athenticate to your GEE account. \n",
        "!earthengine authenticate"
      ],
      "execution_count": 14,
      "outputs": [
        {
          "output_type": "stream",
          "text": [
            "WARNING:tensorflow:From /usr/local/lib/python3.6/dist-packages/tensorflow/python/compat/v2_compat.py:96: disable_resource_variables (from tensorflow.python.ops.variable_scope) is deprecated and will be removed in a future version.\n",
            "Instructions for updating:\n",
            "non-resource variables are not supported in the long term\n",
            "Running command using Cloud API.  Set --no-use_cloud_api to go back to using the API\n",
            "\n",
            "To authorize access needed by Earth Engine, open the following URL in a web browser and follow the instructions. If the web browser does not start automatically, please manually browse the URL below.\n",
            "\n",
            "    https://accounts.google.com/o/oauth2/auth?client_id=517222506229-vsmmajv00ul0bs7p89v5m89qs8eb9359.apps.googleusercontent.com&scope=https%3A%2F%2Fwww.googleapis.com%2Fauth%2Fearthengine+https%3A%2F%2Fwww.googleapis.com%2Fauth%2Fdevstorage.full_control&redirect_uri=urn%3Aietf%3Awg%3Aoauth%3A2.0%3Aoob&response_type=code&code_challenge=su0gauW92d10tLnl2d3VRg7rFP2QGcM6EV-KF5Hw1u8&code_challenge_method=S256\n",
            "\n",
            "The authorization workflow will generate a code, which you should paste in the box below. \n",
            "Enter verification code: 4/4wGACwhEo_fbgsnIQYOMtPErfMFrghN3ix-VCSo5L6JRsNdnqzOVMhM\n",
            "\n",
            "Successfully saved authorization token.\n"
          ],
          "name": "stdout"
        }
      ]
    },
    {
      "cell_type": "code",
      "metadata": {
        "id": "J9rkbEdIY6oP"
      },
      "source": [
        "# Earth Engine Python API\n",
        "import ee \n",
        "ee.Initialize()"
      ],
      "execution_count": 15,
      "outputs": []
    },
    {
      "cell_type": "markdown",
      "metadata": {
        "id": "fdt8IenJZKAF"
      },
      "source": [
        "### Sentinel-2 imagery bands and indices composition\n",
        "\n",
        "The purpose of this excersice is we want to have bands and indices information that may be helpful to modeling wheat yiled from temporal and spatial perspective"
      ]
    },
    {
      "cell_type": "code",
      "metadata": {
        "id": "oaHPkdVAZfhM",
        "outputId": "fbf4bf9b-71f1-47f1-a43e-e94eaed6ea63",
        "colab": {
          "base_uri": "https://localhost:8080/",
          "height": 1000
        }
      },
      "source": [
        "# From GEE\n",
        "# If you are interested in using Landsat8 surface reflectance, see data over here https://developers.google.com/earth-engine/datasets/catalog/LANDSAT_LC08_C01_T1_SR#bands\n",
        "# The following steps showing how to extrac Sentinel-2 from GEE\n",
        "aoi = ee.Geometry.Rectangle(terai_bbox.tolist())\n",
        "band_sel = ('B2', 'B3', 'B4', 'B8', 'B11', 'B12')\n",
        "\n",
        "sentinel_scenes = ee.ImageCollection(\"COPERNICUS/S2\")\\\n",
        "    .filterBounds(aoi)\\\n",
        "    .filterDate('2018-01-01', '2018-12-31')\\\n",
        "    .select(band_sel)\\\n",
        "    .filter(ee.Filter.lte('CLOUDY_PIXEL_PERCENTAGE',10))\n",
        "\n",
        "scenes = sentinel_scenes.getInfo()\n",
        "[print(scene['id']) for scene in scenes[\"features\"]]\n",
        "\n",
        "sentinel_mosaic = sentinel_scenes.mean().rename(band_sel)\n",
        "\n",
        "sentinel_mosaic.getInfo()"
      ],
      "execution_count": 16,
      "outputs": [
        {
          "output_type": "stream",
          "text": [
            "COPERNICUS/S2/20180102T052221_20180102T052834_T44RMT\n",
            "COPERNICUS/S2/20180102T052221_20180102T052834_T44RNS\n",
            "COPERNICUS/S2/20180114T051139_20180114T051142_T44RMR\n",
            "COPERNICUS/S2/20180117T052139_20180117T052137_T44RMT\n",
            "COPERNICUS/S2/20180122T052111_20180122T052111_T44RMR\n",
            "COPERNICUS/S2/20180122T052111_20180122T052111_T44RMT\n",
            "COPERNICUS/S2/20180122T052111_20180122T052111_T44RNS\n",
            "COPERNICUS/S2/20180124T051109_20180124T051817_T44RMR\n",
            "COPERNICUS/S2/20180124T051109_20180124T051817_T44RMS\n",
            "COPERNICUS/S2/20180124T051109_20180124T051817_T44RNR\n",
            "COPERNICUS/S2/20180124T051109_20180124T051817_T44RNS\n",
            "COPERNICUS/S2/20180203T051019_20180203T051014_T44RMT\n",
            "COPERNICUS/S2/20180203T051019_20180203T051014_T44RNR\n",
            "COPERNICUS/S2/20180203T051019_20180203T051014_T44RNS\n",
            "COPERNICUS/S2/20180208T050951_20180208T051238_T44RMR\n",
            "COPERNICUS/S2/20180208T050951_20180208T051238_T44RMS\n",
            "COPERNICUS/S2/20180208T050951_20180208T051238_T44RNR\n",
            "COPERNICUS/S2/20180208T050951_20180208T051238_T44RNS\n",
            "COPERNICUS/S2/20180211T051941_20180211T052713_T44RNS\n",
            "COPERNICUS/S2/20180216T051859_20180216T052514_T44RMR\n",
            "COPERNICUS/S2/20180216T051859_20180216T052514_T44RMS\n",
            "COPERNICUS/S2/20180216T051859_20180216T052514_T44RMT\n",
            "COPERNICUS/S2/20180216T051859_20180216T052514_T44RNS\n",
            "COPERNICUS/S2/20180218T050851_20180218T051750_T44RMS\n",
            "COPERNICUS/S2/20180218T050851_20180218T051750_T44RMT\n",
            "COPERNICUS/S2/20180218T050851_20180218T051750_T44RNS\n",
            "COPERNICUS/S2/20180218T050851_20180218T052043_T44RMR\n",
            "COPERNICUS/S2/20180218T050851_20180218T052043_T44RMS\n",
            "COPERNICUS/S2/20180218T050851_20180218T052043_T44RMT\n",
            "COPERNICUS/S2/20180218T050851_20180218T052043_T44RNR\n",
            "COPERNICUS/S2/20180218T050851_20180218T052043_T44RNS\n",
            "COPERNICUS/S2/20180218T050851_20180218T052043_T44RNT\n",
            "COPERNICUS/S2/20180221T051831_20180221T051830_T44RMR\n",
            "COPERNICUS/S2/20180221T051831_20180221T051830_T44RMS\n",
            "COPERNICUS/S2/20180221T051831_20180221T051830_T44RMT\n",
            "COPERNICUS/S2/20180221T051831_20180221T051830_T44RNS\n",
            "COPERNICUS/S2/20180223T050809_20180223T051831_T44RMR\n",
            "COPERNICUS/S2/20180223T050809_20180223T051831_T44RMS\n",
            "COPERNICUS/S2/20180223T050809_20180223T051831_T44RMT\n",
            "COPERNICUS/S2/20180223T050809_20180223T051831_T44RNR\n",
            "COPERNICUS/S2/20180223T050809_20180223T051831_T44RNS\n",
            "COPERNICUS/S2/20180226T051749_20180226T052332_T44RMR\n",
            "COPERNICUS/S2/20180226T051749_20180226T052332_T44RMS\n",
            "COPERNICUS/S2/20180226T051749_20180226T052332_T44RMT\n",
            "COPERNICUS/S2/20180226T051749_20180226T052332_T44RNS\n",
            "COPERNICUS/S2/20180228T050741_20180228T051731_T44RMR\n",
            "COPERNICUS/S2/20180228T050741_20180228T051731_T44RMS\n",
            "COPERNICUS/S2/20180228T050741_20180228T051731_T44RMT\n",
            "COPERNICUS/S2/20180228T050741_20180228T051731_T44RNR\n",
            "COPERNICUS/S2/20180228T050741_20180228T051731_T44RNS\n",
            "COPERNICUS/S2/20180228T050741_20180228T051731_T44RNT\n",
            "COPERNICUS/S2/20180303T051721_20180303T052044_T44RMR\n",
            "COPERNICUS/S2/20180303T051721_20180303T052044_T44RMS\n",
            "COPERNICUS/S2/20180303T051721_20180303T052044_T44RMT\n",
            "COPERNICUS/S2/20180303T051721_20180303T052044_T44RNS\n",
            "COPERNICUS/S2/20180305T050659_20180305T050654_T44RMR\n",
            "COPERNICUS/S2/20180305T050659_20180305T050654_T44RMS\n",
            "COPERNICUS/S2/20180305T050659_20180305T050654_T44RMT\n",
            "COPERNICUS/S2/20180305T050659_20180305T050654_T44RNR\n",
            "COPERNICUS/S2/20180305T050659_20180305T050654_T44RNS\n",
            "COPERNICUS/S2/20180308T051639_20180308T052729_T44RMR\n",
            "COPERNICUS/S2/20180308T051639_20180308T052729_T44RMS\n",
            "COPERNICUS/S2/20180308T051639_20180308T052729_T44RMT\n",
            "COPERNICUS/S2/20180308T051639_20180308T052729_T44RNS\n",
            "COPERNICUS/S2/20180310T050651_20180310T051941_T44RMR\n",
            "COPERNICUS/S2/20180310T050651_20180310T051941_T44RMS\n",
            "COPERNICUS/S2/20180310T050651_20180310T051941_T44RNR\n",
            "COPERNICUS/S2/20180310T050651_20180310T051941_T44RNS\n",
            "COPERNICUS/S2/20180310T050651_20180310T051941_T44RNT\n",
            "COPERNICUS/S2/20180313T051651_20180313T052106_T44RMR\n",
            "COPERNICUS/S2/20180313T051651_20180313T052106_T44RMS\n",
            "COPERNICUS/S2/20180313T051651_20180313T052106_T44RNS\n",
            "COPERNICUS/S2/20180318T051649_20180318T052714_T44RMR\n",
            "COPERNICUS/S2/20180318T051649_20180318T052714_T44RMS\n",
            "COPERNICUS/S2/20180318T051649_20180318T052714_T44RMT\n",
            "COPERNICUS/S2/20180318T051649_20180318T052714_T44RNS\n",
            "COPERNICUS/S2/20180320T050651_20180320T051739_T44RMR\n",
            "COPERNICUS/S2/20180320T050651_20180320T051739_T44RMS\n",
            "COPERNICUS/S2/20180320T050651_20180320T051739_T44RMT\n",
            "COPERNICUS/S2/20180320T050651_20180320T051739_T44RNR\n",
            "COPERNICUS/S2/20180320T050651_20180320T051739_T44RNS\n",
            "COPERNICUS/S2/20180323T051651_20180323T052028_T44RMR\n",
            "COPERNICUS/S2/20180323T051651_20180323T052028_T44RMS\n",
            "COPERNICUS/S2/20180323T051651_20180323T052028_T44RMT\n",
            "COPERNICUS/S2/20180323T051651_20180323T052028_T44RNS\n",
            "COPERNICUS/S2/20180325T050649_20180325T052033_T44RMR\n",
            "COPERNICUS/S2/20180325T050649_20180325T052033_T44RMS\n",
            "COPERNICUS/S2/20180325T050649_20180325T052033_T44RMT\n",
            "COPERNICUS/S2/20180325T050649_20180325T052033_T44RNR\n",
            "COPERNICUS/S2/20180325T050649_20180325T052033_T44RNS\n",
            "COPERNICUS/S2/20180325T050649_20180325T052033_T44RNT\n",
            "COPERNICUS/S2/20180328T052019_20180328T052518_T44RMR\n",
            "COPERNICUS/S2/20180328T052019_20180328T052518_T44RMS\n",
            "COPERNICUS/S2/20180328T052019_20180328T052518_T44RMT\n",
            "COPERNICUS/S2/20180328T052019_20180328T052518_T44RNS\n",
            "COPERNICUS/S2/20180330T050651_20180330T051409_T44RMR\n",
            "COPERNICUS/S2/20180330T050651_20180330T051409_T44RNR\n",
            "COPERNICUS/S2/20180402T051651_20180402T052139_T44RMR\n",
            "COPERNICUS/S2/20180402T051651_20180402T052139_T44RMS\n",
            "COPERNICUS/S2/20180402T051651_20180402T052139_T44RNS\n",
            "COPERNICUS/S2/20180404T050649_20180404T051134_T44RMR\n",
            "COPERNICUS/S2/20180404T050649_20180404T051134_T44RMS\n",
            "COPERNICUS/S2/20180404T050649_20180404T051134_T44RNR\n",
            "COPERNICUS/S2/20180407T051649_20180407T052002_T44RMR\n",
            "COPERNICUS/S2/20180407T051649_20180407T053055_T44RMR\n",
            "COPERNICUS/S2/20180409T050651_20180409T051152_T44RMR\n",
            "COPERNICUS/S2/20180409T050651_20180409T051152_T44RNR\n",
            "COPERNICUS/S2/20180412T051651_20180412T052027_T44RNS\n",
            "COPERNICUS/S2/20180414T050649_20180414T051849_T44RMR\n",
            "COPERNICUS/S2/20180414T050649_20180414T051849_T44RMS\n",
            "COPERNICUS/S2/20180414T050649_20180414T051849_T44RMT\n",
            "COPERNICUS/S2/20180417T051649_20180417T052636_T44RMR\n",
            "COPERNICUS/S2/20180417T051649_20180417T052636_T44RNS\n",
            "COPERNICUS/S2/20180419T050651_20180419T051519_T44RMR\n",
            "COPERNICUS/S2/20180419T050651_20180419T051519_T44RMS\n",
            "COPERNICUS/S2/20180419T050651_20180419T051519_T44RMT\n",
            "COPERNICUS/S2/20180419T050651_20180419T051519_T44RNR\n",
            "COPERNICUS/S2/20180419T050651_20180419T051519_T44RNS\n",
            "COPERNICUS/S2/20180419T050651_20180419T051519_T44RNT\n",
            "COPERNICUS/S2/20180422T051651_20180422T052000_T44RMR\n",
            "COPERNICUS/S2/20180422T051651_20180422T052000_T44RMS\n",
            "COPERNICUS/S2/20180422T051651_20180422T052000_T44RMT\n",
            "COPERNICUS/S2/20180422T051651_20180422T052000_T44RNS\n",
            "COPERNICUS/S2/20180424T050649_20180424T051013_T44RMR\n",
            "COPERNICUS/S2/20180424T050649_20180424T051013_T44RMS\n",
            "COPERNICUS/S2/20180424T050649_20180424T051013_T44RMT\n",
            "COPERNICUS/S2/20180424T050649_20180424T051013_T44RNR\n",
            "COPERNICUS/S2/20180424T050649_20180424T051013_T44RNS\n",
            "COPERNICUS/S2/20180424T050649_20180424T051013_T44RNT\n",
            "COPERNICUS/S2/20180427T051649_20180427T051649_T44RMR\n",
            "COPERNICUS/S2/20180427T051649_20180427T051649_T44RMS\n",
            "COPERNICUS/S2/20180427T051649_20180427T051649_T44RNS\n",
            "COPERNICUS/S2/20180429T050701_20180429T051444_T44RMR\n",
            "COPERNICUS/S2/20180429T050701_20180429T051444_T44RMS\n",
            "COPERNICUS/S2/20180429T050701_20180429T051444_T44RNR\n",
            "COPERNICUS/S2/20180429T050701_20180429T051444_T44RNS\n",
            "COPERNICUS/S2/20180502T051651_20180502T052131_T44RMR\n",
            "COPERNICUS/S2/20180502T051651_20180502T052131_T44RMS\n",
            "COPERNICUS/S2/20180502T051651_20180502T052131_T44RNS\n",
            "COPERNICUS/S2/20180504T050649_20180504T051114_T44RMS\n",
            "COPERNICUS/S2/20180507T051649_20180507T052818_T44RMR\n",
            "COPERNICUS/S2/20180507T051649_20180507T052818_T44RMS\n",
            "COPERNICUS/S2/20180507T051649_20180507T052818_T44RMT\n",
            "COPERNICUS/S2/20180507T051649_20180507T052818_T44RNS\n",
            "COPERNICUS/S2/20180509T050701_20180509T051806_T44RMR\n",
            "COPERNICUS/S2/20180509T050701_20180509T051806_T44RMS\n",
            "COPERNICUS/S2/20180509T050701_20180509T051806_T44RNR\n",
            "COPERNICUS/S2/20180509T050701_20180509T051806_T44RNS\n",
            "COPERNICUS/S2/20180512T051651_20180512T052355_T44RMR\n",
            "COPERNICUS/S2/20180512T051651_20180512T052355_T44RMS\n",
            "COPERNICUS/S2/20180512T051651_20180512T052355_T44RMT\n",
            "COPERNICUS/S2/20180512T051651_20180512T052355_T44RNS\n",
            "COPERNICUS/S2/20180514T050649_20180514T050828_T44RMR\n",
            "COPERNICUS/S2/20180514T050649_20180514T050828_T44RMS\n",
            "COPERNICUS/S2/20180514T050649_20180514T050828_T44RNR\n",
            "COPERNICUS/S2/20180514T050649_20180514T050828_T44RNS\n",
            "COPERNICUS/S2/20180517T051649_20180517T052028_T44RMR\n",
            "COPERNICUS/S2/20180517T051649_20180517T052028_T44RMS\n",
            "COPERNICUS/S2/20180517T051649_20180517T052028_T44RNS\n",
            "COPERNICUS/S2/20180519T050701_20180519T051614_T44RMR\n",
            "COPERNICUS/S2/20180519T050701_20180519T051614_T44RMS\n",
            "COPERNICUS/S2/20180519T050701_20180519T051614_T44RNR\n",
            "COPERNICUS/S2/20180522T051651_20180522T052340_T44RMR\n",
            "COPERNICUS/S2/20180522T051651_20180522T052340_T44RMS\n",
            "COPERNICUS/S2/20180522T051651_20180522T052340_T44RMT\n",
            "COPERNICUS/S2/20180522T051651_20180522T052340_T44RNS\n",
            "COPERNICUS/S2/20180522T051651_20180522T052340_T44RNT\n",
            "COPERNICUS/S2/20180524T050649_20180524T050650_T44RMR\n",
            "COPERNICUS/S2/20180524T050649_20180524T050650_T44RMS\n",
            "COPERNICUS/S2/20180524T050649_20180524T050650_T44RMT\n",
            "COPERNICUS/S2/20180524T050649_20180524T050650_T44RNR\n",
            "COPERNICUS/S2/20180524T050649_20180524T050650_T44RNS\n",
            "COPERNICUS/S2/20180524T050649_20180524T050650_T44RNT\n",
            "COPERNICUS/S2/20180601T051651_20180601T052147_T44RNS\n",
            "COPERNICUS/S2/20180603T050649_20180603T050650_T44RMR\n",
            "COPERNICUS/S2/20180603T050649_20180603T050650_T44RMS\n",
            "COPERNICUS/S2/20180603T050649_20180603T050650_T44RNR\n",
            "COPERNICUS/S2/20180606T051649_20180606T052519_T44RMR\n",
            "COPERNICUS/S2/20180611T051651_20180611T052257_T44RMR\n",
            "COPERNICUS/S2/20180611T051651_20180611T052257_T44RMS\n",
            "COPERNICUS/S2/20180611T051651_20180611T052257_T44RNS\n",
            "COPERNICUS/S2/20180613T050649_20180613T050843_T44RMR\n",
            "COPERNICUS/S2/20180613T050649_20180613T050843_T44RMS\n",
            "COPERNICUS/S2/20180613T050649_20180613T050843_T44RMT\n",
            "COPERNICUS/S2/20180613T050649_20180613T050843_T44RNR\n",
            "COPERNICUS/S2/20180613T050649_20180613T050843_T44RNS\n",
            "COPERNICUS/S2/20180616T051649_20180616T052640_T44RMR\n",
            "COPERNICUS/S2/20180616T051649_20180616T052640_T44RNS\n",
            "COPERNICUS/S2/20180618T050651_20180618T051857_T44RMR\n",
            "COPERNICUS/S2/20180618T050651_20180618T051857_T44RMS\n",
            "COPERNICUS/S2/20180618T050651_20180618T051857_T44RMT\n",
            "COPERNICUS/S2/20180618T050651_20180618T051857_T44RNR\n",
            "COPERNICUS/S2/20180618T050651_20180618T051857_T44RNS\n",
            "COPERNICUS/S2/20180621T051651_20180621T052026_T44RMR\n",
            "COPERNICUS/S2/20180621T051651_20180621T052026_T44RMS\n",
            "COPERNICUS/S2/20180621T051651_20180621T052026_T44RMT\n",
            "COPERNICUS/S2/20180621T051651_20180621T052026_T44RNS\n",
            "COPERNICUS/S2/20180621T051651_20180621T052026_T44RNT\n",
            "COPERNICUS/S2/20180623T050649_20180623T050720_T44RMR\n",
            "COPERNICUS/S2/20180626T051649_20180626T052630_T44RNS\n",
            "COPERNICUS/S2/20180701T051651_20180701T051919_T44RNS\n",
            "COPERNICUS/S2/20180706T051649_20180706T052145_T44RNS\n",
            "COPERNICUS/S2/20180706T051649_20180706T052145_T44RNT\n",
            "COPERNICUS/S2/20180711T051651_20180711T051651_T44RNS\n",
            "COPERNICUS/S2/20180716T051649_20180716T052158_T44RNS\n",
            "COPERNICUS/S2/20180721T051651_20180721T052208_T44RNS\n",
            "COPERNICUS/S2/20180726T051649_20180726T051947_T44RMS\n",
            "COPERNICUS/S2/20180726T051649_20180726T051947_T44RNS\n",
            "COPERNICUS/S2/20180726T051649_20180726T053040_T44RNS\n",
            "COPERNICUS/S2/20180726T051649_20180726T053040_T44RNT\n",
            "COPERNICUS/S2/20180731T051651_20180731T052045_T44RNS\n",
            "COPERNICUS/S2/20180805T051649_20180805T052258_T44RNS\n",
            "COPERNICUS/S2/20180810T051651_20180810T051650_T44RNS\n",
            "COPERNICUS/S2/20180815T051649_20180815T052245_T44RNS\n",
            "COPERNICUS/S2/20180820T051651_20180820T052243_T44RNS\n",
            "COPERNICUS/S2/20180825T051639_20180825T052113_T44RNS\n",
            "COPERNICUS/S2/20180830T051651_20180830T052043_T44RNS\n",
            "COPERNICUS/S2/20180904T051639_20180904T052213_T44RNS\n",
            "COPERNICUS/S2/20180909T051651_20180909T052935_T44RMR\n",
            "COPERNICUS/S2/20180909T051651_20180909T052935_T44RNS\n",
            "COPERNICUS/S2/20180914T051639_20180914T052101_T44RMR\n",
            "COPERNICUS/S2/20180914T051639_20180914T052101_T44RNS\n",
            "COPERNICUS/S2/20180914T051639_20180914T052101_T44RNT\n",
            "COPERNICUS/S2/20180919T051651_20180919T052214_T44RMR\n",
            "COPERNICUS/S2/20180919T051651_20180919T052214_T44RMS\n",
            "COPERNICUS/S2/20180919T051651_20180919T052214_T44RMT\n",
            "COPERNICUS/S2/20180919T051651_20180919T052214_T44RNS\n",
            "COPERNICUS/S2/20180919T051651_20180919T052214_T44RNT\n",
            "COPERNICUS/S2/20180924T051649_20180924T052743_T44RMR\n",
            "COPERNICUS/S2/20180924T051649_20180924T052743_T44RNS\n",
            "COPERNICUS/S2/20180924T051649_20180924T052743_T44RNT\n",
            "COPERNICUS/S2/20180929T051651_20180929T052051_T44RMR\n",
            "COPERNICUS/S2/20180929T051651_20180929T052051_T44RMS\n",
            "COPERNICUS/S2/20180929T051651_20180929T052051_T44RNS\n",
            "COPERNICUS/S2/20180929T051651_20180929T052051_T44RNT\n",
            "COPERNICUS/S2/20181001T050649_20181001T051744_T44RMR\n",
            "COPERNICUS/S2/20181001T050649_20181001T051744_T44RMS\n",
            "COPERNICUS/S2/20181001T050649_20181001T051744_T44RMT\n",
            "COPERNICUS/S2/20181001T050649_20181001T051744_T44RNR\n",
            "COPERNICUS/S2/20181001T050649_20181001T051744_T44RNS\n",
            "COPERNICUS/S2/20181004T051649_20181004T052047_T44RMR\n",
            "COPERNICUS/S2/20181004T051649_20181004T052047_T44RMS\n",
            "COPERNICUS/S2/20181004T051649_20181004T052047_T44RMT\n",
            "COPERNICUS/S2/20181004T051649_20181004T052047_T44RNS\n",
            "COPERNICUS/S2/20181004T051649_20181004T052047_T44RNT\n",
            "COPERNICUS/S2/20181006T050651_20181006T051319_T44RMR\n",
            "COPERNICUS/S2/20181006T050651_20181006T051319_T44RMS\n",
            "COPERNICUS/S2/20181006T050651_20181006T051319_T44RMT\n",
            "COPERNICUS/S2/20181006T050651_20181006T051319_T44RNR\n",
            "COPERNICUS/S2/20181006T050651_20181006T051319_T44RNS\n",
            "COPERNICUS/S2/20181011T050729_20181011T051625_T44RMR\n",
            "COPERNICUS/S2/20181011T050729_20181011T051625_T44RMS\n",
            "COPERNICUS/S2/20181011T050729_20181011T051625_T44RMT\n",
            "COPERNICUS/S2/20181011T050729_20181011T051625_T44RNR\n",
            "COPERNICUS/S2/20181014T051749_20181014T052258_T44RMR\n",
            "COPERNICUS/S2/20181014T051749_20181014T052258_T44RMS\n",
            "COPERNICUS/S2/20181014T051749_20181014T052258_T44RMT\n",
            "COPERNICUS/S2/20181014T051749_20181014T052258_T44RNS\n",
            "COPERNICUS/S2/20181014T051749_20181014T052258_T44RNT\n",
            "COPERNICUS/S2/20181016T050801_20181016T051752_T44RMR\n",
            "COPERNICUS/S2/20181016T050801_20181016T051752_T44RMS\n",
            "COPERNICUS/S2/20181016T050801_20181016T051752_T44RNR\n",
            "COPERNICUS/S2/20181016T050801_20181016T051752_T44RNS\n",
            "COPERNICUS/S2/20181019T051821_20181019T052621_T44RMR\n",
            "COPERNICUS/S2/20181019T051821_20181019T052621_T44RMS\n",
            "COPERNICUS/S2/20181019T051821_20181019T052621_T44RMT\n",
            "COPERNICUS/S2/20181019T051821_20181019T052621_T44RNS\n",
            "COPERNICUS/S2/20181019T051821_20181019T052621_T44RNT\n",
            "COPERNICUS/S2/20181021T050829_20181021T051532_T44RMR\n",
            "COPERNICUS/S2/20181021T050829_20181021T051532_T44RMS\n",
            "COPERNICUS/S2/20181021T050829_20181021T051532_T44RMT\n",
            "COPERNICUS/S2/20181021T050829_20181021T051532_T44RNR\n",
            "COPERNICUS/S2/20181021T050829_20181021T051532_T44RNS\n",
            "COPERNICUS/S2/20181024T051859_20181024T052237_T44RMR\n",
            "COPERNICUS/S2/20181024T051859_20181024T052237_T44RMS\n",
            "COPERNICUS/S2/20181024T051859_20181024T052237_T44RMT\n",
            "COPERNICUS/S2/20181024T051859_20181024T052237_T44RNS\n",
            "COPERNICUS/S2/20181024T051859_20181024T052237_T44RNT\n",
            "COPERNICUS/S2/20181026T050901_20181026T051152_T44RMS\n",
            "COPERNICUS/S2/20181026T050901_20181026T051152_T44RMT\n",
            "COPERNICUS/S2/20181026T050901_20181026T051152_T44RNS\n",
            "COPERNICUS/S2/20181026T050901_20181026T051152_T44RNT\n",
            "COPERNICUS/S2/20181026T050901_20181026T052042_T44RMR\n",
            "COPERNICUS/S2/20181026T050901_20181026T052042_T44RMS\n",
            "COPERNICUS/S2/20181026T050901_20181026T052042_T44RMT\n",
            "COPERNICUS/S2/20181026T050901_20181026T052042_T44RNR\n",
            "COPERNICUS/S2/20181026T050901_20181026T052042_T44RNS\n",
            "COPERNICUS/S2/20181026T050901_20181026T052042_T44RNT\n",
            "COPERNICUS/S2/20181029T051921_20181029T052731_T44RMR\n",
            "COPERNICUS/S2/20181029T051921_20181029T052731_T44RMS\n",
            "COPERNICUS/S2/20181029T051921_20181029T052731_T44RMT\n",
            "COPERNICUS/S2/20181029T051921_20181029T052731_T44RNS\n",
            "COPERNICUS/S2/20181029T051921_20181029T052731_T44RNT\n",
            "COPERNICUS/S2/20181031T050929_20181031T051707_T44RMR\n",
            "COPERNICUS/S2/20181031T050929_20181031T051707_T44RMS\n",
            "COPERNICUS/S2/20181031T050929_20181031T051707_T44RMT\n",
            "COPERNICUS/S2/20181031T050929_20181031T051707_T44RNR\n",
            "COPERNICUS/S2/20181031T050929_20181031T051707_T44RNS\n",
            "COPERNICUS/S2/20181031T050929_20181031T051707_T44RNT\n",
            "COPERNICUS/S2/20181103T051959_20181103T052833_T44RNS\n",
            "COPERNICUS/S2/20181105T051001_20181105T051220_T44RMR\n",
            "COPERNICUS/S2/20181105T051001_20181105T051220_T44RMS\n",
            "COPERNICUS/S2/20181105T051001_20181105T051220_T44RMT\n",
            "COPERNICUS/S2/20181105T051001_20181105T051220_T44RNR\n",
            "COPERNICUS/S2/20181105T051001_20181105T051220_T44RNS\n",
            "COPERNICUS/S2/20181108T052021_20181108T052431_T44RMR\n",
            "COPERNICUS/S2/20181108T052021_20181108T052431_T44RMS\n",
            "COPERNICUS/S2/20181108T052021_20181108T052431_T44RMT\n",
            "COPERNICUS/S2/20181108T052021_20181108T052431_T44RNS\n",
            "COPERNICUS/S2/20181108T052021_20181108T052431_T44RNT\n",
            "COPERNICUS/S2/20181110T051029_20181110T051221_T44RMR\n",
            "COPERNICUS/S2/20181110T051029_20181110T051221_T44RMS\n",
            "COPERNICUS/S2/20181110T051029_20181110T051221_T44RMT\n",
            "COPERNICUS/S2/20181110T051029_20181110T051221_T44RNR\n",
            "COPERNICUS/S2/20181110T051029_20181110T051221_T44RNS\n",
            "COPERNICUS/S2/20181115T051051_20181115T051620_T44RMR\n",
            "COPERNICUS/S2/20181115T051051_20181115T051620_T44RMS\n",
            "COPERNICUS/S2/20181115T051051_20181115T051620_T44RMT\n",
            "COPERNICUS/S2/20181115T051051_20181115T051620_T44RNR\n",
            "COPERNICUS/S2/20181115T051051_20181115T051620_T44RNS\n",
            "COPERNICUS/S2/20181118T052101_20181118T052103_T44RMR\n",
            "COPERNICUS/S2/20181118T052101_20181118T052103_T44RMT\n",
            "COPERNICUS/S2/20181118T052101_20181118T052103_T44RNT\n",
            "COPERNICUS/S2/20181120T051109_20181120T051112_T44RMR\n",
            "COPERNICUS/S2/20181120T051109_20181120T051112_T44RMS\n",
            "COPERNICUS/S2/20181120T051109_20181120T051112_T44RMT\n",
            "COPERNICUS/S2/20181120T051109_20181120T051112_T44RNR\n",
            "COPERNICUS/S2/20181120T051109_20181120T051112_T44RNS\n",
            "COPERNICUS/S2/20181123T052129_20181123T052254_T44RMR\n",
            "COPERNICUS/S2/20181123T052129_20181123T052254_T44RMS\n",
            "COPERNICUS/S2/20181123T052129_20181123T052254_T44RMT\n",
            "COPERNICUS/S2/20181123T052129_20181123T052254_T44RNS\n",
            "COPERNICUS/S2/20181125T051121_20181125T051117_T44RMR\n",
            "COPERNICUS/S2/20181125T051121_20181125T051117_T44RMS\n",
            "COPERNICUS/S2/20181125T051121_20181125T051117_T44RMT\n",
            "COPERNICUS/S2/20181125T051121_20181125T051117_T44RNR\n",
            "COPERNICUS/S2/20181125T051121_20181125T051117_T44RNS\n",
            "COPERNICUS/S2/20181130T051149_20181130T051222_T44RMR\n",
            "COPERNICUS/S2/20181130T051149_20181130T051222_T44RMS\n",
            "COPERNICUS/S2/20181130T051149_20181130T051222_T44RNR\n",
            "COPERNICUS/S2/20181130T051149_20181130T051222_T44RNS\n",
            "COPERNICUS/S2/20181203T052229_20181203T053002_T44RMR\n",
            "COPERNICUS/S2/20181203T052229_20181203T053002_T44RMS\n",
            "COPERNICUS/S2/20181203T052229_20181203T053002_T44RMT\n",
            "COPERNICUS/S2/20181203T052229_20181203T053002_T44RNS\n",
            "COPERNICUS/S2/20181208T052211_20181208T052948_T44RMR\n",
            "COPERNICUS/S2/20181208T052211_20181208T052948_T44RMS\n",
            "COPERNICUS/S2/20181208T052211_20181208T052948_T44RMT\n",
            "COPERNICUS/S2/20181208T052211_20181208T052948_T44RNS\n",
            "COPERNICUS/S2/20181208T052211_20181208T052948_T44RNT\n",
            "COPERNICUS/S2/20181210T051209_20181210T051638_T44RMR\n",
            "COPERNICUS/S2/20181210T051209_20181210T051638_T44RMS\n",
            "COPERNICUS/S2/20181210T051209_20181210T051638_T44RMT\n",
            "COPERNICUS/S2/20181210T051209_20181210T051638_T44RNR\n",
            "COPERNICUS/S2/20181210T051209_20181210T051638_T44RNS\n",
            "COPERNICUS/S2/20181215T051211_20181215T051910_T44RMR\n",
            "COPERNICUS/S2/20181215T051211_20181215T051910_T44RMS\n",
            "COPERNICUS/S2/20181215T051211_20181215T051910_T44RNR\n",
            "COPERNICUS/S2/20181215T051211_20181215T051910_T44RNS\n",
            "COPERNICUS/S2/20181218T052221_20181218T053013_T44RMR\n",
            "COPERNICUS/S2/20181218T052221_20181218T053013_T44RMS\n",
            "COPERNICUS/S2/20181218T052221_20181218T053013_T44RMT\n",
            "COPERNICUS/S2/20181218T052221_20181218T053013_T44RNS\n",
            "COPERNICUS/S2/20181220T051219_20181220T051613_T44RMR\n",
            "COPERNICUS/S2/20181220T051219_20181220T051613_T44RMS\n",
            "COPERNICUS/S2/20181220T051219_20181220T051613_T44RNR\n",
            "COPERNICUS/S2/20181220T051219_20181220T051613_T44RNS\n",
            "COPERNICUS/S2/20181223T052229_20181223T052554_T44RMR\n",
            "COPERNICUS/S2/20181223T052229_20181223T052554_T44RMS\n",
            "COPERNICUS/S2/20181223T052229_20181223T052554_T44RMT\n",
            "COPERNICUS/S2/20181223T052229_20181223T052554_T44RNS\n",
            "COPERNICUS/S2/20181225T051221_20181225T051919_T44RMR\n",
            "COPERNICUS/S2/20181225T051221_20181225T051919_T44RMS\n",
            "COPERNICUS/S2/20181225T051221_20181225T051919_T44RNR\n",
            "COPERNICUS/S2/20181225T051221_20181225T051919_T44RNS\n",
            "COPERNICUS/S2/20181228T052221_20181228T052221_T44RMR\n",
            "COPERNICUS/S2/20181228T052221_20181228T052221_T44RMS\n",
            "COPERNICUS/S2/20181228T052221_20181228T052221_T44RMT\n",
            "COPERNICUS/S2/20181228T052221_20181228T052221_T44RNS\n",
            "COPERNICUS/S2/20181230T051219_20181230T051417_T44RMR\n",
            "COPERNICUS/S2/20181230T051219_20181230T051417_T44RMS\n",
            "COPERNICUS/S2/20181230T051219_20181230T051417_T44RMT\n",
            "COPERNICUS/S2/20181230T051219_20181230T051417_T44RNR\n",
            "COPERNICUS/S2/20181230T051219_20181230T051417_T44RNS\n"
          ],
          "name": "stdout"
        },
        {
          "output_type": "execute_result",
          "data": {
            "text/plain": [
              "{'bands': [{'crs': 'EPSG:4326',\n",
              "   'crs_transform': [1, 0, 0, 0, 1, 0],\n",
              "   'data_type': {'max': 65535,\n",
              "    'min': 0,\n",
              "    'precision': 'double',\n",
              "    'type': 'PixelType'},\n",
              "   'id': 'B2'},\n",
              "  {'crs': 'EPSG:4326',\n",
              "   'crs_transform': [1, 0, 0, 0, 1, 0],\n",
              "   'data_type': {'max': 65535,\n",
              "    'min': 0,\n",
              "    'precision': 'double',\n",
              "    'type': 'PixelType'},\n",
              "   'id': 'B3'},\n",
              "  {'crs': 'EPSG:4326',\n",
              "   'crs_transform': [1, 0, 0, 0, 1, 0],\n",
              "   'data_type': {'max': 65535,\n",
              "    'min': 0,\n",
              "    'precision': 'double',\n",
              "    'type': 'PixelType'},\n",
              "   'id': 'B4'},\n",
              "  {'crs': 'EPSG:4326',\n",
              "   'crs_transform': [1, 0, 0, 0, 1, 0],\n",
              "   'data_type': {'max': 65535,\n",
              "    'min': 0,\n",
              "    'precision': 'double',\n",
              "    'type': 'PixelType'},\n",
              "   'id': 'B8'},\n",
              "  {'crs': 'EPSG:4326',\n",
              "   'crs_transform': [1, 0, 0, 0, 1, 0],\n",
              "   'data_type': {'max': 65535,\n",
              "    'min': 0,\n",
              "    'precision': 'double',\n",
              "    'type': 'PixelType'},\n",
              "   'id': 'B11'},\n",
              "  {'crs': 'EPSG:4326',\n",
              "   'crs_transform': [1, 0, 0, 0, 1, 0],\n",
              "   'data_type': {'max': 65535,\n",
              "    'min': 0,\n",
              "    'precision': 'double',\n",
              "    'type': 'PixelType'},\n",
              "   'id': 'B12'}],\n",
              " 'type': 'Image'}"
            ]
          },
          "metadata": {
            "tags": []
          },
          "execution_count": 16
        }
      ]
    },
    {
      "cell_type": "code",
      "metadata": {
        "id": "G_pDfbgZaWmV"
      },
      "source": [
        "# We will save it to Google Drive for later reuse\n",
        "# you should comment out this cell if you have data copy in the drive already.\n",
        "raster_name_bn = 'S2_mosaic_Terai_Nepal_2018'\n",
        "crop_data = op.join(crop_data, \"mosaic_s2\")\n",
        "if not op.isdir(crop_data):\n",
        "  makedirs(crop_data)\n",
        "\n",
        "for i, (lat, long) in enumerate(zip(wheat_2018.Lat, wheat_2018.Long)):\n",
        "  aoi = ee.Geometry.Rectangle([(long - 0.01), (lat - 0.01), (long + 0.01), (lat + 0.01), ])\n",
        "# Export the image, specifying scale and region.\n",
        "# Warning, This specific export takes at least 1 hour, and 700+ MB\n",
        "# There may be a bug here, not sure GEE export can write to a folder beyond depth 1 in a google drive\n",
        "  task = ee.batch.Export.image.toDrive(**{\n",
        "      'image': sentinel_mosaic,\n",
        "      'description': 'Terai_Nepal_2018',\n",
        "      'folder': crop_data,\n",
        "      'fileNamePrefix': f'{raster_name_bn}_{i}',\n",
        "      'scale': 10,\n",
        "      'region': aoi,\n",
        "      'fileFormat': 'GeoTIFF',\n",
        "      'formatOptions': {\n",
        "        'cloudOptimized': 'true'\n",
        "      },\n",
        "  })\n",
        "\n",
        "  # This task will run in the background even if you close this notebook.\n",
        "  # You can also check on the status of the task through the Javascript GEE interface\n",
        "  # https://code.earthengine.google.com\n",
        "  task.start()"
      ],
      "execution_count": null,
      "outputs": []
    },
    {
      "cell_type": "code",
      "metadata": {
        "id": "vyGkKRFHa48C"
      },
      "source": [
        "# If you want to keep track of the export you can run this code\n",
        "# However if run this, you will need to wait for it to finish before running additional code\n",
        "\n",
        "import time \n",
        "while task.active():\n",
        "  print('Polling for task (id: {}).'.format(task.id))\n",
        "  time.sleep(15)"
      ],
      "execution_count": null,
      "outputs": []
    },
    {
      "cell_type": "markdown",
      "metadata": {
        "id": "4gqlsap0atSQ"
      },
      "source": [
        "#### Visualizing Sentinel-2 imagery RGB in 2018 in our study area"
      ]
    },
    {
      "cell_type": "code",
      "metadata": {
        "id": "69cSiiGvardz"
      },
      "source": [
        "# To make a map we first need some helper functions\n",
        "\n",
        "# Define the URL format used for Earth Engine generated map tiles.\n",
        "EE_TILES = 'https://earthengine.googleapis.com/map/{mapid}/{{z}}/{{x}}/{{y}}?token={token}'\n",
        "\n",
        "#@title Mapdisplay: Display GEE objects using folium.\n",
        "def Mapdisplay(center, dicc, Tiles=\"OpensTreetMap\",zoom_start=8):\n",
        "    '''\n",
        "    :param center: Center of the map (Latitude and Longitude).\n",
        "    :param dicc: Earth Engine Geometries or Tiles dictionary\n",
        "    :param Tiles: Mapbox Bright,Mapbox Control Room,Stamen Terrain,Stamen Toner,stamenwatercolor,cartodbpositron.\n",
        "    :zoom_start: Initial zoom level for the map.\n",
        "    :return: A folium.Map object.\n",
        "    '''\n",
        "    mapViz = folium.Map(location=center,tiles=Tiles, zoom_start=zoom_start)\n",
        "    for k,v in dicc.items():\n",
        "      if gpd.geodataframe.GeoDataFrame == type(v):\n",
        "        folium.GeoJson(\n",
        "        data = v,\n",
        "        name = k\n",
        "          ).add_to(mapViz) \n",
        "      elif ee.image.Image in [type(x) for x in v.values()]:\n",
        "        folium.TileLayer(\n",
        "            tiles = v[\"tile_fetcher\"].url_format,\n",
        "            attr  = 'Google Earth Engine',\n",
        "            overlay =True,\n",
        "            name  = k\n",
        "          ).add_to(mapViz)\n",
        "      else:\n",
        "        folium.GeoJson(\n",
        "        data = v,\n",
        "        name = k\n",
        "          ).add_to(mapViz)\n",
        "    mapViz.add_child(folium.LayerControl())\n",
        "    return mapViz"
      ],
      "execution_count": 17,
      "outputs": []
    },
    {
      "cell_type": "code",
      "metadata": {
        "id": "XRxcgcmxa4R4",
        "outputId": "a157602f-ecdd-44c1-f0b5-c5abcc0400ba",
        "colab": {
          "base_uri": "https://localhost:8080/",
          "height": 1000
        }
      },
      "source": [
        "\n",
        "s2_vis_params = {\n",
        "  'bands': ['B4', 'B3', 'B2'],\n",
        "  'min': 0,\n",
        "  'max': 3000,\n",
        "}\n",
        "\n",
        "Mapdisplay(center=[y_map, x_map],\n",
        "           dicc={'S2':sentinel_mosaic.getMapId(s2_vis_params)},\n",
        "                #  'TrainingData':wheat_2018_disctrict}, \n",
        "           zoom_start=11)\n"
      ],
      "execution_count": 18,
      "outputs": [
        {
          "output_type": "execute_result",
          "data": {
            "text/html": [
              "<div style=\"width:100%;\"><div style=\"position:relative;width:100%;height:0;padding-bottom:60%;\"><span style=\"color:#565656\">Make this Notebook Trusted to load map: File -> Trust Notebook</span><iframe src=\"about:blank\" style=\"position:absolute;width:100%;height:100%;left:0;top:0;border:none !important;\" data-html=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 onload=\"this.contentDocument.open();this.contentDocument.write(atob(this.getAttribute('data-html')));this.contentDocument.close();\" allowfullscreen webkitallowfullscreen mozallowfullscreen></iframe></div></div>"
            ],
            "text/plain": [
              "<folium.folium.Map at 0x7fc55e9f3630>"
            ]
          },
          "metadata": {
            "tags": []
          },
          "execution_count": 18
        }
      ]
    },
    {
      "cell_type": "markdown",
      "metadata": {
        "id": "ckq8dIA7bD3f"
      },
      "source": [
        "### Extract average temperature and precipitation from WorldClimb \n",
        "\n",
        "To enrich the attributes data for crop yield modeling, you can go to [WorldClim](https://worldclim.org/data/worldclim21.html) to explore data including:\n",
        "- Minimun temperature\n",
        "- Maximum temperature\n",
        "- Average temperature\n",
        "- Precipitation\n",
        "- Solar radiation\n",
        "- Wind speed\n",
        "- Water vapor presure\n",
        "\n",
        "**But** only average temperature and precipitation were downloaded from GEE.\n",
        "More information of the dataset on GEE, please look over [here](https://developers.google.com/earth-engine/datasets/catalog/WORLDCLIM_V1_MONTHLY#bands).\n"
      ]
    },
    {
      "cell_type": "code",
      "metadata": {
        "id": "fvdbIObja-qR"
      },
      "source": [
        "# worldclim data on GEE\n",
        "# https://developers.google.com/earth-engine/datasets/catalog/WORLDCLIM_V1_MONTHLY#bands\n",
        "wcband_sel = ['tavg', 'prec']\n",
        "worldclim = ee.ImageCollection(\"WORLDCLIM/V1/MONTHLY\").select(wcband_sel)\n",
        "worldclim_mosaic = worldclim.mean().rename(wcband_sel) "
      ],
      "execution_count": 19,
      "outputs": []
    },
    {
      "cell_type": "code",
      "metadata": {
        "id": "E77xcUU8edy0"
      },
      "source": [
        "raster_name_wc = 'wc_monthly'\n",
        "wc_data = op.join(crop_data, 'worldclim')\n",
        "if not op.isdir(wc_data):\n",
        "  makedirs(wc_data)\n",
        "\n",
        "for i, (lat, long) in enumerate(zip(wheat_2018.Lat, wheat_2018.Long)):\n",
        "  aoi = ee.Geometry.Rectangle([(long - 0.01), (lat - 0.01), (long + 0.01), (lat + 0.01), ])\n",
        "# Export the image, specifying scale and region.\n",
        "# Warning, This specific export takes at least 1 hour, and 700+ MB\n",
        "# There may be a bug here, not sure GEE export can write to a folder beyond depth 1 in a google drive\n",
        "  task = ee.batch.Export.image.toDrive(**{\n",
        "      'image': worldclim_mosaic,\n",
        "      'description': f'WC_2020_{i}',\n",
        "      'folder': wc_data,\n",
        "      'fileNamePrefix': f'{raster_name_wc}_{i}',\n",
        "      'scale': 10,\n",
        "      'region': aoi,\n",
        "      'fileFormat': 'GeoTIFF',\n",
        "      'formatOptions': {\n",
        "        'cloudOptimized': 'true'\n",
        "      },\n",
        "  })\n",
        "\n",
        "  # This task will run in the background even if you close this notebook.\n",
        "  # You can also check on the status of the task through the Javascript GEE interface\n",
        "  # https://code.earthengine.google.com\n",
        "  task.start()"
      ],
      "execution_count": null,
      "outputs": []
    },
    {
      "cell_type": "markdown",
      "metadata": {
        "id": "OUmIdQJTeh5D"
      },
      "source": [
        "### Adding Sentinel-2 and Worldclim data "
      ]
    },
    {
      "cell_type": "code",
      "metadata": {
        "id": "UuLQU84Wfrn0"
      },
      "source": [
        "def normalized_arr(ls_data):\n",
        "  \"\"\"normalized data \n",
        "  Args:\n",
        "      np_array: data in a list\n",
        "  Returns:\n",
        "      x_scaled: rescaled/nomalized data in the value range between 0 and 1\n",
        "  \"\"\"\n",
        "  arr = np.array(ls_data)\n",
        "  #normalized the data \n",
        "  min_max_scaler = preprocessing.MinMaxScaler()\n",
        "  x_scaled = min_max_scaler.fit_transform(arr)\n",
        "  return x_scaled"
      ],
      "execution_count": 20,
      "outputs": []
    },
    {
      "cell_type": "code",
      "metadata": {
        "id": "V3ujjDu_guwu"
      },
      "source": [
        "def construct_indices(band1, band2):\n",
        "  \"\"\"compute band indices\n",
        "  Args:\n",
        "      band1, band2: specific band data \n",
        "  Returns:\n",
        "      ind: index, e.g. ndvi\n",
        "  \"\"\"\n",
        "  ind = (band1 - band2)/(band1 + band2)\n",
        "  return ind"
      ],
      "execution_count": 21,
      "outputs": []
    },
    {
      "cell_type": "markdown",
      "metadata": {
        "id": "WzbLSHqne2jI"
      },
      "source": [
        "#### Sentinel-2 data reconstruction"
      ]
    },
    {
      "cell_type": "code",
      "metadata": {
        "id": "mA_0Rxcjexjh"
      },
      "source": [
        "# Reference the raster on disk.\n",
        "bands = []\n",
        "for i in range(len(wheat_2018)):\n",
        "  raster = op.join(crop_data,'mosaic_s2',f'S2_mosaic_Terai_Nepal_2018_{i}.tif')\n",
        "  with rasterio.open(raster, 'r') as src:\n",
        "    frsc = src.read()\n",
        "    print(frsc.mean(axis=(1, 2)))\n",
        "    bands.append(frsc.mean(axis=(1, 2)))"
      ],
      "execution_count": null,
      "outputs": []
    },
    {
      "cell_type": "code",
      "metadata": {
        "id": "YX9_BNSefd3U"
      },
      "source": [
        "band_arr = normalized_arr(bands)\n",
        "bands_df = pd.DataFrame(band_arr, columns=['B2', 'B3', 'B4', 'B8', 'B11', 'B12'])\n"
      ],
      "execution_count": 26,
      "outputs": []
    },
    {
      "cell_type": "code",
      "metadata": {
        "id": "JSnLMce9hO7r",
        "outputId": "96eb1de8-03aa-440a-9944-3a43a7d71b72",
        "colab": {
          "base_uri": "https://localhost:8080/",
          "height": 204
        }
      },
      "source": [
        "bands_df['ndvi'] = construct_indices(bands_df.B8, bands_df.B4)\n",
        "bands_df['ndwi'] = construct_indices(bands_df.B8, bands_df.B3)\n",
        "bands_df.head()"
      ],
      "execution_count": 27,
      "outputs": [
        {
          "output_type": "execute_result",
          "data": {
            "text/html": [
              "<div>\n",
              "<style scoped>\n",
              "    .dataframe tbody tr th:only-of-type {\n",
              "        vertical-align: middle;\n",
              "    }\n",
              "\n",
              "    .dataframe tbody tr th {\n",
              "        vertical-align: top;\n",
              "    }\n",
              "\n",
              "    .dataframe thead th {\n",
              "        text-align: right;\n",
              "    }\n",
              "</style>\n",
              "<table border=\"1\" class=\"dataframe\">\n",
              "  <thead>\n",
              "    <tr style=\"text-align: right;\">\n",
              "      <th></th>\n",
              "      <th>B2</th>\n",
              "      <th>B3</th>\n",
              "      <th>B4</th>\n",
              "      <th>B8</th>\n",
              "      <th>B11</th>\n",
              "      <th>B12</th>\n",
              "      <th>ndvi</th>\n",
              "      <th>ndwi</th>\n",
              "    </tr>\n",
              "  </thead>\n",
              "  <tbody>\n",
              "    <tr>\n",
              "      <th>0</th>\n",
              "      <td>0.246886</td>\n",
              "      <td>0.340987</td>\n",
              "      <td>0.397884</td>\n",
              "      <td>0.441628</td>\n",
              "      <td>0.281341</td>\n",
              "      <td>0.334612</td>\n",
              "      <td>0.052106</td>\n",
              "      <td>0.128595</td>\n",
              "    </tr>\n",
              "    <tr>\n",
              "      <th>1</th>\n",
              "      <td>0.246886</td>\n",
              "      <td>0.340987</td>\n",
              "      <td>0.397884</td>\n",
              "      <td>0.441628</td>\n",
              "      <td>0.281341</td>\n",
              "      <td>0.334612</td>\n",
              "      <td>0.052106</td>\n",
              "      <td>0.128595</td>\n",
              "    </tr>\n",
              "    <tr>\n",
              "      <th>2</th>\n",
              "      <td>0.246886</td>\n",
              "      <td>0.340987</td>\n",
              "      <td>0.397884</td>\n",
              "      <td>0.441628</td>\n",
              "      <td>0.281341</td>\n",
              "      <td>0.334612</td>\n",
              "      <td>0.052106</td>\n",
              "      <td>0.128595</td>\n",
              "    </tr>\n",
              "    <tr>\n",
              "      <th>3</th>\n",
              "      <td>0.223089</td>\n",
              "      <td>0.326231</td>\n",
              "      <td>0.384491</td>\n",
              "      <td>0.558959</td>\n",
              "      <td>0.269641</td>\n",
              "      <td>0.335698</td>\n",
              "      <td>0.184925</td>\n",
              "      <td>0.262913</td>\n",
              "    </tr>\n",
              "    <tr>\n",
              "      <th>4</th>\n",
              "      <td>0.223089</td>\n",
              "      <td>0.326231</td>\n",
              "      <td>0.384491</td>\n",
              "      <td>0.558959</td>\n",
              "      <td>0.269641</td>\n",
              "      <td>0.335698</td>\n",
              "      <td>0.184925</td>\n",
              "      <td>0.262913</td>\n",
              "    </tr>\n",
              "  </tbody>\n",
              "</table>\n",
              "</div>"
            ],
            "text/plain": [
              "         B2        B3        B4  ...       B12      ndvi      ndwi\n",
              "0  0.246886  0.340987  0.397884  ...  0.334612  0.052106  0.128595\n",
              "1  0.246886  0.340987  0.397884  ...  0.334612  0.052106  0.128595\n",
              "2  0.246886  0.340987  0.397884  ...  0.334612  0.052106  0.128595\n",
              "3  0.223089  0.326231  0.384491  ...  0.335698  0.184925  0.262913\n",
              "4  0.223089  0.326231  0.384491  ...  0.335698  0.184925  0.262913\n",
              "\n",
              "[5 rows x 8 columns]"
            ]
          },
          "metadata": {
            "tags": []
          },
          "execution_count": 27
        }
      ]
    },
    {
      "cell_type": "markdown",
      "metadata": {
        "id": "Zfz-lhzJhi_Y"
      },
      "source": [
        "### Adding Worldclim data"
      ]
    },
    {
      "cell_type": "code",
      "metadata": {
        "id": "ta5Z0-duhfy1"
      },
      "source": [
        "wcs = []\n",
        "for i in range(len(wheat_2018)):\n",
        "  raster = op.join(crop_data,'worldclim',f'wc_monthly_{i}.tif')\n",
        "  with rasterio.open(raster, 'r') as src:\n",
        "    frsc = src.read()\n",
        "    print(frsc.mean(axis=(1, 2)))\n",
        "    wcs.append(frsc.mean(axis=(1, 2)))"
      ],
      "execution_count": null,
      "outputs": []
    },
    {
      "cell_type": "code",
      "metadata": {
        "id": "wGrSl83xiTwi",
        "outputId": "1174f1a1-0577-4668-b6d3-8e5a52b52dda",
        "colab": {
          "base_uri": "https://localhost:8080/",
          "height": 204
        }
      },
      "source": [
        "wc_arr = normalized_arr(wcs)\n",
        "wcs_df = pd.DataFrame(wc_arr, columns=['tavg', 'prec'])\n",
        "wcs_df.head()"
      ],
      "execution_count": 29,
      "outputs": [
        {
          "output_type": "execute_result",
          "data": {
            "text/html": [
              "<div>\n",
              "<style scoped>\n",
              "    .dataframe tbody tr th:only-of-type {\n",
              "        vertical-align: middle;\n",
              "    }\n",
              "\n",
              "    .dataframe tbody tr th {\n",
              "        vertical-align: top;\n",
              "    }\n",
              "\n",
              "    .dataframe thead th {\n",
              "        text-align: right;\n",
              "    }\n",
              "</style>\n",
              "<table border=\"1\" class=\"dataframe\">\n",
              "  <thead>\n",
              "    <tr style=\"text-align: right;\">\n",
              "      <th></th>\n",
              "      <th>tavg</th>\n",
              "      <th>prec</th>\n",
              "    </tr>\n",
              "  </thead>\n",
              "  <tbody>\n",
              "    <tr>\n",
              "      <th>0</th>\n",
              "      <td>0.598473</td>\n",
              "      <td>0.372607</td>\n",
              "    </tr>\n",
              "    <tr>\n",
              "      <th>1</th>\n",
              "      <td>0.598473</td>\n",
              "      <td>0.372607</td>\n",
              "    </tr>\n",
              "    <tr>\n",
              "      <th>2</th>\n",
              "      <td>0.598473</td>\n",
              "      <td>0.372607</td>\n",
              "    </tr>\n",
              "    <tr>\n",
              "      <th>3</th>\n",
              "      <td>0.538391</td>\n",
              "      <td>0.391679</td>\n",
              "    </tr>\n",
              "    <tr>\n",
              "      <th>4</th>\n",
              "      <td>0.538391</td>\n",
              "      <td>0.391679</td>\n",
              "    </tr>\n",
              "  </tbody>\n",
              "</table>\n",
              "</div>"
            ],
            "text/plain": [
              "       tavg      prec\n",
              "0  0.598473  0.372607\n",
              "1  0.598473  0.372607\n",
              "2  0.598473  0.372607\n",
              "3  0.538391  0.391679\n",
              "4  0.538391  0.391679"
            ]
          },
          "metadata": {
            "tags": []
          },
          "execution_count": 29
        }
      ]
    },
    {
      "cell_type": "markdown",
      "metadata": {
        "id": "rUUQcRLKhv7i"
      },
      "source": [
        "### Concatenate Sentinel-2 and Worldclim to the wheat yield dataframe "
      ]
    },
    {
      "cell_type": "code",
      "metadata": {
        "id": "-0kLsujPh3ac",
        "outputId": "3c829f31-a5a1-4ee3-831d-ed69f869f2c5",
        "colab": {
          "base_uri": "https://localhost:8080/",
          "height": 204
        }
      },
      "source": [
        "dfs = [bands_df, wcs_df, wheat_2018]\n",
        "wheat_2010_all = pd.concat(dfs, axis=1)\n",
        "wheat_2010_all.head()"
      ],
      "execution_count": 30,
      "outputs": [
        {
          "output_type": "execute_result",
          "data": {
            "text/html": [
              "<div>\n",
              "<style scoped>\n",
              "    .dataframe tbody tr th:only-of-type {\n",
              "        vertical-align: middle;\n",
              "    }\n",
              "\n",
              "    .dataframe tbody tr th {\n",
              "        vertical-align: top;\n",
              "    }\n",
              "\n",
              "    .dataframe thead th {\n",
              "        text-align: right;\n",
              "    }\n",
              "</style>\n",
              "<table border=\"1\" class=\"dataframe\">\n",
              "  <thead>\n",
              "    <tr style=\"text-align: right;\">\n",
              "      <th></th>\n",
              "      <th>B2</th>\n",
              "      <th>B3</th>\n",
              "      <th>B4</th>\n",
              "      <th>B8</th>\n",
              "      <th>B11</th>\n",
              "      <th>B12</th>\n",
              "      <th>ndvi</th>\n",
              "      <th>ndwi</th>\n",
              "      <th>tavg</th>\n",
              "      <th>prec</th>\n",
              "      <th>Lat</th>\n",
              "      <th>Long</th>\n",
              "      <th>District</th>\n",
              "      <th>wheat_variety</th>\n",
              "      <th>Treat</th>\n",
              "      <th>wheat_yield</th>\n",
              "      <th>PH</th>\n",
              "      <th>OM</th>\n",
              "      <th>geometry</th>\n",
              "    </tr>\n",
              "  </thead>\n",
              "  <tbody>\n",
              "    <tr>\n",
              "      <th>0</th>\n",
              "      <td>0.246886</td>\n",
              "      <td>0.340987</td>\n",
              "      <td>0.397884</td>\n",
              "      <td>0.441628</td>\n",
              "      <td>0.281341</td>\n",
              "      <td>0.334612</td>\n",
              "      <td>0.052106</td>\n",
              "      <td>0.128595</td>\n",
              "      <td>0.598473</td>\n",
              "      <td>0.372607</td>\n",
              "      <td>28.980</td>\n",
              "      <td>80.193</td>\n",
              "      <td>Kanchanpur</td>\n",
              "      <td>Banganga</td>\n",
              "      <td>D1</td>\n",
              "      <td>53.92</td>\n",
              "      <td>7.817228</td>\n",
              "      <td>1.688501</td>\n",
              "      <td>POINT (80.19300 28.98000)</td>\n",
              "    </tr>\n",
              "    <tr>\n",
              "      <th>1</th>\n",
              "      <td>0.246886</td>\n",
              "      <td>0.340987</td>\n",
              "      <td>0.397884</td>\n",
              "      <td>0.441628</td>\n",
              "      <td>0.281341</td>\n",
              "      <td>0.334612</td>\n",
              "      <td>0.052106</td>\n",
              "      <td>0.128595</td>\n",
              "      <td>0.598473</td>\n",
              "      <td>0.372607</td>\n",
              "      <td>28.980</td>\n",
              "      <td>80.193</td>\n",
              "      <td>Kanchanpur</td>\n",
              "      <td>Tilganga</td>\n",
              "      <td>D2</td>\n",
              "      <td>50.62</td>\n",
              "      <td>7.817228</td>\n",
              "      <td>1.688501</td>\n",
              "      <td>POINT (80.19300 28.98000)</td>\n",
              "    </tr>\n",
              "    <tr>\n",
              "      <th>2</th>\n",
              "      <td>0.246886</td>\n",
              "      <td>0.340987</td>\n",
              "      <td>0.397884</td>\n",
              "      <td>0.441628</td>\n",
              "      <td>0.281341</td>\n",
              "      <td>0.334612</td>\n",
              "      <td>0.052106</td>\n",
              "      <td>0.128595</td>\n",
              "      <td>0.598473</td>\n",
              "      <td>0.372607</td>\n",
              "      <td>28.980</td>\n",
              "      <td>80.193</td>\n",
              "      <td>Kanchanpur</td>\n",
              "      <td>NHS 1755</td>\n",
              "      <td>D3</td>\n",
              "      <td>40.44</td>\n",
              "      <td>7.817228</td>\n",
              "      <td>1.688501</td>\n",
              "      <td>POINT (80.19300 28.98000)</td>\n",
              "    </tr>\n",
              "    <tr>\n",
              "      <th>3</th>\n",
              "      <td>0.223089</td>\n",
              "      <td>0.326231</td>\n",
              "      <td>0.384491</td>\n",
              "      <td>0.558959</td>\n",
              "      <td>0.269641</td>\n",
              "      <td>0.335698</td>\n",
              "      <td>0.184925</td>\n",
              "      <td>0.262913</td>\n",
              "      <td>0.538391</td>\n",
              "      <td>0.391679</td>\n",
              "      <td>28.986</td>\n",
              "      <td>80.188</td>\n",
              "      <td>Kanchanpur</td>\n",
              "      <td>NL 971</td>\n",
              "      <td>D1</td>\n",
              "      <td>46.32</td>\n",
              "      <td>7.725938</td>\n",
              "      <td>1.644356</td>\n",
              "      <td>POINT (80.18800 28.98600)</td>\n",
              "    </tr>\n",
              "    <tr>\n",
              "      <th>4</th>\n",
              "      <td>0.223089</td>\n",
              "      <td>0.326231</td>\n",
              "      <td>0.384491</td>\n",
              "      <td>0.558959</td>\n",
              "      <td>0.269641</td>\n",
              "      <td>0.335698</td>\n",
              "      <td>0.184925</td>\n",
              "      <td>0.262913</td>\n",
              "      <td>0.538391</td>\n",
              "      <td>0.391679</td>\n",
              "      <td>28.986</td>\n",
              "      <td>80.188</td>\n",
              "      <td>Kanchanpur</td>\n",
              "      <td>Vijay</td>\n",
              "      <td>D2</td>\n",
              "      <td>62.50</td>\n",
              "      <td>7.725938</td>\n",
              "      <td>1.644356</td>\n",
              "      <td>POINT (80.18800 28.98600)</td>\n",
              "    </tr>\n",
              "  </tbody>\n",
              "</table>\n",
              "</div>"
            ],
            "text/plain": [
              "         B2        B3        B4  ...        PH        OM                   geometry\n",
              "0  0.246886  0.340987  0.397884  ...  7.817228  1.688501  POINT (80.19300 28.98000)\n",
              "1  0.246886  0.340987  0.397884  ...  7.817228  1.688501  POINT (80.19300 28.98000)\n",
              "2  0.246886  0.340987  0.397884  ...  7.817228  1.688501  POINT (80.19300 28.98000)\n",
              "3  0.223089  0.326231  0.384491  ...  7.725938  1.644356  POINT (80.18800 28.98600)\n",
              "4  0.223089  0.326231  0.384491  ...  7.725938  1.644356  POINT (80.18800 28.98600)\n",
              "\n",
              "[5 rows x 19 columns]"
            ]
          },
          "metadata": {
            "tags": []
          },
          "execution_count": 30
        }
      ]
    },
    {
      "cell_type": "markdown",
      "metadata": {
        "id": "8GkvjWALi6LP"
      },
      "source": [
        "## Crop yield modeling with XGBoost\n",
        "\n",
        "Beginer friendly XGBoost regressor [tutorial](https://www.datacamp.com/community/tutorials/xgboost-in-python)\n",
        "\n",
        "More parameter search and tunning [tutorial](https://xgboost.readthedocs.io/en/latest/tutorials/custom_metric_obj.html)\n",
        "\n",
        "Best ways to evaluate regression model: [3 Best metrics to evaluate Regression Model?](https://towardsdatascience.com/what-are-the-best-metrics-to-evaluate-your-regression-model-418ca481755b)"
      ]
    },
    {
      "cell_type": "markdown",
      "metadata": {
        "id": "9e0agukPjA5v"
      },
      "source": [
        "### Using k-fold Cross Validation using "
      ]
    },
    {
      "cell_type": "code",
      "metadata": {
        "id": "yhch76uAi_aH"
      },
      "source": [
        "X = wheat_2010_all[['PH', 'OM', 'B2', 'B3', 'B4', 'B8', 'B11', 'B12', 'ndvi', 'ndwi', 'tavg', 'prec']]\n",
        "y= wheat_2010_all.wheat_yield\n",
        "\n",
        "X_train, X_test, y_train, y_test = train_test_split(X, y, test_size=0.2, random_state=123)"
      ],
      "execution_count": 33,
      "outputs": []
    },
    {
      "cell_type": "code",
      "metadata": {
        "id": "948GgFuKxup1"
      },
      "source": [
        "xg_reg = xgb.XGBRegressor(objective ='reg:linear', colsample_bytree = 0.3, learning_rate = 0.1,\n",
        "                max_depth = 5, alpha = 10, n_estimators = 10)"
      ],
      "execution_count": 34,
      "outputs": []
    },
    {
      "cell_type": "code",
      "metadata": {
        "id": "u3n2kHFAxyXO",
        "outputId": "e9a33d0c-66fb-41a4-9f87-ba576b2ef83f",
        "colab": {
          "base_uri": "https://localhost:8080/",
          "height": 34
        }
      },
      "source": [
        "xg_reg.fit(X_train,y_train)\n",
        "\n",
        "preds = xg_reg.predict(X_test)"
      ],
      "execution_count": 35,
      "outputs": [
        {
          "output_type": "stream",
          "text": [
            "[21:57:12] WARNING: /workspace/src/objective/regression_obj.cu:152: reg:linear is now deprecated in favor of reg:squarederror.\n"
          ],
          "name": "stdout"
        }
      ]
    },
    {
      "cell_type": "code",
      "metadata": {
        "id": "pDvoVPHfysx4",
        "outputId": "5bde36e1-41db-4a96-a6c0-81fd07a10244",
        "colab": {
          "base_uri": "https://localhost:8080/",
          "height": 34
        }
      },
      "source": [
        "rmse = np.sqrt(mean_squared_error(y_test, preds))\n",
        "print(\"RMSE: %f\" % (rmse))"
      ],
      "execution_count": 36,
      "outputs": [
        {
          "output_type": "stream",
          "text": [
            "RMSE: 18.476367\n"
          ],
          "name": "stdout"
        }
      ]
    },
    {
      "cell_type": "code",
      "metadata": {
        "id": "-cfsa-OW6ybQ"
      },
      "source": [
        ""
      ],
      "execution_count": null,
      "outputs": []
    }
  ]
}