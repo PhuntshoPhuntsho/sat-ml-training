{
  "nbformat": 4,
  "nbformat_minor": 0,
  "metadata": {
    "colab": {
      "name": "Copy of randomforest.ipynb",
      "provenance": [],
      "collapsed_sections": [
        "NpruXGZS1ciE",
        "3mDR5oMq1gmp",
        "9n8fdGrU1xC2",
        "dUEYuVeT14vL",
        "jF5FtgwM0oN0"
      ],
      "toc_visible": true
    },
    "kernel_info": {
      "name": "query-planet37"
    },
    "kernelspec": {
      "display_name": "Python 3",
      "language": "python",
      "name": "python3"
    },
    "language_info": {
      "codemirror_mode": {
        "name": "ipython",
        "version": 3
      },
      "file_extension": ".py",
      "mimetype": "text/x-python",
      "name": "python",
      "nbconvert_exporter": "python",
      "pygments_lexer": "ipython3",
      "version": "3.7.6"
    },
    "nteract": {
      "version": "0.15.0"
    }
  },
  "cells": [
    {
      "cell_type": "markdown",
      "metadata": {
        "id": "8z6MMOrsa9-Y"
      },
      "source": [
        "# Random Forest Model for Crop Type and Land Classification\n",
        "\n",
        "> Using RandomForest Classifier for crop type mapping with data from Google Earth Engine.\n",
        "\n",
        "- toc: true\n",
        "- badges: true\n",
        "- author: Drew Bollinger, Zhuang-Fang Yi, Alex Mandel\n",
        "- comments: false\n",
        "- hide: true"
      ]
    },
    {
      "cell_type": "markdown",
      "metadata": {
        "id": "vIEttyGoa9-b"
      },
      "source": [
        "\n",
        "This notebook teaches you how to read satellite imagery (Sentinal-2) from **Google Earth Engine** and use it for crop type mapping with a RandomForest Classifier. \n",
        "\n",
        "- If you want to run this whole notebook on Google Colab, here is [the link](https://colab.research.google.com/drive/1NIuDieA5ep45hFboJFbaI3Lg6iZX5GFG).\n",
        "\n",
        "- If you would like to replicate the workflow with the same data on your local machine, please download the data from our shared [Google Drive folder](https://drive.google.com/drive/folders/1jM2mBsJ81QfmyaKZNeXSTyi_IOVr_3Vs?usp=sharing).\n",
        "\n",
        "Besides mapping crop type with RandomForestClassifier, we also prepared notebooks that use LightGBM and SVM.\n",
        "- Find our [notebook for LightGBM](https://colab.research.google.com/drive/1wcz5PRDmM3MvSccqgb5WXpWmVuGB2jYh) on Google Colab;\n",
        "- Find our [notebook for SVM](https://colab.research.google.com/drive/1Q1Wki8m4iL8q1hU3S4rr83c8V0dPTMLl) on Google Colab.\n"
      ]
    },
    {
      "cell_type": "markdown",
      "metadata": {
        "id": "ZF_O3Dxh1O0a"
      },
      "source": [
        "### Setup Notebook"
      ]
    },
    {
      "cell_type": "code",
      "metadata": {
        "id": "BwCn2yC6dpx4"
      },
      "source": [
        "# Requirements, will skip if already installed\n",
        "%pip install geopandas rasterio rasterstats\n",
        "%pip install scikit-learn\n",
        "%pip install treeinterpreter"
      ],
      "execution_count": null,
      "outputs": []
    },
    {
      "cell_type": "code",
      "metadata": {
        "id": "ZmQRJPcH0oNL",
        "inputHidden": false,
        "outputHidden": false,
        "outputId": "e9964635-105f-44ea-a134-53c352e8a8a7",
        "colab": {
          "base_uri": "https://localhost:8080/",
          "height": 71
        }
      },
      "source": [
        "from os import path as op\n",
        "import pickle\n",
        "\n",
        "import geopandas as gpd\n",
        "import matplotlib.pyplot as plt\n",
        "import numpy as np\n",
        "import rasterio\n",
        "from rasterio.features import rasterize\n",
        "from rasterstats.io import bounds_window\n",
        "import rasterstats\n",
        "\n",
        "from sklearn.metrics import confusion_matrix\n",
        "from sklearn.model_selection import train_test_split\n",
        "from sklearn.ensemble import RandomForestClassifier\n",
        "from treeinterpreter import treeinterpreter as ti"
      ],
      "execution_count": 2,
      "outputs": [
        {
          "output_type": "stream",
          "text": [
            "/usr/local/lib/python3.6/dist-packages/sklearn/utils/deprecation.py:144: FutureWarning: The sklearn.ensemble.forest module is  deprecated in version 0.22 and will be removed in version 0.24. The corresponding classes / functions should instead be imported from sklearn.ensemble. Anything that cannot be imported from sklearn.ensemble is now part of the private API.\n",
            "  warnings.warn(message, FutureWarning)\n"
          ],
          "name": "stderr"
        }
      ]
    },
    {
      "cell_type": "markdown",
      "metadata": {
        "id": "se2EnqTx1YlC"
      },
      "source": [
        "### Connect Google Drive"
      ]
    },
    {
      "cell_type": "code",
      "metadata": {
        "id": "PfdI-mjvbWYj",
        "outputId": "a77ac990-0f4e-429f-ef96-6a745a5153ed",
        "colab": {
          "base_uri": "https://localhost:8080/",
          "height": 34
        }
      },
      "source": [
        "from google.colab import drive\n",
        "drive.mount('/content/drive/', force_remount=True)"
      ],
      "execution_count": 3,
      "outputs": [
        {
          "output_type": "stream",
          "text": [
            "Mounted at /content/drive/\n"
          ],
          "name": "stdout"
        }
      ]
    },
    {
      "cell_type": "code",
      "metadata": {
        "id": "gA35JDhPGbbh"
      },
      "source": [
        "# your root direction is set to your google drive\n",
        "# you should create a sub-folder called data under your 'Colab Notebooks'.\n",
        "my_root_dir = \"/content/drive/My Drive/Colab Notebooks/data\""
      ],
      "execution_count": 4,
      "outputs": []
    },
    {
      "cell_type": "markdown",
      "metadata": {
        "id": "L9E-UtbLa9-o"
      },
      "source": [
        "## Label data preparation\n",
        "\n",
        "**TODOs**\n",
        "\n",
        "*Add training dataset sourcing, creations*\n"
      ]
    },
    {
      "cell_type": "code",
      "metadata": {
        "id": "__o2qQdE0oNR",
        "inputHidden": false,
        "outputHidden": false,
        "outputId": "f51962e2-20d5-4504-bb45-26042eec10fc",
        "colab": {
          "base_uri": "https://localhost:8080/",
          "height": 204
        }
      },
      "source": [
        "# read in training data polygons that created as geojson from a shared directory\n",
        "training_data = '/content/drive/Shared drives/servir-sat-ml/data/training_data.geojson'\n",
        "training_vectors = gpd.read_file(training_data)\n",
        "training_vectors.head()"
      ],
      "execution_count": 5,
      "outputs": [
        {
          "output_type": "execute_result",
          "data": {
            "text/html": [
              "<div>\n",
              "<style scoped>\n",
              "    .dataframe tbody tr th:only-of-type {\n",
              "        vertical-align: middle;\n",
              "    }\n",
              "\n",
              "    .dataframe tbody tr th {\n",
              "        vertical-align: top;\n",
              "    }\n",
              "\n",
              "    .dataframe thead th {\n",
              "        text-align: right;\n",
              "    }\n",
              "</style>\n",
              "<table border=\"1\" class=\"dataframe\">\n",
              "  <thead>\n",
              "    <tr style=\"text-align: right;\">\n",
              "      <th></th>\n",
              "      <th>name</th>\n",
              "      <th>description</th>\n",
              "      <th>geometry</th>\n",
              "    </tr>\n",
              "  </thead>\n",
              "  <tbody>\n",
              "    <tr>\n",
              "      <th>0</th>\n",
              "      <td>Shadow</td>\n",
              "      <td>None</td>\n",
              "      <td>MULTIPOLYGON (((34.83383 1.18204, 34.83577 1.1...</td>\n",
              "    </tr>\n",
              "    <tr>\n",
              "      <th>1</th>\n",
              "      <td>Forestland</td>\n",
              "      <td>None</td>\n",
              "      <td>MULTIPOLYGON (((35.30961 1.01328, 35.30964 1.0...</td>\n",
              "    </tr>\n",
              "    <tr>\n",
              "      <th>2</th>\n",
              "      <td>Maize</td>\n",
              "      <td>early reproductive</td>\n",
              "      <td>MULTIPOLYGON (((34.90904 1.09515, 34.90907 1.0...</td>\n",
              "    </tr>\n",
              "    <tr>\n",
              "      <th>3</th>\n",
              "      <td>Sugarcane</td>\n",
              "      <td>no change..maize farm on the right and far lef...</td>\n",
              "      <td>MULTIPOLYGON (((34.90750 1.08934, 34.90753 1.0...</td>\n",
              "    </tr>\n",
              "    <tr>\n",
              "      <th>4</th>\n",
              "      <td>Maize</td>\n",
              "      <td>reproductive good crop</td>\n",
              "      <td>MULTIPOLYGON (((34.87144 0.82953, 34.87147 0.8...</td>\n",
              "    </tr>\n",
              "  </tbody>\n",
              "</table>\n",
              "</div>"
            ],
            "text/plain": [
              "         name  ...                                           geometry\n",
              "0      Shadow  ...  MULTIPOLYGON (((34.83383 1.18204, 34.83577 1.1...\n",
              "1  Forestland  ...  MULTIPOLYGON (((35.30961 1.01328, 35.30964 1.0...\n",
              "2       Maize  ...  MULTIPOLYGON (((34.90904 1.09515, 34.90907 1.0...\n",
              "3   Sugarcane  ...  MULTIPOLYGON (((34.90750 1.08934, 34.90753 1.0...\n",
              "4       Maize  ...  MULTIPOLYGON (((34.87144 0.82953, 34.87147 0.8...\n",
              "\n",
              "[5 rows x 3 columns]"
            ]
          },
          "metadata": {
            "tags": []
          },
          "execution_count": 5
        }
      ]
    },
    {
      "cell_type": "markdown",
      "metadata": {
        "id": "_-YmY4o-a9-w"
      },
      "source": [
        "## Reading image from GEE"
      ]
    },
    {
      "cell_type": "markdown",
      "metadata": {
        "id": "NpruXGZS1ciE"
      },
      "source": [
        "### Connect to GEE"
      ]
    },
    {
      "cell_type": "code",
      "metadata": {
        "id": "xBi4Qc7xa9-y"
      },
      "source": [
        "# If not on Colab you'll need install the earth-engine Python API\n",
        "#!pip install earthengine-api #earth-engine Python API\n",
        "\n",
        "# Athenticate to your GEE account. \n",
        "!earthengine authenticate"
      ],
      "execution_count": null,
      "outputs": []
    },
    {
      "cell_type": "code",
      "metadata": {
        "id": "5zRsYwtEb6rn"
      },
      "source": [
        "# Earth Engine Python API\n",
        "import ee \n",
        "ee.Initialize()"
      ],
      "execution_count": 7,
      "outputs": []
    },
    {
      "cell_type": "markdown",
      "metadata": {
        "id": "3mDR5oMq1gmp"
      },
      "source": [
        "### Search GEE Data"
      ]
    },
    {
      "cell_type": "code",
      "metadata": {
        "id": "fsJ6R5WVk1EN",
        "outputId": "4030e258-23fc-4609-e488-e9094e03fb90",
        "colab": {
          "base_uri": "https://localhost:8080/",
          "height": 816
        }
      },
      "source": [
        "# From GEE\n",
        "#training_vectors.total_bounds.tolist()\n",
        "aoi = ee.Geometry.Rectangle(training_vectors.total_bounds.tolist())\n",
        "band_sel = ('B2', 'B3', 'B4', 'B8', 'B11', 'B12')\n",
        "\n",
        "sentinel_scenes = ee.ImageCollection(\"COPERNICUS/S2\")\\\n",
        "    .filterBounds(aoi)\\\n",
        "    .filterDate('2019-05-02', '2019-05-03')\\\n",
        "    .select(band_sel)\n",
        "\n",
        "scenes = sentinel_scenes.getInfo()\n",
        "[print(scene['id']) for scene in scenes[\"features\"]]\n",
        "\n",
        "sentinel_mosaic = sentinel_scenes.mean().rename(band_sel)\n",
        "\n",
        "sentinel_mosaic.getInfo()"
      ],
      "execution_count": 8,
      "outputs": [
        {
          "output_type": "stream",
          "text": [
            "COPERNICUS/S2/20190502T074621_20190502T080204_T36NXF\n",
            "COPERNICUS/S2/20190502T074621_20190502T080204_T36NXG\n",
            "COPERNICUS/S2/20190502T074621_20190502T080204_T36NYF\n",
            "COPERNICUS/S2/20190502T074621_20190502T080204_T36NYG\n"
          ],
          "name": "stdout"
        },
        {
          "output_type": "execute_result",
          "data": {
            "text/plain": [
              "{'bands': [{'crs': 'EPSG:4326',\n",
              "   'crs_transform': [1, 0, 0, 0, 1, 0],\n",
              "   'data_type': {'max': 65535,\n",
              "    'min': 0,\n",
              "    'precision': 'double',\n",
              "    'type': 'PixelType'},\n",
              "   'id': 'B2'},\n",
              "  {'crs': 'EPSG:4326',\n",
              "   'crs_transform': [1, 0, 0, 0, 1, 0],\n",
              "   'data_type': {'max': 65535,\n",
              "    'min': 0,\n",
              "    'precision': 'double',\n",
              "    'type': 'PixelType'},\n",
              "   'id': 'B3'},\n",
              "  {'crs': 'EPSG:4326',\n",
              "   'crs_transform': [1, 0, 0, 0, 1, 0],\n",
              "   'data_type': {'max': 65535,\n",
              "    'min': 0,\n",
              "    'precision': 'double',\n",
              "    'type': 'PixelType'},\n",
              "   'id': 'B4'},\n",
              "  {'crs': 'EPSG:4326',\n",
              "   'crs_transform': [1, 0, 0, 0, 1, 0],\n",
              "   'data_type': {'max': 65535,\n",
              "    'min': 0,\n",
              "    'precision': 'double',\n",
              "    'type': 'PixelType'},\n",
              "   'id': 'B8'},\n",
              "  {'crs': 'EPSG:4326',\n",
              "   'crs_transform': [1, 0, 0, 0, 1, 0],\n",
              "   'data_type': {'max': 65535,\n",
              "    'min': 0,\n",
              "    'precision': 'double',\n",
              "    'type': 'PixelType'},\n",
              "   'id': 'B11'},\n",
              "  {'crs': 'EPSG:4326',\n",
              "   'crs_transform': [1, 0, 0, 0, 1, 0],\n",
              "   'data_type': {'max': 65535,\n",
              "    'min': 0,\n",
              "    'precision': 'double',\n",
              "    'type': 'PixelType'},\n",
              "   'id': 'B12'}],\n",
              " 'type': 'Image'}"
            ]
          },
          "metadata": {
            "tags": []
          },
          "execution_count": 8
        }
      ]
    },
    {
      "cell_type": "markdown",
      "metadata": {
        "id": "v_eO1hsI1C6z"
      },
      "source": [
        "### Exporting Image"
      ]
    },
    {
      "cell_type": "code",
      "metadata": {
        "id": "evupUFGYfnvG"
      },
      "source": [
        "# We will save it to Google Drive for later reuse\n",
        "raster_name = op.join(my_root_dir,'sentinel_mosaic-Trans_Nzoia')"
      ],
      "execution_count": 9,
      "outputs": []
    },
    {
      "cell_type": "code",
      "metadata": {
        "id": "RNNpPhiX0nw0"
      },
      "source": [
        "# Export the image, specifying scale and region.\n",
        "# Warning, This specific export takes at least 1 hour, and 700+ MB\n",
        "task = ee.batch.Export.image.toDrive(**{\n",
        "    'image': sentinel_mosaic,\n",
        "    'description': 'Trans_nzoia_2019_05_02',\n",
        "    'folder': output_drive_folder,\n",
        "    'fileNamePrefix': raster_name,\n",
        "    'scale': 10,\n",
        "    'region': aoi,\n",
        "    'fileFormat': 'GeoTIFF',\n",
        "    'formatOptions': {\n",
        "      'cloudOptimized': 'true'\n",
        "    },\n",
        "})\n",
        "task.start()\n",
        "\n"
      ],
      "execution_count": null,
      "outputs": []
    },
    {
      "cell_type": "code",
      "metadata": {
        "id": "zKnTkjErrOVQ"
      },
      "source": [
        "# If you want to keep track of the export\n",
        "\n",
        "import time \n",
        "while task.active():\n",
        "  print('Polling for task (id: {}).'.format(task.id))\n",
        "  time.sleep(15)"
      ],
      "execution_count": null,
      "outputs": []
    },
    {
      "cell_type": "code",
      "metadata": {
        "id": "wO8X0dBQmDKw",
        "outputId": "f0878ecc-cb22-4753-bd71-d6157c9bc64d",
        "colab": {
          "base_uri": "https://localhost:8080/",
          "height": 34
        }
      },
      "source": [
        "# Reference the raster on disk.\n",
        "raster_path = op.join(my_root_dir, raster_name)\n",
        "raster_file = \".\".join([raster_path, \"tif\"])\n",
        "# Alternate reference already prepared file on Google Drive, uncomment next line to use\n",
        "#raster_file = '/content/drive/Shared drives/servir-sat-ml/data/Trans_nzoia_2019_05-02.tif'\n",
        "\n",
        "print(raster_file)"
      ],
      "execution_count": 11,
      "outputs": [
        {
          "output_type": "stream",
          "text": [
            "/content/drive/My Drive/Colab Notebooks/data/sentinel_mosaic-Trans_Nzoia.tif\n"
          ],
          "name": "stdout"
        }
      ]
    },
    {
      "cell_type": "markdown",
      "metadata": {
        "id": "fdR6yDJkb5nK"
      },
      "source": [
        "## Model training"
      ]
    },
    {
      "cell_type": "markdown",
      "metadata": {
        "id": "x12YK5xA1sSA"
      },
      "source": [
        "### Prepare Data"
      ]
    },
    {
      "cell_type": "code",
      "metadata": {
        "id": "LFMpu1PC0oNV",
        "inputHidden": false,
        "outputHidden": false,
        "outputId": "4ec696e2-1403-4a67-849f-192ccb4c3674",
        "colab": {
          "base_uri": "https://localhost:8080/",
          "height": 51
        }
      },
      "source": [
        "# find all unique values of training data names to use as classes\n",
        "classes = np.unique(training_vectors.name)\n",
        "classes"
      ],
      "execution_count": 12,
      "outputs": [
        {
          "output_type": "execute_result",
          "data": {
            "text/plain": [
              "array(['Built', 'Cloud', 'Fallow', 'Forestland', 'Grassland', 'Maize',\n",
              "       'Shadow', 'Sugarcane', 'Sunflower', 'Waterbody'], dtype=object)"
            ]
          },
          "metadata": {
            "tags": []
          },
          "execution_count": 12
        }
      ]
    },
    {
      "cell_type": "code",
      "metadata": {
        "id": "2FRc2gpg0oNX",
        "inputHidden": false,
        "outputHidden": false,
        "outputId": "b70a95a5-c2e8-4a04-e144-1a52253bca98",
        "colab": {
          "base_uri": "https://localhost:8080/",
          "height": 187
        }
      },
      "source": [
        "# create a dictionary to convert class names into integers for modeling\n",
        "class_dict = dict(zip(classes, range(len(classes))))\n",
        "class_dict                  "
      ],
      "execution_count": 13,
      "outputs": [
        {
          "output_type": "execute_result",
          "data": {
            "text/plain": [
              "{'Built': 0,\n",
              " 'Cloud': 1,\n",
              " 'Fallow': 2,\n",
              " 'Forestland': 3,\n",
              " 'Grassland': 4,\n",
              " 'Maize': 5,\n",
              " 'Shadow': 6,\n",
              " 'Sugarcane': 7,\n",
              " 'Sunflower': 8,\n",
              " 'Waterbody': 9}"
            ]
          },
          "metadata": {
            "tags": []
          },
          "execution_count": 13
        }
      ]
    },
    {
      "cell_type": "code",
      "metadata": {
        "id": "Tuz2ghqI0oNY",
        "inputHidden": false,
        "outputHidden": false
      },
      "source": [
        "# raster information\n",
        "\n",
        "##If you want to read the data directly from the shared folder, uncomment the following line.\n",
        "# raster_file = '/content/drive/Shared drives/servir-sat-ml/data/Trans_nzoia_2019_05-02.tif'\n",
        "\n",
        "\n",
        "# a custom function for getting each value from the raster\n",
        "def all_values(x):\n",
        "    return x\n",
        "\n",
        "# this larger cell reads data from a raster file for each training vector\n",
        "X_raw = []\n",
        "y_raw = []\n",
        "with rasterio.open(raster_file, 'r') as src:\n",
        "    for (label, geom) in zip(training_vectors.name, training_vectors.geometry):\n",
        "        \n",
        "        # read the raster data matching the geometry bounds\n",
        "        window = bounds_window(geom.bounds, src.transform)\n",
        "        # store our window information\n",
        "        window_affine = src.window_transform(window)\n",
        "        fsrc = src.read(window=window)\n",
        "        # rasterize the geometry into the larger shape and affine\n",
        "        mask = rasterize(\n",
        "            [(geom, 1)],\n",
        "            out_shape=fsrc.shape[1:],\n",
        "            transform=window_affine,\n",
        "            fill=0,\n",
        "            dtype='uint8',\n",
        "            all_touched=True\n",
        "        ).astype(bool)\n",
        "        \n",
        "        # for each label pixel (places where the mask is true)\n",
        "        label_pixels = np.argwhere(mask)\n",
        "        \n",
        "        for (row, col) in label_pixels:\n",
        "            # add a pixel of data to X\n",
        "            data = fsrc[:,row,col]\n",
        "            one_x = np.nan_to_num(data, nan=1e-3)\n",
        "            X_raw.append(one_x)\n",
        "            # add the label to y\n",
        "            y_raw.append(class_dict[label])\n"
      ],
      "execution_count": 14,
      "outputs": []
    },
    {
      "cell_type": "code",
      "metadata": {
        "id": "TyvZj0F_0oNa",
        "inputHidden": false,
        "outputHidden": false,
        "outputId": "80872202-3e6d-43d2-9064-f754aa63686b",
        "colab": {
          "base_uri": "https://localhost:8080/",
          "height": 34
        }
      },
      "source": [
        "# convert the training data lists into the appropriate numpy array shape and format for scikit-learn\n",
        "X = np.array(X_raw)\n",
        "y = np.array(y_raw)\n",
        "(X.shape, y.shape)"
      ],
      "execution_count": 15,
      "outputs": [
        {
          "output_type": "execute_result",
          "data": {
            "text/plain": [
              "((160461, 6), (160461,))"
            ]
          },
          "metadata": {
            "tags": []
          },
          "execution_count": 15
        }
      ]
    },
    {
      "cell_type": "code",
      "metadata": {
        "id": "tJ4YWY5M0oNc",
        "inputHidden": false,
        "outputHidden": false,
        "outputId": "e4eb37b4-62b1-4442-da01-8c6131b6a04f",
        "colab": {
          "base_uri": "https://localhost:8080/",
          "height": 34
        }
      },
      "source": [
        "# helper function for calculating ND*I indices (bands in the final dimension)\n",
        "def band_index(arr, a, b):\n",
        "    return np.expand_dims((arr[..., a] - arr[..., b]) / (arr[..., a] + arr[..., b]), axis=1)\n",
        "\n",
        "ndvi = band_index(X, 3, 2)\n",
        "ndwi = band_index(X, 1, 3)\n",
        "\n",
        "X = np.concatenate([X, ndvi, ndwi], axis=1)\n",
        "X.shape"
      ],
      "execution_count": 16,
      "outputs": [
        {
          "output_type": "execute_result",
          "data": {
            "text/plain": [
              "(160461, 8)"
            ]
          },
          "metadata": {
            "tags": []
          },
          "execution_count": 16
        }
      ]
    },
    {
      "cell_type": "code",
      "metadata": {
        "id": "6agtXCDh0oNe",
        "inputHidden": false,
        "outputHidden": false
      },
      "source": [
        "# split the data into test and train sets\n",
        "X_train, X_test, y_train, y_test = train_test_split(X, y, test_size=0.2, random_state=42)"
      ],
      "execution_count": 17,
      "outputs": []
    },
    {
      "cell_type": "code",
      "metadata": {
        "id": "9QetQBP40oNh",
        "inputHidden": false,
        "outputHidden": false,
        "outputId": "507d131e-5c6e-4848-8cc3-238179043923",
        "colab": {
          "base_uri": "https://localhost:8080/",
          "height": 187
        }
      },
      "source": [
        "# calculate class weights to allow for training on inbalanced training samples\n",
        "labels, counts = np.unique(y_train, return_counts=True)\n",
        "class_weight_dict = dict(zip(labels, 1 / counts))\n",
        "class_weight_dict"
      ],
      "execution_count": 18,
      "outputs": [
        {
          "output_type": "execute_result",
          "data": {
            "text/plain": [
              "{0: 0.00046882325363338024,\n",
              " 1: 0.001597444089456869,\n",
              " 2: 0.0004928536224741252,\n",
              " 3: 1.970093973482535e-05,\n",
              " 4: 0.000819000819000819,\n",
              " 5: 1.5704257424187697e-05,\n",
              " 6: 0.0002473410833539451,\n",
              " 7: 0.0002824858757062147,\n",
              " 8: 0.05263157894736842,\n",
              " 9: 0.003115264797507788}"
            ]
          },
          "metadata": {
            "tags": []
          },
          "execution_count": 18
        }
      ]
    },
    {
      "cell_type": "markdown",
      "metadata": {
        "id": "9n8fdGrU1xC2"
      },
      "source": [
        "### Train RandomForest"
      ]
    },
    {
      "cell_type": "code",
      "metadata": {
        "id": "JSuV7EVB0oNk",
        "inputHidden": false,
        "outputHidden": false
      },
      "source": [
        "# initialize a RandomForestClassifier\n",
        "clf = RandomForestClassifier(\n",
        "    n_estimators=200,\n",
        "    class_weight=class_weight_dict,\n",
        "    max_depth=6,\n",
        "    n_jobs=-1,\n",
        "    verbose=1,\n",
        "    random_state=0)\n"
      ],
      "execution_count": 19,
      "outputs": []
    },
    {
      "cell_type": "code",
      "metadata": {
        "id": "LXNiSfos0oNm",
        "inputHidden": false,
        "outputHidden": false,
        "outputId": "bd06714b-4873-474b-ed8e-5abd719e13c5",
        "colab": {
          "base_uri": "https://localhost:8080/",
          "height": 391
        }
      },
      "source": [
        "# fit the model to the data (training)\n",
        "clf.fit(X, y)"
      ],
      "execution_count": 20,
      "outputs": [
        {
          "output_type": "stream",
          "text": [
            "[Parallel(n_jobs=-1)]: Using backend ThreadingBackend with 2 concurrent workers.\n",
            "[Parallel(n_jobs=-1)]: Done  46 tasks      | elapsed:    5.9s\n",
            "[Parallel(n_jobs=-1)]: Done 196 tasks      | elapsed:   24.3s\n",
            "[Parallel(n_jobs=-1)]: Done 200 out of 200 | elapsed:   24.8s finished\n"
          ],
          "name": "stderr"
        },
        {
          "output_type": "execute_result",
          "data": {
            "text/plain": [
              "RandomForestClassifier(bootstrap=True, ccp_alpha=0.0,\n",
              "                       class_weight={0: 0.00046882325363338024,\n",
              "                                     1: 0.001597444089456869,\n",
              "                                     2: 0.0004928536224741252,\n",
              "                                     3: 1.970093973482535e-05,\n",
              "                                     4: 0.000819000819000819,\n",
              "                                     5: 1.5704257424187697e-05,\n",
              "                                     6: 0.0002473410833539451,\n",
              "                                     7: 0.0002824858757062147,\n",
              "                                     8: 0.05263157894736842,\n",
              "                                     9: 0.003115264797507788},\n",
              "                       criterion='gini', max_depth=6, max_features='auto',\n",
              "                       max_leaf_nodes=None, max_samples=None,\n",
              "                       min_impurity_decrease=0.0, min_impurity_split=None,\n",
              "                       min_samples_leaf=1, min_samples_split=2,\n",
              "                       min_weight_fraction_leaf=0.0, n_estimators=200,\n",
              "                       n_jobs=-1, oob_score=False, random_state=0, verbose=1,\n",
              "                       warm_start=False)"
            ]
          },
          "metadata": {
            "tags": []
          },
          "execution_count": 20
        }
      ]
    },
    {
      "cell_type": "code",
      "metadata": {
        "id": "25pMSxGp0oNo",
        "inputHidden": false,
        "outputHidden": false,
        "outputId": "2224502e-f76c-4963-f5c9-f5d7f37b2a2b",
        "colab": {
          "base_uri": "https://localhost:8080/",
          "height": 85
        }
      },
      "source": [
        "# predict on X_test to evaluate the model\n",
        "preds = clf.predict(X_test)\n",
        "cm = confusion_matrix(y_test, preds, labels=labels)"
      ],
      "execution_count": 21,
      "outputs": [
        {
          "output_type": "stream",
          "text": [
            "[Parallel(n_jobs=2)]: Using backend ThreadingBackend with 2 concurrent workers.\n",
            "[Parallel(n_jobs=2)]: Done  46 tasks      | elapsed:    0.1s\n",
            "[Parallel(n_jobs=2)]: Done 196 tasks      | elapsed:    0.6s\n",
            "[Parallel(n_jobs=2)]: Done 200 out of 200 | elapsed:    0.6s finished\n"
          ],
          "name": "stderr"
        }
      ]
    },
    {
      "cell_type": "code",
      "metadata": {
        "id": "EhFM39HK-5NC"
      },
      "source": [
        "# (optional) save the trained model as pickle file\n",
        "model_name = op.join(my_root_dir,'random_forest.sav')\n",
        "with open(model_name, 'wb') as modelfile:\n",
        "    pickle.dump(clf, modelfile)"
      ],
      "execution_count": 22,
      "outputs": []
    },
    {
      "cell_type": "markdown",
      "metadata": {
        "id": "dUEYuVeT14vL"
      },
      "source": [
        "### Assess the Model"
      ]
    },
    {
      "cell_type": "code",
      "metadata": {
        "id": "COjyzKe00oNq",
        "inputHidden": false,
        "outputHidden": false,
        "outputId": "151925ea-16d4-4e4d-a630-0165ac97ea4c",
        "colab": {
          "base_uri": "https://localhost:8080/",
          "height": 718
        }
      },
      "source": [
        "# plot the confusion matrix\n",
        "%matplotlib inline\n",
        "cm = cm.astype('float') / cm.sum(axis=1)[:, np.newaxis]\n",
        "fig, ax = plt.subplots(figsize=(10, 10))\n",
        "im = ax.imshow(cm, interpolation='nearest', cmap=plt.cm.Blues)\n",
        "ax.figure.colorbar(im, ax=ax)\n",
        "\n",
        "# We want to show all ticks...\n",
        "ax.set(xticks=np.arange(cm.shape[1]),\n",
        "       yticks=np.arange(cm.shape[0]),\n",
        "       # ... and label them with the respective list entries\n",
        "       xticklabels=classes, yticklabels=classes,\n",
        "       title='Normalized Confusion Matrix',\n",
        "       ylabel='True label',\n",
        "       xlabel='Predicted label')\n",
        "\n",
        "# Rotate the tick labels and set their alignment.\n",
        "plt.setp(ax.get_xticklabels(), rotation=45, ha=\"right\",\n",
        "         rotation_mode=\"anchor\")\n",
        "\n",
        "# Loop over data dimensions and create text annotations.\n",
        "fmt = '.2f'\n",
        "thresh = cm.max() / 2.\n",
        "for i in range(cm.shape[0]):\n",
        "    for j in range(cm.shape[1]):\n",
        "        ax.text(j, i, format(cm[i, j], fmt),\n",
        "                ha=\"center\", va=\"center\",\n",
        "                color=\"white\" if cm[i, j] > thresh else \"black\")\n",
        "fig.tight_layout()"
      ],
      "execution_count": 23,
      "outputs": [
        {
          "output_type": "display_data",
          "data": {
            "image/png": "[encoded data removed]",
            "text/plain": [
              "<Figure size 720x720 with 2 Axes>"
            ]
          },
          "metadata": {
            "tags": [],
            "needs_background": "light"
          }
        }
      ]
    },
    {
      "cell_type": "code",
      "metadata": {
        "id": "YF_L43-R0oNt",
        "inputHidden": false,
        "outputHidden": false
      },
      "source": [
        "# predict again with the tree interpreter to see how much each band contributes to the classification\n",
        "sample = 100\n",
        "prediction, bias, contributions = ti.predict(clf, X_test[:sample])\n",
        "c = np.sum(contributions, axis=0)"
      ],
      "execution_count": 24,
      "outputs": []
    },
    {
      "cell_type": "code",
      "metadata": {
        "id": "4MkOPwWc0oNy",
        "inputHidden": false,
        "outputHidden": false,
        "outputId": "23e04191-0f2e-42c4-852f-0abaae344a54",
        "colab": {
          "base_uri": "https://localhost:8080/",
          "height": 208
        }
      },
      "source": [
        "# plot the contributions\n",
        "band_names = ['Blue', 'Green', 'Red', 'NIR', 'SWIR1', 'SWIR2', 'NDVI', 'NDWI']\n",
        "\n",
        "gdf = gpd.GeoDataFrame(c, columns=classes, index=band_names)\n",
        "gdf.style.background_gradient(cmap='viridis')"
      ],
      "execution_count": 25,
      "outputs": [
        {
          "output_type": "execute_result",
          "data": {
            "text/html": [
              "<style  type=\"text/css\" >\n",
              "#T_2c24c962_028a_11eb_a608_0242ac1c0002row0_col0{\n",
              "            background-color:  #1fa287;\n",
              "            color:  #000000;\n",
              "        }#T_2c24c962_028a_11eb_a608_0242ac1c0002row0_col1{\n",
              "            background-color:  #3e4a89;\n",
              "            color:  #f1f1f1;\n",
              "        }#T_2c24c962_028a_11eb_a608_0242ac1c0002row0_col2{\n",
              "            background-color:  #481467;\n",
              "            color:  #f1f1f1;\n",
              "        }#T_2c24c962_028a_11eb_a608_0242ac1c0002row0_col3,#T_2c24c962_028a_11eb_a608_0242ac1c0002row0_col8,#T_2c24c962_028a_11eb_a608_0242ac1c0002row1_col5,#T_2c24c962_028a_11eb_a608_0242ac1c0002row2_col4,#T_2c24c962_028a_11eb_a608_0242ac1c0002row2_col9,#T_2c24c962_028a_11eb_a608_0242ac1c0002row3_col6,#T_2c24c962_028a_11eb_a608_0242ac1c0002row3_col7,#T_2c24c962_028a_11eb_a608_0242ac1c0002row4_col0,#T_2c24c962_028a_11eb_a608_0242ac1c0002row6_col2,#T_2c24c962_028a_11eb_a608_0242ac1c0002row7_col1{\n",
              "            background-color:  #fde725;\n",
              "            color:  #000000;\n",
              "        }#T_2c24c962_028a_11eb_a608_0242ac1c0002row0_col4,#T_2c24c962_028a_11eb_a608_0242ac1c0002row6_col0{\n",
              "            background-color:  #238a8d;\n",
              "            color:  #000000;\n",
              "        }#T_2c24c962_028a_11eb_a608_0242ac1c0002row0_col5,#T_2c24c962_028a_11eb_a608_0242ac1c0002row0_col6{\n",
              "            background-color:  #482878;\n",
              "            color:  #f1f1f1;\n",
              "        }#T_2c24c962_028a_11eb_a608_0242ac1c0002row0_col7{\n",
              "            background-color:  #472d7b;\n",
              "            color:  #f1f1f1;\n",
              "        }#T_2c24c962_028a_11eb_a608_0242ac1c0002row0_col9,#T_2c24c962_028a_11eb_a608_0242ac1c0002row5_col0{\n",
              "            background-color:  #1fa088;\n",
              "            color:  #000000;\n",
              "        }#T_2c24c962_028a_11eb_a608_0242ac1c0002row1_col0{\n",
              "            background-color:  #2b758e;\n",
              "            color:  #f1f1f1;\n",
              "        }#T_2c24c962_028a_11eb_a608_0242ac1c0002row1_col1{\n",
              "            background-color:  #c8e020;\n",
              "            color:  #000000;\n",
              "        }#T_2c24c962_028a_11eb_a608_0242ac1c0002row1_col2{\n",
              "            background-color:  #38588c;\n",
              "            color:  #f1f1f1;\n",
              "        }#T_2c24c962_028a_11eb_a608_0242ac1c0002row1_col3{\n",
              "            background-color:  #482071;\n",
              "            color:  #f1f1f1;\n",
              "        }#T_2c24c962_028a_11eb_a608_0242ac1c0002row1_col4{\n",
              "            background-color:  #1fa188;\n",
              "            color:  #000000;\n",
              "        }#T_2c24c962_028a_11eb_a608_0242ac1c0002row1_col6{\n",
              "            background-color:  #6ccd5a;\n",
              "            color:  #000000;\n",
              "        }#T_2c24c962_028a_11eb_a608_0242ac1c0002row1_col7{\n",
              "            background-color:  #2d708e;\n",
              "            color:  #f1f1f1;\n",
              "        }#T_2c24c962_028a_11eb_a608_0242ac1c0002row1_col8{\n",
              "            background-color:  #5ac864;\n",
              "            color:  #000000;\n",
              "        }#T_2c24c962_028a_11eb_a608_0242ac1c0002row1_col9,#T_2c24c962_028a_11eb_a608_0242ac1c0002row4_col6{\n",
              "            background-color:  #3bbb75;\n",
              "            color:  #000000;\n",
              "        }#T_2c24c962_028a_11eb_a608_0242ac1c0002row2_col0,#T_2c24c962_028a_11eb_a608_0242ac1c0002row2_col1,#T_2c24c962_028a_11eb_a608_0242ac1c0002row2_col7,#T_2c24c962_028a_11eb_a608_0242ac1c0002row3_col2,#T_2c24c962_028a_11eb_a608_0242ac1c0002row3_col3,#T_2c24c962_028a_11eb_a608_0242ac1c0002row4_col9,#T_2c24c962_028a_11eb_a608_0242ac1c0002row5_col5,#T_2c24c962_028a_11eb_a608_0242ac1c0002row5_col6,#T_2c24c962_028a_11eb_a608_0242ac1c0002row6_col8,#T_2c24c962_028a_11eb_a608_0242ac1c0002row7_col4{\n",
              "            background-color:  #440154;\n",
              "            color:  #f1f1f1;\n",
              "        }#T_2c24c962_028a_11eb_a608_0242ac1c0002row2_col2{\n",
              "            background-color:  #29af7f;\n",
              "            color:  #000000;\n",
              "        }#T_2c24c962_028a_11eb_a608_0242ac1c0002row2_col3{\n",
              "            background-color:  #482677;\n",
              "            color:  #f1f1f1;\n",
              "        }#T_2c24c962_028a_11eb_a608_0242ac1c0002row2_col5{\n",
              "            background-color:  #287d8e;\n",
              "            color:  #000000;\n",
              "        }#T_2c24c962_028a_11eb_a608_0242ac1c0002row2_col6{\n",
              "            background-color:  #46085c;\n",
              "            color:  #f1f1f1;\n",
              "        }#T_2c24c962_028a_11eb_a608_0242ac1c0002row2_col8,#T_2c24c962_028a_11eb_a608_0242ac1c0002row7_col2{\n",
              "            background-color:  #67cc5c;\n",
              "            color:  #000000;\n",
              "        }#T_2c24c962_028a_11eb_a608_0242ac1c0002row3_col0{\n",
              "            background-color:  #dfe318;\n",
              "            color:  #000000;\n",
              "        }#T_2c24c962_028a_11eb_a608_0242ac1c0002row3_col1,#T_2c24c962_028a_11eb_a608_0242ac1c0002row5_col8{\n",
              "            background-color:  #25ac82;\n",
              "            color:  #000000;\n",
              "        }#T_2c24c962_028a_11eb_a608_0242ac1c0002row3_col4{\n",
              "            background-color:  #3b528b;\n",
              "            color:  #f1f1f1;\n",
              "        }#T_2c24c962_028a_11eb_a608_0242ac1c0002row3_col5{\n",
              "            background-color:  #fbe723;\n",
              "            color:  #000000;\n",
              "        }#T_2c24c962_028a_11eb_a608_0242ac1c0002row3_col8{\n",
              "            background-color:  #1f988b;\n",
              "            color:  #000000;\n",
              "        }#T_2c24c962_028a_11eb_a608_0242ac1c0002row3_col9{\n",
              "            background-color:  #e7e419;\n",
              "            color:  #000000;\n",
              "        }#T_2c24c962_028a_11eb_a608_0242ac1c0002row4_col1{\n",
              "            background-color:  #dae319;\n",
              "            color:  #000000;\n",
              "        }#T_2c24c962_028a_11eb_a608_0242ac1c0002row4_col2{\n",
              "            background-color:  #2d718e;\n",
              "            color:  #f1f1f1;\n",
              "        }#T_2c24c962_028a_11eb_a608_0242ac1c0002row4_col3{\n",
              "            background-color:  #472a7a;\n",
              "            color:  #f1f1f1;\n",
              "        }#T_2c24c962_028a_11eb_a608_0242ac1c0002row4_col4{\n",
              "            background-color:  #297b8e;\n",
              "            color:  #000000;\n",
              "        }#T_2c24c962_028a_11eb_a608_0242ac1c0002row4_col5{\n",
              "            background-color:  #20938c;\n",
              "            color:  #000000;\n",
              "        }#T_2c24c962_028a_11eb_a608_0242ac1c0002row4_col7{\n",
              "            background-color:  #b5de2b;\n",
              "            color:  #000000;\n",
              "        }#T_2c24c962_028a_11eb_a608_0242ac1c0002row4_col8{\n",
              "            background-color:  #50c46a;\n",
              "            color:  #000000;\n",
              "        }#T_2c24c962_028a_11eb_a608_0242ac1c0002row5_col1{\n",
              "            background-color:  #404688;\n",
              "            color:  #f1f1f1;\n",
              "        }#T_2c24c962_028a_11eb_a608_0242ac1c0002row5_col2{\n",
              "            background-color:  #4cc26c;\n",
              "            color:  #000000;\n",
              "        }#T_2c24c962_028a_11eb_a608_0242ac1c0002row5_col3{\n",
              "            background-color:  #481668;\n",
              "            color:  #f1f1f1;\n",
              "        }#T_2c24c962_028a_11eb_a608_0242ac1c0002row5_col4{\n",
              "            background-color:  #3fbc73;\n",
              "            color:  #000000;\n",
              "        }#T_2c24c962_028a_11eb_a608_0242ac1c0002row5_col7{\n",
              "            background-color:  #424186;\n",
              "            color:  #f1f1f1;\n",
              "        }#T_2c24c962_028a_11eb_a608_0242ac1c0002row5_col9{\n",
              "            background-color:  #63cb5f;\n",
              "            color:  #000000;\n",
              "        }#T_2c24c962_028a_11eb_a608_0242ac1c0002row6_col1{\n",
              "            background-color:  #1e9d89;\n",
              "            color:  #000000;\n",
              "        }#T_2c24c962_028a_11eb_a608_0242ac1c0002row6_col3{\n",
              "            background-color:  #355f8d;\n",
              "            color:  #f1f1f1;\n",
              "        }#T_2c24c962_028a_11eb_a608_0242ac1c0002row6_col4{\n",
              "            background-color:  #48186a;\n",
              "            color:  #f1f1f1;\n",
              "        }#T_2c24c962_028a_11eb_a608_0242ac1c0002row6_col5{\n",
              "            background-color:  #8ed645;\n",
              "            color:  #000000;\n",
              "        }#T_2c24c962_028a_11eb_a608_0242ac1c0002row6_col6{\n",
              "            background-color:  #440256;\n",
              "            color:  #f1f1f1;\n",
              "        }#T_2c24c962_028a_11eb_a608_0242ac1c0002row6_col7,#T_2c24c962_028a_11eb_a608_0242ac1c0002row7_col7{\n",
              "            background-color:  #453781;\n",
              "            color:  #f1f1f1;\n",
              "        }#T_2c24c962_028a_11eb_a608_0242ac1c0002row6_col9{\n",
              "            background-color:  #33638d;\n",
              "            color:  #f1f1f1;\n",
              "        }#T_2c24c962_028a_11eb_a608_0242ac1c0002row7_col0{\n",
              "            background-color:  #f1e51d;\n",
              "            color:  #000000;\n",
              "        }#T_2c24c962_028a_11eb_a608_0242ac1c0002row7_col3{\n",
              "            background-color:  #481b6d;\n",
              "            color:  #f1f1f1;\n",
              "        }#T_2c24c962_028a_11eb_a608_0242ac1c0002row7_col5{\n",
              "            background-color:  #25838e;\n",
              "            color:  #000000;\n",
              "        }#T_2c24c962_028a_11eb_a608_0242ac1c0002row7_col6{\n",
              "            background-color:  #7ad151;\n",
              "            color:  #000000;\n",
              "        }#T_2c24c962_028a_11eb_a608_0242ac1c0002row7_col8{\n",
              "            background-color:  #453882;\n",
              "            color:  #f1f1f1;\n",
              "        }#T_2c24c962_028a_11eb_a608_0242ac1c0002row7_col9{\n",
              "            background-color:  #375b8d;\n",
              "            color:  #f1f1f1;\n",
              "        }</style><table id=\"T_2c24c962_028a_11eb_a608_0242ac1c0002\" ><thead>    <tr>        <th class=\"blank level0\" ></th>        <th class=\"col_heading level0 col0\" >Built</th>        <th class=\"col_heading level0 col1\" >Cloud</th>        <th class=\"col_heading level0 col2\" >Fallow</th>        <th class=\"col_heading level0 col3\" >Forestland</th>        <th class=\"col_heading level0 col4\" >Grassland</th>        <th class=\"col_heading level0 col5\" >Maize</th>        <th class=\"col_heading level0 col6\" >Shadow</th>        <th class=\"col_heading level0 col7\" >Sugarcane</th>        <th class=\"col_heading level0 col8\" >Sunflower</th>        <th class=\"col_heading level0 col9\" >Waterbody</th>    </tr></thead><tbody>\n",
              "                <tr>\n",
              "                        <th id=\"T_2c24c962_028a_11eb_a608_0242ac1c0002level0_row0\" class=\"row_heading level0 row0\" >Blue</th>\n",
              "                        <td id=\"T_2c24c962_028a_11eb_a608_0242ac1c0002row0_col0\" class=\"data row0 col0\" >-0.708147</td>\n",
              "                        <td id=\"T_2c24c962_028a_11eb_a608_0242ac1c0002row0_col1\" class=\"data row0 col1\" >-0.450384</td>\n",
              "                        <td id=\"T_2c24c962_028a_11eb_a608_0242ac1c0002row0_col2\" class=\"data row0 col2\" >-2.689550</td>\n",
              "                        <td id=\"T_2c24c962_028a_11eb_a608_0242ac1c0002row0_col3\" class=\"data row0 col3\" >5.939310</td>\n",
              "                        <td id=\"T_2c24c962_028a_11eb_a608_0242ac1c0002row0_col4\" class=\"data row0 col4\" >-0.460897</td>\n",
              "                        <td id=\"T_2c24c962_028a_11eb_a608_0242ac1c0002row0_col5\" class=\"data row0 col5\" >0.360230</td>\n",
              "                        <td id=\"T_2c24c962_028a_11eb_a608_0242ac1c0002row0_col6\" class=\"data row0 col6\" >-0.154207</td>\n",
              "                        <td id=\"T_2c24c962_028a_11eb_a608_0242ac1c0002row0_col7\" class=\"data row0 col7\" >-0.481766</td>\n",
              "                        <td id=\"T_2c24c962_028a_11eb_a608_0242ac1c0002row0_col8\" class=\"data row0 col8\" >-0.167871</td>\n",
              "                        <td id=\"T_2c24c962_028a_11eb_a608_0242ac1c0002row0_col9\" class=\"data row0 col9\" >-1.186718</td>\n",
              "            </tr>\n",
              "            <tr>\n",
              "                        <th id=\"T_2c24c962_028a_11eb_a608_0242ac1c0002level0_row1\" class=\"row_heading level0 row1\" >Green</th>\n",
              "                        <td id=\"T_2c24c962_028a_11eb_a608_0242ac1c0002row1_col0\" class=\"data row1 col0\" >-1.096782</td>\n",
              "                        <td id=\"T_2c24c962_028a_11eb_a608_0242ac1c0002row1_col1\" class=\"data row1 col1\" >-0.003501</td>\n",
              "                        <td id=\"T_2c24c962_028a_11eb_a608_0242ac1c0002row1_col2\" class=\"data row1 col2\" >-1.575254</td>\n",
              "                        <td id=\"T_2c24c962_028a_11eb_a608_0242ac1c0002row1_col3\" class=\"data row1 col3\" >2.958226</td>\n",
              "                        <td id=\"T_2c24c962_028a_11eb_a608_0242ac1c0002row1_col4\" class=\"data row1 col4\" >-0.336196</td>\n",
              "                        <td id=\"T_2c24c962_028a_11eb_a608_0242ac1c0002row1_col5\" class=\"data row1 col5\" >1.367617</td>\n",
              "                        <td id=\"T_2c24c962_028a_11eb_a608_0242ac1c0002row1_col6\" class=\"data row1 col6\" >0.551725</td>\n",
              "                        <td id=\"T_2c24c962_028a_11eb_a608_0242ac1c0002row1_col7\" class=\"data row1 col7\" >-0.218106</td>\n",
              "                        <td id=\"T_2c24c962_028a_11eb_a608_0242ac1c0002row1_col8\" class=\"data row1 col8\" >-0.732232</td>\n",
              "                        <td id=\"T_2c24c962_028a_11eb_a608_0242ac1c0002row1_col9\" class=\"data row1 col9\" >-0.915498</td>\n",
              "            </tr>\n",
              "            <tr>\n",
              "                        <th id=\"T_2c24c962_028a_11eb_a608_0242ac1c0002level0_row2\" class=\"row_heading level0 row2\" >Red</th>\n",
              "                        <td id=\"T_2c24c962_028a_11eb_a608_0242ac1c0002row2_col0\" class=\"data row2 col0\" >-1.905729</td>\n",
              "                        <td id=\"T_2c24c962_028a_11eb_a608_0242ac1c0002row2_col1\" class=\"data row2 col1\" >-0.593790</td>\n",
              "                        <td id=\"T_2c24c962_028a_11eb_a608_0242ac1c0002row2_col2\" class=\"data row2 col2\" >0.277761</td>\n",
              "                        <td id=\"T_2c24c962_028a_11eb_a608_0242ac1c0002row2_col3\" class=\"data row2 col3\" >3.013168</td>\n",
              "                        <td id=\"T_2c24c962_028a_11eb_a608_0242ac1c0002row2_col4\" class=\"data row2 col4\" >0.223731</td>\n",
              "                        <td id=\"T_2c24c962_028a_11eb_a608_0242ac1c0002row2_col5\" class=\"data row2 col5\" >0.711200</td>\n",
              "                        <td id=\"T_2c24c962_028a_11eb_a608_0242ac1c0002row2_col6\" class=\"data row2 col6\" >-0.249443</td>\n",
              "                        <td id=\"T_2c24c962_028a_11eb_a608_0242ac1c0002row2_col7\" class=\"data row2 col7\" >-0.619405</td>\n",
              "                        <td id=\"T_2c24c962_028a_11eb_a608_0242ac1c0002row2_col8\" class=\"data row2 col8\" >-0.683663</td>\n",
              "                        <td id=\"T_2c24c962_028a_11eb_a608_0242ac1c0002row2_col9\" class=\"data row2 col9\" >-0.173831</td>\n",
              "            </tr>\n",
              "            <tr>\n",
              "                        <th id=\"T_2c24c962_028a_11eb_a608_0242ac1c0002level0_row3\" class=\"row_heading level0 row3\" >NIR</th>\n",
              "                        <td id=\"T_2c24c962_028a_11eb_a608_0242ac1c0002row3_col0\" class=\"data row3 col0\" >0.068476</td>\n",
              "                        <td id=\"T_2c24c962_028a_11eb_a608_0242ac1c0002row3_col1\" class=\"data row3 col1\" >-0.196796</td>\n",
              "                        <td id=\"T_2c24c962_028a_11eb_a608_0242ac1c0002row3_col2\" class=\"data row3 col2\" >-2.962262</td>\n",
              "                        <td id=\"T_2c24c962_028a_11eb_a608_0242ac1c0002row3_col3\" class=\"data row3 col3\" >2.664941</td>\n",
              "                        <td id=\"T_2c24c962_028a_11eb_a608_0242ac1c0002row3_col4\" class=\"data row3 col4\" >-0.747003</td>\n",
              "                        <td id=\"T_2c24c962_028a_11eb_a608_0242ac1c0002row3_col5\" class=\"data row3 col5\" >1.361658</td>\n",
              "                        <td id=\"T_2c24c962_028a_11eb_a608_0242ac1c0002row3_col6\" class=\"data row3 col6\" >0.791034</td>\n",
              "                        <td id=\"T_2c24c962_028a_11eb_a608_0242ac1c0002row3_col7\" class=\"data row3 col7\" >0.479715</td>\n",
              "                        <td id=\"T_2c24c962_028a_11eb_a608_0242ac1c0002row3_col8\" class=\"data row3 col8\" >-1.198747</td>\n",
              "                        <td id=\"T_2c24c962_028a_11eb_a608_0242ac1c0002row3_col9\" class=\"data row3 col9\" >-0.261016</td>\n",
              "            </tr>\n",
              "            <tr>\n",
              "                        <th id=\"T_2c24c962_028a_11eb_a608_0242ac1c0002level0_row4\" class=\"row_heading level0 row4\" >SWIR1</th>\n",
              "                        <td id=\"T_2c24c962_028a_11eb_a608_0242ac1c0002row4_col0\" class=\"data row4 col0\" >0.166388</td>\n",
              "                        <td id=\"T_2c24c962_028a_11eb_a608_0242ac1c0002row4_col1\" class=\"data row4 col1\" >0.013942</td>\n",
              "                        <td id=\"T_2c24c962_028a_11eb_a608_0242ac1c0002row4_col2\" class=\"data row4 col2\" >-1.053387</td>\n",
              "                        <td id=\"T_2c24c962_028a_11eb_a608_0242ac1c0002row4_col3\" class=\"data row4 col3\" >3.057588</td>\n",
              "                        <td id=\"T_2c24c962_028a_11eb_a608_0242ac1c0002row4_col4\" class=\"data row4 col4\" >-0.538389</td>\n",
              "                        <td id=\"T_2c24c962_028a_11eb_a608_0242ac1c0002row4_col5\" class=\"data row4 col5\" >0.817440</td>\n",
              "                        <td id=\"T_2c24c962_028a_11eb_a608_0242ac1c0002row4_col6\" class=\"data row4 col6\" >0.452637</td>\n",
              "                        <td id=\"T_2c24c962_028a_11eb_a608_0242ac1c0002row4_col7\" class=\"data row4 col7\" >0.357217</td>\n",
              "                        <td id=\"T_2c24c962_028a_11eb_a608_0242ac1c0002row4_col8\" class=\"data row4 col8\" >-0.771856</td>\n",
              "                        <td id=\"T_2c24c962_028a_11eb_a608_0242ac1c0002row4_col9\" class=\"data row4 col9\" >-2.501579</td>\n",
              "            </tr>\n",
              "            <tr>\n",
              "                        <th id=\"T_2c24c962_028a_11eb_a608_0242ac1c0002level0_row5\" class=\"row_heading level0 row5\" >SWIR2</th>\n",
              "                        <td id=\"T_2c24c962_028a_11eb_a608_0242ac1c0002row5_col0\" class=\"data row5 col0\" >-0.734541</td>\n",
              "                        <td id=\"T_2c24c962_028a_11eb_a608_0242ac1c0002row5_col1\" class=\"data row5 col1\" >-0.460321</td>\n",
              "                        <td id=\"T_2c24c962_028a_11eb_a608_0242ac1c0002row5_col2\" class=\"data row5 col2\" >0.715332</td>\n",
              "                        <td id=\"T_2c24c962_028a_11eb_a608_0242ac1c0002row5_col3\" class=\"data row5 col3\" >2.852150</td>\n",
              "                        <td id=\"T_2c24c962_028a_11eb_a608_0242ac1c0002row5_col4\" class=\"data row5 col4\" >-0.179285</td>\n",
              "                        <td id=\"T_2c24c962_028a_11eb_a608_0242ac1c0002row5_col5\" class=\"data row5 col5\" >0.235555</td>\n",
              "                        <td id=\"T_2c24c962_028a_11eb_a608_0242ac1c0002row5_col6\" class=\"data row5 col6\" >-0.271136</td>\n",
              "                        <td id=\"T_2c24c962_028a_11eb_a608_0242ac1c0002row5_col7\" class=\"data row5 col7\" >-0.406578</td>\n",
              "                        <td id=\"T_2c24c962_028a_11eb_a608_0242ac1c0002row5_col8\" class=\"data row5 col8\" >-1.016028</td>\n",
              "                        <td id=\"T_2c24c962_028a_11eb_a608_0242ac1c0002row5_col9\" class=\"data row5 col9\" >-0.735149</td>\n",
              "            </tr>\n",
              "            <tr>\n",
              "                        <th id=\"T_2c24c962_028a_11eb_a608_0242ac1c0002level0_row6\" class=\"row_heading level0 row6\" >NDVI</th>\n",
              "                        <td id=\"T_2c24c962_028a_11eb_a608_0242ac1c0002row6_col0\" class=\"data row6 col0\" >-0.919315</td>\n",
              "                        <td id=\"T_2c24c962_028a_11eb_a608_0242ac1c0002row6_col1\" class=\"data row6 col1\" >-0.238332</td>\n",
              "                        <td id=\"T_2c24c962_028a_11eb_a608_0242ac1c0002row6_col2\" class=\"data row6 col2\" >2.181709</td>\n",
              "                        <td id=\"T_2c24c962_028a_11eb_a608_0242ac1c0002row6_col3\" class=\"data row6 col3\" >3.647589</td>\n",
              "                        <td id=\"T_2c24c962_028a_11eb_a608_0242ac1c0002row6_col4\" class=\"data row6 col4\" >-0.992437</td>\n",
              "                        <td id=\"T_2c24c962_028a_11eb_a608_0242ac1c0002row6_col5\" class=\"data row6 col5\" >1.174317</td>\n",
              "                        <td id=\"T_2c24c962_028a_11eb_a608_0242ac1c0002row6_col6\" class=\"data row6 col6\" >-0.263332</td>\n",
              "                        <td id=\"T_2c24c962_028a_11eb_a608_0242ac1c0002row6_col7\" class=\"data row6 col7\" >-0.444098</td>\n",
              "                        <td id=\"T_2c24c962_028a_11eb_a608_0242ac1c0002row6_col8\" class=\"data row6 col8\" >-2.375126</td>\n",
              "                        <td id=\"T_2c24c962_028a_11eb_a608_0242ac1c0002row6_col9\" class=\"data row6 col9\" >-1.770976</td>\n",
              "            </tr>\n",
              "            <tr>\n",
              "                        <th id=\"T_2c24c962_028a_11eb_a608_0242ac1c0002level0_row7\" class=\"row_heading level0 row7\" >NDWI</th>\n",
              "                        <td id=\"T_2c24c962_028a_11eb_a608_0242ac1c0002row7_col0\" class=\"data row7 col0\" >0.121986</td>\n",
              "                        <td id=\"T_2c24c962_028a_11eb_a608_0242ac1c0002row7_col1\" class=\"data row7 col1\" >0.050216</td>\n",
              "                        <td id=\"T_2c24c962_028a_11eb_a608_0242ac1c0002row7_col2\" class=\"data row7 col2\" >0.987004</td>\n",
              "                        <td id=\"T_2c24c962_028a_11eb_a608_0242ac1c0002row7_col3\" class=\"data row7 col3\" >2.898101</td>\n",
              "                        <td id=\"T_2c24c962_028a_11eb_a608_0242ac1c0002row7_col4\" class=\"data row7 col4\" >-1.076480</td>\n",
              "                        <td id=\"T_2c24c962_028a_11eb_a608_0242ac1c0002row7_col5\" class=\"data row7 col5\" >0.740517</td>\n",
              "                        <td id=\"T_2c24c962_028a_11eb_a608_0242ac1c0002row7_col6\" class=\"data row7 col6\" >0.576891</td>\n",
              "                        <td id=\"T_2c24c962_028a_11eb_a608_0242ac1c0002row7_col7\" class=\"data row7 col7\" >-0.444139</td>\n",
              "                        <td id=\"T_2c24c962_028a_11eb_a608_0242ac1c0002row7_col8\" class=\"data row7 col8\" >-2.013875</td>\n",
              "                        <td id=\"T_2c24c962_028a_11eb_a608_0242ac1c0002row7_col9\" class=\"data row7 col9\" >-1.840221</td>\n",
              "            </tr>\n",
              "    </tbody></table>"
            ],
            "text/plain": [
              "<pandas.io.formats.style.Styler at 0x7f5f039bfb00>"
            ]
          },
          "metadata": {
            "tags": []
          },
          "execution_count": 25
        }
      ]
    },
    {
      "cell_type": "markdown",
      "metadata": {
        "id": "jF5FtgwM0oN0"
      },
      "source": [
        "## Generate predictions over the full image\n",
        "\n",
        "Using the trained RandomForestClassifier `clf` over a new satellite image that cover a larger geospatial location."
      ]
    },
    {
      "cell_type": "code",
      "metadata": {
        "id": "vmD5HXr50oN8",
        "inputHidden": false,
        "outputHidden": false
      },
      "source": [
        "# in this case, we predict over the entire input image\n",
        "# (only small portions were used for training)\n",
        "new_image = raster_file\n",
        "\n",
        "output_image = op.join(my_root_dir, \"classification.tif\")\n",
        "\n",
        "with rasterio.open(new_image, 'r') as src:\n",
        "    profile = src.profile\n",
        "    profile.update(\n",
        "        dtype=rasterio.uint8,\n",
        "        count=1,\n",
        "    )\n",
        "    with rasterio.open(output_image, 'w', **profile) as dst:\n",
        "\n",
        "        # perform prediction on each small image patch to minimize required memory\n",
        "        patch_size = 500\n",
        "\n",
        "        for i in range((src.shape[0] // patch_size) + 1):\n",
        "            for j in range((src.shape[1] // patch_size) + 1):\n",
        "                # define the pixels to read (and write) with rasterio windows reading\n",
        "                window = rasterio.windows.Window(\n",
        "                    j * patch_size,\n",
        "                    i * patch_size,\n",
        "                    # don't read past the image bounds\n",
        "                    min(patch_size, src.shape[1] - j * patch_size),\n",
        "                    min(patch_size, src.shape[0] - i * patch_size))\n",
        "                \n",
        "                # read the image into the proper format\n",
        "                data = src.read(window=window)\n",
        "                \n",
        "                # adding indices if necessary\n",
        "                img_swp = np.moveaxis(data, 0, 2)\n",
        "                img_flat = img_swp.reshape(-1, img_swp.shape[-1])\n",
        "\n",
        "                img_ndvi = band_index(img_flat, 3, 2)\n",
        "                img_ndwi = band_index(img_flat, 1, 3)\n",
        "\n",
        "                img_w_ind = np.concatenate([img_flat, img_ndvi, img_ndwi], axis=1)\n",
        "\n",
        "                # remove no data values, store the indices for later use\n",
        "                m = np.ma.masked_invalid(img_w_ind)\n",
        "                to_predict = img_w_ind[~m.mask].reshape(-1, img_w_ind.shape[-1])\n",
        "\n",
        "                # skip empty inputs\n",
        "                if not len(to_predict):\n",
        "                    continue\n",
        "                # predict\n",
        "                img_preds = clf.predict(to_predict)\n",
        "\n",
        "                # add the prediction back to the valid pixels (using only the first band of the mask to decide on validity)\n",
        "                # makes the assumption that all bands have identical no-data value arrangements\n",
        "                output = np.zeros(img_flat.shape[0])\n",
        "                output[~m.mask[:, 0]] = img_preds.flatten()\n",
        "                # resize to the original image dimensions\n",
        "                output = output.reshape(*img_swp.shape[:-1])\n",
        "\n",
        "                # create our final mask\n",
        "                mask = (~m.mask[:, 0]).reshape(*img_swp.shape[:-1])\n",
        "\n",
        "                # write to the final files\n",
        "                dst.write(output.astype(rasterio.uint8), 1, window=window)\n",
        "                dst.write_mask(mask, window=window)"
      ],
      "execution_count": null,
      "outputs": []
    },
    {
      "cell_type": "code",
      "metadata": {
        "id": "L_WBFQEx2jQC"
      },
      "source": [
        ""
      ],
      "execution_count": null,
      "outputs": []
    }
  ]
}